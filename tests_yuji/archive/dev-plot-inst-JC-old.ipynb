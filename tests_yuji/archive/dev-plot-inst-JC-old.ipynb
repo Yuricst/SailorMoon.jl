{
 "cells": [
  {
   "cell_type": "code",
   "execution_count": null,
   "metadata": {},
   "outputs": [],
   "source": [
    "using DifferentialEquations\n",
    "using Plots\n",
    "using LinearAlgebra\n",
    "import ForwardDiff\n",
    "import DiffResults\n",
    "using AstrodynamicsBase\n",
    "using Printf\n",
    "using JSON\n",
    "using CSV\n",
    "using DataFrames\n",
    "using ColorSchemes\n",
    "using LaTeXStrings"
   ]
  },
  {
   "cell_type": "code",
   "execution_count": null,
   "metadata": {},
   "outputs": [],
   "source": [
    "include(\"../src/SailorMoon.jl\")   # relative path to main file of module\n",
    "param3b = SailorMoon.dynamics_parameters()\n",
    "paramMulti = SailorMoon.multi_shoot_parameters(param3b)\n",
    "gr()\n",
    "fs = 16\n"
   ]
  },
  {
   "cell_type": "code",
   "execution_count": null,
   "metadata": {},
   "outputs": [],
   "source": [
    "function plot_circle(radius, x, y, n=100)\n",
    "    circle = zeros(2,n)\n",
    "    thetas = LinRange(0.0, 2π, n)\n",
    "    for i = 1:n\n",
    "        circle[1,i] = radius*cos(thetas[i]) + x\n",
    "        circle[2,i] = radius*sin(thetas[i]) + y\n",
    "    end\n",
    "    return circle\n",
    "end"
   ]
  },
  {
   "cell_type": "code",
   "execution_count": null,
   "metadata": {},
   "outputs": [],
   "source": [
    "moon     = SailorMoon.plot_circle((1-param3b.mu2)*param3b.lstar, 0.0, 0.0)\n",
    "earth    = SailorMoon.plot_circle(param3b.mu2*param3b.lstar, 0.0, 0.0)\n",
    "earth_ub = SailorMoon.plot_circle(param3b.mu2*param3b.lstar+6375,0.0, 0.0)\n",
    "earth_lb = SailorMoon.plot_circle(param3b.mu2*param3b.lstar-6375, 0.0, 0.0)\n",
    "moon_soi_outer = plot_circle((1-param3b.mu2)*param3b.lstar+66000, 0.0, 0.0);"
   ]
  },
  {
   "cell_type": "code",
   "execution_count": null,
   "metadata": {},
   "outputs": [],
   "source": [
    "function interpolatecolor(cs,value, vmin, vmax)\n",
    "    cs = cgrad(cs)\n",
    "    color = cs[(value - vmin) / (vmax - vmin)]\n",
    "    return color\n",
    "end"
   ]
  },
  {
   "cell_type": "code",
   "execution_count": null,
   "metadata": {},
   "outputs": [],
   "source": [
    "### PARAMETERS ###################################\n",
    "# csv file to load the initial solution\n",
    "filename = \"../run/data/diffcorr_0619_NoThrust.csv\"\n",
    "# dv_dir function corresponding to the csv file \n",
    "dir_func = SailorMoon.dv_no_thrust\n",
    "\n",
    "n_arc = 5\n",
    "\n",
    "cs = :lightrainbow \n",
    "##################################################\n",
    "\n",
    "if dir_func == SailorMoon.dv_no_thrust\n",
    "    τ_ig = 0.0\n",
    "else \n",
    "    τ_ig = 1.0\n",
    "end\n",
    "\n",
    "# load initial guess\n",
    "df = CSV.read(filename, DataFrame; header=0);\n",
    "\n",
    "arcs_color = Dict(\n",
    "    \"xlr_bck_arc\" => :blue, \n",
    "    \"xlr_fwd_arc\" => :red,\n",
    "    \"mid_bck_arc\" => :green, \n",
    "    \"mid_fwd_arc\" => :black, \n",
    "    \"lpo_arc\" => :yellow\n",
    ")\n",
    "\n",
    "\n",
    "\n",
    "\n"
   ]
  },
  {
   "cell_type": "code",
   "execution_count": null,
   "metadata": {},
   "outputs": [],
   "source": [
    "p_ = plot(\n",
    "    size=(700,500), \n",
    "    frame_style=:box, aspect_ratio=:equal, grid=0.4, \n",
    "    legend=false, \n",
    "    xlabel=L\"t\", ylabel=L\"val\",\n",
    "    colorbar_titlefontsize=fs,\n",
    "    fontsize=fs, xlabelfontsize=fs, ylabelfontsize=fs, xtickfontsize=fs-1, ytickfontsize=fs-1, legendfontsize=fs-1\n",
    ");\n",
    "\n",
    "\n",
    "tofs= [row[1] for row in eachrow( df ) ] \n",
    "tof_max = maximum(tofs)\n",
    "tof_min = minimum(tofs)\n",
    "\n",
    "tof_max_days = tof_max * param3b.tstar / (24*60*60)\n",
    "tof_min_days = tof_min * param3b.tstar / (24*60*60)\n",
    "\n",
    "colors = [interpolatecolor(cs, row[1], tof_min, tof_max) for row in eachrow(df)]\n",
    "\n",
    "u = []\n",
    "t = []\n",
    "\n",
    "# for (i, row) in enumerate( eachrow( df ) ) \n",
    "    \n",
    "row = df[1,:]\n",
    "\n",
    "    x = collect(values(row[4:end]))\n",
    "#     println(x)\n",
    "    \n",
    "#     color = colors[i]\n",
    "    res, sol_param_list, sols_ballistic, tofs = SailorMoon.multishoot_trajectory2(x, dir_func, paramMulti, true, false)\n",
    "        \n",
    "    # ballistic legs\n",
    "    for sol_ballistic in sols_ballistic\n",
    "\n",
    "        u = vcat(sol_ballistic.u[:])\n",
    "        t = vcat(sol_ballistic.t[:])\n",
    "        \n",
    "    end\n",
    "    \n",
    "    for j = 1:Int(floor(length(sol_param_list)/paramMulti.n_arc))\n",
    "        \n",
    "        for k = 1:paramMulti.n_arc\n",
    "                        \n",
    "            if mod(j,2) == 1\n",
    "                # backward propagation\n",
    "                sol, _, name = sol_param_list[length(sol_param_list) - j*paramMulti.n_arc + k]\n",
    "                u = vcat(u, sol.u[:])\n",
    "                t_append = sol.t[:] .+ t[end]\n",
    "                t = vcat(t, t_append)\n",
    "                \n",
    "            else\n",
    "                # forward propagation\n",
    "                sol, _, name = sol_param_list[length(sol_param_list)-(j-1)*paramMulti.n_arc - k + 1]\n",
    "                u_append = sol.u[end:-1:1, :]\n",
    "                t_append = sol.t[end:-1:1] .- sol.t[end] .+ t[end]\n",
    "                u = vcat(u, u_append)\n",
    "                t = vcat(t, t_append)\n",
    "            end\n",
    "\n",
    "        end\n",
    "        \n",
    "    end\n",
    "    \n",
    "# end\n",
    "u = Array(u)\n",
    "u = hcat(u...)[:,:]\n"
   ]
  },
  {
   "cell_type": "code",
   "execution_count": null,
   "metadata": {},
   "outputs": [],
   "source": [
    "scatter!(p_, t[:], u[1,:])\n"
   ]
  },
  {
   "cell_type": "code",
   "execution_count": null,
   "metadata": {},
   "outputs": [],
   "source": [
    "scatter(collect(1:1368),t)"
   ]
  },
  {
   "cell_type": "code",
   "execution_count": null,
   "metadata": {},
   "outputs": [],
   "source": [
    "## test \n",
    "t_, u_  = SailorMoon.x2time_series(x, dir_func, paramMulti)\n"
   ]
  },
  {
   "cell_type": "code",
   "execution_count": null,
   "metadata": {},
   "outputs": [],
   "source": [
    "plot(t_, u_[1,:])"
   ]
  },
  {
   "cell_type": "code",
   "execution_count": null,
   "metadata": {},
   "outputs": [],
   "source": [
    "# compute JC from state in EMrot\n",
    "function compute_JC(state::Vector)\n",
    "    x, y, z = state[1], state[2], state[3]\n",
    "    vx, vy, vz = state[4], state[5], state[6]\n",
    "    r13 = norm([x-param3b.mu2, y, z])  # Earth - SC\n",
    "    r23 = norm([x-param3b.mu1, y, z])  # Moon - SC\n",
    "    \n",
    "    U = 1/2*(x^2+y^2) + param3b.mu1 / r13 + param3b.mu2 / r23 \n",
    "    JC = 2*U - (vx^2 + vy^2 + vz^2)\n",
    "    \n",
    "    return JC \n",
    "end"
   ]
  },
  {
   "cell_type": "code",
   "execution_count": null,
   "metadata": {},
   "outputs": [],
   "source": [
    "θlpo = x[19+12*paramMulti.n_arc]"
   ]
  },
  {
   "cell_type": "code",
   "execution_count": null,
   "metadata": {},
   "outputs": [],
   "source": [
    "u_emrots = []\n",
    "JC_vec = []\n",
    "\n",
    "for (i, tnow) in enumerate(t_)\n",
    "    θm = θlpo - param3b.oml * tnow\n",
    "    u_sb1   = u_[1:6,i]\n",
    "    u_emrot = SailorMoon.transform_SunB1_to_EMrot(u_sb1, θm, param3b.oml, param3b.as)\n",
    "    u_emrots = push!(u_emrots, transpose(u_emrot))\n",
    "    \n",
    "    jc = compute_JC(u_emrot)\n",
    "    push!(JC_vec, jc)\n",
    "end\n",
    "u_emrots = Array(reshape(hcat(u_emrots...), 6, size(u_emrots,1)))\n",
    "\n"
   ]
  },
  {
   "cell_type": "code",
   "execution_count": null,
   "metadata": {},
   "outputs": [],
   "source": [
    "plot(t_, JC_vec, ylim=[0,4], xlabel=L\"t,s\", ylabel=L\"JC\")"
   ]
  },
  {
   "cell_type": "code",
   "execution_count": null,
   "metadata": {},
   "outputs": [],
   "source": [
    "u_emrots = Array(reshape(hcat(u_emrots...), 6, size(u_emrots,1)))\n",
    "plot(u_emrots[1,:], u_emrots[2,:])\n"
   ]
  },
  {
   "cell_type": "code",
   "execution_count": null,
   "metadata": {},
   "outputs": [],
   "source": []
  }
 ],
 "metadata": {
  "kernelspec": {
   "display_name": "Julia 1.6.7",
   "language": "julia",
   "name": "julia-1.6"
  },
  "language_info": {
   "file_extension": ".jl",
   "mimetype": "application/julia",
   "name": "julia",
   "version": "1.6.7"
  }
 },
 "nbformat": 4,
 "nbformat_minor": 2
}
