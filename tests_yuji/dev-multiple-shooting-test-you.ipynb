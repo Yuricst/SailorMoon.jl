{
 "cells": [
  {
   "cell_type": "code",
   "execution_count": 1,
   "metadata": {},
   "outputs": [
    {
     "data": {
      "text/plain": [
       "LaTeXStrings"
      ]
     },
     "execution_count": 1,
     "metadata": {},
     "output_type": "execute_result"
    }
   ],
   "source": [
    "using DifferentialEquations\n",
    "using Plots\n",
    "using LinearAlgebra\n",
    "import ForwardDiff\n",
    "import DiffResults\n",
    "using AstrodynamicsBase\n",
    "using Printf\n",
    "using JSON\n",
    "using CSV\n",
    "using DataFrames\n",
    "using LaTeXStrings\n",
    "LaTeXStrings"
   ]
  },
  {
   "cell_type": "code",
   "execution_count": 2,
   "metadata": {},
   "outputs": [
    {
     "name": "stderr",
     "output_type": "stream",
     "text": [
      "\u001b[33m\u001b[1m┌ \u001b[22m\u001b[39m\u001b[33m\u001b[1mWarning: \u001b[22m\u001b[39mReplacing docs for `Main.SailorMoon.integrate_rk4 :: Union{Tuple{ODEProblem, Real}, Tuple{ODEProblem, Real, Union{Nothing, Vector{T} where T}}, Tuple{ODEProblem, Real, Union{Nothing, Vector{T} where T}, Bool}, Tuple{ODEProblem, Real, Union{Nothing, Vector{T} where T}, Bool, Bool}}` in module `Main.SailorMoon`\n",
      "\u001b[33m\u001b[1m└ \u001b[22m\u001b[39m\u001b[90m@ Base.Docs docs\\Docs.jl:240\u001b[39m\n"
     ]
    },
    {
     "data": {
      "text/plain": [
       "16"
      ]
     },
     "execution_count": 2,
     "metadata": {},
     "output_type": "execute_result"
    }
   ],
   "source": [
    "include(\"../../julia-r3bp/R3BP/src/R3BP.jl\")\n",
    "include(\"../src/SailorMoon.jl\")   # relative path to main file of module\n",
    "param3b = SailorMoon.dynamics_parameters()\n",
    "paramMulti = SailorMoon.multi_shoot_parameters(param3b)\n",
    "gr()\n",
    "fs = 16"
   ]
  },
  {
   "cell_type": "code",
   "execution_count": 3,
   "metadata": {},
   "outputs": [
    {
     "data": {
      "text/plain": [
       "plot_circle (generic function with 2 methods)"
      ]
     },
     "execution_count": 3,
     "metadata": {},
     "output_type": "execute_result"
    }
   ],
   "source": [
    "function plot_circle(radius, x, y, n=100)\n",
    "    circle = zeros(2,n)\n",
    "    thetas = LinRange(0.0, 2π, n)\n",
    "    for i = 1:n\n",
    "        circle[1,i] = radius*cos(thetas[i]) + x\n",
    "        circle[2,i] = radius*sin(thetas[i]) + y\n",
    "    end\n",
    "    return circle\n",
    "end"
   ]
  },
  {
   "cell_type": "code",
   "execution_count": 4,
   "metadata": {},
   "outputs": [],
   "source": [
    "# moon     = plot_circle(1-param3b.mu2, param3b.as , 0.0)\n",
    "# earth    = plot_circle(param3b.mu2, param3b.as, 0.0)\n",
    "# earth_ub = plot_circle(param3b.mu2+6375/param3b.lstar, param3b.as, 0.0)\n",
    "# earth_lb = plot_circle(param3b.mu2-6375/param3b.lstar, param3b.as, 0.0)\n",
    "# moon_soi_outer = plot_circle(1-param3b.mu2+66000/param3b.lstar, param3b.as, 0.0);\n",
    "\n",
    "# in km \n",
    "moon     = plot_circle((1-param3b.mu2)*param3b.lstar, 0.0, 0.0)\n",
    "earth    = plot_circle(param3b.mu2*param3b.lstar, 0.0, 0.0)\n",
    "earth_ub = plot_circle(param3b.mu2*param3b.lstar+6375,0.0, 0.0)\n",
    "earth_lb = plot_circle(param3b.mu2*param3b.lstar-6375, 0.0, 0.0)\n",
    "moon_soi_outer = plot_circle((1-param3b.mu2)*param3b.lstar+66000, 0.0, 0.0);"
   ]
  },
  {
   "cell_type": "code",
   "execution_count": null,
   "metadata": {},
   "outputs": [],
   "source": []
  },
  {
   "cell_type": "code",
   "execution_count": 9,
   "metadata": {},
   "outputs": [
    {
     "data": {
      "text/html": [
       "<div><div style = \"float: left;\"><span>DataFrameRow (43 columns)</span></div><div style = \"clear: both;\"></div></div><div class = \"data-frame\" style = \"overflow-x: scroll;\"><table class = \"data-frame\" style = \"margin-bottom: 6px;\"><thead><tr class = \"header\"><th class = \"rowLabel\" style = \"font-weight: bold; text-align: right;\">Row</th><th style = \"text-align: left;\">id</th><th style = \"text-align: left;\">phi0</th><th style = \"text-align: left;\">epsr</th><th style = \"text-align: left;\">epsv</th><th style = \"text-align: left;\">thetasf</th><th style = \"text-align: left;\">rp_kep</th><th style = \"text-align: left;\">ra_kep</th><th style = \"text-align: left;\">alpha</th><th style = \"text-align: left;\">ra</th><th style = \"text-align: left;\">dt1</th><th style = \"text-align: left;\">dt2</th><th style = \"text-align: left;\">x_lpo</th><th style = \"text-align: left;\">y_lpo</th><th style = \"text-align: left;\">z_lpo</th><th style = \"text-align: left;\">xdot_lpo</th><th style = \"text-align: left;\">ydot_lpo</th><th style = \"text-align: left;\">zdot_lpo</th><th style = \"text-align: left;\">m_lpo</th><th style = \"text-align: left;\">x_ra</th><th style = \"text-align: left;\">y_ra</th><th style = \"text-align: left;\">z_ra</th><th style = \"text-align: left;\">xdot_ra</th><th style = \"text-align: left;\">ydot_ra</th><th style = \"text-align: left;\">zdot_ra</th><th style = \"text-align: left;\">m_ra</th><th style = \"text-align: left;\">x_rp</th><th style = \"text-align: left;\">y_rp</th><th style = \"text-align: left;\">z_rp</th><th style = \"text-align: left;\">xdot_rp</th><th style = \"text-align: left;\">ydot_rp</th><th style = \"text-align: left;\">zdot_rp</th><th style = \"text-align: left;\">m_rp</th><th style = \"text-align: left;\">x_lr</th><th style = \"text-align: left;\">y_lr</th><th style = \"text-align: left;\">z_lr</th><th style = \"text-align: left;\">xdot_lr</th><th style = \"text-align: left;\">ydot_lr</th><th style = \"text-align: left;\">zdot_lr</th><th style = \"text-align: left;\">m_lr</th><th style = \"text-align: left;\">t_lr</th><th style = \"text-align: left;\">tof</th><th style = \"text-align: left;\">m0</th><th style = \"text-align: left;\">lfb</th></tr><tr class = \"subheader headerLastRow\"><th class = \"rowLabel\" style = \"font-weight: bold; text-align: right;\"></th><th title = \"Float64\" style = \"text-align: left;\">Float64</th><th title = \"Float64\" style = \"text-align: left;\">Float64</th><th title = \"Float64\" style = \"text-align: left;\">Float64</th><th title = \"Float64\" style = \"text-align: left;\">Float64</th><th title = \"Float64\" style = \"text-align: left;\">Float64</th><th title = \"Float64\" style = \"text-align: left;\">Float64</th><th title = \"Float64\" style = \"text-align: left;\">Float64</th><th title = \"Float64\" style = \"text-align: left;\">Float64</th><th title = \"Float64\" style = \"text-align: left;\">Float64</th><th title = \"Float64\" style = \"text-align: left;\">Float64</th><th title = \"Float64\" style = \"text-align: left;\">Float64</th><th title = \"Float64\" style = \"text-align: left;\">Float64</th><th title = \"Float64\" style = \"text-align: left;\">Float64</th><th title = \"Float64\" style = \"text-align: left;\">Float64</th><th title = \"Float64\" style = \"text-align: left;\">Float64</th><th title = \"Float64\" style = \"text-align: left;\">Float64</th><th title = \"Float64\" style = \"text-align: left;\">Float64</th><th title = \"Float64\" style = \"text-align: left;\">Float64</th><th title = \"Float64\" style = \"text-align: left;\">Float64</th><th title = \"Float64\" style = \"text-align: left;\">Float64</th><th title = \"Float64\" style = \"text-align: left;\">Float64</th><th title = \"Float64\" style = \"text-align: left;\">Float64</th><th title = \"Float64\" style = \"text-align: left;\">Float64</th><th title = \"Float64\" style = \"text-align: left;\">Float64</th><th title = \"Float64\" style = \"text-align: left;\">Float64</th><th title = \"Float64\" style = \"text-align: left;\">Float64</th><th title = \"Float64\" style = \"text-align: left;\">Float64</th><th title = \"Float64\" style = \"text-align: left;\">Float64</th><th title = \"Float64\" style = \"text-align: left;\">Float64</th><th title = \"Float64\" style = \"text-align: left;\">Float64</th><th title = \"Float64\" style = \"text-align: left;\">Float64</th><th title = \"Float64\" style = \"text-align: left;\">Float64</th><th title = \"Float64\" style = \"text-align: left;\">Float64</th><th title = \"Float64\" style = \"text-align: left;\">Float64</th><th title = \"Float64\" style = \"text-align: left;\">Float64</th><th title = \"Float64\" style = \"text-align: left;\">Float64</th><th title = \"Float64\" style = \"text-align: left;\">Float64</th><th title = \"Float64\" style = \"text-align: left;\">Float64</th><th title = \"Float64\" style = \"text-align: left;\">Float64</th><th title = \"Float64\" style = \"text-align: left;\">Float64</th><th title = \"Float64\" style = \"text-align: left;\">Float64</th><th title = \"Float64\" style = \"text-align: left;\">Float64</th><th title = \"Float64\" style = \"text-align: left;\">Float64</th></tr></thead><tbody><tr><td class = \"rowLabel\" style = \"font-weight: bold; text-align: right;\">1</td><td style = \"text-align: right;\">1.0</td><td style = \"text-align: right;\">0.628319</td><td style = \"text-align: right;\">1.0e-6</td><td style = \"text-align: right;\">1.0e-6</td><td style = \"text-align: right;\">1.88496</td><td style = \"text-align: right;\">0.00100477</td><td style = \"text-align: right;\">3.04994</td><td style = \"text-align: right;\">0.850272</td><td style = \"text-align: right;\">3.19196</td><td style = \"text-align: right;\">11.2028</td><td style = \"text-align: right;\">7.13321</td><td style = \"text-align: right;\">389.237</td><td style = \"text-align: right;\">1.09233</td><td style = \"text-align: right;\">-7.05264e-21</td><td style = \"text-align: right;\">-0.927025</td><td style = \"text-align: right;\">0.303795</td><td style = \"text-align: right;\">8.26859e-21</td><td style = \"text-align: right;\">1.0</td><td style = \"text-align: right;\">385.979</td><td style = \"text-align: right;\">-1.45234</td><td style = \"text-align: right;\">-2.68915e-20</td><td style = \"text-align: right;\">-0.0199531</td><td style = \"text-align: right;\">0.0397765</td><td style = \"text-align: right;\">1.00152e-22</td><td style = \"text-align: right;\">1.02182</td><td style = \"text-align: right;\">388.834</td><td style = \"text-align: right;\">0.000774645</td><td style = \"text-align: right;\">0.0</td><td style = \"text-align: right;\">-32.6999</td><td style = \"text-align: right;\">29.9397</td><td style = \"text-align: right;\">0.0</td><td style = \"text-align: right;\">1.0393</td><td style = \"text-align: right;\">388.097</td><td style = \"text-align: right;\">-0.669303</td><td style = \"text-align: right;\">-3.11146e-21</td><td style = \"text-align: right;\">-0.917105</td><td style = \"text-align: right;\">-0.780379</td><td style = \"text-align: right;\">-1.03135e-20</td><td style = \"text-align: right;\">1.03804</td><td style = \"text-align: right;\">17.8181</td><td style = \"text-align: right;\">18.336</td><td style = \"text-align: right;\">1.0393</td><td style = \"text-align: right;\">0.0</td></tr></tbody></table></div>"
      ],
      "text/latex": [
       "\\begin{tabular}{r|cccccccccc}\n",
       "\t& id & phi0 & epsr & epsv & thetasf & rp\\_kep & ra\\_kep & alpha & ra & \\\\\n",
       "\t\\hline\n",
       "\t& Float64 & Float64 & Float64 & Float64 & Float64 & Float64 & Float64 & Float64 & Float64 & \\\\\n",
       "\t\\hline\n",
       "\t1 & 1.0 & 0.628319 & 1.0e-6 & 1.0e-6 & 1.88496 & 0.00100477 & 3.04994 & 0.850272 & 3.19196 & $\\dots$ \\\\\n",
       "\\end{tabular}\n"
      ],
      "text/plain": [
       "\u001b[1mDataFrameRow\u001b[0m\n",
       "\u001b[1m Row \u001b[0m│\u001b[1m id      \u001b[0m\u001b[1m phi0     \u001b[0m\u001b[1m epsr    \u001b[0m\u001b[1m epsv    \u001b[0m\u001b[1m thetasf \u001b[0m\u001b[1m rp_kep     \u001b[0m\u001b[1m ra_kep  \u001b[0m\u001b[1m alph\u001b[0m ⋯\n",
       "     │\u001b[90m Float64 \u001b[0m\u001b[90m Float64  \u001b[0m\u001b[90m Float64 \u001b[0m\u001b[90m Float64 \u001b[0m\u001b[90m Float64 \u001b[0m\u001b[90m Float64    \u001b[0m\u001b[90m Float64 \u001b[0m\u001b[90m Floa\u001b[0m ⋯\n",
       "─────┼──────────────────────────────────────────────────────────────────────────\n",
       "   1 │     1.0  0.628319   1.0e-6   1.0e-6  1.88496  0.00100477  3.04994  0.85 ⋯\n",
       "\u001b[36m                                                              36 columns omitted\u001b[0m"
      ]
     },
     "execution_count": 9,
     "metadata": {},
     "output_type": "execute_result"
    }
   ],
   "source": [
    "### PARAMETERS ###################################\n",
    "# csv file to load the initial solution\n",
    "filename = \"../run/data/grid_search_Tsit5_0323_EMrotThrust.csv\"\n",
    "# dv_dir function corresponding to the csv file \n",
    "dir_func = SailorMoon.dv_EMrotdir_sb1frame \n",
    "\n",
    "# 3body parameter\n",
    "param3b = SailorMoon.dynamics_parameters()\n",
    "\n",
    "n_arc = 5\n",
    "##################################################\n",
    "\n",
    "if dir_func == SailorMoon.dv_no_thrust\n",
    "    τ_ig = 0.0\n",
    "else \n",
    "    τ_ig = 1.0\n",
    "end\n",
    "\n",
    "# load initial guess\n",
    "df = DataFrame(CSV.File(filename))\n",
    "\n",
    "# maybe want to use \"for row in eachrow(df)\" to automate the process...? \n",
    "row = df[1,:]\n",
    "\n"
   ]
  },
  {
   "cell_type": "code",
   "execution_count": 11,
   "metadata": {},
   "outputs": [
    {
     "data": {
      "text/plain": [
       "8.268594167690002e-21"
      ]
     },
     "execution_count": 11,
     "metadata": {},
     "output_type": "execute_result"
    }
   ],
   "source": [
    "sv_mid_cart = [row.x_ra, row.y_ra, row.z_ra, row.xdot_ra, row.ydot_ra, row.zdot_ra]\n",
    "# change the coordinates into cylindrical (only position)\n",
    "svm_mid_cyl = vcat(SailorMoon.cart2cylind_only_pos(sv_mid_cart), row.m_ra)\n",
    "\n",
    "tof_leo2mid = row.dt2\n",
    "tof_mid2lpo = row.dt1\n",
    "tof = row.tof\n",
    "rp = row.rp_kep\n",
    "ra = row.ra_kep\n",
    "α = row.alpha\n",
    "m_rp = row.m_rp\n",
    "\n",
    "θsf = row.thetasf\n",
    "ϕ0  = row.phi0\n",
    "\n",
    "x_lpo  = row.x_lpo\n",
    "y_lpo  = row.y_lpo\n",
    "z_lpo  = row.z_lpo\n",
    "vx_lpo = row.xdot_lpo\n",
    "vy_lpo = row.ydot_lpo\n",
    "vz_lpo = row.zdot_lpo\n"
   ]
  },
  {
   "cell_type": "code",
   "execution_count": 12,
   "metadata": {},
   "outputs": [
    {
     "data": {
      "text/plain": [
       "\"C:\\\\Users\\\\yujit\\\\OneDrive\\\\ドキュメント\\\\github\\\\SailorMoon.jl\\\\tests_yuji\\\\ini_guess.png\""
      ]
     },
     "execution_count": 12,
     "metadata": {},
     "output_type": "execute_result"
    }
   ],
   "source": [
    "svf = [x_lpo, y_lpo, z_lpo, vx_lpo, vy_lpo, vz_lpo, 1.0]\n",
    "tspan = [0, -tof]\n",
    "params = [\n",
    "    param3b.mu2, param3b.mus, param3b.as, pi - θsf, param3b.oml, param3b.omb, \n",
    "    1.0, 0.0, 0.0, \n",
    "    paramMulti.mdot, paramMulti.tmax, dir_func, param3b.tstar\n",
    "]\n",
    "prob = ODEProblem(SailorMoon.rhs_bcr4bp_sb1frame2_thrust_bal!, svf, tspan, params)\n",
    "sol = solve(prob, Tsit5(); reltol=1e-12, abstol=1e-12)\n",
    "\n",
    "\n",
    "pcart_ = plot(\n",
    "    size=(700,500), frame_style=:box, aspect_ratio=:equal, grid=0.4, legend=false, \n",
    "    xlabel=L\"x, \\times10^6\\textrm{km}\", \n",
    "#     ylabel = \"test\",\n",
    "    ylabel=L\"y, \\times10^6\\textrm{km}\",\n",
    "    colorbar_titlefontsize=fs,\n",
    "    fontsize=fs, xlabelfontsize=fs, ylabelfontsize=fs, xtickfontsize=fs-1, ytickfontsize=fs-1, legendfontsize=fs-1\n",
    ");\n",
    "\n",
    "plot!(pcart_, (sol[1,:] .- param3b.as) .* param3b.lstar , sol[2,:].*param3b.lstar)\n",
    "\n",
    "plot!(pcart_, earth[1,:], earth[2,:], c=:green, lw=1.0, label=\"earth\")\n",
    "plot!(pcart_, earth_ub[1,:], earth_ub[2,:], c=:black, lw=1.0, label=\"earth\")\n",
    "plot!(pcart_, earth_lb[1,:], earth_lb[2,:], c=:black, lw=1.0, label=\"earth\")\n",
    "plot!(pcart_, moon[1,:], moon[2,:], c=:orange, lw=1.0, label=\"moon\")\n",
    "plot!(pcart_, moon_soi_outer[1,:], moon_soi_outer[2,:], c=:black, lw=1.0, label=\"moon_soi_outer\",\n",
    "    xaxis=(formatter=x->string(round(x / 10^6; digits=2))),\n",
    "    yaxis=(formatter=y->string(round(y / 10^6; digits=1))),\n",
    ")\n",
    "\n",
    "savefig(\"ini_guess.png\")\n",
    "\n"
   ]
  },
  {
   "cell_type": "code",
   "execution_count": null,
   "metadata": {},
   "outputs": [],
   "source": []
  },
  {
   "cell_type": "code",
   "execution_count": null,
   "metadata": {},
   "outputs": [],
   "source": []
  },
  {
   "cell_type": "code",
   "execution_count": null,
   "metadata": {},
   "outputs": [],
   "source": []
  },
  {
   "cell_type": "code",
   "execution_count": 13,
   "metadata": {},
   "outputs": [
    {
     "name": "stdout",
     "output_type": "stream",
     "text": [
      "svf_sunb1: \n",
      "[389.23721901901274, 1.092326526188701, -7.05246765437531e-21, -0.9270251551184968, 0.30379529903353053, 8.268395273010713e-21, 1.039298827652223]\n",
      "[3.979039320256561e-13, 4.383160501220118e-13, 8.567378986985094e-33, 3.1874503036988244e-13, 3.848657503802144e-13, 5.7409263303199206e-33, -2.220446049250313e-16, -0.00998288019974325, -0.004137939190131057, 4.757988368583359e-25, 0.006462458631425083, 0.002341232450546682, 7.831975371475349e-24, 0.03929882765196724, -0.015587560160725851, 55.05603388395385]\n"
     ]
    },
    {
     "data": {
      "text/plain": [
       "55.0560516058511"
      ]
     },
     "execution_count": 13,
     "metadata": {},
     "output_type": "execute_result"
    }
   ],
   "source": [
    "ig_x, lx, ux = SailorMoon.make_ig_bounds2(row, τ_ig, paramMulti.n_arc);\n",
    "res, sol_param_list, sols_ballistic, _ = SailorMoon.multishoot_trajectory2(ig_x, dir_func, paramMulti, true, true);\n",
    "println(res)\n",
    "norm(res)"
   ]
  },
  {
   "cell_type": "code",
   "execution_count": null,
   "metadata": {},
   "outputs": [],
   "source": [
    "pcart = plot(\n",
    "    size=(700,500), frame_style=:box, aspect_ratio=:equal, grid=0.4, legend=false, \n",
    "    xlabel=L\"x, \\times10^6\\textrm{km}\", ylabel=L\"y, \\times10^6\\textrm{km}\",\n",
    "    colorbar_titlefontsize=fs,\n",
    "    fontsize=fs, xlabelfontsize=fs, ylabelfontsize=fs, xtickfontsize=fs-1, ytickfontsize=fs-1, legendfontsize=fs-1\n",
    ");\n",
    "\n",
    "arcs_color = Dict(\n",
    "    \"xlr_bck_arc\" => :navy, \n",
    "    \"xlr_fwd_arc\" => :pink,\n",
    "    \"mid_bck_arc\" => :red1, \n",
    "    \"mid_fwd_arc\" => :darkorange, \n",
    "    \"lpo_arc\" => :green\n",
    ")\n",
    "\n",
    "\n",
    "\n",
    "# plot!(hcat(sol_.u...)[1,:], hcat(sol_.u...)[2,:], color=:black, label=\"backward(from LLO):0.001\", set_aspect=:equal, size=(700,700))\n",
    "\n",
    "\n",
    "# ballistic legs\n",
    "for sol_ballistic in sols_ballistic\n",
    "    plot!(pcart, (hcat(sol_ballistic.u...)[1,:].-param3b.as).*param3b.lstar, hcat(sol_ballistic.u...)[2,:].*param3b.lstar, c=:dodgerblue, label=false)\n",
    "end\n",
    "\n",
    "# trajectory\n",
    "# for i = 1:length(sol_param_list)\n",
    "#     sol, _, name = sol_param_list[i]\n",
    "#     #if name == \"mid_bck_arc\" || name == \"mid_fwd_arc\" || name == \"lpo_arc\"\n",
    "#     plot!(pcart, sol[1,:], sol[2,:], \n",
    "#         linewidth=1.5, label=\"$name\", c=arcs_color[name])\n",
    "#     #end\n",
    "# end\n",
    "\n",
    "# trajectory\n",
    "# starting from 2, excluding the first LEO arc now...\n",
    "for i = 1:length(sol_param_list)\n",
    "    sol, _, name = sol_param_list[i]\n",
    "    plot!(pcart, (sol[1,:] .- param3b.as) .* param3b.lstar , sol[2,:].*param3b.lstar, label=\"$name\", c=arcs_color[name])\n",
    "    scatter!(pcart, \n",
    "        [(sol[1,1]-param3b.as)*param3b.lstar, (sol[1,end] - param3b.as)*param3b.lstar], \n",
    "        [sol[2,1]*param3b.lstar, sol[2,end]*param3b.lstar], label=false, c=arcs_color[name], marker=:circle)\n",
    "end\n",
    "\n",
    "# control node\n",
    "# scatter!(pcart, [x_mid[1]], [x_mid[2]], marker=:circle, color=:black, label=\"MP\")\n",
    "# scatter!(pcart, [param3b.as], [0.0], marker=:circle, color=:black)\n",
    "\n",
    "# plot the earth when the initial guess is terminated \n",
    "# θm0 = π - (θsf - param3b.oms * tof)\n",
    "# e0x = param3b.as - param3b.mu2*cos(θm0)\n",
    "# e0y = - param3b.mu2 * sin(θm0)\n",
    "# earth0 = plot_circle(6375/param3b.lstar, e0x, e0y)\n",
    "\n",
    "# plot!(pcart, earth0[1,:], earth0[2,:], c=:red, lw=1.0, label=\"earth\")\n",
    "# scatter!(pcart, [e0x], [e0y], color=:red, markersize=2.5)\n",
    "\n",
    "\n",
    "plot!(pcart, earth[1,:], earth[2,:], c=:green, lw=1.0, label=\"earth\")\n",
    "plot!(pcart, earth_ub[1,:], earth_ub[2,:], c=:black, lw=1.0, label=\"earth\")\n",
    "plot!(pcart, earth_lb[1,:], earth_lb[2,:], c=:black, lw=1.0, label=\"earth\")\n",
    "\n",
    "plot!(pcart, moon[1,:], moon[2,:], c=:orange, lw=1.0, label=\"moon\")\n",
    "plot!(pcart, moon_soi_outer[1,:], moon_soi_outer[2,:], c=:black, lw=1.0, label=\"moon_soi_outer\",\n",
    "    xaxis=(formatter=x->string(round(x / 10^6; digits=2))),\n",
    "    yaxis=(formatter=y->string(round(y / 10^6; digits=1))),\n",
    ")\n",
    "savefig(\"multi_shooting.png\")\n"
   ]
  },
  {
   "cell_type": "code",
   "execution_count": null,
   "metadata": {},
   "outputs": [],
   "source": []
  },
  {
   "cell_type": "code",
   "execution_count": null,
   "metadata": {},
   "outputs": [],
   "source": []
  },
  {
   "cell_type": "markdown",
   "metadata": {},
   "source": [
    "You should be able to get necessary plots until here..."
   ]
  },
  {
   "cell_type": "code",
   "execution_count": null,
   "metadata": {},
   "outputs": [],
   "source": []
  },
  {
   "cell_type": "code",
   "execution_count": null,
   "metadata": {},
   "outputs": [],
   "source": [
    "# converged solution (03/23, wrong!!!)\n",
    "xopt2 = [387.8361917242459, -0.3853476760186616, -0.04247313041034335, -0.9323199473757933, -0.4330087021017924, -0.03246075114595058, 1.0074803628470648, 0.6208073838508084, 3.624171797062712, 0.505666575900808, 0.026244288314327468, 0.0005489785148977199, 0.5037377780138078, 0.018839912759376232, 0.0004837026973513516, 0.5017378554937434, 0.012413994633042585, 0.0003652633319893791, 0.4997183841937381, 0.006764295811492612, 0.00021503385619908998, 0.49818057582675834, 0.002209518257796944, 0.00019915043559496268, 0.7213579294499163, 0.18696527439755153, -0.011478536870172099, 0.9022781401589027, 0.2024486332934889, -0.02650777872915466, 0.9470201428586926, 0.19370405655792194, -0.031034299472032435, 0.9613467304011643, 0.18436494397567382, -0.031004090068095232, 0.9680800935604605, 0.18059223799578025, -0.02917096363825062, 386.7179789619507, -0.001911212825674917, -0.10611725410211326, -0.24904357645705139, -0.1663860481066939, 0.03778647354623657, 1.001325235082276, 14.668779881743394, 4.913400857534562, 0.42924264571930676, -1.9042652466463357, -1.304001523556738, 0.43089641310137883, -1.947572867423033, -1.2770895393048303, 0.4349563275960081, -1.9878366288500038, -1.2528496029711456, 0.4415870204833449, -2.0254685430089077, -1.230845461160481, 0.4501340592031054, -2.060492342619702, -1.210765944999106, 0.9779254808724199, -0.49204994677131564, -1.8225144993349944, 0.9712167730497783, -0.6622791631515925, -2.2646211613594915, 0.9803100959702216, -0.7286560074316265, -2.060239572997394, 0.9782407691308137, -0.5647768545998232, -1.5479850242257065, 0.9793643596642534, -1.2650738316028962, -2.688034638868756, 1.9384056484221754, 1.4207874944484553, 0.9777823758947515, 7.226584511880099, 0.9667106142377015, -1.0347206794531993, 0.05194317681147863, 0.9697708190238273, -0.3055054325629812, 0.06564884539836179, 0.9763657712922017, -0.12158282927199301, -0.05321147127190784, 0.9796339189305757, 0.01615092440024013, -0.098462320532415, 0.9815885413776649, 0.051565939292446274, -0.09950068249486148]\n",
    "res2, sol_param_list2, sols_ballistic2, _ = SailorMoon.multishoot_trajectory2(xopt2, dir_func, paramMulti, true, true);\n",
    "res2"
   ]
  },
  {
   "cell_type": "code",
   "execution_count": null,
   "metadata": {},
   "outputs": [],
   "source": [
    "arcs_color = Dict(\n",
    "    \"xlr_bck_arc\" => :navy, \n",
    "    \"xlr_fwd_arc\" => :pink,\n",
    "    \"mid_bck_arc\" => :red1, \n",
    "    \"mid_fwd_arc\" => :darkorange, \n",
    "    \"lpo_arc\" => :green\n",
    ")\n",
    "\n",
    "pcart = plot(\n",
    "    size=(700,500), frame_style=:box, aspect_ratio=:equal, grid=0.4, legend=false\n",
    ")\n",
    "plot!(pcart, earth[1,:], earth[2,:], c=:green, lw=1.0, label=\"earth\")\n",
    "plot!(pcart, earth_ub[1,:], earth_ub[2,:], c=:black, lw=1.0, label=\"earth\")\n",
    "plot!(pcart, earth_lb[1,:], earth_lb[2,:], c=:black, lw=1.0, label=\"earth\")\n",
    "\n",
    "plot!(pcart, moon[1,:], moon[2,:], c=:orange, lw=1.0, label=\"moon\")\n",
    "plot!(pcart, moon_soi_outer[1,:], moon_soi_outer[2,:], c=:black, lw=1.0, label=\"moon_soi_outer\")\n",
    "\n",
    "# plot!(hcat(sol_.u...)[1,:], hcat(sol_.u...)[2,:], color=:black, label=\"backward(from LLO):0.001\", set_aspect=:equal, size=(700,700))\n",
    "\n",
    "\n",
    "# ballistic legs\n",
    "for sol_ballistic in sols_ballistic2\n",
    "    plot!(pcart, hcat(sol_ballistic.u...)[1,:], hcat(sol_ballistic.u...)[2,:], c=:dodgerblue, label=false)\n",
    "end\n",
    "\n",
    "# trajectory\n",
    "# for i = 1:length(sol_param_list)\n",
    "#     sol, _, name = sol_param_list[i]\n",
    "#     #if name == \"mid_bck_arc\" || name == \"mid_fwd_arc\" || name == \"lpo_arc\"\n",
    "#     plot!(pcart, sol[1,:], sol[2,:], \n",
    "#         linewidth=1.5, label=\"$name\", c=arcs_color[name])\n",
    "#     #end\n",
    "# end\n",
    "\n",
    "# trajectory\n",
    "# starting from 2, excluding the first LEO arc now...\n",
    "for i = 1:length(sol_param_list2)\n",
    "    sol, _, name = sol_param_list2[i]\n",
    "    plot!(pcart, sol[1,:], sol[2,:], label=\"$name\", c=arcs_color[name])\n",
    "    scatter!(pcart, [sol[1,1],sol[1,end]], [sol[2,1],sol[2,end]], label=false, c=arcs_color[name], marker=:circle)\n",
    "end\n",
    "\n",
    "# control node\n",
    "# scatter!(pcart, [x_mid[1]], [x_mid[2]], marker=:circle, color=:black, label=\"MP\")\n",
    "scatter!(pcart, [param3b.as], [0.0], marker=:circle, color=:black)\n",
    "\n",
    "# plot the earth when the initial guess is terminated \n",
    "θm0 = π - (θsf - param3b.oms * tof)\n",
    "e0x = param3b.as - param3b.mu2*cos(θm0)\n",
    "e0y = - param3b.mu2 * sin(θm0)\n",
    "earth0 = plot_circle(6375/param3b.lstar, e0x, e0y)\n",
    "\n",
    "plot!(pcart, earth0[1,:], earth0[2,:], c=:red, lw=1.0, label=\"earth\")\n",
    "scatter!(pcart, [e0x], [e0y], color=:red, markersize=2.5)\n",
    "\n",
    "\n",
    "pcart"
   ]
  },
  {
   "cell_type": "code",
   "execution_count": null,
   "metadata": {},
   "outputs": [],
   "source": [
    "pcart2 = plot(\n",
    "    size=(700,500), frame_style=:box, aspect_ratio=:equal, grid=0.4, legend=false\n",
    ");\n",
    "\n",
    "sol1, _, _ = sol_param_list2[1]\n",
    "sol2, _, _ = sol_param_list2[2]\n",
    "sol3, _, _ = sol_param_list2[3]\n",
    "sol4, _, _ = sol_param_list2[4]\n",
    "sol5, _, _ = sol_param_list2[5]\n",
    "\n",
    "plot!(pcart2, sol1.t, hcat(sol1.u...)[5,:])\n",
    "plot!(pcart2, sol2.t, hcat(sol2.u...)[5,:])\n",
    "plot!(pcart2, sol3.t, hcat(sol3.u...)[5,:])\n",
    "plot!(pcart2, sol4.t, hcat(sol4.u...)[5,:])\n",
    "plot!(pcart2, sol5.t, hcat(sol5.u...)[5,:])"
   ]
  },
  {
   "cell_type": "code",
   "execution_count": null,
   "metadata": {},
   "outputs": [],
   "source": []
  },
  {
   "cell_type": "code",
   "execution_count": null,
   "metadata": {},
   "outputs": [],
   "source": []
  },
  {
   "cell_type": "code",
   "execution_count": null,
   "metadata": {},
   "outputs": [],
   "source": []
  },
  {
   "cell_type": "code",
   "execution_count": null,
   "metadata": {},
   "outputs": [],
   "source": []
  },
  {
   "cell_type": "code",
   "execution_count": null,
   "metadata": {},
   "outputs": [],
   "source": []
  },
  {
   "cell_type": "code",
   "execution_count": null,
   "metadata": {},
   "outputs": [],
   "source": []
  }
 ],
 "metadata": {
  "kernelspec": {
   "display_name": "Julia 1.8.5",
   "language": "julia",
   "name": "julia-1.8"
  },
  "language_info": {
   "file_extension": ".jl",
   "mimetype": "application/julia",
   "name": "julia",
   "version": "1.8.5"
  }
 },
 "nbformat": 4,
 "nbformat_minor": 2
}
