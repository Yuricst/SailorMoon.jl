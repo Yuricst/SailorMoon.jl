{
 "cells": [
  {
   "cell_type": "code",
   "execution_count": 1,
   "metadata": {},
   "outputs": [],
   "source": [
    "using DifferentialEquations\n",
    "using Plots\n",
    "using LinearAlgebra\n",
    "import ForwardDiff\n",
    "import DiffResults\n",
    "using AstrodynamicsBase\n",
    "using Printf\n",
    "using JSON\n",
    "using CSV\n",
    "using DataFrames\n",
    "using ColorSchemes\n",
    "using LaTeXStrings\n",
    "using Tables"
   ]
  },
  {
   "cell_type": "code",
   "execution_count": 25,
   "metadata": {},
   "outputs": [
    {
     "name": "stderr",
     "output_type": "stream",
     "text": [
      "WARNING: replacing module SailorMoon.\n",
      "\u001b[33m\u001b[1m┌ \u001b[22m\u001b[39m\u001b[33m\u001b[1mWarning: \u001b[22m\u001b[39mReplacing docs for `Main.SailorMoon.integrate_rk4 :: Union{Tuple{ODEProblem, Real}, Tuple{ODEProblem, Real, Union{Nothing, Vector}}, Tuple{ODEProblem, Real, Union{Nothing, Vector}, Bool}, Tuple{ODEProblem, Real, Union{Nothing, Vector}, Bool, Bool}}` in module `Main.SailorMoon`\n",
      "\u001b[33m\u001b[1m└ \u001b[22m\u001b[39m\u001b[90m@ Base.Docs docs\\Docs.jl:240\u001b[39m\n"
     ]
    },
    {
     "data": {
      "text/plain": [
       "Main.SailorMoon.multishoot_params(0.005, 0.22997051088254342, 2.2997051088254343, 0.05869842280217777, 0.0024510521918983535, 5)"
      ]
     },
     "execution_count": 25,
     "metadata": {},
     "output_type": "execute_result"
    }
   ],
   "source": [
    "### PARAMETERS ###################################\n",
    "# csv file to load the initial solution\n",
    "filename  = \"../run/data/diffcorr_0619_TidalThrust.csv\"\n",
    "\n",
    "\n",
    "include(\"../src/SailorMoon.jl\")   # relative path to main file of module\n",
    "param3b = SailorMoon.dynamics_parameters()\n",
    "paramMulti = SailorMoon.multi_shoot_parameters(param3b)\n"
   ]
  },
  {
   "cell_type": "code",
   "execution_count": 26,
   "metadata": {},
   "outputs": [
    {
     "data": {
      "text/plain": [
       "\"../run/data/diffcorr_0619_TidalThrust2.csv\""
      ]
     },
     "execution_count": 26,
     "metadata": {},
     "output_type": "execute_result"
    }
   ],
   "source": [
    "df = CSV.read(filename, DataFrame; header=0)\n",
    "output_fname = \"../run/data/diffcorr_0619_TidalThrust2.csv\""
   ]
  },
  {
   "cell_type": "code",
   "execution_count": 27,
   "metadata": {},
   "outputs": [
    {
     "data": {
      "text/plain": [
       "36"
      ]
     },
     "execution_count": 27,
     "metadata": {},
     "output_type": "execute_result"
    }
   ],
   "source": [
    "h = size(df, 1)"
   ]
  },
  {
   "cell_type": "code",
   "execution_count": 28,
   "metadata": {},
   "outputs": [
    {
     "name": "stdout",
     "output_type": "stream",
     "text": [
      "388.70490701086624 -0.006920059373589412\n",
      "388.69560004897113 -2.68983956704351\n",
      "389.0858455052926 -0.006600250680922002\n",
      "389.0773706025913 -2.5680454712122365\n",
      "389.2424107881889 -0.0063916738401803095\n",
      "389.23445985891743 -2.4878935945849734\n",
      "389.0414347696132 -0.006601691883037437\n",
      "389.0329571331936 -2.5683130264755127\n",
      "387.9986184867594 -0.007430758233525512\n",
      "387.98790663761196 -2.883097396481095\n",
      "388.932807595131 -0.006712110744859226\n",
      "388.9240464438526 -2.6105404749188965\n",
      "389.01220384378684 -0.0059342304429255\n",
      "389.005354313818 -2.3084745138070155\n",
      "389.20478380932246 -0.006427472693319342\n",
      "389.19674434412815 -2.5015858955389567\n",
      "389.26093218189106 -0.0063698551511748875\n",
      "389.2530350667957 -2.4795189861608553\n",
      "389.016203142471 -0.006616873069773754\n",
      "389.0076870235381 -2.5740520548922974\n",
      "388.7220986826471 -0.0068899639795494275\n",
      "388.71287208845 -2.678260067644208\n",
      "388.97696179466 -0.0066661092359631205\n",
      "388.96831933963705 -2.5929437137180615\n",
      "388.99993947311447 -0.005941302657302023\n",
      "388.9930738238505 -2.3111527770992035\n",
      "389.16644464152114 -0.006468137478251084\n",
      "389.1583039300731 -2.5171645140921326\n",
      "389.27839829916803 -0.006351056400972289\n",
      "389.2705473748963 -2.4723124427015413\n",
      "388.9581045678427 -0.006676807570752579\n",
      "388.94943477070404 -2.5969791217330815\n",
      "388.4999973597993 -0.007064101082161019\n",
      "388.49030402911836 -2.7443804268416936\n",
      "387.3127542650254 -0.005020204025984909\n",
      "387.30787366041153 -1.9443808810594125\n",
      "388.7846600995372 -0.006842457954752785\n",
      "388.7755588356683 -2.6602219318130866\n",
      "389.05350894036843 -0.0066024273780028895\n",
      "389.04502915169434 -2.5686788765125623\n",
      "389.2233245223023 -0.006415208591166616\n",
      "389.2153153260245 -2.496931688446154\n",
      "389.29940682375457 -0.006341419308865691\n",
      "389.2915792848963 -2.468694229437919\n",
      "388.94533549378707 -0.006685569675393975\n",
      "388.93664321208246 -2.6003017693826798\n",
      "388.72983721412055 -0.006875513576605587\n",
      "388.7206490983664 -2.6726962156926466\n",
      "388.7298155591391 -0.0068992770469819276\n",
      "388.72056382160724 -2.681933417164128\n",
      "389.11455260766144 -0.006563574870499237\n",
      "389.10617101007597 -2.5539641614671043\n",
      "389.23920197617275 -0.006392648812619913\n",
      "389.23124868665394 -2.488252574786084\n",
      "389.0440190844783 -0.006600868353577736\n",
      "389.0355435067072 -2.568009704971978\n",
      "388.0126819886646 -0.007436962588835527\n",
      "388.0019518553757 -2.885609200027781\n",
      "388.9363397929746 -0.006709812394177919\n",
      "388.9275845610942 -2.6096702912719136\n",
      "389.01677504596194 -0.005933680377904735\n",
      "389.00992670527285 -2.3082876594618513\n",
      "389.20287285982306 -0.006428753051302289\n",
      "389.19483023087287 -2.50207192175766\n",
      "389.26395019830005 -0.006367482094041291\n",
      "389.25605890496655 -2.47861448349782\n",
      "389.0154212070104 -0.006618035495714556\n",
      "389.00690211279345 -2.574499072678267\n",
      "388.730912707064 -0.006886701551255666\n",
      "388.7216946394207 -2.6770526188337365\n",
      "388.9854278972914 -0.006655415153179651\n",
      "388.9768129616809 -2.588840399174483\n"
     ]
    }
   ],
   "source": [
    "for row in eachrow(df)\n",
    "    r = row[43]\n",
    "    θ = row[44]\n",
    "    println(r, ' ', θ)\n",
    "\n",
    "\n",
    "    x = r * cos(θ)\n",
    "    y = r * sin(θ)\n",
    "    \n",
    "    row[43] = x\n",
    "    row[44] = y    \n",
    "    println(x, ' ', y)\n",
    "    \n",
    "    vec = [el for el in row]\n",
    "    \n",
    "    \n",
    "    CSV.write(output_fname, Tables.table(transpose(vec)), header=false, append=true)\n",
    "    \n",
    "end"
   ]
  },
  {
   "cell_type": "code",
   "execution_count": null,
   "metadata": {},
   "outputs": [],
   "source": []
  },
  {
   "cell_type": "code",
   "execution_count": null,
   "metadata": {},
   "outputs": [],
   "source": []
  }
 ],
 "metadata": {
  "kernelspec": {
   "display_name": "Julia 1.8.5",
   "language": "julia",
   "name": "julia-1.8"
  },
  "language_info": {
   "file_extension": ".jl",
   "mimetype": "application/julia",
   "name": "julia",
   "version": "1.8.5"
  }
 },
 "nbformat": 4,
 "nbformat_minor": 2
}
