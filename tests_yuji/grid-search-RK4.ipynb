{
 "cells": [
  {
   "cell_type": "markdown",
   "metadata": {},
   "source": [
    "### Grid Search using Rk4, also using the reduced S-B1 frame "
   ]
  },
  {
   "cell_type": "code",
   "execution_count": 1,
   "metadata": {},
   "outputs": [
    {
     "name": "stderr",
     "output_type": "stream",
     "text": [
      "┌ Warning: For saving to png with the `Plotly` backend `PlotlyBase` and `PlotlyKaleido` need to be installed.\n",
      "│   err = ArgumentError(\"Package PlotlyBase not found in current path:\\n- Run `import Pkg; Pkg.add(\\\"PlotlyBase\\\")` to install the PlotlyBase package.\\n\")\n",
      "└ @ Plots C:\\Users\\yujit\\.julia\\packages\\Plots\\gzYVM\\src\\backends.jl:420\n"
     ]
    },
    {
     "data": {
      "text/plain": [
       "Plots.PlotlyBackend()"
      ]
     },
     "execution_count": 1,
     "metadata": {},
     "output_type": "execute_result"
    }
   ],
   "source": [
    "using DifferentialEquations\n",
    "using Plots\n",
    "using LinearAlgebra\n",
    "import ForwardDiff\n",
    "import DiffResults\n",
    "using AstrodynamicsBase\n",
    "# import joptimise\n",
    "using Printf\n",
    "using DataFrames\n",
    "using JSON\n",
    "using CSV\n",
    "plotly()"
   ]
  },
  {
   "cell_type": "code",
   "execution_count": 12,
   "metadata": {},
   "outputs": [
    {
     "name": "stderr",
     "output_type": "stream",
     "text": [
      "WARNING: replacing module R3BP.\n",
      "WARNING: replacing module SailorMoon.\n"
     ]
    },
    {
     "data": {
      "text/plain": [
       "Main.SailorMoon"
      ]
     },
     "execution_count": 12,
     "metadata": {},
     "output_type": "execute_result"
    }
   ],
   "source": [
    "include(\"../../julia-r3bp/R3BP/src/R3BP.jl\")\n",
    "include(\"../src/SailorMoon.jl\")   # relative path to main file of module\n"
   ]
  },
  {
   "cell_type": "code",
   "execution_count": 13,
   "metadata": {},
   "outputs": [],
   "source": [
    "#### CALLBACK FUNCTIONS ####\n",
    "\n",
    "# store the apoapsis value\n",
    "function apoapsis_cond(u,t,int)\n",
    "    # condition 1: SC is sufficiently far from the moon\n",
    "    r = sqrt((u[1] - (1-param3b.mu2))^2 + u[2]^2 + u[3]^2) # SC-Moon distance\n",
    "    moon_soi = 5000 / param3b.lstar # define \"sphere of influence\"\n",
    "    \n",
    "    if sqrt(u[1]^2 + u[2]^2 + u[3]^2) > 2.0\n",
    "        # condition 2: dot product of velocity and position is zero\n",
    "        return dot((u[1:3] + [param3b.mu2, 0.0, 0.0]), u[4:6])\n",
    "    else\n",
    "        return NaN\n",
    "    end\n",
    "end\n",
    "\n",
    "# store the periapsis value and terminate\n",
    "function periapsis_cond(u,t,int)\n",
    "    r = sqrt((u[1] + param3b.mu2)^2 + u[2]^2 + u[3]^2)  # SC-earth distance\n",
    "    earth_leo_ub = 10000 / param3b.lstar  # km\n",
    "    earth_leo_lb = 200  / param3b.lstar  # km\n",
    "    \n",
    "    if earth_leo_lb < r < earth_leo_ub\n",
    "        return dot((u[1:3] + [param3b.mu2, 0.0, 0.0]), u[4:6])\n",
    "    else \n",
    "        return NaN\n",
    "    end\n",
    "end\n",
    "\n",
    "terminate_affect!() = true\n",
    "no_affect!() = false\n",
    "\n",
    "# include callback functions \n",
    "apoapsis_cb  = ContinuousCallback(apoapsis_cond, terminate_affect!)\n",
    "periapsis_cb = ContinuousCallback(periapsis_cond, terminate_affect!)\n",
    "cbs = [apoapsis_cb, periapsis_cb];\n",
    "\n"
   ]
  },
  {
   "cell_type": "code",
   "execution_count": 14,
   "metadata": {},
   "outputs": [
    {
     "data": {
      "text/plain": [
       "rhs_bcr4bp_thrust! (generic function with 1 method)"
      ]
     },
     "execution_count": 14,
     "metadata": {},
     "output_type": "execute_result"
    }
   ],
   "source": [
    "function rhs_bcr4bp_thrust!(du,u,p,t)\n",
    "    # unpack arguments\n",
    "    μ, μ_3, t0, a_s, ω_s, τ, θ, β, mdot, tmax = p\n",
    "    # decompose state\n",
    "    x, y, z, vx, vy, vz, mass = u\n",
    "\n",
    "    # calculate radii\n",
    "    r1 = sqrt( (x+μ)^2 + y^2 + z^2 )\n",
    "    r2 = sqrt( (x-1+μ)^2 + y^2 + z^2 )\n",
    "\n",
    "    # sun position\n",
    "    xs = a_s*cos(ω_s*t + t0)\n",
    "    ys = a_s*sin(ω_s*t + t0)\n",
    "    zs = 0.0\n",
    "    r3 = sqrt( (x-xs)^2 + (y-ys)^2 + (z-zs)^2 )\n",
    "\n",
    "    # compute delta-V vector\n",
    "#     dir_v = dv_lvlh2inertial(u[1:6], [τ, θ, β])\n",
    "    dir_v = [0.0, 0.0, 0.0]\n",
    "    ts = tmax*dir_v\n",
    "\n",
    "    # position-state derivative\n",
    "    du[1] = vx\n",
    "    du[2] = vy\n",
    "    du[3] = vz\n",
    "\n",
    "    # velocity derivatives: Earth, moon, sun\n",
    "    du[4] =  2*vy + x - ((1-μ)/r1^3)*(μ+x)  + (μ/r2^3)*(1-μ-x)  + ( -(μ_3/r3^3)*(x-xs) - (μ_3/a_s^3)*xs ) + ts[1]/mass\n",
    "    du[5] = -2*vx + y - ((1-μ)/r1^3)*y      - (μ/r2^3)*y        + ( -(μ_3/r3^3)*(y-ys) - (μ_3/a_s^3)*ys ) + ts[2]/mass\n",
    "    du[6] =           - ((1-μ)/r1^3)*z      - (μ/r2^3)*z        + ( -(μ_3/r3^3)*(z)    - (μ_3/a_s^3)*zs ) + ts[3]/mass\n",
    "    \n",
    "#     println(r1, \" \", r2, \" \", r3)\n",
    "#     println(((1-μ)/r1^3)*(μ+x), \" \", (μ/r2^3)*(1-μ-x), \" \",  -(μ_3/r3^3)*(x-xs) )\n",
    "\n",
    "    # mass derivative\n",
    "    du[7] = -mdot*τ\n",
    "end"
   ]
  },
  {
   "cell_type": "code",
   "execution_count": 15,
   "metadata": {},
   "outputs": [
    {
     "data": {
      "text/plain": [
       "plot_circle (generic function with 2 methods)"
      ]
     },
     "execution_count": 15,
     "metadata": {},
     "output_type": "execute_result"
    }
   ],
   "source": [
    "function plot_circle(radius, x, y, n=50)\n",
    "    circle = zeros(2,n)\n",
    "    thetas = LinRange(0.0, 2π, n)\n",
    "    for i = 1:n\n",
    "        circle[1,i] = radius*cos(thetas[i]) + x\n",
    "        circle[2,i] = radius*sin(thetas[i]) + y\n",
    "    end\n",
    "    return circle\n",
    "end"
   ]
  },
  {
   "cell_type": "code",
   "execution_count": 17,
   "metadata": {},
   "outputs": [
    {
     "name": "stdout",
     "output_type": "stream",
     "text": [
      "Halo guess Az_km: 1200.0\n",
      "Linear stability ν = 618.7618470919092\n"
     ]
    },
    {
     "data": {
      "text/plain": [
       "27.59646130590521"
      ]
     },
     "execution_count": 17,
     "metadata": {},
     "output_type": "execute_result"
    }
   ],
   "source": [
    "param3b = SailorMoon.dyanmics_parameters()\n",
    "lps = SailorMoon.lagrange_points(param3b.mu2)\n",
    "\n",
    "## set up of initial condition (Lyapunov orbit)\n",
    "lp = 2\n",
    "Az_km = 1200.0\n",
    "println(\"Halo guess Az_km: $Az_km\")\n",
    "northsouth = 3   # 1 or 3\n",
    "guess0 = R3BP.halo_analytical_construct(param3b.mu2, lp, Az_km, param3b.lstar, northsouth)\n",
    "res = R3BP.ssdc_periodic_xzplane([param3b.mu2,], guess0.x0, guess0.period, fix=\"period\")\n",
    "\n",
    "x0_stm = vcat(res.x0, reshape(I(6), (6^2,)))[:]\n",
    "prob_cr3bp_stm = ODEProblem(R3BP.rhs_cr3bp_svstm!, x0_stm, res.period, (param3b.mu2))\n",
    "sol = solve(prob_cr3bp_stm, Tsit5(), reltol=1e-12, abstol=1e-12)#, saveat=LinRange(0, period, n+1))\n",
    "monodromy = R3BP.get_stm(sol, 6)   # get monodromy matrix\n",
    "ys0 = R3BP.get_eigenvector(monodromy, true, 1) # monodromy eigenvector\n",
    "\n",
    "## Grid search parameters: CHANGE HERE\n",
    "n = 10\n",
    "ϕ_vec    = [0.0] #LinRange(0, 2*pi, n+1)[1:n] #\n",
    "epsr_vec = [1e-6]   #10 .^(-12:-6)\n",
    "epsv_vec = [1e-6]   #10 .^(-12:-6)\n",
    "θs_vec    = [0.0]  #LinRange(0, 2*pi, n+1)[1:n]  # [2.890265, 3.015929]     \n",
    "tof_bck  = 120 * 86400 / param3b.tstar\n"
   ]
  },
  {
   "cell_type": "code",
   "execution_count": 28,
   "metadata": {},
   "outputs": [
    {
     "name": "stdout",
     "output_type": "stream",
     "text": [
      "-0.9251999994040079\n"
     ]
    },
    {
     "ename": "LoadError",
     "evalue": "UndefVarError: param3b not defined",
     "output_type": "error",
     "traceback": [
      "UndefVarError: param3b not defined",
      "",
      "Stacktrace:",
      " [1] transform_EMrot_to_SunB1(state::Vector{Float64}, θs::Float64, ωs::Float64)",
      "   @ Main.SailorMoon C:\\Users\\yujit\\OneDrive\\ドキュメント\\github\\SailorMoon.jl\\src\\transformations.jl:27",
      " [2] top-level scope",
      "   @ .\\In[28]:18",
      " [3] eval",
      "   @ .\\boot.jl:373 [inlined]",
      " [4] include_string(mapexpr::typeof(REPL.softscope), mod::Module, code::String, filename::String)",
      "   @ Base .\\loading.jl:1196"
     ]
    }
   ],
   "source": [
    "\n",
    "## make initial conditions \n",
    "grids = []\n",
    "for ϕ0 in ϕ_vec\n",
    "    for ϵr in epsr_vec\n",
    "        for ϵv in epsv_vec\n",
    "            for θsf in θs_vec\n",
    "                \n",
    "                θmf = π - θsf                \n",
    "                # arrival LPO object\n",
    "                LPOArrival = SailorMoon.CR3BPLPO2(\n",
    "                    res.x0, res.period, ys0, prob_cr3bp_stm, ϵr, ϵv, Tsit5(), 1e-12, 1e-12\n",
    "                );\n",
    "                \n",
    "                xf = SailorMoon.set_terminal_state2(ϕ0, θmf, param3b, LPOArrival)\n",
    "                # in Sun-B1 frame\n",
    "                println(param3b.oms)\n",
    "                xf_sb1 = vcat(SailorMoon.transform_EMrot_to_SunB1(xf, θsf, param3b.oms), 1.0)\n",
    "                \n",
    "                push!(grids, [ϕ0, ϵr, ϵv, θsf, xf_sb1])\n",
    "                println(xf)\n",
    "                \n",
    "            end\n",
    "        end\n",
    "    end\n",
    "end\n",
    "\n",
    "# include callback functions \n",
    "apoapsis_cb  = ContinuousCallback(apoapsis_cond, terminate_affect!)\n",
    "periapsis_cb = ContinuousCallback(periapsis_cond, terminate_affect!)\n",
    "cbs = [apoapsis_cb, periapsis_cb];"
   ]
  },
  {
   "cell_type": "code",
   "execution_count": 25,
   "metadata": {},
   "outputs": [
    {
     "ename": "LoadError",
     "evalue": "UndefVarError: rhs_bcr4bp_sb1frame2! not defined",
     "output_type": "error",
     "traceback": [
      "UndefVarError: rhs_bcr4bp_sb1frame2! not defined",
      "",
      "Stacktrace:",
      " [1] top-level scope",
      "   @ In[25]:5",
      " [2] eval",
      "   @ .\\boot.jl:373 [inlined]",
      " [3] include_string(mapexpr::typeof(REPL.softscope), mod::Module, code::String, filename::String)",
      "   @ Base .\\loading.jl:1196"
     ]
    }
   ],
   "source": [
    "svf_ = zeros(Float64, 1, 7)\n",
    "params = [param3b.mu2, param3b.mus, param3b.as, 0.0, param3b.oms, param3b.omb, 0.0, 0.0, 0.0, 0.0, 0.0]\n",
    "tspan = [0, -tof_bck]\n",
    "\n",
    "prob = ODEProblem(rhs_bcr4bp_sb1frame2!, svf_, tspan, params)\n",
    "sol_bck = solve(prob_bck, Tsit5(), reltol=1e-12, abstol=1e-12);\n"
   ]
  },
  {
   "cell_type": "code",
   "execution_count": 20,
   "metadata": {},
   "outputs": [
    {
     "ename": "LoadError",
     "evalue": "UndefVarError: prob not defined",
     "output_type": "error",
     "traceback": [
      "UndefVarError: prob not defined",
      "",
      "Stacktrace:",
      " [1] top-level scope",
      "   @ In[20]:9",
      " [2] eval",
      "   @ .\\boot.jl:373 [inlined]",
      " [3] include_string(mapexpr::typeof(REPL.softscope), mod::Module, code::String, filename::String)",
      "   @ Base .\\loading.jl:1196"
     ]
    }
   ],
   "source": [
    "\n",
    "## make ensemble problems\n",
    "function prob_func(prob, i, repeat)\n",
    "    print(\"\\rproblem # $i\")\n",
    "    remake(prob, u0=grids[i][5], p=[param3b.mu2, param3b.mus, param3b.as, grids[i][4], param3b.oms, param3b.omb,\n",
    "            0.0, 0.0, 0.0, 0.0, 0.0])\n",
    "end\n",
    "\n",
    "ensemble_prob = EnsembleProblem(prob, prob_func=prob_func)\n",
    "sim = solve(ensemble_prob, Tsit5(), EnsembleThreads(), trajectories=length(grids),\n",
    "            callback=cbs, reltol=1e-12, abstol=1e-12,\n",
    "            save_everystep=true);\n",
    "\n",
    "\n",
    "## data extraction and make csv\n",
    "# make dataframe\n",
    "entries = [\"id\", \"phi0\", \"epsr\", \"epsv\", \"thetaf\", \"ra\", \"rp\", \"dt1\", \"dt2\", \"x_ra\", \"x_rp\", \"tof\", \"lfb\"]\n",
    "df = DataFrame([ name =>[] for name in entries])\n",
    "\n",
    "pcart = plot(size=(700,500), frame_style=:box, aspect_ratio=:equal, grid=0.4)\n",
    "\n",
    "id = 1\n",
    "solution = []\n",
    "# extract the ensemble simulation\n",
    "for (idx,sol) in enumerate(sim)\n",
    "    global lfb_count = 0\n",
    "    \n",
    "    ϕ0 = grids[idx][1]\n",
    "    ϵr = grids[idx][2]\n",
    "    ϵv = grids[idx][3]\n",
    "    θsf = grids[idx][4]\n",
    "    plot!(pcart, Array(sol)[1,:], Array(sol)[2,:], color=:blue, linewidth=1.0, label=\"sol $idx\", linestyle=:solid)\n",
    "    global solution = sol\n",
    "    \n",
    "    if sol.retcode == :Terminated\n",
    "#         println(periapsis_cond(sol.u[end], 0.0, 0.0))\n",
    "        if ~isnan(periapsis_cond(sol.u[end], 0.0, 0.0))  # == true\n",
    "            t_vec = -sol.t[:]\n",
    "            rp = sqrt(sol.u[end][1]^2 + sol.u[end][2]^2 + sol[end][3]^2)\n",
    "            x_rp = sol.u[end]\n",
    "            \n",
    "            # find apoapsis\n",
    "            r_vec = sqrt.((Array(sol)[1,:] .- [param3b.mu2]).^2+Array(sol)[2,:].^2+Array(sol)[3,:].^2)\n",
    "            ra, id_ra = findmax(r_vec)\n",
    "            x_ra = sol.u[id_ra]\n",
    "            dt_ra = - sol.t[id_ra]\n",
    "            dt_rp = -sol.t[end] - dt_ra \n",
    "            \n",
    "            # flag: lunar flyby? \n",
    "            rm_vec = sqrt.((Array(sol)[1,:] .- [1-param3b.mu2]).^2+Array(sol)[2,:].^2+Array(sol)[3,:].^2)\n",
    "            id_lfb = findall(rm_vec .< (66000 / param3b.lstar) .&& t_vec .> (10*86400/param3b.tstar))\n",
    "            \n",
    "            if ~isempty(id_lfb)\n",
    "#                 println(\"there might be a perilune\")\n",
    "                for k in id_lfb\n",
    "                    if ~isnan(perilune_cond(sol.u[k], sol.t[k], 0.0))\n",
    "                        global lfb_count += 1\n",
    "                    end\n",
    "                end    \n",
    "            end\n",
    "\n",
    "            \n",
    "            tof = -sol.t[end]\n",
    "            push!(df, [id, ϕ0, ϵr, ϵv, θsf, rp, ra, dt_ra, dt_rp, x_ra, x_rp, tof, lfb_count])\n",
    "            println(\"idx $idx is a success!\")\n",
    "            plot!(pcart, Array(sol)[1,:], Array(sol)[2,:], color=:blue, linewidth=1.0, label=\"sol $idx\", linestyle=:solid)\n",
    "#             println(sol.u, sol.t)\n",
    "            global id += 1\n",
    "        end\n",
    "    end\n",
    "end\n",
    "\n",
    "# print(df)\n",
    "# CSV.write(\"grid_search2.csv\", df)\n",
    "\n"
   ]
  },
  {
   "cell_type": "code",
   "execution_count": null,
   "metadata": {},
   "outputs": [],
   "source": [
    "println(solution[1])\n",
    "plot2 = plot(size=(700,500), frame_style=:box, aspect_ratio=:equal, grid=0.4)\n",
    "\n",
    "plot!(plot2, Array(solution)[1,:], Array(solution)[2,:], color=:blue, linewidth=1.0, linestyle=:solid)\n",
    "scatter!(plot2, [solution.u[1][1]], [solution.u[1][2]], color=:red, shape=:circle)\n",
    "\n",
    "moon = plot_circle(1-param3b.mu2, param3b.as , 0.0)\n",
    "earth = plot_circle(param3b.mu2, param3b.as, 0.0)\n",
    "moon_soi_outer = plot_circle(1-param3b.mu2+66000/param3b.lstar, param3b.as, 0.0)\n",
    "\n",
    "plot!(plot2, earth[1,:], earth[2,:], c=:green, lw=1.0, label=\"earth\")\n",
    "plot!(plot2, moon[1,:], moon[2,:], c=:orange, lw=1.0, label=\"moon\")\n",
    "plot!(plot2, moon_soi_outer[1,:], moon_soi_outer[2,:], c=:black, lw=1.0, label=\"moon_soi_outer\")"
   ]
  },
  {
   "cell_type": "code",
   "execution_count": null,
   "metadata": {},
   "outputs": [],
   "source": []
  }
 ],
 "metadata": {
  "kernelspec": {
   "display_name": "Julia 1.7.3",
   "language": "julia",
   "name": "julia-1.7"
  },
  "language_info": {
   "file_extension": ".jl",
   "mimetype": "application/julia",
   "name": "julia",
   "version": "1.7.3"
  }
 },
 "nbformat": 4,
 "nbformat_minor": 2
}
