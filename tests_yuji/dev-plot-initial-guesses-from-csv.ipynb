{
 "cells": [
  {
   "cell_type": "code",
   "execution_count": 1,
   "metadata": {},
   "outputs": [],
   "source": [
    "using DifferentialEquations\n",
    "using Plots\n",
    "using LinearAlgebra\n",
    "import ForwardDiff\n",
    "import DiffResults\n",
    "using AstrodynamicsBase\n",
    "using Printf\n",
    "using JSON\n",
    "using CSV\n",
    "using DataFrames\n",
    "using ColorSchemes\n",
    "using LaTeXStrings"
   ]
  },
  {
   "cell_type": "code",
   "execution_count": 2,
   "metadata": {},
   "outputs": [
    {
     "name": "stderr",
     "output_type": "stream",
     "text": [
      "\u001b[33m\u001b[1m┌ \u001b[22m\u001b[39m\u001b[33m\u001b[1mWarning: \u001b[22m\u001b[39mReplacing docs for `Main.SailorMoon.integrate_rk4 :: Union{Tuple{ODEProblem, Real}, Tuple{ODEProblem, Real, Union{Nothing, Vector}}, Tuple{ODEProblem, Real, Union{Nothing, Vector}, Bool}, Tuple{ODEProblem, Real, Union{Nothing, Vector}, Bool, Bool}}` in module `Main.SailorMoon`\n",
      "\u001b[33m\u001b[1m└ \u001b[22m\u001b[39m\u001b[90m@ Base.Docs docs\\Docs.jl:240\u001b[39m\n"
     ]
    },
    {
     "data": {
      "text/plain": [
       "Plots.GRBackend()"
      ]
     },
     "execution_count": 2,
     "metadata": {},
     "output_type": "execute_result"
    }
   ],
   "source": [
    "include(\"../src/SailorMoon.jl\")   # relative path to main file of module\n",
    "gr()"
   ]
  },
  {
   "cell_type": "code",
   "execution_count": 3,
   "metadata": {},
   "outputs": [
    {
     "data": {
      "text/plain": [
       "Main.SailorMoon.multishoot_params(0.005, 0.22997051088254342, 2.2997051088254343, 0.05869842280217777, 0.0024510521918983535, 5)"
      ]
     },
     "execution_count": 3,
     "metadata": {},
     "output_type": "execute_result"
    }
   ],
   "source": [
    "### PARAMETERS ###################################\n",
    "# csv file to load the initial solution\n",
    "filename  = \"../run/data/grid_search_Tsit5_0618_maxJCThrust.csv\"\n",
    "filename2 = \"../run/data/grid_search_Tsit5_0615_NoThrust.csv\"\n",
    "\n",
    "# 3body parameter\n",
    "param3b = SailorMoon.dynamics_parameters()\n",
    "paramMulti = SailorMoon.multi_shoot_parameters(param3b)\n",
    "\n",
    "##################################################\n"
   ]
  },
  {
   "cell_type": "code",
   "execution_count": 4,
   "metadata": {},
   "outputs": [
    {
     "data": {
      "text/plain": [
       "interpolatecolor (generic function with 1 method)"
      ]
     },
     "execution_count": 4,
     "metadata": {},
     "output_type": "execute_result"
    }
   ],
   "source": [
    "function plot_circle(radius, x, y, n=100)\n",
    "    circle = zeros(2,n)\n",
    "    thetas = LinRange(0.0, 2π, n)\n",
    "    for i = 1:n\n",
    "        circle[1,i] = radius*cos(thetas[i]) + x\n",
    "        circle[2,i] = radius*sin(thetas[i]) + y\n",
    "    end\n",
    "    return circle\n",
    "end\n",
    "\n",
    "\n",
    "function interpolatecolor(cs, value, vmin, vmax)\n",
    "    cs = cgrad(cs)\n",
    "    color = cs[(value - vmin) / (vmax - vmin)]\n",
    "    return color\n",
    "end"
   ]
  },
  {
   "cell_type": "code",
   "execution_count": 5,
   "metadata": {},
   "outputs": [],
   "source": [
    "moon     = plot_circle((1-param3b.mu2)*param3b.lstar, 0.0, 0.0)\n",
    "earth    = plot_circle(param3b.mu2*param3b.lstar, 0.0, 0.0)\n",
    "earth_ub = plot_circle(param3b.mu2*param3b.lstar+6375,0.0, 0.0)\n",
    "earth_lb = plot_circle(param3b.mu2*param3b.lstar-6375, 0.0, 0.0)\n",
    "moon_soi_outer = plot_circle((1-param3b.mu2)*param3b.lstar+66000, 0.0, 0.0);"
   ]
  },
  {
   "cell_type": "code",
   "execution_count": 6,
   "metadata": {},
   "outputs": [
    {
     "data": {
      "text/plain": [
       ":viridis"
      ]
     },
     "execution_count": 6,
     "metadata": {},
     "output_type": "execute_result"
    }
   ],
   "source": [
    "fs = 12;   # omajinai for the plotting\n",
    "cs = :viridis "
   ]
  },
  {
   "cell_type": "code",
   "execution_count": 15,
   "metadata": {},
   "outputs": [
    {
     "name": "stdout",
     "output_type": "stream",
     "text": [
      "\u001b[1mDataFrameRow\u001b[0m\n",
      "\u001b[1m Row \u001b[0m│\u001b[1m id      \u001b[0m\u001b[1m phi0     \u001b[0m\u001b[1m epsr    \u001b[0m\u001b[1m epsv    \u001b[0m\u001b[1m thetasf \u001b[0m\u001b[1m rp_kep    \u001b[0m\u001b[1m ra_kep  \u001b[0m\u001b[1m alpha    \u001b[0m\u001b[1m ra      \u001b[0m\u001b[1m dt1     \u001b[0m\u001b[1m dt2     \u001b[0m\u001b[1m x_lpo   \u001b[0m\u001b[1m y_lpo     \u001b[0m\u001b[1m z_lpo       \u001b[0m\u001b[1m xdot_lpo \u001b[0m\u001b[1m ydot_lpo  \u001b[0m\u001b[1m zdot_lpo     \u001b[0m\u001b[1m m_lpo   \u001b[0m\u001b[1m x_ra    \u001b[0m\u001b[1m y_ra     \u001b[0m\u001b[1m z_ra        \u001b[0m\u001b[1m xdot_ra   \u001b[0m\u001b[1m ydot_ra  \u001b[0m\u001b[1m zdot_ra      \u001b[0m\u001b[1m m_ra    \u001b[0m\u001b[1m x_rp    \u001b[0m\u001b[1m y_rp       \u001b[0m\u001b[1m z_rp    \u001b[0m\u001b[1m xdot_rp  \u001b[0m\u001b[1m ydot_rp  \u001b[0m\u001b[1m zdot_rp \u001b[0m\u001b[1m m_rp    \u001b[0m\u001b[1m x_lr    \u001b[0m\u001b[1m y_lr      \u001b[0m\u001b[1m z_lr        \u001b[0m\u001b[1m xdot_lr \u001b[0m\u001b[1m ydot_lr  \u001b[0m\u001b[1m zdot_lr     \u001b[0m\u001b[1m m_lr    \u001b[0m\u001b[1m t_lr    \u001b[0m\u001b[1m tof     \u001b[0m\u001b[1m lfb     \u001b[0m\n",
      "     │\u001b[90m Float64 \u001b[0m\u001b[90m Float64  \u001b[0m\u001b[90m Float64 \u001b[0m\u001b[90m Float64 \u001b[0m\u001b[90m Float64 \u001b[0m\u001b[90m Float64   \u001b[0m\u001b[90m Float64 \u001b[0m\u001b[90m Float64  \u001b[0m\u001b[90m Float64 \u001b[0m\u001b[90m Float64 \u001b[0m\u001b[90m Float64 \u001b[0m\u001b[90m Float64 \u001b[0m\u001b[90m Float64   \u001b[0m\u001b[90m Float64     \u001b[0m\u001b[90m Float64  \u001b[0m\u001b[90m Float64   \u001b[0m\u001b[90m Float64      \u001b[0m\u001b[90m Float64 \u001b[0m\u001b[90m Float64 \u001b[0m\u001b[90m Float64  \u001b[0m\u001b[90m Float64     \u001b[0m\u001b[90m Float64   \u001b[0m\u001b[90m Float64  \u001b[0m\u001b[90m Float64      \u001b[0m\u001b[90m Float64 \u001b[0m\u001b[90m Float64 \u001b[0m\u001b[90m Float64    \u001b[0m\u001b[90m Float64 \u001b[0m\u001b[90m Float64  \u001b[0m\u001b[90m Float64  \u001b[0m\u001b[90m Float64 \u001b[0m\u001b[90m Float64 \u001b[0m\u001b[90m Float64 \u001b[0m\u001b[90m Float64   \u001b[0m\u001b[90m Float64     \u001b[0m\u001b[90m Float64 \u001b[0m\u001b[90m Float64  \u001b[0m\u001b[90m Float64     \u001b[0m\u001b[90m Float64 \u001b[0m\u001b[90m Float64 \u001b[0m\u001b[90m Float64 \u001b[0m\u001b[90m Float64 \u001b[0m\n",
      "─────┼─────────────────────────────────────────────────────────────────────────────────────────────────────────────────────────────────────────────────────────────────────────────────────────────────────────────────────────────────────────────────────────────────────────────────────────────────────────────────────────────────────────────────────────────────────────────────────────────────────────────────────────────────────────\n",
      "   1 │    10.0  0.020944   1.0e-5   1.0e-5  5.44543  0.0760695  2.14983  -2.99239  2.04145  7.43543  3.75264  388.079  -0.842189  7.25289e-23  0.899665  -0.797212  -2.93847e-23      1.0  390.857  0.148957  2.45732e-22  -0.016305  0.262996  -2.60454e-23  1.01259  388.734  -0.0102319      0.0  0.744519  -4.95282      0.0  1.02024  389.756  -0.299602  1.33349e-22   1.0124  0.010406  1.40328e-22  1.02024  10.5572  11.1881      2.0\n"
     ]
    }
   ],
   "source": [
    "# for row in enumerate(eachrow(df))\n",
    "#     println(row)\n",
    "# end\n",
    "\n",
    "println(df[1,:])"
   ]
  },
  {
   "cell_type": "code",
   "execution_count": null,
   "metadata": {},
   "outputs": [],
   "source": [
    "dir_func = SailorMoon.dv_maxJC_dir_sb1frame\n",
    "\n",
    "τ_ig = 1.0\n",
    "\n",
    "if dir_func == SailorMoon.dv_no_thrust\n",
    "    τ_ig = 0.0\n",
    "else \n",
    "    τ_ig = 1.0\n",
    "end\n",
    "\n",
    "# load initial guess\n",
    "df = DataFrame(CSV.File(filename));\n",
    "df2 = DataFrame(CSV.File(filename2));\n",
    "\n",
    "tofs = [row.tof for row in eachrow(df)]\n",
    "tofs2 = [row.tof for row in eachrow(df2)]\n",
    "tof_max = maximum(tofs)\n",
    "tof_min = minimum(tofs)\n",
    "tof_max2 = maximum(tofs2)\n",
    "tof_min2 = minimum(tofs2)\n",
    "\n",
    "tof_max = maximum([tof_max, tof_max2])\n",
    "tof_min = minimum([tof_min, tof_min2])\n",
    "\n",
    "tof_min_days = tof_min * param3b.tstar / (24*60*60)\n",
    "tof_max_days = tof_max * param3b.tstar / (24*60*60)\n"
   ]
  },
  {
   "cell_type": "code",
   "execution_count": null,
   "metadata": {},
   "outputs": [],
   "source": [
    "pcart = plot(\n",
    "    size=(700,500), \n",
    "#     xlims=[383, 395], ylims=[-5,5], \n",
    "    xlims=[-1.6e6, 1.6e6], ylims=[-1.6e6,1.6e6], \n",
    "    frame_style=:box, aspect_ratio=:equal, grid=0.4, \n",
    "    legend=false, \n",
    "    xlabel=L\"x, \\times10^6\\textrm{km}\", ylabel=L\"y, \\times10^6\\textrm{km}\",\n",
    "    colorbar_titlefontsize=fs,\n",
    "    fontsize=fs, xlabelfontsize=fs, ylabelfontsize=fs, xtickfontsize=fs-1, ytickfontsize=fs-1, legendfontsize=fs-1\n",
    ");\n",
    "\n",
    "# colors = [interpolatecolor(i, 1, nrow(df)) for i in 1:nrow(df)]\n",
    "tofs = [row.tof for row in eachrow(df)]\n",
    "tofs2 = [row.tof for row in eachrow(df2)]\n",
    "tof_max = maximum(tofs)\n",
    "tof_min = minimum(tofs)\n",
    "tof_max2 = maximum(tofs2)\n",
    "tof_min2 = minimum(tofs2)\n",
    "\n",
    "tof_max = maximum([tof_max, tof_max2])\n",
    "tof_min = minimum([tof_min, tof_min2])\n",
    "\n",
    "tof_min_days = tof_min * param3b.tstar / (24*60*60)\n",
    "tof_max_days = tof_max * param3b.tstar / (24*60*60)\n",
    "\n",
    "for (i, row) in enumerate( eachrow( df ) ) \n",
    "    \n",
    "#     if row.lfb > 0\n",
    "#         continue\n",
    "#     end\n",
    "    \n",
    "    color = interpolatecolor(cs, row.tof*param3b.tstar/(24*60*60), tof_min_days, tof_max_days)\n",
    "\n",
    "    tof = row.tof\n",
    "    rp = row.rp_kep\n",
    "    ra = row.ra_kep\n",
    "    α = row.alpha\n",
    "    m_rp = row.m_rp\n",
    "\n",
    "    θsf = row.thetasf\n",
    "    ϕ0  = row.phi0\n",
    "\n",
    "    x_lpo  = row.x_lpo\n",
    "    y_lpo  = row.y_lpo\n",
    "    z_lpo  = row.z_lpo\n",
    "    vx_lpo = row.xdot_lpo\n",
    "    vy_lpo = row.ydot_lpo\n",
    "    vz_lpo = row.zdot_lpo\n",
    "\n",
    "    svf = [x_lpo, y_lpo, z_lpo, vx_lpo, vy_lpo, vz_lpo, 1.0]\n",
    "    tspan = [0, -tof]\n",
    "    params = [\n",
    "        param3b.mu2, param3b.mus, param3b.as, pi - θsf, param3b.oml, param3b.omb, \n",
    "        1.0, 0.0, 0.0, \n",
    "        paramMulti.mdot, paramMulti.tmax, dir_func, param3b.tstar\n",
    "    ]\n",
    "    prob = ODEProblem(SailorMoon.rhs_bcr4bp_sb1frame2_thrust_bal!, svf, tspan, params)\n",
    "    sol = solve(prob, Tsit5(); reltol=1e-12, abstol=1e-12)\n",
    "    \n",
    "    plot!(pcart, (sol[1,:] .- param3b.as) .* param3b.lstar , sol[2,:].*param3b.lstar, c=color)\n",
    "end\n",
    "\n",
    "# dummy plot for color bar\n",
    "# plot!(pcart_, [0,0], [0,1], marker_z=[15, 1], c=:rainbow, clims = (tof_min_days, tof_max_days), \n",
    "#     seriestype=:scatter, cb=:none, colorbar_title=\"ToF [days]\")\n",
    "\n",
    "plot!(pcart, earth[1,:], earth[2,:], c=:green, lw=1.0, label=\"earth\")\n",
    "plot!(pcart, earth_ub[1,:], earth_ub[2,:], c=:black, lw=1.0, label=\"earth\")\n",
    "plot!(pcart, earth_lb[1,:], earth_lb[2,:], c=:black, lw=1.0, label=\"earth\")\n",
    "plot!(pcart, moon[1,:], moon[2,:], c=:orange, lw=1.0, label=\"moon\")\n",
    "plot!(pcart, moon_soi_outer[1,:], moon_soi_outer[2,:], c=:black, lw=1.0, label=\"moon_soi_outer\",\n",
    "    xaxis=(formatter=x->string(round(x / 10^6; digits=2))),\n",
    "    yaxis=(formatter=y->string(round(y / 10^6, digits=1))),\n",
    ")\n"
   ]
  },
  {
   "cell_type": "markdown",
   "metadata": {},
   "source": [
    "### focus on the area around the Earth "
   ]
  },
  {
   "cell_type": "code",
   "execution_count": null,
   "metadata": {},
   "outputs": [],
   "source": [
    "# plot!(pcart, xlims=[-0.03e6, 0.03e6], ylims=[-0.3e5,0.3e5])"
   ]
  },
  {
   "cell_type": "code",
   "execution_count": null,
   "metadata": {},
   "outputs": [],
   "source": []
  },
  {
   "cell_type": "code",
   "execution_count": null,
   "metadata": {},
   "outputs": [],
   "source": [
    "dir_func = SailorMoon.dv_no_thrust \n",
    "\n",
    "\n",
    "pcart_ = plot(\n",
    "    size=(700,500), \n",
    "#     xlims=[383, 395], ylims=[-5,5], \n",
    "    xlims=[-2e6, 2e6], ylims=[-1.75e6,1.75e6], \n",
    "    frame_style=:box, aspect_ratio=:equal, grid=0.4, \n",
    "    legend=false, \n",
    "    xlabel=L\"x, \\times10^6 \\textrm{km}\", ylabel=L\"y, \\times10^6 \\textrm{km}\",\n",
    "    colorbar_titlefontsize=fs,\n",
    "    fontsize=fs, xlabelfontsize=fs, ylabelfontsize=fs, xtickfontsize=fs-1, ytickfontsize=fs-1, legendfontsize=fs-1\n",
    ");\n",
    "\n",
    "for (i, row) in enumerate( eachrow( df2 ) ) \n",
    "    \n",
    "#     if row.lfb > 0\n",
    "#         continue\n",
    "#     end\n",
    "    \n",
    "    color = interpolatecolor(cs, row.tof*param3b.tstar/(24*60*60), tof_min_days, tof_max_days)\n",
    "\n",
    "    tof = row.tof\n",
    "    rp = row.rp_kep\n",
    "    ra = row.ra_kep\n",
    "    α = row.alpha\n",
    "    m_rp = row.m_rp\n",
    "\n",
    "    θsf = row.thetasf\n",
    "    ϕ0  = row.phi0\n",
    "\n",
    "    x_lpo  = row.x_lpo\n",
    "    y_lpo  = row.y_lpo\n",
    "    z_lpo  = row.z_lpo\n",
    "    vx_lpo = row.xdot_lpo\n",
    "    vy_lpo = row.ydot_lpo\n",
    "    vz_lpo = row.zdot_lpo\n",
    "\n",
    "    svf = [x_lpo, y_lpo, z_lpo, vx_lpo, vy_lpo, vz_lpo, 1.0]\n",
    "    tspan = [0, -tof]\n",
    "    params = [\n",
    "        param3b.mu2, param3b.mus, param3b.as, pi - θsf, param3b.oml, param3b.omb, \n",
    "        1.0, 0.0, 0.0, \n",
    "        paramMulti.mdot, paramMulti.tmax, dir_func, param3b.tstar\n",
    "    ]\n",
    "    prob = ODEProblem(SailorMoon.rhs_bcr4bp_sb1frame2_thrust_bal!, svf, tspan, params)\n",
    "    sol = solve(prob, Tsit5(); reltol=1e-12, abstol=1e-12)\n",
    "    \n",
    "    plot!(pcart_, (sol[1,:] .- param3b.as) .* param3b.lstar , sol[2,:].*param3b.lstar, c=color)\n",
    "end\n",
    "\n",
    "# dummy plot for color bar\n",
    "# plot!(pcart_, [0,0], [0,1], marker_z=[15, 1], c=:rainbow, clims = (tof_min_days, tof_max_days), \n",
    "#     seriestype=:scatter, cb=:none, colorbar_title=\"ToF [days]\")\n",
    "\n",
    "plot!(pcart_, earth[1,:], earth[2,:], c=:green, lw=1.0, label=\"earth\")\n",
    "plot!(pcart_, earth_ub[1,:], earth_ub[2,:], c=:black, lw=1.0, label=\"earth\")\n",
    "plot!(pcart_, earth_lb[1,:], earth_lb[2,:], c=:black, lw=1.0, label=\"earth\")\n",
    "plot!(pcart_, moon[1,:], moon[2,:], c=:orange, lw=1.0, label=\"moon\")\n",
    "plot!(pcart_, moon_soi_outer[1,:], moon_soi_outer[2,:], c=:black, lw=1.0, label=\"moon_soi_outer\",\n",
    "    xaxis=(formatter=x->string(round(x / 10^6; digits=2))),\n",
    "    yaxis=(formatter=y->string(round(y / 10^6, digits=1))),\n",
    ")"
   ]
  },
  {
   "cell_type": "code",
   "execution_count": null,
   "metadata": {},
   "outputs": [],
   "source": [
    "plot!(pcart, moon_soi_outer[1,:], moon_soi_outer[2,:], c=:black, lw=1.0, label=\"moon_soi_outer\",\n",
    "    xaxis=(formatter=x->string(round(x / 10^6; digits=2))),\n",
    "    yaxis=(formatter=y->string(round(y / 10^6, digits=1))),\n",
    ")\n",
    "\n",
    "# annotate!(pcart, [(-2e6, 1.75e6 * 1.05, Plots.text(L\"\\times10^{6}\", fs-1, :black, :center))])\n",
    "# annotate!(pcart, [(2e6*1.1, -1.75e6, Plots.text(L\"\\times10^{6}\", fs-1, :black, :center))])\n"
   ]
  },
  {
   "cell_type": "code",
   "execution_count": null,
   "metadata": {},
   "outputs": [],
   "source": [
    "l = @layout [a{0.45w} b{0.45w} c{0.02w}]\n",
    "\n",
    "p2 = heatmap(rand(2,2), clims=(tof_min_days, tof_max_days),\n",
    "    framestyle=:none, c=cs, cbar=true, lims=(-1,0), colorbar_title=\"ToF,days\",\n",
    "    colorbar_titlefontsize=fs,\n",
    "    fontsize=fs, xlabelfontsize=fs, ylabelfontsize=fs, xtickfontsize=fs-1, ytickfontsize=fs-1, legendfontsize=fs-1)\n",
    "\n",
    "plot(pcart_, pcart, p2, layout=l, size=(1000,350), \n",
    "#     top_margin=5Plots.mm,\n",
    "#     right_margin=5Plots.mm,\n",
    "#     left_margin=5Plots.mm, \n",
    "    bottom_margin=5Plots.mm, \n",
    "    title=[\"No thrust\" \"max JC thrust\" \"\"])\n",
    "\n",
    "# savefig(\"ig_traj_family.png\")\n",
    "\n",
    "\n"
   ]
  },
  {
   "cell_type": "code",
   "execution_count": null,
   "metadata": {},
   "outputs": [],
   "source": []
  },
  {
   "cell_type": "code",
   "execution_count": null,
   "metadata": {},
   "outputs": [],
   "source": []
  },
  {
   "cell_type": "code",
   "execution_count": null,
   "metadata": {},
   "outputs": [],
   "source": []
  },
  {
   "cell_type": "code",
   "execution_count": null,
   "metadata": {},
   "outputs": [],
   "source": []
  },
  {
   "cell_type": "code",
   "execution_count": null,
   "metadata": {},
   "outputs": [],
   "source": []
  },
  {
   "cell_type": "code",
   "execution_count": null,
   "metadata": {},
   "outputs": [],
   "source": []
  }
 ],
 "metadata": {
  "kernelspec": {
   "display_name": "Julia 1.8.5",
   "language": "julia",
   "name": "julia-1.8"
  },
  "language_info": {
   "file_extension": ".jl",
   "mimetype": "application/julia",
   "name": "julia",
   "version": "1.8.5"
  }
 },
 "nbformat": 4,
 "nbformat_minor": 2
}
