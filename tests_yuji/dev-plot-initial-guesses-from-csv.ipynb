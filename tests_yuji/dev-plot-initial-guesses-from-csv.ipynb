{
 "cells": [
  {
   "cell_type": "code",
   "execution_count": 9,
   "metadata": {},
   "outputs": [],
   "source": [
    "using DifferentialEquations\n",
    "using Plots\n",
    "using LinearAlgebra\n",
    "import ForwardDiff\n",
    "import DiffResults\n",
    "import AstrodynamicsBase\n",
    "using Printf\n",
    "using JSON\n",
    "using CSV\n",
    "using DataFrames\n",
    "using ColorSchemes\n",
    "using LaTeXStrings"
   ]
  },
  {
   "cell_type": "code",
   "execution_count": null,
   "metadata": {},
   "outputs": [],
   "source": []
  },
  {
   "cell_type": "code",
   "execution_count": 10,
   "metadata": {},
   "outputs": [
    {
     "name": "stderr",
     "output_type": "stream",
     "text": [
      "WARNING: replacing module SailorMoon.\n",
      "\u001b[33m\u001b[1m┌ \u001b[22m\u001b[39m\u001b[33m\u001b[1mWarning: \u001b[22m\u001b[39mReplacing docs for `Main.SailorMoon.integrate_rk4 :: Union{Tuple{ODEProblem, Real}, Tuple{ODEProblem, Real, Union{Nothing, Vector}}, Tuple{ODEProblem, Real, Union{Nothing, Vector}, Bool}, Tuple{ODEProblem, Real, Union{Nothing, Vector}, Bool, Bool}}` in module `Main.SailorMoon`\n",
      "\u001b[33m\u001b[1m└ \u001b[22m\u001b[39m\u001b[90m@ Base.Docs docs\\Docs.jl:240\u001b[39m\n"
     ]
    },
    {
     "data": {
      "text/plain": [
       "Plots.PlotlyBackend()"
      ]
     },
     "execution_count": 10,
     "metadata": {},
     "output_type": "execute_result"
    }
   ],
   "source": [
    "include(\"../src/SailorMoon.jl\")   # relative path to main file of module\n",
    "plotly()"
   ]
  },
  {
   "cell_type": "code",
   "execution_count": null,
   "metadata": {},
   "outputs": [],
   "source": []
  },
  {
   "cell_type": "code",
   "execution_count": 11,
   "metadata": {},
   "outputs": [
    {
     "data": {
      "text/plain": [
       "Main.SailorMoon.multishoot_params(0.005, 0.22997051088254342, 2.2997051088254343, 0.05869842280217777, 0.0024510521918983535, 5)"
      ]
     },
     "execution_count": 11,
     "metadata": {},
     "output_type": "execute_result"
    }
   ],
   "source": [
    "### PARAMETERS ###################################\n",
    "# csv file to load the initial solution\n",
    "filename  = \"../run/data/grid_search_Tsit5_0615_drpdtThrust.csv\"\n",
    "# filename  = \"data/grid_search_Tsit5_0614_velThrust.csv\"\n",
    "filename2 = \"../run/data/grid_search_Tsit5_0609_NoThrust.csv\"\n",
    "\n",
    "# 3body parameter\n",
    "param3b = SailorMoon.dynamics_parameters()\n",
    "paramMulti = SailorMoon.multi_shoot_parameters(param3b)\n",
    "\n",
    "##################################################\n"
   ]
  },
  {
   "cell_type": "code",
   "execution_count": 12,
   "metadata": {},
   "outputs": [
    {
     "data": {
      "text/plain": [
       "interpolatecolor (generic function with 1 method)"
      ]
     },
     "execution_count": 12,
     "metadata": {},
     "output_type": "execute_result"
    }
   ],
   "source": [
    "function plot_circle(radius, x, y, n=100)\n",
    "    circle = zeros(2,n)\n",
    "    thetas = LinRange(0.0, 2π, n)\n",
    "    for i = 1:n\n",
    "        circle[1,i] = radius*cos(thetas[i]) + x\n",
    "        circle[2,i] = radius*sin(thetas[i]) + y\n",
    "    end\n",
    "    return circle\n",
    "end\n",
    "\n",
    "\n",
    "function interpolatecolor(cs, value, vmin, vmax)\n",
    "    cs = cgrad(cs)\n",
    "    color = cs[(value - vmin) / (vmax - vmin)]\n",
    "    return color\n",
    "end"
   ]
  },
  {
   "cell_type": "code",
   "execution_count": 13,
   "metadata": {},
   "outputs": [],
   "source": [
    "moon     = plot_circle((1-param3b.mu2)*param3b.lstar, 0.0, 0.0)\n",
    "earth    = plot_circle(param3b.mu2*param3b.lstar, 0.0, 0.0)\n",
    "earth_ub = plot_circle(param3b.mu2*param3b.lstar+6375,0.0, 0.0)\n",
    "earth_lb = plot_circle(param3b.mu2*param3b.lstar-6375, 0.0, 0.0)\n",
    "moon_soi_outer = plot_circle((1-param3b.mu2)*param3b.lstar+66000, 0.0, 0.0);"
   ]
  },
  {
   "cell_type": "code",
   "execution_count": 14,
   "metadata": {},
   "outputs": [
    {
     "data": {
      "text/plain": [
       ":viridis"
      ]
     },
     "execution_count": 14,
     "metadata": {},
     "output_type": "execute_result"
    }
   ],
   "source": [
    "fs = 12;   # omajinai for the plotting\n",
    "cs = :viridis "
   ]
  },
  {
   "cell_type": "code",
   "execution_count": 15,
   "metadata": {},
   "outputs": [
    {
     "data": {
      "text/plain": [
       "116.7237424331068"
      ]
     },
     "execution_count": 15,
     "metadata": {},
     "output_type": "execute_result"
    }
   ],
   "source": [
    "dir_func = SailorMoon.dv_max_drpdt_dir_sb1frame\n",
    "τ_ig = 1.0\n",
    "\n",
    "if dir_func == SailorMoon.dv_no_thrust\n",
    "    τ_ig = 0.0\n",
    "else \n",
    "    τ_ig = 1.0\n",
    "end\n",
    "\n",
    "# load initial guess\n",
    "df = DataFrame(CSV.File(filename));\n",
    "df2 = DataFrame(CSV.File(filename2));\n",
    "\n",
    "tofs = [row.tof for row in eachrow(df)]\n",
    "tofs2 = [row.tof for row in eachrow(df2)]\n",
    "tof_max = maximum(tofs)\n",
    "tof_min = minimum(tofs)\n",
    "tof_max2 = maximum(tofs2)\n",
    "tof_min2 = minimum(tofs2)\n",
    "\n",
    "tof_max = maximum([tof_max, tof_max2])\n",
    "tof_min = minimum([tof_min, tof_min2])\n",
    "\n",
    "tof_min_days = tof_min * param3b.tstar / (24*60*60)\n",
    "tof_max_days = tof_max * param3b.tstar / (24*60*60)\n"
   ]
  },
  {
   "cell_type": "code",
   "execution_count": 16,
   "metadata": {},
   "outputs": [
    {
     "ename": "LoadError",
     "evalue": "UndefVarError: cart2kep not defined",
     "output_type": "error",
     "traceback": [
      "UndefVarError: cart2kep not defined",
      "",
      "Stacktrace:",
      "  [1] dv_max_drpdt_dir_sb1frame(μS::Float64, as::Float64, θ::Float64, ωm::Float64, state0::Vector{Float64}, p::Vector{Float64})",
      "    @ Main.SailorMoon C:\\Users\\yujit\\github\\SailorMoon.jl\\src\\deltaV_transcription.jl:238",
      "  [2] rhs_bcr4bp_sb1frame2_thrust_bal!(du::Vector{Float64}, u::Vector{Float64}, p::Vector{Any}, t::Float64)",
      "    @ Main.SailorMoon C:\\Users\\yujit\\github\\SailorMoon.jl\\src\\dynamics.jl:428",
      "  [3] Void",
      "    @ C:\\Users\\yujit\\.julia\\packages\\SciMLBase\\o0qGB\\src\\utils.jl:468 [inlined]",
      "  [4] (::FunctionWrappers.CallWrapper{Nothing})(f::SciMLBase.Void{typeof(Main.SailorMoon.rhs_bcr4bp_sb1frame2_thrust_bal!)}, arg1::Vector{Float64}, arg2::Vector{Float64}, arg3::Vector{Any}, arg4::Float64)",
      "    @ FunctionWrappers C:\\Users\\yujit\\.julia\\packages\\FunctionWrappers\\Q5cBx\\src\\FunctionWrappers.jl:65",
      "  [5] macro expansion",
      "    @ C:\\Users\\yujit\\.julia\\packages\\FunctionWrappers\\Q5cBx\\src\\FunctionWrappers.jl:137 [inlined]",
      "  [6] do_ccall",
      "    @ C:\\Users\\yujit\\.julia\\packages\\FunctionWrappers\\Q5cBx\\src\\FunctionWrappers.jl:125 [inlined]",
      "  [7] FunctionWrapper",
      "    @ C:\\Users\\yujit\\.julia\\packages\\FunctionWrappers\\Q5cBx\\src\\FunctionWrappers.jl:144 [inlined]",
      "  [8] _call",
      "    @ C:\\Users\\yujit\\.julia\\packages\\FunctionWrappersWrappers\\9XR0m\\src\\FunctionWrappersWrappers.jl:12 [inlined]",
      "  [9] FunctionWrappersWrapper",
      "    @ C:\\Users\\yujit\\.julia\\packages\\FunctionWrappersWrappers\\9XR0m\\src\\FunctionWrappersWrappers.jl:10 [inlined]",
      " [10] ODEFunction",
      "    @ C:\\Users\\yujit\\.julia\\packages\\SciMLBase\\o0qGB\\src\\scimlfunctions.jl:2126 [inlined]",
      " [11] perform_step!(integrator::OrdinaryDiffEq.ODEIntegrator{Tsit5{typeof(OrdinaryDiffEq.trivial_limiter!), typeof(OrdinaryDiffEq.trivial_limiter!), Static.False}, true, Vector{Float64}, Nothing, Float64, Vector{Any}, Float64, Float64, Float64, Float64, Vector{Vector{Float64}}, ODESolution{Float64, 2, Vector{Vector{Float64}}, Nothing, Nothing, Vector{Float64}, Vector{Vector{Vector{Float64}}}, ODEProblem{Vector{Float64}, Tuple{Float64, Float64}, true, Vector{Any}, ODEFunction{true, SciMLBase.AutoSpecialize, FunctionWrappersWrappers.FunctionWrappersWrapper{Tuple{FunctionWrappers.FunctionWrapper{Nothing, Tuple{Vector{Float64}, Vector{Float64}, Vector{Any}, Float64}}, FunctionWrappers.FunctionWrapper{Nothing, Tuple{Vector{ForwardDiff.Dual{ForwardDiff.Tag{DiffEqBase.OrdinaryDiffEqTag, Float64}, Float64, 1}}, Vector{ForwardDiff.Dual{ForwardDiff.Tag{DiffEqBase.OrdinaryDiffEqTag, Float64}, Float64, 1}}, Vector{Any}, Float64}}, FunctionWrappers.FunctionWrapper{Nothing, Tuple{Vector{ForwardDiff.Dual{ForwardDiff.Tag{DiffEqBase.OrdinaryDiffEqTag, Float64}, Float64, 1}}, Vector{Float64}, Vector{Any}, ForwardDiff.Dual{ForwardDiff.Tag{DiffEqBase.OrdinaryDiffEqTag, Float64}, Float64, 1}}}, FunctionWrappers.FunctionWrapper{Nothing, Tuple{Vector{ForwardDiff.Dual{ForwardDiff.Tag{DiffEqBase.OrdinaryDiffEqTag, Float64}, Float64, 1}}, Vector{ForwardDiff.Dual{ForwardDiff.Tag{DiffEqBase.OrdinaryDiffEqTag, Float64}, Float64, 1}}, Vector{Any}, ForwardDiff.Dual{ForwardDiff.Tag{DiffEqBase.OrdinaryDiffEqTag, Float64}, Float64, 1}}}}, false}, UniformScaling{Bool}, Nothing, Nothing, Nothing, Nothing, Nothing, Nothing, Nothing, Nothing, Nothing, Nothing, Nothing, Nothing, Nothing, typeof(SciMLBase.DEFAULT_OBSERVED), Nothing, Nothing}, Base.Pairs{Symbol, Union{}, Tuple{}, NamedTuple{(), Tuple{}}}, SciMLBase.StandardODEProblem}, Tsit5{typeof(OrdinaryDiffEq.trivial_limiter!), typeof(OrdinaryDiffEq.trivial_limiter!), Static.False}, OrdinaryDiffEq.InterpolationData{ODEFunction{true, SciMLBase.AutoSpecialize, FunctionWrappersWrappers.FunctionWrappersWrapper{Tuple{FunctionWrappers.FunctionWrapper{Nothing, Tuple{Vector{Float64}, Vector{Float64}, Vector{Any}, Float64}}, FunctionWrappers.FunctionWrapper{Nothing, Tuple{Vector{ForwardDiff.Dual{ForwardDiff.Tag{DiffEqBase.OrdinaryDiffEqTag, Float64}, Float64, 1}}, Vector{ForwardDiff.Dual{ForwardDiff.Tag{DiffEqBase.OrdinaryDiffEqTag, Float64}, Float64, 1}}, Vector{Any}, Float64}}, FunctionWrappers.FunctionWrapper{Nothing, Tuple{Vector{ForwardDiff.Dual{ForwardDiff.Tag{DiffEqBase.OrdinaryDiffEqTag, Float64}, Float64, 1}}, Vector{Float64}, Vector{Any}, ForwardDiff.Dual{ForwardDiff.Tag{DiffEqBase.OrdinaryDiffEqTag, Float64}, Float64, 1}}}, FunctionWrappers.FunctionWrapper{Nothing, Tuple{Vector{ForwardDiff.Dual{ForwardDiff.Tag{DiffEqBase.OrdinaryDiffEqTag, Float64}, Float64, 1}}, Vector{ForwardDiff.Dual{ForwardDiff.Tag{DiffEqBase.OrdinaryDiffEqTag, Float64}, Float64, 1}}, Vector{Any}, ForwardDiff.Dual{ForwardDiff.Tag{DiffEqBase.OrdinaryDiffEqTag, Float64}, Float64, 1}}}}, false}, UniformScaling{Bool}, Nothing, Nothing, Nothing, Nothing, Nothing, Nothing, Nothing, Nothing, Nothing, Nothing, Nothing, Nothing, Nothing, typeof(SciMLBase.DEFAULT_OBSERVED), Nothing, Nothing}, Vector{Vector{Float64}}, Vector{Float64}, Vector{Vector{Vector{Float64}}}, OrdinaryDiffEq.Tsit5Cache{Vector{Float64}, Vector{Float64}, Vector{Float64}, typeof(OrdinaryDiffEq.trivial_limiter!), typeof(OrdinaryDiffEq.trivial_limiter!), Static.False}}, DiffEqBase.Stats, Nothing}, ODEFunction{true, SciMLBase.AutoSpecialize, FunctionWrappersWrappers.FunctionWrappersWrapper{Tuple{FunctionWrappers.FunctionWrapper{Nothing, Tuple{Vector{Float64}, Vector{Float64}, Vector{Any}, Float64}}, FunctionWrappers.FunctionWrapper{Nothing, Tuple{Vector{ForwardDiff.Dual{ForwardDiff.Tag{DiffEqBase.OrdinaryDiffEqTag, Float64}, Float64, 1}}, Vector{ForwardDiff.Dual{ForwardDiff.Tag{DiffEqBase.OrdinaryDiffEqTag, Float64}, Float64, 1}}, Vector{Any}, Float64}}, FunctionWrappers.FunctionWrapper{Nothing, Tuple{Vector{ForwardDiff.Dual{ForwardDiff.Tag{DiffEqBase.OrdinaryDiffEqTag, Float64}, Float64, 1}}, Vector{Float64}, Vector{Any}, ForwardDiff.Dual{ForwardDiff.Tag{DiffEqBase.OrdinaryDiffEqTag, Float64}, Float64, 1}}}, FunctionWrappers.FunctionWrapper{Nothing, Tuple{Vector{ForwardDiff.Dual{ForwardDiff.Tag{DiffEqBase.OrdinaryDiffEqTag, Float64}, Float64, 1}}, Vector{ForwardDiff.Dual{ForwardDiff.Tag{DiffEqBase.OrdinaryDiffEqTag, Float64}, Float64, 1}}, Vector{Any}, ForwardDiff.Dual{ForwardDiff.Tag{DiffEqBase.OrdinaryDiffEqTag, Float64}, Float64, 1}}}}, false}, UniformScaling{Bool}, Nothing, Nothing, Nothing, Nothing, Nothing, Nothing, Nothing, Nothing, Nothing, Nothing, Nothing, Nothing, Nothing, typeof(SciMLBase.DEFAULT_OBSERVED), Nothing, Nothing}, OrdinaryDiffEq.Tsit5Cache{Vector{Float64}, Vector{Float64}, Vector{Float64}, typeof(OrdinaryDiffEq.trivial_limiter!), typeof(OrdinaryDiffEq.trivial_limiter!), Static.False}, OrdinaryDiffEq.DEOptions{Float64, Float64, Float64, Float64, PIController{Rational{Int64}}, typeof(DiffEqBase.ODE_DEFAULT_NORM), typeof(opnorm), Nothing, CallbackSet{Tuple{}, Tuple{}}, typeof(DiffEqBase.ODE_DEFAULT_ISOUTOFDOMAIN), typeof(DiffEqBase.ODE_DEFAULT_PROG_MESSAGE), typeof(DiffEqBase.ODE_DEFAULT_UNSTABLE_CHECK), DataStructures.BinaryHeap{Float64, DataStructures.FasterForward}, DataStructures.BinaryHeap{Float64, DataStructures.FasterForward}, Nothing, Nothing, Int64, Tuple{}, Tuple{}, Tuple{}}, Vector{Float64}, Float64, Nothing, OrdinaryDiffEq.DefaultInit}, cache::OrdinaryDiffEq.Tsit5Cache{Vector{Float64}, Vector{Float64}, Vector{Float64}, typeof(OrdinaryDiffEq.trivial_limiter!), typeof(OrdinaryDiffEq.trivial_limiter!), Static.False}, repeat_step::Bool)",
      "    @ OrdinaryDiffEq C:\\Users\\yujit\\.julia\\packages\\OrdinaryDiffEq\\YiFDF\\src\\perform_step\\low_order_rk_perform_step.jl:785",
      " [12] perform_step!",
      "    @ C:\\Users\\yujit\\.julia\\packages\\OrdinaryDiffEq\\YiFDF\\src\\perform_step\\low_order_rk_perform_step.jl:771 [inlined]",
      " [13] solve!(integrator::OrdinaryDiffEq.ODEIntegrator{Tsit5{typeof(OrdinaryDiffEq.trivial_limiter!), typeof(OrdinaryDiffEq.trivial_limiter!), Static.False}, true, Vector{Float64}, Nothing, Float64, Vector{Any}, Float64, Float64, Float64, Float64, Vector{Vector{Float64}}, ODESolution{Float64, 2, Vector{Vector{Float64}}, Nothing, Nothing, Vector{Float64}, Vector{Vector{Vector{Float64}}}, ODEProblem{Vector{Float64}, Tuple{Float64, Float64}, true, Vector{Any}, ODEFunction{true, SciMLBase.AutoSpecialize, FunctionWrappersWrappers.FunctionWrappersWrapper{Tuple{FunctionWrappers.FunctionWrapper{Nothing, Tuple{Vector{Float64}, Vector{Float64}, Vector{Any}, Float64}}, FunctionWrappers.FunctionWrapper{Nothing, Tuple{Vector{ForwardDiff.Dual{ForwardDiff.Tag{DiffEqBase.OrdinaryDiffEqTag, Float64}, Float64, 1}}, Vector{ForwardDiff.Dual{ForwardDiff.Tag{DiffEqBase.OrdinaryDiffEqTag, Float64}, Float64, 1}}, Vector{Any}, Float64}}, FunctionWrappers.FunctionWrapper{Nothing, Tuple{Vector{ForwardDiff.Dual{ForwardDiff.Tag{DiffEqBase.OrdinaryDiffEqTag, Float64}, Float64, 1}}, Vector{Float64}, Vector{Any}, ForwardDiff.Dual{ForwardDiff.Tag{DiffEqBase.OrdinaryDiffEqTag, Float64}, Float64, 1}}}, FunctionWrappers.FunctionWrapper{Nothing, Tuple{Vector{ForwardDiff.Dual{ForwardDiff.Tag{DiffEqBase.OrdinaryDiffEqTag, Float64}, Float64, 1}}, Vector{ForwardDiff.Dual{ForwardDiff.Tag{DiffEqBase.OrdinaryDiffEqTag, Float64}, Float64, 1}}, Vector{Any}, ForwardDiff.Dual{ForwardDiff.Tag{DiffEqBase.OrdinaryDiffEqTag, Float64}, Float64, 1}}}}, false}, UniformScaling{Bool}, Nothing, Nothing, Nothing, Nothing, Nothing, Nothing, Nothing, Nothing, Nothing, Nothing, Nothing, Nothing, Nothing, typeof(SciMLBase.DEFAULT_OBSERVED), Nothing, Nothing}, Base.Pairs{Symbol, Union{}, Tuple{}, NamedTuple{(), Tuple{}}}, SciMLBase.StandardODEProblem}, Tsit5{typeof(OrdinaryDiffEq.trivial_limiter!), typeof(OrdinaryDiffEq.trivial_limiter!), Static.False}, OrdinaryDiffEq.InterpolationData{ODEFunction{true, SciMLBase.AutoSpecialize, FunctionWrappersWrappers.FunctionWrappersWrapper{Tuple{FunctionWrappers.FunctionWrapper{Nothing, Tuple{Vector{Float64}, Vector{Float64}, Vector{Any}, Float64}}, FunctionWrappers.FunctionWrapper{Nothing, Tuple{Vector{ForwardDiff.Dual{ForwardDiff.Tag{DiffEqBase.OrdinaryDiffEqTag, Float64}, Float64, 1}}, Vector{ForwardDiff.Dual{ForwardDiff.Tag{DiffEqBase.OrdinaryDiffEqTag, Float64}, Float64, 1}}, Vector{Any}, Float64}}, FunctionWrappers.FunctionWrapper{Nothing, Tuple{Vector{ForwardDiff.Dual{ForwardDiff.Tag{DiffEqBase.OrdinaryDiffEqTag, Float64}, Float64, 1}}, Vector{Float64}, Vector{Any}, ForwardDiff.Dual{ForwardDiff.Tag{DiffEqBase.OrdinaryDiffEqTag, Float64}, Float64, 1}}}, FunctionWrappers.FunctionWrapper{Nothing, Tuple{Vector{ForwardDiff.Dual{ForwardDiff.Tag{DiffEqBase.OrdinaryDiffEqTag, Float64}, Float64, 1}}, Vector{ForwardDiff.Dual{ForwardDiff.Tag{DiffEqBase.OrdinaryDiffEqTag, Float64}, Float64, 1}}, Vector{Any}, ForwardDiff.Dual{ForwardDiff.Tag{DiffEqBase.OrdinaryDiffEqTag, Float64}, Float64, 1}}}}, false}, UniformScaling{Bool}, Nothing, Nothing, Nothing, Nothing, Nothing, Nothing, Nothing, Nothing, Nothing, Nothing, Nothing, Nothing, Nothing, typeof(SciMLBase.DEFAULT_OBSERVED), Nothing, Nothing}, Vector{Vector{Float64}}, Vector{Float64}, Vector{Vector{Vector{Float64}}}, OrdinaryDiffEq.Tsit5Cache{Vector{Float64}, Vector{Float64}, Vector{Float64}, typeof(OrdinaryDiffEq.trivial_limiter!), typeof(OrdinaryDiffEq.trivial_limiter!), Static.False}}, DiffEqBase.Stats, Nothing}, ODEFunction{true, SciMLBase.AutoSpecialize, FunctionWrappersWrappers.FunctionWrappersWrapper{Tuple{FunctionWrappers.FunctionWrapper{Nothing, Tuple{Vector{Float64}, Vector{Float64}, Vector{Any}, Float64}}, FunctionWrappers.FunctionWrapper{Nothing, Tuple{Vector{ForwardDiff.Dual{ForwardDiff.Tag{DiffEqBase.OrdinaryDiffEqTag, Float64}, Float64, 1}}, Vector{ForwardDiff.Dual{ForwardDiff.Tag{DiffEqBase.OrdinaryDiffEqTag, Float64}, Float64, 1}}, Vector{Any}, Float64}}, FunctionWrappers.FunctionWrapper{Nothing, Tuple{Vector{ForwardDiff.Dual{ForwardDiff.Tag{DiffEqBase.OrdinaryDiffEqTag, Float64}, Float64, 1}}, Vector{Float64}, Vector{Any}, ForwardDiff.Dual{ForwardDiff.Tag{DiffEqBase.OrdinaryDiffEqTag, Float64}, Float64, 1}}}, FunctionWrappers.FunctionWrapper{Nothing, Tuple{Vector{ForwardDiff.Dual{ForwardDiff.Tag{DiffEqBase.OrdinaryDiffEqTag, Float64}, Float64, 1}}, Vector{ForwardDiff.Dual{ForwardDiff.Tag{DiffEqBase.OrdinaryDiffEqTag, Float64}, Float64, 1}}, Vector{Any}, ForwardDiff.Dual{ForwardDiff.Tag{DiffEqBase.OrdinaryDiffEqTag, Float64}, Float64, 1}}}}, false}, UniformScaling{Bool}, Nothing, Nothing, Nothing, Nothing, Nothing, Nothing, Nothing, Nothing, Nothing, Nothing, Nothing, Nothing, Nothing, typeof(SciMLBase.DEFAULT_OBSERVED), Nothing, Nothing}, OrdinaryDiffEq.Tsit5Cache{Vector{Float64}, Vector{Float64}, Vector{Float64}, typeof(OrdinaryDiffEq.trivial_limiter!), typeof(OrdinaryDiffEq.trivial_limiter!), Static.False}, OrdinaryDiffEq.DEOptions{Float64, Float64, Float64, Float64, PIController{Rational{Int64}}, typeof(DiffEqBase.ODE_DEFAULT_NORM), typeof(opnorm), Nothing, CallbackSet{Tuple{}, Tuple{}}, typeof(DiffEqBase.ODE_DEFAULT_ISOUTOFDOMAIN), typeof(DiffEqBase.ODE_DEFAULT_PROG_MESSAGE), typeof(DiffEqBase.ODE_DEFAULT_UNSTABLE_CHECK), DataStructures.BinaryHeap{Float64, DataStructures.FasterForward}, DataStructures.BinaryHeap{Float64, DataStructures.FasterForward}, Nothing, Nothing, Int64, Tuple{}, Tuple{}, Tuple{}}, Vector{Float64}, Float64, Nothing, OrdinaryDiffEq.DefaultInit})",
      "    @ OrdinaryDiffEq C:\\Users\\yujit\\.julia\\packages\\OrdinaryDiffEq\\YiFDF\\src\\solve.jl:520",
      " [14] #__solve#627",
      "    @ C:\\Users\\yujit\\.julia\\packages\\OrdinaryDiffEq\\YiFDF\\src\\solve.jl:6 [inlined]",
      " [15] #solve_call#22",
      "    @ C:\\Users\\yujit\\.julia\\packages\\DiffEqBase\\qPmC2\\src\\solve.jl:509 [inlined]",
      " [16] solve_up(prob::ODEProblem{Vector{Float64}, Tuple{Float64, Float64}, true, Vector{Any}, ODEFunction{true, SciMLBase.AutoSpecialize, typeof(Main.SailorMoon.rhs_bcr4bp_sb1frame2_thrust_bal!), UniformScaling{Bool}, Nothing, Nothing, Nothing, Nothing, Nothing, Nothing, Nothing, Nothing, Nothing, Nothing, Nothing, Nothing, Nothing, typeof(SciMLBase.DEFAULT_OBSERVED), Nothing, Nothing}, Base.Pairs{Symbol, Union{}, Tuple{}, NamedTuple{(), Tuple{}}}, SciMLBase.StandardODEProblem}, sensealg::Nothing, u0::Vector{Float64}, p::Vector{Any}, args::Tsit5{typeof(OrdinaryDiffEq.trivial_limiter!), typeof(OrdinaryDiffEq.trivial_limiter!), Static.False}; kwargs::Base.Pairs{Symbol, Float64, Tuple{Symbol, Symbol}, NamedTuple{(:reltol, :abstol), Tuple{Float64, Float64}}})",
      "    @ DiffEqBase C:\\Users\\yujit\\.julia\\packages\\DiffEqBase\\qPmC2\\src\\solve.jl:932",
      " [17] solve(prob::ODEProblem{Vector{Float64}, Tuple{Float64, Float64}, true, Vector{Any}, ODEFunction{true, SciMLBase.AutoSpecialize, typeof(Main.SailorMoon.rhs_bcr4bp_sb1frame2_thrust_bal!), UniformScaling{Bool}, Nothing, Nothing, Nothing, Nothing, Nothing, Nothing, Nothing, Nothing, Nothing, Nothing, Nothing, Nothing, Nothing, typeof(SciMLBase.DEFAULT_OBSERVED), Nothing, Nothing}, Base.Pairs{Symbol, Union{}, Tuple{}, NamedTuple{(), Tuple{}}}, SciMLBase.StandardODEProblem}, args::Tsit5{typeof(OrdinaryDiffEq.trivial_limiter!), typeof(OrdinaryDiffEq.trivial_limiter!), Static.False}; sensealg::Nothing, u0::Nothing, p::Nothing, wrap::Val{true}, kwargs::Base.Pairs{Symbol, Float64, Tuple{Symbol, Symbol}, NamedTuple{(:reltol, :abstol), Tuple{Float64, Float64}}})",
      "    @ DiffEqBase C:\\Users\\yujit\\.julia\\packages\\DiffEqBase\\qPmC2\\src\\solve.jl:842",
      " [18] top-level scope",
      "    @ .\\In[16]:58"
     ]
    }
   ],
   "source": [
    "pcart = plot(\n",
    "    size=(700,500), \n",
    "#     xlims=[383, 395], ylims=[-5,5], \n",
    "    xlims=[-1.6e6, 1.6e6], ylims=[-1.6e6,1.6e6], \n",
    "    frame_style=:box, aspect_ratio=:equal, grid=0.4, \n",
    "    legend=false, \n",
    "    xlabel=L\"x, \\times10^6\\textrm{km}\", ylabel=L\"y, \\times10^6\\textrm{km}\",\n",
    "    colorbar_titlefontsize=fs,\n",
    "    fontsize=fs, xlabelfontsize=fs, ylabelfontsize=fs, xtickfontsize=fs-1, ytickfontsize=fs-1, legendfontsize=fs-1\n",
    ");\n",
    "\n",
    "# colors = [interpolatecolor(i, 1, nrow(df)) for i in 1:nrow(df)]\n",
    "tofs = [row.tof for row in eachrow(df)]\n",
    "tofs2 = [row.tof for row in eachrow(df2)]\n",
    "tof_max = maximum(tofs)\n",
    "tof_min = minimum(tofs)\n",
    "tof_max2 = maximum(tofs2)\n",
    "tof_min2 = minimum(tofs2)\n",
    "\n",
    "tof_max = maximum([tof_max, tof_max2])\n",
    "tof_min = minimum([tof_min, tof_min2])\n",
    "\n",
    "tof_min_days = tof_min * param3b.tstar / (24*60*60)\n",
    "tof_max_days = tof_max * param3b.tstar / (24*60*60)\n",
    "\n",
    "for (i, row) in enumerate( eachrow( df ) ) \n",
    "    \n",
    "#     if row.lfb > 0\n",
    "#         continue\n",
    "#     end\n",
    "    \n",
    "    color = interpolatecolor(cs, row.tof*param3b.tstar/(24*60*60), tof_min_days, tof_max_days)\n",
    "\n",
    "    tof = row.tof\n",
    "    rp = row.rp_kep\n",
    "    ra = row.ra_kep\n",
    "    α = row.alpha\n",
    "    m_rp = row.m_rp\n",
    "\n",
    "    θsf = row.thetasf\n",
    "    ϕ0  = row.phi0\n",
    "\n",
    "    x_lpo  = row.x_lpo\n",
    "    y_lpo  = row.y_lpo\n",
    "    z_lpo  = row.z_lpo\n",
    "    vx_lpo = row.xdot_lpo\n",
    "    vy_lpo = row.ydot_lpo\n",
    "    vz_lpo = row.zdot_lpo\n",
    "\n",
    "    svf = [x_lpo, y_lpo, z_lpo, vx_lpo, vy_lpo, vz_lpo, 1.0]\n",
    "    tspan = [0, -tof]\n",
    "    params = [\n",
    "        param3b.mu2, param3b.mus, param3b.as, pi - θsf, param3b.oml, param3b.omb, \n",
    "        1.0, 0.0, 0.0, \n",
    "        paramMulti.mdot, paramMulti.tmax, dir_func, param3b.tstar\n",
    "    ]\n",
    "    prob = ODEProblem(SailorMoon.rhs_bcr4bp_sb1frame2_thrust_bal!, svf, tspan, params)\n",
    "    sol = solve(prob, Tsit5(); reltol=1e-12, abstol=1e-12)\n",
    "    \n",
    "    plot!(pcart, (sol[1,:] .- param3b.as) .* param3b.lstar , sol[2,:].*param3b.lstar, c=color)\n",
    "end\n",
    "\n",
    "# dummy plot for color bar\n",
    "# plot!(pcart_, [0,0], [0,1], marker_z=[15, 1], c=:rainbow, clims = (tof_min_days, tof_max_days), \n",
    "#     seriestype=:scatter, cb=:none, colorbar_title=\"ToF [days]\")\n",
    "\n",
    "plot!(pcart, earth[1,:], earth[2,:], c=:green, lw=1.0, label=\"earth\")\n",
    "plot!(pcart, earth_ub[1,:], earth_ub[2,:], c=:black, lw=1.0, label=\"earth\")\n",
    "plot!(pcart, earth_lb[1,:], earth_lb[2,:], c=:black, lw=1.0, label=\"earth\")\n",
    "plot!(pcart, moon[1,:], moon[2,:], c=:orange, lw=1.0, label=\"moon\")\n",
    "plot!(pcart, moon_soi_outer[1,:], moon_soi_outer[2,:], c=:black, lw=1.0, label=\"moon_soi_outer\",\n",
    "    xaxis=(formatter=x->string(round(x / 10^6; digits=2))),\n",
    "    yaxis=(formatter=y->string(round(y / 10^6, digits=1))),\n",
    ")\n"
   ]
  },
  {
   "cell_type": "markdown",
   "metadata": {},
   "source": [
    "### focus on the area around the Earth "
   ]
  },
  {
   "cell_type": "code",
   "execution_count": null,
   "metadata": {},
   "outputs": [],
   "source": [
    "# plot!(pcart, xlims=[-0.03e6, 0.03e6], ylims=[-0.3e5,0.3e5])"
   ]
  },
  {
   "cell_type": "code",
   "execution_count": null,
   "metadata": {},
   "outputs": [],
   "source": []
  },
  {
   "cell_type": "code",
   "execution_count": null,
   "metadata": {},
   "outputs": [],
   "source": [
    "dir_func = SailorMoon.dv_no_thrust \n",
    "\n",
    "\n",
    "pcart_ = plot(\n",
    "    size=(700,500), \n",
    "#     xlims=[383, 395], ylims=[-5,5], \n",
    "    xlims=[-2e6, 2e6], ylims=[-1.75e6,1.75e6], \n",
    "    frame_style=:box, aspect_ratio=:equal, grid=0.4, \n",
    "    legend=false, \n",
    "    xlabel=L\"x, \\times10^6 \\textrm{km}\", ylabel=L\"y, \\times10^6 \\textrm{km}\",\n",
    "    colorbar_titlefontsize=fs,\n",
    "    fontsize=fs, xlabelfontsize=fs, ylabelfontsize=fs, xtickfontsize=fs-1, ytickfontsize=fs-1, legendfontsize=fs-1\n",
    ");\n",
    "\n",
    "for (i, row) in enumerate( eachrow( df2 ) ) \n",
    "    \n",
    "#     if row.lfb > 0\n",
    "#         continue\n",
    "#     end\n",
    "    \n",
    "    color = interpolatecolor(cs, row.tof*param3b.tstar/(24*60*60), tof_min_days, tof_max_days)\n",
    "\n",
    "    tof = row.tof\n",
    "    rp = row.rp_kep\n",
    "    ra = row.ra_kep\n",
    "    α = row.alpha\n",
    "    m_rp = row.m_rp\n",
    "\n",
    "    θsf = row.thetasf\n",
    "    ϕ0  = row.phi0\n",
    "\n",
    "    x_lpo  = row.x_lpo\n",
    "    y_lpo  = row.y_lpo\n",
    "    z_lpo  = row.z_lpo\n",
    "    vx_lpo = row.xdot_lpo\n",
    "    vy_lpo = row.ydot_lpo\n",
    "    vz_lpo = row.zdot_lpo\n",
    "\n",
    "    svf = [x_lpo, y_lpo, z_lpo, vx_lpo, vy_lpo, vz_lpo, 1.0]\n",
    "    tspan = [0, -tof]\n",
    "    params = [\n",
    "        param3b.mu2, param3b.mus, param3b.as, pi - θsf, param3b.oml, param3b.omb, \n",
    "        1.0, 0.0, 0.0, \n",
    "        paramMulti.mdot, paramMulti.tmax, dir_func, param3b.tstar\n",
    "    ]\n",
    "    prob = ODEProblem(SailorMoon.rhs_bcr4bp_sb1frame2_thrust_bal!, svf, tspan, params)\n",
    "    sol = solve(prob, Tsit5(); reltol=1e-12, abstol=1e-12)\n",
    "    \n",
    "    plot!(pcart_, (sol[1,:] .- param3b.as) .* param3b.lstar , sol[2,:].*param3b.lstar, c=color)\n",
    "end\n",
    "\n",
    "# dummy plot for color bar\n",
    "# plot!(pcart_, [0,0], [0,1], marker_z=[15, 1], c=:rainbow, clims = (tof_min_days, tof_max_days), \n",
    "#     seriestype=:scatter, cb=:none, colorbar_title=\"ToF [days]\")\n",
    "\n",
    "plot!(pcart_, earth[1,:], earth[2,:], c=:green, lw=1.0, label=\"earth\")\n",
    "plot!(pcart_, earth_ub[1,:], earth_ub[2,:], c=:black, lw=1.0, label=\"earth\")\n",
    "plot!(pcart_, earth_lb[1,:], earth_lb[2,:], c=:black, lw=1.0, label=\"earth\")\n",
    "plot!(pcart_, moon[1,:], moon[2,:], c=:orange, lw=1.0, label=\"moon\")\n",
    "plot!(pcart_, moon_soi_outer[1,:], moon_soi_outer[2,:], c=:black, lw=1.0, label=\"moon_soi_outer\",\n",
    "    xaxis=(formatter=x->string(round(x / 10^6; digits=2))),\n",
    "    yaxis=(formatter=y->string(round(y / 10^6, digits=1))),\n",
    ")"
   ]
  },
  {
   "cell_type": "code",
   "execution_count": null,
   "metadata": {},
   "outputs": [],
   "source": [
    "plot!(pcart, moon_soi_outer[1,:], moon_soi_outer[2,:], c=:black, lw=1.0, label=\"moon_soi_outer\",\n",
    "    xaxis=(formatter=x->string(round(x / 10^6; digits=2))),\n",
    "    yaxis=(formatter=y->string(round(y / 10^6, digits=1))),\n",
    ")\n",
    "\n",
    "# annotate!(pcart, [(-2e6, 1.75e6 * 1.05, Plots.text(L\"\\times10^{6}\", fs-1, :black, :center))])\n",
    "# annotate!(pcart, [(2e6*1.1, -1.75e6, Plots.text(L\"\\times10^{6}\", fs-1, :black, :center))])\n"
   ]
  },
  {
   "cell_type": "code",
   "execution_count": null,
   "metadata": {},
   "outputs": [],
   "source": [
    "l = @layout [a{0.45w} b{0.45w} c{0.02w}]\n",
    "\n",
    "p2 = heatmap(rand(2,2), clims=(tof_min_days, tof_max_days),\n",
    "    framestyle=:none, c=cs, cbar=true, lims=(-1,0), colorbar_title=\"ToF,days\",\n",
    "    colorbar_titlefontsize=fs,\n",
    "    fontsize=fs, xlabelfontsize=fs, ylabelfontsize=fs, xtickfontsize=fs-1, ytickfontsize=fs-1, legendfontsize=fs-1)\n",
    "\n",
    "plot(pcart_, pcart, p2, layout=l, size=(1000,350), \n",
    "#     top_margin=5Plots.mm,\n",
    "#     right_margin=5Plots.mm,\n",
    "#     left_margin=5Plots.mm, \n",
    "    bottom_margin=5Plots.mm, \n",
    "    title=[\"No thrust\" \"Earth-Moon rotating thrust\" \"\"])\n",
    "\n",
    "savefig(\"ig_traj_family.png\")\n",
    "\n",
    "\n"
   ]
  },
  {
   "cell_type": "code",
   "execution_count": null,
   "metadata": {},
   "outputs": [],
   "source": []
  },
  {
   "cell_type": "code",
   "execution_count": null,
   "metadata": {},
   "outputs": [],
   "source": []
  },
  {
   "cell_type": "code",
   "execution_count": null,
   "metadata": {},
   "outputs": [],
   "source": []
  },
  {
   "cell_type": "code",
   "execution_count": null,
   "metadata": {},
   "outputs": [],
   "source": []
  },
  {
   "cell_type": "code",
   "execution_count": null,
   "metadata": {},
   "outputs": [],
   "source": []
  },
  {
   "cell_type": "code",
   "execution_count": null,
   "metadata": {},
   "outputs": [],
   "source": []
  }
 ],
 "metadata": {
  "kernelspec": {
   "display_name": "Julia 1.8.5",
   "language": "julia",
   "name": "julia-1.8"
  },
  "language_info": {
   "file_extension": ".jl",
   "mimetype": "application/julia",
   "name": "julia",
   "version": "1.8.5"
  }
 },
 "nbformat": 4,
 "nbformat_minor": 2
}
