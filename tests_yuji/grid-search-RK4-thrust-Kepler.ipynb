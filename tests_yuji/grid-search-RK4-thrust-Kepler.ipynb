{
 "cells": [
  {
   "cell_type": "markdown",
   "metadata": {},
   "source": [
    "### Grid Search using Rk4, also using the reduced S-B1 frame "
   ]
  },
  {
   "cell_type": "code",
   "execution_count": 2,
   "metadata": {},
   "outputs": [
    {
     "data": {
      "text/plain": [
       "Plots.PlotlyBackend()"
      ]
     },
     "execution_count": 2,
     "metadata": {},
     "output_type": "execute_result"
    }
   ],
   "source": [
    "using DifferentialEquations\n",
    "using Plots\n",
    "using LinearAlgebra\n",
    "import ForwardDiff\n",
    "import DiffResults\n",
    "using AstrodynamicsBase\n",
    "# import joptimise\n",
    "using Printf\n",
    "using DataFrames\n",
    "using JSON\n",
    "using CSV\n",
    "plotly()"
   ]
  },
  {
   "cell_type": "code",
   "execution_count": 3,
   "metadata": {},
   "outputs": [
    {
     "name": "stderr",
     "output_type": "stream",
     "text": [
      "┌ Warning: Replacing docs for `Main.SailorMoon.integrate_rk4 :: Union{Tuple{ODEProblem, Real}, Tuple{ODEProblem, Real, Union{Nothing, Vector{T} where T}}, Tuple{ODEProblem, Real, Union{Nothing, Vector{T} where T}, Bool}, Tuple{ODEProblem, Real, Union{Nothing, Vector{T} where T}, Bool, Bool}}` in module `Main.SailorMoon`\n",
      "└ @ Base.Docs docs\\Docs.jl:240\n"
     ]
    },
    {
     "data": {
      "text/plain": [
       "Main.SailorMoon"
      ]
     },
     "execution_count": 3,
     "metadata": {},
     "output_type": "execute_result"
    }
   ],
   "source": [
    "include(\"../../julia-r3bp/R3BP/src/R3BP.jl\")\n",
    "include(\"../src/SailorMoon.jl\")   # relative path to main file of module\n"
   ]
  },
  {
   "cell_type": "code",
   "execution_count": 4,
   "metadata": {},
   "outputs": [
    {
     "data": {
      "text/plain": [
       "no_affect! (generic function with 1 method)"
      ]
     },
     "execution_count": 4,
     "metadata": {},
     "output_type": "execute_result"
    }
   ],
   "source": [
    "#### CALLBACK FUNCTIONS ####\n",
    "\n",
    "# store the apoapsis value\n",
    "function apoapsis_cond(u,t,int)\n",
    "    θm0 = prob_base.p[4]\n",
    "    θm = θm0 + param3b.oml * t\n",
    "    \n",
    "    # for convenience, instead of taking the distance of SC-moon, assume r_a > 2.0\n",
    "    if sqrt((u[1]-param3b.as)^2 + u[2]^2 + u[3]^2) > 2.0\n",
    "        # condition 2: dot product of velocity and position is zero\n",
    "        return dot([u[1] - param3b.as - (-param3b.mu2 * cos(θm)), u[2] - (-param3b.mu2 * sin(θm)), u[3]], u[4:6])\n",
    "    else\n",
    "        return NaN\n",
    "    end\n",
    "end\n",
    "\n",
    "# store the periapsis value and terminate\n",
    "function periapsis_cond(u,t,int)\n",
    "    θm0 = prob_base.p[4]\n",
    "    θm = θm0 + param3b.oml * t\n",
    "    r = sqrt((u[1] - param3b.as - (-param3b.mu2 * cos(θm)))^2 + (u[2] - (-param3b.mu2 * sin(θm))) ^2 + u[3]^2)  # SC-earth distance\n",
    "#     r = sqrt(u[1]^2 + u[2]^2 + u[3]^2)\n",
    "    earth_leo_ub = 3 * param3b.mu2   # 10000 / param3b.lstar  # km\n",
    "    earth_leo_lb = 200  / param3b.lstar  # km\n",
    "    \n",
    "    if earth_leo_lb < r < earth_leo_ub\n",
    "        return dot([u[1] - param3b.as - (-param3b.mu2 * cos(θm)), u[2] - (-param3b.mu2 * sin(θm)), u[3]], u[4:6])\n",
    "    else \n",
    "        return NaN\n",
    "    end\n",
    "end\n",
    "\n",
    "function perilune_cond(u,t,int)\n",
    "    θm0 = prob_base.p[4]\n",
    "    θm  = θm0 + param3b.oml * t\n",
    "    \n",
    "    # moon-SC distance\n",
    "    r = sqrt((u[1] - param3b.as - (1-param3b.mu2)*cos(θm))^2 + (u[2] - (1-param3b.mu2)*sin(θm)) ^2 + u[3]^2)\n",
    "    moon_soi = 66100 / param3b.lstar\n",
    "    v_moon   = (1-param3b.mu2)*param3b.oml * [-sin(θm), cos(θm), 0] \n",
    "    \n",
    "    if r < moon_soi #&& -t > (10*86400 / param3b.tstar)\n",
    "        return dot([u[1] - param3b.as - (1-param3b.mu2) * cos(θm), u[2] - (1-param3b.mu2) * sin(θm), u[3]], u[4:6]-v_moon)\n",
    "    else \n",
    "        return NaN\n",
    "    end\n",
    "    \n",
    "end\n",
    "    \n",
    "terminate_affect!() = true\n",
    "no_affect!() = false\n",
    "\n",
    "\n",
    "\n"
   ]
  },
  {
   "cell_type": "code",
   "execution_count": 5,
   "metadata": {},
   "outputs": [
    {
     "data": {
      "text/plain": [
       "plot_circle (generic function with 2 methods)"
      ]
     },
     "execution_count": 5,
     "metadata": {},
     "output_type": "execute_result"
    }
   ],
   "source": [
    "function plot_circle(radius, x, y, n=50)\n",
    "    circle = zeros(2,n)\n",
    "    thetas = LinRange(0.0, 2π, n)\n",
    "    for i = 1:n\n",
    "        circle[1,i] = radius*cos(thetas[i]) + x\n",
    "        circle[2,i] = radius*sin(thetas[i]) + y\n",
    "    end\n",
    "    return circle\n",
    "end"
   ]
  },
  {
   "cell_type": "code",
   "execution_count": 6,
   "metadata": {},
   "outputs": [
    {
     "name": "stdout",
     "output_type": "stream",
     "text": [
      "Halo guess Az_km: 1200.0\n",
      "Linear stability ν = 618.7618471056802\n"
     ]
    }
   ],
   "source": [
    "param3b = SailorMoon.dyanmics_parameters()\n",
    "lps = SailorMoon.lagrange_points(param3b.mu2)\n",
    "\n",
    "## set up of initial condition (Lyapunov orbit)\n",
    "lp = 2\n",
    "Az_km = 1200.0\n",
    "println(\"Halo guess Az_km: $Az_km\")\n",
    "northsouth = 3   # 1 or 3\n",
    "guess0 = R3BP.halo_analytical_construct(param3b.mu2, lp, Az_km, param3b.lstar, northsouth)\n",
    "res = R3BP.ssdc_periodic_xzplane([param3b.mu2,], guess0.x0, guess0.period, fix=\"period\")\n",
    "\n",
    "x0_stm = vcat(res.x0, reshape(I(6), (6^2,)))[:]\n",
    "prob_cr3bp_stm = ODEProblem(R3BP.rhs_cr3bp_svstm!, x0_stm, res.period, (param3b.mu2))\n",
    "sol = solve(prob_cr3bp_stm, Tsit5(), reltol=1e-12, abstol=1e-12)#, saveat=LinRange(0, period, n+1))\n",
    "monodromy = R3BP.get_stm(sol, 6)   # get monodromy matrix\n",
    "ys0 = R3BP.get_eigenvector(monodromy, true, 1) # monodromy eigenvector\n",
    "\n",
    "## Grid search parameters: CHANGE HERE\n",
    "n = 10\n",
    "θs_vec   = [180/180*pi]  #LinRange(0, 2*pi, n+1)[1:n]  # [3.76991118430775]   #\n",
    "ϕ_vec    = [0.0]    #LinRange(0, 2*pi, n+1)[1:n] # [0.628318530717958]\n",
    "epsr_vec = [1e-6]   #10 .^(-12:-6)\n",
    "epsv_vec = [1e-6]   #10 .^(-12:-6)\n",
    "tof_bck  = 120 * 86400 / param3b.tstar\n",
    "\n",
    "# include callback functions \n",
    "apoapsis_cb  = ContinuousCallback(apoapsis_cond, no_affect!)\n",
    "periapsis_cb = ContinuousCallback(periapsis_cond, terminate_affect!)\n",
    "perilune_cb  = ContinuousCallback(perilune_cond, no_affect!)\n",
    "cbs = [apoapsis_cb, periapsis_cb, perilune_cb];"
   ]
  },
  {
   "cell_type": "code",
   "execution_count": 7,
   "metadata": {},
   "outputs": [],
   "source": [
    "\n",
    "## make initial conditions \n",
    "grids = []\n",
    "for ϕ0 in ϕ_vec\n",
    "    for ϵr in epsr_vec\n",
    "        for ϵv in epsv_vec\n",
    "            for θsf in θs_vec\n",
    "                \n",
    "                θmf = π - θsf                \n",
    "                # arrival LPO object\n",
    "                LPOArrival = SailorMoon.CR3BPLPO2(\n",
    "                    res.x0, res.period, ys0, prob_cr3bp_stm, ϵr, ϵv, Tsit5(), 1e-12, 1e-12, 0.005\n",
    "                );\n",
    "                \n",
    "                xf = SailorMoon.set_terminal_state2(ϕ0, θmf, param3b, LPOArrival)\n",
    "                # in Sun-B1 frame\n",
    "                xf_sb1 = vcat(SailorMoon.transform_EMrot_to_SunB1(xf, θsf, param3b.oms, param3b.as), 1.0)\n",
    "                \n",
    "                push!(grids, [ϕ0, ϵr, ϵv, θsf, xf_sb1])\n",
    "#                 println(xf)\n",
    "                \n",
    "            end\n",
    "        end\n",
    "    end\n",
    "end\n"
   ]
  },
  {
   "cell_type": "code",
   "execution_count": 20,
   "metadata": {},
   "outputs": [
    {
     "data": {
      "text/plain": [
       "\u001b[36mODEProblem\u001b[0m with uType \u001b[36mVector{Float64}\u001b[0m and tType \u001b[36mFloat64\u001b[0m. In-place: \u001b[36mtrue\u001b[0m\n",
       "timespan: (0.0, -27.59646130590521)\n",
       "u0: 7-element Vector{Float64}:\n",
       " 389.9439269125021\n",
       "   2.793813746153667e-7\n",
       "   5.600379804037024e-23\n",
       "  -1.0294967931894037e-6\n",
       "   1.2038099785632126\n",
       "   3.7612170962908617e-31\n",
       "   1.0"
      ]
     },
     "execution_count": 20,
     "metadata": {},
     "output_type": "execute_result"
    }
   ],
   "source": [
    "svf_ = grids[1][5]\n",
    "params = [param3b.mu2, param3b.mus, param3b.as, pi - grids[1][4], param3b.oml, param3b.omb, 0.0, 0.0, 0.0, 0.0, 0.0]\n",
    "tspan = [0, -tof_bck]\n",
    "# prob_base = ODEProblem(SailorMoon.rhs_bcr4bp_sb1frame2!, svf_, tspan, params)\n",
    "\n",
    "params = [param3b.mu2, param3b.mus, param3b.as, pi - grids[1][4], param3b.oml, param3b.omb, 1.0, 0.0, 0.0, 0.01, 0.01, SailorMoon.dv_sun_dir_angles2]\n",
    "prob_base = ODEProblem(SailorMoon.rhs_bcr4bp_sb1frame2_thrust!, svf_, tspan, params)\n",
    "\n"
   ]
  },
  {
   "cell_type": "markdown",
   "metadata": {},
   "source": [
    "### FOR loop for the database generation"
   ]
  },
  {
   "cell_type": "code",
   "execution_count": 30,
   "metadata": {
    "scrolled": false
   },
   "outputs": [
    {
     "ename": "LoadError",
     "evalue": "syntax: invalid syntax &t_vec around In[30]:48",
     "output_type": "error",
     "traceback": [
      "syntax: invalid syntax &t_vec around In[30]:48",
      "",
      "Stacktrace:",
      " [1] top-level scope",
      "   @ In[30]:14",
      " [2] eval",
      "   @ .\\boot.jl:360 [inlined]",
      " [3] include_string(mapexpr::typeof(REPL.softscope), mod::Module, code::String, filename::String)",
      "   @ Base .\\loading.jl:1116"
     ]
    }
   ],
   "source": [
    "ptraj = plot(size=(700,500), frame_style=:box, aspect_ratio=:equal, grid=0.2)\n",
    "\n",
    "## data extraction and make csv\n",
    "# make dataframe\n",
    "entries = [\"id\", \"phi0\", \"epsr\", \"epsv\", \"thetaf\", \"ra\", \"rp\", \"dt1\", \"dt2\", \"x_ra\", \"x_rp\", \"tof\", \"lfb\"]\n",
    "df = DataFrame([ name =>[] for name in entries])\n",
    "id = 1\n",
    "\n",
    "# thrusts\n",
    "mdot = 0.001  # maybe don't touch \n",
    "tmax = 0.002\n",
    "\n",
    "\n",
    "for i in 1:size(grids)[1]\n",
    "    global lfb_count = 0\n",
    "\n",
    "    prob_base  = remake(prob_base2, u0=grids[i][5], p=[param3b.mu2, param3b.mus, param3b.as, pi - grids[i][4], param3b.oml, param3b.omb, 1.0, 0.0, 0.0, mdot, tmax, SailorMoon.dv_no_thrust])\n",
    "\n",
    "    sol  = SailorMoon.integrate_rk4(prob_base, 0.001, cbs, false)\n",
    "    sol2 = SailorMoon.integrate_rk4(prob_base, 0.001, cbs, true)\n",
    "    \n",
    "    tof_no_thrust = sol.t[end]    \n",
    "    m0_no_thrust= sol.u[end][end]\n",
    "\n",
    "       \n",
    "    if sol.t[end] > prob_base.tspan[2]\n",
    "        println(\"$i is terminated!\")\n",
    "        t_vec = -sol.t\n",
    "        \n",
    "        rp = sqrt((sol.u[end][1]-param3b.as)^2 + sol.u[end][2]^2 + sol.u[end][3]^2)\n",
    "        x_rp = sol.u[end]\n",
    "\n",
    "        # find apoapsis      \n",
    "        r_vec = sqrt.((hcat(sol.u...)[1,:] .+ param3b.mu2.*cos.(prob_base.p[4] .+ param3b.oml .* sol.t) .- [param3b.as]).^2\n",
    "                    .+ (hcat(sol.u...)[2,:] .+ param3b.mu2.*sin.(prob_base.p[4] .+ param3b.oml .* sol.t)).^2\n",
    "                    .+  hcat(sol.u...)[3,:].^2)\n",
    "\n",
    "        ra, id_ra = findmax(r_vec)\n",
    "        x_ra  = sol.u[id_ra]\n",
    "        dt_ra = - sol.t[id_ra]\n",
    "        dt_rp = - sol.t[end] - dt_ra \n",
    "\n",
    "        # flag: lunar flyby? \n",
    "        rm_vec = sqrt.((hcat(sol.u...)[1,:] .- (1-param3b.mu2).*cos.(prob_base.p[4].+param3b.oml.*sol.t) .- [param3b.as]).^2\n",
    "                    + (hcat(sol.u...)[2,:] .- (1-param3b.mu2).*sin.(prob_base.p[4].+param3b.oml.*sol.t)).^2\n",
    "                    +  hcat(sol.u...)[3,:].^2)\n",
    "        \n",
    "        println( rm_vec .< (66100 / param3b.lstar) .& t_vec .> (10*86400/param3b.tstar))\n",
    "        id_lfb = findall(rm_vec .< (66100 / param3b.lstar) .& t_vec .> (10*86400/param3b.tstar))\n",
    "        \n",
    "        \n",
    "#         println(sol.event_states)\n",
    "    \n",
    "        if ~isempty(id_lfb)\n",
    "            for k in id_lfb\n",
    "#                 print(\"\\r$k   \")\n",
    "#                 println(perilune_cond(sol.u[k], sol.t[k], 0.0))\n",
    "                if ~isnan(perilune_cond(sol.u[k], sol.t[k], 0.0))\n",
    "                    global lfb_count += 1\n",
    "                end\n",
    "            end    \n",
    "            print(lfb_count)\n",
    "        end\n",
    "\n",
    "        tof = -sol.t[end]\n",
    "        \n",
    "        if ra > 2.0\n",
    "            scatter!(ptraj, hcat(sol.u...)[1,:], hcat(sol.u...)[2,:], color=:blue, shape=:circle, markersize=2.0, label=\"event?\")\n",
    "            plot!(ptraj, hcat(sol2.u...)[1,:], hcat(sol2.u...)[2,:], label=\"no thrust\")                \n",
    "            ϕ0  = grids[i][1]\n",
    "            ϵr  = grids[i][2]\n",
    "            ϵv  = grids[i][3]\n",
    "            θsf = grids[i][4]\n",
    "            push!(df, [id, ϕ0, ϵr, ϵv, θsf, rp, ra, dt_ra, dt_rp, x_ra, x_rp, tof, lfb_count])\n",
    "            global id += 1\n",
    "        \n",
    "        end\n",
    "    end\n",
    "end\n",
    "\n",
    "# println(df)\n",
    "# CSV.write(\"grid_search2.csv\", df)\n",
    "    \n",
    "moon = plot_circle(1-param3b.mu2, param3b.as , 0.0)\n",
    "earth = plot_circle(param3b.mu2, param3b.as, 0.0)\n",
    "LEO_ub = plot_circle(3*param3b.mu2, param3b.as, 0.0)\n",
    "moon_soi_ub = plot_circle(1-param3b.mu2+66000/param3b.lstar, param3b.as, 0.0)\n",
    "moon_soi_lb = plot_circle(1-param3b.mu2-66000/param3b.lstar, param3b.as, 0.0)\n",
    "\n",
    "\n",
    "# plot!(ptraj, hcat(sol_bck.u...)[1,:], hcat(sol_bck.u...)[2,:], color=:deeppink, label=\"RK4\")\n",
    "# plot!(ptraj, Array(sol)[1,:], Array(sol)[2,:], color=:blue, linewidth=1.0, label=\"sol\", linestyle=:solid)\n",
    "\n",
    "plot!(ptraj, earth[1,:], earth[2,:], c=:green, lw=1.0, label=\"earth\")\n",
    "plot!(ptraj, moon[1,:], moon[2,:], c=:orange, lw=1.0, label=\"moon\")\n",
    "plot!(ptraj, moon_soi_ub[1,:], moon_soi_ub[2,:], c=:grey, lw=1.0, label=\"moon_soi_ub\")\n",
    "plot!(ptraj, moon_soi_lb[1,:], moon_soi_lb[2,:], c=:grey, lw=1.0, label=\"moon_soi_lb\")\n",
    "\n",
    "ptraj"
   ]
  },
  {
   "cell_type": "code",
   "execution_count": 10,
   "metadata": {},
   "outputs": [
    {
     "data": {
      "text/plain": [
       "4.348383608673837"
      ]
     },
     "execution_count": 10,
     "metadata": {},
     "output_type": "execute_result"
    }
   ],
   "source": [
    "param3b.tstar / 86400"
   ]
  },
  {
   "cell_type": "code",
   "execution_count": null,
   "metadata": {},
   "outputs": [],
   "source": []
  },
  {
   "cell_type": "code",
   "execution_count": null,
   "metadata": {},
   "outputs": [],
   "source": []
  },
  {
   "cell_type": "code",
   "execution_count": null,
   "metadata": {},
   "outputs": [],
   "source": []
  },
  {
   "cell_type": "code",
   "execution_count": null,
   "metadata": {},
   "outputs": [],
   "source": []
  },
  {
   "cell_type": "code",
   "execution_count": null,
   "metadata": {},
   "outputs": [],
   "source": []
  },
  {
   "cell_type": "code",
   "execution_count": null,
   "metadata": {},
   "outputs": [],
   "source": []
  }
 ],
 "metadata": {
  "kernelspec": {
   "display_name": "Julia 1.6.7",
   "language": "julia",
   "name": "julia-1.6"
  },
  "language_info": {
   "file_extension": ".jl",
   "mimetype": "application/julia",
   "name": "julia",
   "version": "1.6.7"
  }
 },
 "nbformat": 4,
 "nbformat_minor": 2
}
