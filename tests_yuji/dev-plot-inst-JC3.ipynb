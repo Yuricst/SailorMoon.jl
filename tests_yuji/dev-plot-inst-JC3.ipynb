{
 "cells": [
  {
   "cell_type": "code",
   "execution_count": null,
   "metadata": {},
   "outputs": [],
   "source": [
    "using DifferentialEquations\n",
    "using Plots\n",
    "using LinearAlgebra\n",
    "import ForwardDiff\n",
    "import DiffResults\n",
    "using AstrodynamicsBase\n",
    "using Printf\n",
    "using JSON\n",
    "using CSV\n",
    "using DataFrames\n",
    "using ColorSchemes\n",
    "using LaTeXStrings"
   ]
  },
  {
   "cell_type": "code",
   "execution_count": null,
   "metadata": {},
   "outputs": [],
   "source": [
    "include(\"../src/SailorMoon.jl\")   # relative path to main file of module\n",
    "param3b = SailorMoon.dynamics_parameters()\n",
    "paramMulti = SailorMoon.multi_shoot_parameters(param3b)\n",
    "gr()\n",
    "fs = 16;\n"
   ]
  },
  {
   "cell_type": "code",
   "execution_count": null,
   "metadata": {},
   "outputs": [],
   "source": [
    "### PARAMETERS ###################################\n",
    "# csv file to load the initial solution\n",
    "filename = \"../run/data/opt_0618_maxJCThrust.csv\"\n",
    "# dv_dir function corresponding to the csv file \n",
    "dir_func = SailorMoon.dv_EMrotdir_sb1frame\n",
    "dir_func = SailorMoon.dv_maxJC_dir_sb1frame\n",
    "\n",
    "n_arc = 5\n",
    "\n",
    "##################################################\n",
    "\n",
    "if dir_func == SailorMoon.dv_no_thrust\n",
    "    τ_ig = 0.0\n",
    "else \n",
    "    τ_ig = 1.0\n",
    "end\n",
    "\n",
    "# load initial guess\n",
    "df = CSV.read(filename, DataFrame; header=0);\n"
   ]
  },
  {
   "cell_type": "code",
   "execution_count": null,
   "metadata": {},
   "outputs": [],
   "source": [
    "p_ = plot(\n",
    "    size=(700,500), \n",
    "    frame_style=:box, aspect_ratio=:equal, grid=0.4, \n",
    "    legend=false, \n",
    "    xlabel=L\"t\", ylabel=L\"val\",\n",
    "    colorbar_titlefontsize=fs,\n",
    "    fontsize=fs, xlabelfontsize=fs, ylabelfontsize=fs, xtickfontsize=fs-1, ytickfontsize=fs-1, legendfontsize=fs-1\n",
    ");"
   ]
  },
  {
   "cell_type": "code",
   "execution_count": null,
   "metadata": {},
   "outputs": [],
   "source": [
    "row = df[end-1,:]\n",
    "x = collect(row[4:end])\n",
    "# x = SailorMoon.oldx2newx(x, n_arc)\n",
    "t_, u_, th_, th_nominal = SailorMoon.x2time_series(x, dir_func, paramMulti, true);\n",
    "u_array = [u_[:,i] for i in collect(1:size(u_,2))]\n",
    "\n",
    "\n",
    "θm_lpo = x[19+12*paramMulti.n_arc]  \n",
    "# thrust_param_nomi = [1.0, 0.0, 0.0]\n",
    "# th_nominal = get_thrust(t_, u_array, thrust_param_nomi, θm_lpo, dir_func)\n",
    "# th_nominal = hcat(th_nominal...)"
   ]
  },
  {
   "cell_type": "code",
   "execution_count": null,
   "metadata": {},
   "outputs": [],
   "source": [
    "# compute JC from state in EMrot\n",
    "function compute_JC(state::Vector)\n",
    "    x, y, z = state[1], state[2], state[3]\n",
    "    vx, vy, vz = state[4], state[5], state[6]\n",
    "    r13 = norm([x-param3b.mu2, y, z])  # Earth - SC\n",
    "    r23 = norm([x-param3b.mu1, y, z])  # Moon - SC\n",
    "    \n",
    "    U = 1/2*(x^2+y^2) + param3b.mu1 / r13 + param3b.mu2 / r23 \n",
    "    JC = 2*U - (vx^2 + vy^2 + vz^2)\n",
    "    \n",
    "    return JC \n",
    "end"
   ]
  },
  {
   "cell_type": "code",
   "execution_count": null,
   "metadata": {},
   "outputs": [],
   "source": [
    "θlpo = x[19+12*paramMulti.n_arc]\n",
    "\n",
    "u_emrots = []\n",
    "JC_vec = []\n",
    "\n",
    "for (i, tnow) in enumerate(t_)\n",
    "    θm = θlpo - param3b.oml * tnow\n",
    "    u_sb1   = u_[1:6,i]\n",
    "    u_emrot = SailorMoon.transform_SunB1_to_EMrot(u_sb1, θm, param3b.oml, param3b.as)\n",
    "    u_emrots = push!(u_emrots, transpose(u_emrot))    \n",
    "    jc = SailorMoon.compute_JC(u_emrot)\n",
    "    push!(JC_vec, jc)\n",
    "    \n",
    "end\n",
    "u_emrots = Array(reshape(hcat(u_emrots...), 6, size(u_emrots,1)));\n",
    "\n"
   ]
  },
  {
   "cell_type": "code",
   "execution_count": null,
   "metadata": {},
   "outputs": [],
   "source": [
    "plot(t_, JC_vec, ylim=[0,4], xlabel=L\"t,s\", ylabel=L\"JC\")"
   ]
  },
  {
   "cell_type": "code",
   "execution_count": null,
   "metadata": {},
   "outputs": [],
   "source": [
    "plot(t_, u_[1,:], xlabel=L\"t,s\", ylabel=L\"x\")"
   ]
  },
  {
   "cell_type": "code",
   "execution_count": null,
   "metadata": {},
   "outputs": [],
   "source": [
    "p_thrust = plot(\n",
    "    size=(700,500), frame_style=:box, grid=0.4, legend=false, \n",
    "    xlabel=L\"t\", \n",
    "    ylabel=L\"angle, deg.\",\n",
    "    colorbar_titlefontsize=fs,\n",
    "    fontsize=fs, xlabelfontsize=fs, ylabelfontsize=fs, xtickfontsize=fs-1, ytickfontsize=fs-1, legendfontsize=fs-1\n",
    ");\n",
    "\n",
    "angd = atan.(th_[1,:], th_[2,:])\n",
    "val = [mod2pi(el)/pi*180 for el in angd]\n",
    "\n",
    "plot!(p_thrust, t_, val,xlabel=L\"t,s\", ylabel=L\"thrust angle, deg\", label=\"opt.\")\n",
    "\n",
    "angd = atan.(th_nominal[1,:], th_nominal[2,:])\n",
    "val = [mod2pi(el)/pi*180 for el in angd]\n",
    "\n",
    "plot!(p_thrust, t_, val,  xlabel=L\"t,s\", ylabel=L\"thrust angle, deg\", label=\"nominal\")\n",
    "\n",
    "plot!(p_thrust, legend=:topright)\n"
   ]
  },
  {
   "cell_type": "code",
   "execution_count": null,
   "metadata": {},
   "outputs": [],
   "source": [
    "moon     = SailorMoon.plot_circle(1-param3b.mu2, param3b.as , 0.0)\n",
    "earth    = SailorMoon.plot_circle(param3b.mu2, param3b.as, 0.0)\n",
    "earth_ub = SailorMoon.plot_circle(param3b.mu2+6375/param3b.lstar, param3b.as, 0.0)\n",
    "earth_lb = SailorMoon.plot_circle(param3b.mu2-6375/param3b.lstar, param3b.as, 0.0)\n",
    "moon_soi_outer = SailorMoon.plot_circle(1-param3b.mu2+66000/param3b.lstar, param3b.as, 0.0);\n",
    "\n",
    "\n",
    "pcart_ = plot(\n",
    "    size=(700,500), frame_style=:box, aspect_ratio=:equal, grid=0.4, legend=false, \n",
    "    xlabel=L\"x\", \n",
    "    ylabel=L\"y\",\n",
    "    colorbar_titlefontsize=fs,\n",
    "    fontsize=fs, xlabelfontsize=fs, ylabelfontsize=fs, xtickfontsize=fs-1, ytickfontsize=fs-1, legendfontsize=fs-1\n",
    ");\n",
    "\n",
    "plot!(pcart_, earth[1,:], earth[2,:], c=:green, lw=1.0, label=\"earth\")\n",
    "plot!(pcart_, earth_ub[1,:], earth_ub[2,:], c=:black, lw=1.0, label=\"earth\")\n",
    "plot!(pcart_, earth_lb[1,:], earth_lb[2,:], c=:black, lw=1.0, label=\"earth\")\n",
    "plot!(pcart_, moon[1,:], moon[2,:], c=:orange, lw=1.0, label=\"moon\")\n",
    "plot!(pcart_, moon_soi_outer[1,:], moon_soi_outer[2,:], c=:black, lw=1.0, label=\"moon_soi_outer\")\n",
    "plot!(pcart_,u_[1,:], u_[2,:])\n",
    "\n",
    "\n"
   ]
  },
  {
   "cell_type": "code",
   "execution_count": null,
   "metadata": {},
   "outputs": [],
   "source": []
  }
 ],
 "metadata": {
  "kernelspec": {
   "display_name": "Julia 1.6.7",
   "language": "julia",
   "name": "julia-1.6"
  },
  "language_info": {
   "file_extension": ".jl",
   "mimetype": "application/julia",
   "name": "julia",
   "version": "1.6.7"
  }
 },
 "nbformat": 4,
 "nbformat_minor": 2
}
