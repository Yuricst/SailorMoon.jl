{
 "cells": [
  {
   "cell_type": "code",
   "execution_count": 3,
   "metadata": {},
   "outputs": [
    {
     "name": "stderr",
     "output_type": "stream",
     "text": [
      "┌ Info: For saving to png with the Plotly backend PlotlyBase has to be installed.\n",
      "└ @ Plots C:\\Users\\yujit\\.julia\\packages\\Plots\\0MO2T\\src\\backends.jl:318\n"
     ]
    },
    {
     "data": {
      "text/plain": [
       "Plots.PlotlyBackend()"
      ]
     },
     "execution_count": 3,
     "metadata": {},
     "output_type": "execute_result"
    }
   ],
   "source": [
    "using Plots\n",
    "using LinearAlgebra\n",
    "plotly()"
   ]
  },
  {
   "cell_type": "code",
   "execution_count": null,
   "metadata": {},
   "outputs": [],
   "source": [
    "include(\"../src/SailorMoon.jl\")   # relative path to main file of module\n",
    "include(\"../../julia-r3bp/R3BP/src/R3BP.jl\")"
   ]
  },
  {
   "cell_type": "code",
   "execution_count": null,
   "metadata": {},
   "outputs": [],
   "source": [
    "# load the parameters needed\n",
    "param3b = SailorMoon.dyanmics_parameters()\n",
    "\n",
    "as = param3b.as\n",
    "mu1 = param3b.mu1\n",
    "mu2 = param3b.mu2\n",
    "muS = param3b.muS\n",
    "\n",
    "θ = pi / 4  # sun's location"
   ]
  },
  {
   "cell_type": "code",
   "execution_count": 25,
   "metadata": {},
   "outputs": [
    {
     "ename": "LoadError",
     "evalue": "Couldn't process recipe args: (StepRangeLen{Float64, Base.TwicePrecision{Float64}, Base.TwicePrecision{Float64}, Int64}, StepRangeLen{Float64, Base.TwicePrecision{Float64}, Base.TwicePrecision{Float64}, Int64}, Matrix{Float64}, Matrix{Float64})",
     "output_type": "error",
     "traceback": [
      "Couldn't process recipe args: (StepRangeLen{Float64, Base.TwicePrecision{Float64}, Base.TwicePrecision{Float64}, Int64}, StepRangeLen{Float64, Base.TwicePrecision{Float64}, Base.TwicePrecision{Float64}, Int64}, Matrix{Float64}, Matrix{Float64})",
      "",
      "Stacktrace:",
      "  [1] error(s::String)",
      "    @ Base .\\error.jl:33",
      "  [2] macro expansion",
      "    @ C:\\Users\\yujit\\.julia\\packages\\RecipesPipeline\\OXGmH\\src\\user_recipe.jl:172 [inlined]",
      "  [3] apply_recipe(::AbstractDict{Symbol, Any}, ::Any, ::Any, ::Any, ::Any)",
      "    @ RecipesPipeline C:\\Users\\yujit\\.julia\\packages\\RecipesBase\\qpxEX\\src\\RecipesBase.jl:289",
      "  [4] _process_userrecipes!(plt::Any, plotattributes::Any, args::Any)",
      "    @ RecipesPipeline C:\\Users\\yujit\\.julia\\packages\\RecipesPipeline\\OXGmH\\src\\user_recipe.jl:36",
      "  [5] recipe_pipeline!(plt::Any, plotattributes::Any, args::Any)",
      "    @ RecipesPipeline C:\\Users\\yujit\\.julia\\packages\\RecipesPipeline\\OXGmH\\src\\RecipesPipeline.jl:70",
      "  [6] _plot!(plt::Plots.Plot, plotattributes::Any, args::Any)",
      "    @ Plots C:\\Users\\yujit\\.julia\\packages\\Plots\\0MO2T\\src\\plot.jl:209",
      "  [7] plot(::Any, ::Vararg{Any}; kw::Base.Pairs{Symbol, V, Tuple{Vararg{Symbol, N}}, NamedTuple{names, T}} where {V, N, names, T<:Tuple{Vararg{Any, N}}})",
      "    @ Plots C:\\Users\\yujit\\.julia\\packages\\Plots\\0MO2T\\src\\plot.jl:91",
      "  [8] quiver(::Any, ::Vararg{Any}; kw::Base.Pairs{Symbol, V, Tuple{Vararg{Symbol, N}}, NamedTuple{names, T}} where {V, N, names, T<:Tuple{Vararg{Any, N}}})",
      "    @ Plots C:\\Users\\yujit\\.julia\\packages\\RecipesBase\\qpxEX\\src\\RecipesBase.jl:410",
      "  [9] quiver(::Any, ::Vararg{Any})",
      "    @ Plots C:\\Users\\yujit\\.julia\\packages\\RecipesBase\\qpxEX\\src\\RecipesBase.jl:410",
      " [10] top-level scope",
      "    @ In[25]:19",
      " [11] eval",
      "    @ .\\boot.jl:373 [inlined]",
      " [12] include_string(mapexpr::typeof(REPL.softscope), mod::Module, code::String, filename::String)",
      "    @ Base .\\loading.jl:1196"
     ]
    }
   ],
   "source": [
    "# set up the coordinates\n",
    "d = 21\n",
    "x = range(-1.0, 1.0, 21)\n",
    "y = x\n",
    "# X, Y = meshgrid(x,y)  #?\n",
    "u = zeros(d,d)\n",
    "v = zeros(d,d)\n",
    "\n",
    "for i in 1:d\n",
    "    for j in i:d\n",
    "        state = [x[i], y[j], 0.0, 0.0, 0.0]\n",
    "        \n",
    "        u[i,j] = 1.0\n",
    "        v[i,j] = 1.0\n",
    "    end\n",
    "end\n",
    "\n",
    "\n",
    "quiver(x, y, u, v)"
   ]
  },
  {
   "cell_type": "code",
   "execution_count": 28,
   "metadata": {},
   "outputs": [
    {
     "data": {
      "text/plain": [
       "1250-element Vector{Float64}:\n",
       " -0.08414709848078966\n",
       " -0.08345625196544842\n",
       " -0.08139505610010715\n",
       " -0.0779973556638899\n",
       " -0.07331894080402485\n",
       " -0.06743663096316925\n",
       " -0.06044701350628472\n",
       " -0.05246485775877488\n",
       " -0.04362123049733523\n",
       " -0.03406134383710333\n",
       " -0.02394217085274289\n",
       " -0.013429868084897448\n",
       " -0.0026970472543867397\n",
       "  ⋮\n",
       " -0.013429868084897451\n",
       " -0.02394217085274289\n",
       " -0.03406134383710333\n",
       " -0.04362123049733524\n",
       " -0.05246485775877488\n",
       " -0.06044701350628473\n",
       " -0.06743663096316926\n",
       " -0.07331894080402486\n",
       " -0.07799735566388992\n",
       " -0.08139505610010717\n",
       " -0.08345625196544842\n",
       " -0.08414709848078966"
      ]
     },
     "execution_count": 28,
     "metadata": {},
     "output_type": "execute_result"
    }
   ],
   "source": [
    "ϕs = range(-π, π, length = 50)\n",
    "θs = range(0, π, length = 25)\n",
    "θqs = range(1, π - 1, length = 25)\n",
    "x = vec([sin(θ) * cos(ϕ) for (ϕ, θ) = Iterators.product(ϕs, θs)])\n",
    "y = vec([sin(θ) * sin(ϕ) for (ϕ, θ) = Iterators.product(ϕs, θs)])\n",
    "z = vec([cos(θ) for (ϕ, θ) = Iterators.product(ϕs, θs)])\n",
    "u = 0.1 * vec([sin(θ) * cos(ϕ) for (ϕ, θ) = Iterators.product(ϕs, θqs)])\n",
    "v = 0.1 * vec([sin(θ) * sin(ϕ) for (ϕ, θ) = Iterators.product(ϕs, θqs)])\n",
    "w = 0.1 * vec([cos(θ) for (ϕ, θ) = Iterators.product(ϕs, θqs)])\n",
    "u\n",
    "# quiver(x, y, z, quiver = (u, v, w))"
   ]
  },
  {
   "cell_type": "code",
   "execution_count": 23,
   "metadata": {},
   "outputs": [
    {
     "data": {
      "text/plain": [
       "(21,)"
      ]
     },
     "execution_count": 23,
     "metadata": {},
     "output_type": "execute_result"
    }
   ],
   "source": [
    "size(x)\n"
   ]
  },
  {
   "cell_type": "code",
   "execution_count": null,
   "metadata": {},
   "outputs": [],
   "source": []
  },
  {
   "cell_type": "code",
   "execution_count": null,
   "metadata": {},
   "outputs": [],
   "source": []
  },
  {
   "cell_type": "code",
   "execution_count": null,
   "metadata": {},
   "outputs": [],
   "source": []
  }
 ],
 "metadata": {
  "kernelspec": {
   "display_name": "Julia 1.7.3",
   "language": "julia",
   "name": "julia-1.7"
  },
  "language_info": {
   "file_extension": ".jl",
   "mimetype": "application/julia",
   "name": "julia",
   "version": "1.7.3"
  }
 },
 "nbformat": 4,
 "nbformat_minor": 2
}
