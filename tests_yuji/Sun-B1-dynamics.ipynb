{
 "cells": [
  {
   "cell_type": "markdown",
   "metadata": {},
   "source": [
    "## Sun B1 dynamics: nastier than expected...\n",
    "When we have 3BP dynamics in E-M rotating frame, we naturally forget about $\\omega$ as we normalize t* so that $\\omega$ = 1 (i.e., $t_1^*$ = 2$\\pi$ / (1 siderial period = 27.5days). \n",
    "This means omega should change if we want to discuss the dynamics in Sun-B1 frame ($t_2^*$ = 2$\\pi$ / 365 days), while we want to stick with $t_1^*$. Therefore, the angular velocity term in the centrifugal and Coriolis force emerges: $\\omega_b = 2\\pi$ / (365 days / 27.5 days).\n",
    "\n",
    "Additionally, according to Boudad's PhD thesis (C.19, P.235), the angular velocity of the E-M line should be $\\omega_M = |\\omega_S|/(1-|\\omega_S|) ~= 1.05$, rather than $\\omega_S = - t_{siderial}/t_{synodic} ~= -0.93$, which is the angular velocity of the Sun w.r.t. Earth-Moon rotating frame in BCR4P.\n",
    "\n",
    "\n"
   ]
  },
  {
   "cell_type": "markdown",
   "metadata": {},
   "source": [
    "### normalization\n",
    "$t^* = t_{syderial} = 27.5 * 86400$ [s], \n",
    "\n",
    "$l^*$ = Earth-Moon distance,\n",
    "\n",
    "$m^* = m_E + m_M$."
   ]
  },
  {
   "cell_type": "code",
   "execution_count": null,
   "metadata": {},
   "outputs": [],
   "source": [
    "using Plots\n",
    "using LinearAlgebra\n",
    "using DifferentialEquations\n",
    "plotly()"
   ]
  },
  {
   "cell_type": "code",
   "execution_count": null,
   "metadata": {},
   "outputs": [],
   "source": [
    "include(\"../src/SailorMoon.jl\")   # relative path to main file of module\n",
    "include(\"../../julia-r3bp/R3BP/src/R3BP.jl\")"
   ]
  },
  {
   "cell_type": "code",
   "execution_count": null,
   "metadata": {},
   "outputs": [],
   "source": []
  },
  {
   "cell_type": "code",
   "execution_count": null,
   "metadata": {},
   "outputs": [],
   "source": [
    "\"\"\"\n",
    "Right-hand side expression for state-vector in BCR4BP\n",
    "# Arguments\n",
    "    - `du`: cache array of duative of state-vector, mutated\n",
    "    - `u`: state-vector\n",
    "    - `p`: parameters, where p = [μ2, μS, as, θ0, ωM, τ, γ, β, mdot, tmax]\n",
    "        m* : mE + mL (6.0455 * 10^22)\n",
    "        μ2 : mL / m* (0.012150585609624)\n",
    "        μS : mS / m* (0.00000303951)\n",
    "        as : (sun-B1 distance) / l* (388.709677419)\n",
    "            l* : Earth-moon distance (384,400 km)\n",
    "        ωM : Earth-Moon line's angular velocity around E-M barycenter\n",
    "        τ  : thrust magnitude (0~1)\n",
    "        γ  : thrust angle 1\n",
    "        β  : thrust angle 2\n",
    "        mdot : mass-flow rate\n",
    "        tmax : max thrust\n",
    "    - `t`: time\n",
    "\"\"\"\n",
    "function rhs_bcr4bp_sb1frame!(du,u,p,t)\n",
    "    # unpack state\n",
    "    x, y, z = u[1], u[2], u[3]\n",
    "    vx, vy, vz = u[4], u[5], u[6]\n",
    "    μ2, μS, as, θ0, ωM, ωb = p[1], p[2], p[3], p[4], p[5], p[6]\n",
    "    τ, γ, β, mdot, tmax = p[7], p[8], p[9], p[10], p[11]\n",
    "\n",
    "    θ = θ0 + ωM * t  # moon angle\n",
    "\n",
    "    # create Thrust term\n",
    "    T = dv_inertial_angles([τ,γ,β])\n",
    "    Tx, Ty, Tz = T * tmax / u[7]  # mdot\n",
    "\n",
    "\n",
    "    # derivatives of positions\n",
    "    du[1] = u[4]\n",
    "    du[2] = u[5]\n",
    "    du[3] = u[6]\n",
    "\n",
    "    # earth and moon location\n",
    "    xe = μS*as/(μS+1) - μ2 *cos(θ)\n",
    "    ye = μS*as/(μS+1) - μ2 *sin(θ)\n",
    "    ze = 0\n",
    "\n",
    "    xm = μS*as/(μS+1) + (1-μ2) *cos(θ)\n",
    "    ym = μS*as/(μS+1) + (1-μ2) *sin(θ)\n",
    "    zm = 0\n",
    "\n",
    "    # compute distances\n",
    "    r30 = sqrt((-as/(μS+1)- x)^2 + y^2 + z^2)\n",
    "    r31 = sqrt((xe - x)^2 + (ye - y)^2 + (ze-z)^2)\n",
    "    r32 = sqrt((xm - x)^2 + (ym - y)^2 + (zm-z)^2)\n",
    "    println(r30, \" \", r31, \" \", r32)\n",
    "\n",
    "    Fx = -(μS)*(x-as/(μS+1))/r30^3 - (1-μ2)*(x-xe)/r31^3 - μ2*(x-xm)/r32^3 + Tx\n",
    "    Fy = -(μS)*(y-as/(μS+1))/r30^3 - (1-μ2)*(y-ye)/r31^3 - μ2*(y-ym)/r32^3 + Ty\n",
    "    Fz = -(μS)*(z-as/(μS+1))/r30^3 - (1-μ2)*(z-ze)/r31^3 - μ2*(z-zm)/r32^3 + Tz\n",
    "    # println(-(μS/(μS+1))*(x-1/(μS+1))/r30^3 , \" \", - (1-μ2)/(μS+1)*(x-xe)/r31^3, \" \",  - μ2/(μS+1)*(x-xm)/r32^3)\n",
    "\n",
    "\n",
    "    du[4] =  2*ωb*vy + ωb^2*x + Fx\n",
    "    du[5] = -2*ωb*vx + ωb^2*y + Fy\n",
    "    du[6] =                   + Fz\n",
    "\n",
    "    du[7] = -mdot * τ\n",
    "end"
   ]
  },
  {
   "cell_type": "code",
   "execution_count": null,
   "metadata": {},
   "outputs": [],
   "source": [
    "p = SailorMoon.dyanmics_parameters()\n",
    "\n",
    "\n",
    "θ0 = 0.0\n",
    "one_year = 365.242 189 * 86400\n",
    "ωb = 2*pi / (one_year / p.tstar)\n",
    "\n",
    "param = [p.mu2, p.muS, p.as, θ0, p.oml, ωb 0.0, 0.0, 0.0, 0.0, 0.0]"
   ]
  },
  {
   "cell_type": "code",
   "execution_count": null,
   "metadata": {},
   "outputs": [],
   "source": [
    "# initial condition\n"
   ]
  },
  {
   "cell_type": "code",
   "execution_count": null,
   "metadata": {},
   "outputs": [],
   "source": []
  }
 ],
 "metadata": {
  "kernelspec": {
   "display_name": "Julia 1.7.3",
   "language": "julia",
   "name": "julia-1.7"
  },
  "language_info": {
   "file_extension": ".jl",
   "mimetype": "application/julia",
   "name": "julia",
   "version": "1.7.3"
  }
 },
 "nbformat": 4,
 "nbformat_minor": 2
}
