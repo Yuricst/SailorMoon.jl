{
 "cells": [
  {
   "cell_type": "markdown",
   "metadata": {},
   "source": [
    "## Sun B1 dynamics: nastier than expected...\n",
    "When we have 3BP dynamics in E-M rotating frame, we naturally forget about $\\omega$ as we normalize t* so that $\\omega$ = 1 (i.e., $t_1^*$ = 2$\\pi$ / (1 siderial period = 27.5days). \n",
    "This means omega should change if we want to discuss the dynamics in Sun-B1 frame ($t_2^*$ = 2$\\pi$ / 365 days), while we want to stick with $t_1^*$. Therefore, the angular velocity term in the centrifugal and Coriolis force emerges: $\\omega_b = 2\\pi$ / (365 days / 27.5 days).\n",
    "\n",
    "Angular veclocity $\\omega_b$ is $\\omega_b = 2\\pi / t_{synodic}$.\n",
    "\n",
    "\n"
   ]
  },
  {
   "cell_type": "markdown",
   "metadata": {},
   "source": [
    "### normalization\n",
    "$t^* = t_{syderial} = 27.5 * 86400$ [s], \n",
    "\n",
    "$l^*$ = Earth-Moon distance,\n",
    "\n",
    "$m^* = m_E + m_M$."
   ]
  },
  {
   "cell_type": "code",
   "execution_count": 1,
   "metadata": {},
   "outputs": [
    {
     "name": "stderr",
     "output_type": "stream",
     "text": [
      "┌ Warning: For saving to png with the `Plotly` backend `PlotlyBase` and `PlotlyKaleido` need to be installed.\n",
      "│   err = ArgumentError(\"Package PlotlyBase not found in current path:\\n- Run `import Pkg; Pkg.add(\\\"PlotlyBase\\\")` to install the PlotlyBase package.\\n\")\n",
      "└ @ Plots C:\\Users\\yujit\\.julia\\packages\\Plots\\YbrTT\\src\\backends.jl:420\n"
     ]
    },
    {
     "data": {
      "text/plain": [
       "Plots.PlotlyBackend()"
      ]
     },
     "execution_count": 1,
     "metadata": {},
     "output_type": "execute_result"
    }
   ],
   "source": [
    "using Plots\n",
    "using LinearAlgebra\n",
    "using DifferentialEquations\n",
    "plotly()"
   ]
  },
  {
   "cell_type": "code",
   "execution_count": 18,
   "metadata": {},
   "outputs": [
    {
     "name": "stderr",
     "output_type": "stream",
     "text": [
      "WARNING: replacing module SailorMoon.\n",
      "┌ Warning: Replacing docs for `Main.SailorMoon.integrate_rk4 :: Union{Tuple{ODEProblem, Real}, Tuple{ODEProblem, Real, Union{Nothing, Vector{T} where T}}, Tuple{ODEProblem, Real, Union{Nothing, Vector{T} where T}, Bool}, Tuple{ODEProblem, Real, Union{Nothing, Vector{T} where T}, Bool, Bool}}` in module `Main.SailorMoon`\n",
      "└ @ Base.Docs docs\\Docs.jl:240\n",
      "WARNING: replacing module R3BP.\n"
     ]
    },
    {
     "data": {
      "text/plain": [
       "Main.SailorMoon.dynamics_params(0.987849414390376, 0.01215058560962404, 328900.5598102475, 384748.32292972936, 375700.3437894195, 388.8212386592645, -0.9251999994040079, 0.9251999994040079, 0.07480000059599223, 0.01709689063726318, 7.601281331451572)"
      ]
     },
     "execution_count": 18,
     "metadata": {},
     "output_type": "execute_result"
    }
   ],
   "source": [
    "include(\"../src/SailorMoon.jl\")   # relative path to main file of module\n",
    "include(\"../../julia-r3bp/R3BP/src/R3BP.jl\")\n",
    "param3b = SailorMoon.dyanmics_parameters()\n"
   ]
  },
  {
   "cell_type": "code",
   "execution_count": null,
   "metadata": {},
   "outputs": [],
   "source": []
  },
  {
   "cell_type": "code",
   "execution_count": 19,
   "metadata": {},
   "outputs": [
    {
     "data": {
      "text/plain": [
       "rhs_bcr4bp_sb1frame!"
      ]
     },
     "execution_count": 19,
     "metadata": {},
     "output_type": "execute_result"
    }
   ],
   "source": [
    "\"\"\"\n",
    "Right-hand side expression for state-vector in BCR4BP\n",
    "# Arguments\n",
    "    - `du`: cache array of duative of state-vector, mutated\n",
    "    - `u`: state-vector\n",
    "    - `p`: parameters, where p = [μ2, μS, as, θ0, ωM, τ, γ, β, mdot, tmax]\n",
    "        m* : mE + mL (6.0455 * 10^22)\n",
    "        μ2 : mL / m* (0.012150585609624)\n",
    "        μS : mS / m* (0.00000303951)\n",
    "        as : (sun-B1 distance) / l* (388.709677419)\n",
    "            l* : Earth-moon distance (384,400 km)\n",
    "        ωM : Earth-Moon line's angular velocity around E-M barycenter\n",
    "        τ  : thrust magnitude (0~1)\n",
    "        γ  : thrust angle 1\n",
    "        β  : thrust angle 2\n",
    "        mdot : mass-flow rate\n",
    "        tmax : max thrust\n",
    "    - `t`: time\n",
    "\"\"\"\n",
    "function rhs_bcr4bp_sb1frame!(du,u,p,t)\n",
    "    # unpack state\n",
    "    x, y, z = u[1], u[2], u[3]\n",
    "    vx, vy, vz = u[4], u[5], u[6]\n",
    "    μ2, μS, as, θ0, ωM, ωb = p[1], p[2], p[3], p[4], p[5], p[6]\n",
    "    τ, γ, β, mdot, tmax = p[7], p[8], p[9], p[10], p[11]\n",
    "    \n",
    "    θ = θ0 + ωM * t  # moon angle\n",
    "\n",
    "    # create Thrust term\n",
    "#     T = dv_inertial_angles([τ,γ,β])\n",
    "    T = [0.0, 0.0, 0.0]\n",
    "    Tx, Ty, Tz = T * tmax / u[7]  # mdot\n",
    "\n",
    "\n",
    "    # derivatives of positions\n",
    "    du[1] = u[4]\n",
    "    du[2] = u[5]\n",
    "    du[3] = u[6]\n",
    "\n",
    "    # earth and moon location\n",
    "    xe = - μ2 *cos(θ) + as * μS/(μS+1) \n",
    "    ye = - μ2 *sin(θ)\n",
    "    ze = 0\n",
    "\n",
    "    xm = (1-μ2) *cos(θ) + as * μS/(μS+1) \n",
    "    ym = (1-μ2) *sin(θ)\n",
    "    zm = 0\n",
    "#     println(xe, \" \", ye, \" \", ze)\n",
    "\n",
    "    # compute distances\n",
    "    r30 = sqrt((-as/(μS+1) - x)^2 + y^2 + z^2)      # SC-Sun\n",
    "    r31 = sqrt((xe - x)^2 + (ye - y)^2 + (ze-z)^2)  # SC-earth\n",
    "    r32 = sqrt((xm - x)^2 + (ym - y)^2 + (zm-z)^2)  # SC-Moon\n",
    "#     println(r30, \" \", r31, \" \", r32)\n",
    "\n",
    "    Fx = -(μS)*(x+as/(μS+1))/r30^3 - (1-μ2)*(x-xe)/r31^3 - μ2*(x-xm)/r32^3 + Tx\n",
    "    Fy = -(μS)* y /r30^3           - (1-μ2)*(y-ye)/r31^3 - μ2*(y-ym)/r32^3 + Ty\n",
    "    Fz = -(μS)* z /r30^3           - (1-μ2)*(z-ze)/r31^3 - μ2*(z-zm)/r32^3 + Tz\n",
    "#     println(-μS*(x-1/(μS+1))/r30^3 , \" \", - (1-μ2)*(x-xe)/r31^3, \" \",  - μ2*(x-xm)/r32^3)    \n",
    "    \n",
    "    ωb = 0.07480000059599223\n",
    "    du[4] =  2*ωb*vy + ωb^2*x + Fx\n",
    "    du[5] = -2*ωb*vx + ωb^2*y + Fy\n",
    "    du[6] =                   + Fz\n",
    "\n",
    "    du[7] = -mdot * τ\n",
    "end"
   ]
  },
  {
   "cell_type": "code",
   "execution_count": 20,
   "metadata": {},
   "outputs": [
    {
     "data": {
      "text/plain": [
       "rhs_bcr4bp_sb1frame2!"
      ]
     },
     "execution_count": 20,
     "metadata": {},
     "output_type": "execute_result"
    }
   ],
   "source": [
    "\"\"\"\n",
    "Assumption: B1 rotates around Sun (not B2)...\n",
    "This is for making the dynamics compatible to the EM rotating frame's BCR4BP\n",
    "\"\"\"\n",
    "function rhs_bcr4bp_sb1frame2!(du,u,p,t)\n",
    "    # unpack state\n",
    "    x, y, z = u[1], u[2], u[3]\n",
    "    vx, vy, vz = u[4], u[5], u[6]\n",
    "    μ2, μS, as, θ0, ωM, ωb = p[1], p[2], p[3], p[4], p[5], p[6]\n",
    "    τ, γ, β, mdot, tmax = p[7], p[8], p[9], p[10], p[11]\n",
    "\n",
    "    θ = θ0 + ωM * t  # moon angle\n",
    "\n",
    "    # create Thrust term\n",
    "#     T = dv_inertial_angles([τ,γ,β])\n",
    "    T = [0.0, 0.0, 0.0]\n",
    "    Tx, Ty, Tz = T * tmax / u[7]  # mdot\n",
    "\n",
    "\n",
    "    # derivatives of positions\n",
    "    du[1] = u[4]\n",
    "    du[2] = u[5]\n",
    "    du[3] = u[6]\n",
    "\n",
    "    # earth and moon location\n",
    "    xe = - μ2 *cos(θ) + as \n",
    "    ye = - μ2 *sin(θ)\n",
    "    ze = 0\n",
    "\n",
    "    xm = (1-μ2) *cos(θ) + as\n",
    "    ym = (1-μ2) *sin(θ)\n",
    "    zm = 0\n",
    "#     println(xe, \" \", ye, \" \", ze)\n",
    "\n",
    "    # compute distances\n",
    "    r30 = sqrt(x^2 + y^2 + z^2)      # SC-Sun\n",
    "    r31 = sqrt((xe - x)^2 + (ye - y)^2 + (ze-z)^2)  # SC-earth\n",
    "    r32 = sqrt((xm - x)^2 + (ym - y)^2 + (zm-z)^2)  # SC-Moon\n",
    "#     println(r30, \" \", r31, \" \", r32)\n",
    "\n",
    "    Fx = -(μS)*(x)/r30^3 - (1-μ2)*(x-xe)/r31^3 - μ2*(x-xm)/r32^3 + Tx\n",
    "    Fy = -(μS)* y /r30^3           - (1-μ2)*(y-ye)/r31^3 - μ2*(y-ym)/r32^3 + Ty\n",
    "    Fz = -(μS)* z /r30^3           - (1-μ2)*(z-ze)/r31^3 - μ2*(z-zm)/r32^3 + Tz\n",
    "#     println(-μS*(x-1/(μS+1))/r30^3 , \" \", - (1-μ2)*(x-xe)/r31^3, \" \",  - μ2*(x-xm)/r32^3)    \n",
    "    \n",
    "\n",
    "    ωb = 0.07480000059599223\n",
    "    du[4] =  2*ωb*vy + ωb^2*x + Fx\n",
    "    du[5] = -2*ωb*vx + ωb^2*y + Fy\n",
    "    du[6] =                   + Fz\n",
    "\n",
    "    du[7] = -mdot * τ\n",
    "end"
   ]
  },
  {
   "cell_type": "code",
   "execution_count": 21,
   "metadata": {},
   "outputs": [
    {
     "data": {
      "text/plain": [
       "rhs_bcr4bp_thrust! (generic function with 1 method)"
      ]
     },
     "execution_count": 21,
     "metadata": {},
     "output_type": "execute_result"
    }
   ],
   "source": [
    "function rhs_bcr4bp_thrust!(du,u,p,t)\n",
    "    # unpack arguments\n",
    "    μ, μ_3, t0, a_s, ω_s, τ, θ, β, mdot, tmax = p\n",
    "    # decompose state\n",
    "    x, y, z, vx, vy, vz, mass = u\n",
    "\n",
    "    # calculate radii\n",
    "    r1 = sqrt( (x+μ)^2 + y^2 + z^2 )\n",
    "    r2 = sqrt( (x-1+μ)^2 + y^2 + z^2 )\n",
    "\n",
    "    # sun position\n",
    "    xs = a_s*cos(ω_s*t + t0)\n",
    "    ys = a_s*sin(ω_s*t + t0)\n",
    "    zs = 0.0\n",
    "    r3 = sqrt( (x-xs)^2 + (y-ys)^2 + (z-zs)^2 )\n",
    "\n",
    "    # compute delta-V vector\n",
    "#     dir_v = dv_lvlh2inertial(u[1:6], [τ, θ, β])\n",
    "    dir_v = [0.0, 0.0, 0.0]\n",
    "    ts = tmax*dir_v\n",
    "\n",
    "    # position-state derivative\n",
    "    du[1] = vx\n",
    "    du[2] = vy\n",
    "    du[3] = vz\n",
    "\n",
    "    # velocity derivatives: Earth, moon, sun\n",
    "    du[4] =  2*vy + x - ((1-μ)/r1^3)*(μ+x)  + (μ/r2^3)*(1-μ-x)  + ( -(μ_3/r3^3)*(x-xs) - (μ_3/a_s^3)*xs ) + ts[1]/mass\n",
    "    du[5] = -2*vx + y - ((1-μ)/r1^3)*y      - (μ/r2^3)*y        + ( -(μ_3/r3^3)*(y-ys) - (μ_3/a_s^3)*ys ) + ts[2]/mass\n",
    "    du[6] =           - ((1-μ)/r1^3)*z      - (μ/r2^3)*z        + ( -(μ_3/r3^3)*(z)    - (μ_3/a_s^3)*zs ) + ts[3]/mass\n",
    "    \n",
    "#     println(r1, \" \", r2, \" \", r3)\n",
    "#     println(((1-μ)/r1^3)*(μ+x), \" \", (μ/r2^3)*(1-μ-x), \" \",  -(μ_3/r3^3)*(x-xs) )\n",
    "\n",
    "    # mass derivative\n",
    "    du[7] = -mdot*τ\n",
    "end"
   ]
  },
  {
   "cell_type": "code",
   "execution_count": 22,
   "metadata": {},
   "outputs": [
    {
     "data": {
      "text/plain": [
       "transform_EMrot_to_SunB1"
      ]
     },
     "execution_count": 22,
     "metadata": {},
     "output_type": "execute_result"
    }
   ],
   "source": [
    "\"\"\"\n",
    "    transform_EMrot_to_SunB1(state::Vector, θs::Real, ωs::Real)\n",
    "\n",
    "Transform state from Earth-Moon rotating frame to Sun-B1 rotating frame.\n",
    "Careful with sign of ωs!! (should be negative)\n",
    "\"\"\"\n",
    "function transform_EMrot_to_SunB1(state::Vector, θs::Real, ωs::Real)\n",
    "    ωm = -ωs\n",
    "    θm = π - θs\n",
    "    cos_θm = cos(θm)\n",
    "    sin_θm = sin(θm)\n",
    "    C = [\n",
    "        cos_θm      -sin_θm   0 0       0      0\n",
    "        sin_θm      cos_θm    0 0       0      0\n",
    "        0           0         1 0       0      0\n",
    "        -ωm*sin_θm -ωm*cos_θm 0 cos_θm -sin_θm 0 \n",
    "         ωm*cos_θm -ωm*sin_θm 0 sin_θm  cos_θm 0\n",
    "         0          0         0 0       0      1\n",
    "    ]\n",
    "    state_conv = C * state\n",
    "    state_conv = state_conv + [param3b.as, 0,0,0,0,0]\n",
    "    \n",
    "    return state_conv\n",
    "end\n"
   ]
  },
  {
   "cell_type": "code",
   "execution_count": 23,
   "metadata": {},
   "outputs": [
    {
     "data": {
      "text/plain": [
       "plot_circle (generic function with 2 methods)"
      ]
     },
     "execution_count": 23,
     "metadata": {},
     "output_type": "execute_result"
    }
   ],
   "source": [
    "function plot_circle(radius, x, y, n=100)\n",
    "    circle = zeros(2,n)\n",
    "    thetas = LinRange(0.0, 2π, n)\n",
    "    for i = 1:n\n",
    "        circle[1,i] = radius*cos(thetas[i]) + x\n",
    "        circle[2,i] = radius*sin(thetas[i]) + y\n",
    "    end\n",
    "    return circle\n",
    "end"
   ]
  },
  {
   "cell_type": "code",
   "execution_count": null,
   "metadata": {},
   "outputs": [],
   "source": []
  },
  {
   "cell_type": "code",
   "execution_count": null,
   "metadata": {},
   "outputs": [],
   "source": []
  },
  {
   "cell_type": "code",
   "execution_count": 24,
   "metadata": {},
   "outputs": [
    {
     "name": "stdout",
     "output_type": "stream",
     "text": [
      "0.9251999994040079\n"
     ]
    },
    {
     "data": {
      "text/plain": [
       "0.9251999994040079"
      ]
     },
     "execution_count": 24,
     "metadata": {},
     "output_type": "execute_result"
    }
   ],
   "source": [
    "θM = 180 / 180 * pi  \n",
    "ϕ0 = 0.0 # 5.27787565803085   #0.0\n",
    "t_sidereal = 27.3217   * 86400      # sec\n",
    "t_synodic  = 29.530588 * 86400      # sec\n",
    "ωb = 2*pi*(t_synodic - t_sidereal)/t_synodic/t_sidereal*param3b.tstar\n",
    "ωM = 2*pi / (t_synodic / param3b.tstar)\n",
    "param = [param3b.mu2, param3b.mus, param3b.as, θM, ωM, ωb, 0.0, 0.0, 0.0, 0.0, 0.0]\n",
    "println(param3b.oml)\n",
    "\n",
    "omegaM = 2pi/(t_synodic/param3b.tstar)"
   ]
  },
  {
   "cell_type": "code",
   "execution_count": null,
   "metadata": {},
   "outputs": [],
   "source": [
    "# initial condition: Halo orbit progapation\n",
    "lps = SailorMoon.lagrange_points(param3b.mu2)\n",
    "\n",
    "## set up of initial condition (Lyapunov orbit)\n",
    "lp = 2\n",
    "Az_km = 1200.0\n",
    "println(\"Halo guess Az_km: $Az_km\")\n",
    "northsouth = 3   # 1 or 3\n",
    "guess0 = R3BP.halo_analytical_construct(param3b.mu2, lp, Az_km, param3b.lstar, northsouth)\n",
    "res = R3BP.ssdc_periodic_xzplane([param3b.mu2,], guess0.x0, guess0.period, fix=\"period\")\n",
    "\n",
    "x0_stm = vcat(res.x0, reshape(I(6), (6^2,)))[:]\n",
    "prob_cr3bp_stm = ODEProblem(R3BP.rhs_cr3bp_svstm!, x0_stm, res.period, (param3b.mu2))\n",
    "sol = solve(prob_cr3bp_stm, Tsit5(), reltol=1e-12, abstol=1e-12)#, saveat=LinRange(0, period, n+1))\n",
    "monodromy = R3BP.get_stm(sol, 6)   # get monodromy matrix\n",
    "ys0 = R3BP.get_eigenvector(monodromy, true, 1) # monodromy eigenvector\n",
    "\n",
    "# arrival LPO object\n",
    "LPOArrival = SailorMoon.CR3BPLPO2(\n",
    "    res.x0, res.period, ys0, prob_cr3bp_stm, 1e-6, 1e-6, Tsit5(), 1e-12, 1e-12, 0.005\n",
    ");\n",
    "\n",
    "# xf in the Earth-moon rotating frame\n",
    "xf_em = SailorMoon.set_terminal_state2(ϕ0, θM, param3b, LPOArrival)\n",
    "\n",
    "# change coordination from EM rot. frame to Sun-B1 frame\n",
    "θs = π - θM\n",
    "ωs = param3b.oms\n",
    "xf_sb1 = vcat(transform_EMrot_to_SunB1(xf_em, θs, ωs), 1.0)\n",
    "println(xf_sb1)"
   ]
  },
  {
   "cell_type": "code",
   "execution_count": null,
   "metadata": {},
   "outputs": [],
   "source": [
    "\n",
    "# propagate ODE\n",
    "tspan = [0.0, -110 * 86400 / param3b.tstar]\n",
    "prob = ODEProblem(rhs_bcr4bp_sb1frame!, xf_sb1, tspan, param)\n",
    "sol = solve(prob, Tsit5(), reltol=1e-12, abstol=1e-12);\n",
    "\n",
    "prob2 = ODEProblem(rhs_bcr4bp_sb1frame2!, xf_sb1, tspan, param)\n",
    "sol2 = solve(prob2, Tsit5(), reltol=1e-12, abstol=1e-12);\n",
    "\n",
    "p=[param3b.mu2, param3b.mus, π-θM, param3b.as, param3b.oms, 0.0, 0.0, 0.0, 0.0, 0.0]\n",
    "xf_em = vcat(xf_em, 1.0)\n",
    "prob3 = ODEProblem(rhs_bcr4bp_thrust!, xf_em, tspan, p)\n",
    "sol3 = solve(prob3, Tsit5(), reltol=1e-12, abstol=1e-12);\n",
    "\n",
    "for k in 1:size(sol3)[2]\n",
    "    t = sol3.t[k]\n",
    "    θs = param3b.oms*t\n",
    "    sol3.u[k][1:6] = transform_EMrot_to_SunB1(sol3.u[k][1:6], θs, param3b.oms)\n",
    "#     print(solution[1:6,k])\n",
    "end\n"
   ]
  },
  {
   "cell_type": "code",
   "execution_count": null,
   "metadata": {},
   "outputs": [],
   "source": [
    "pcart = plot(size=(700,500), frame_style=:box, aspect_ratio=:equal, grid=0.4)\n",
    "plot!(pcart, Array(sol)[1,:], Array(sol)[2,:], color=:blue, linewidth=1.0, label=\"S-B1 rot.\", linestyle=:solid)\n",
    "plot!(pcart, Array(sol2)[1,:], Array(sol2)[2,:], color=:red, linewidth=1.0, label=\"S-B1 rot. (reduced)\", linestyle=:solid)\n",
    "plot!(pcart, Array(sol3)[1,:], Array(sol3)[2,:], color=:lime, linewidth=1.0, label=\"E-M rot.\", linestyle=:solid)\n",
    "\n",
    "\n",
    "\n",
    "moon = plot_circle(1-param3b.mu2, param3b.as , 0.0)\n",
    "earth = plot_circle(param3b.mu2, param3b.as, 0.0)\n",
    "moon_soi_outer = plot_circle(1-param3b.mu2+66000/param3b.lstar, param3b.as, 0.0)\n",
    "\n",
    "plot!(pcart, earth[1,:], earth[2,:], c=:black, lw=1.0, label=\"earth\")\n",
    "plot!(pcart, moon[1,:], moon[2,:], c=:dimgrey, lw=1.0, label=\"moon\")\n",
    "# plot!(pcart, moon_soi_outer[1,:], moon_soi_outer[2,:], c=:black, lw=1.0, label=\"moon_soi_outer\")"
   ]
  },
  {
   "cell_type": "code",
   "execution_count": null,
   "metadata": {},
   "outputs": [],
   "source": [
    "println(ωb)\n",
    "println(sqrt((param3b.mus + 1)/(param3b.as)^2))\n",
    "t_sidereal = 27.3217   * 86400      # sec\n",
    "t_synodic  = 29.530588 * 86400      # sec\n",
    "println((2*pi*(t_synodic - t_sidereal)/t_synodic)/t_sidereal*param3b.tstar)"
   ]
  },
  {
   "cell_type": "code",
   "execution_count": null,
   "metadata": {},
   "outputs": [],
   "source": []
  },
  {
   "cell_type": "code",
   "execution_count": null,
   "metadata": {},
   "outputs": [],
   "source": []
  },
  {
   "cell_type": "code",
   "execution_count": null,
   "metadata": {},
   "outputs": [],
   "source": []
  },
  {
   "cell_type": "code",
   "execution_count": null,
   "metadata": {},
   "outputs": [],
   "source": []
  }
 ],
 "metadata": {
  "kernelspec": {
   "display_name": "Julia 1.6.7",
   "language": "julia",
   "name": "julia-1.6"
  },
  "language_info": {
   "file_extension": ".jl",
   "mimetype": "application/julia",
   "name": "julia",
   "version": "1.6.7"
  }
 },
 "nbformat": 4,
 "nbformat_minor": 2
}
