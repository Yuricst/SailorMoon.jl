{
 "cells": [
  {
   "cell_type": "code",
   "execution_count": 19,
   "metadata": {},
   "outputs": [],
   "source": [
    "using DifferentialEquations\n",
    "using Plots\n",
    "using LinearAlgebra\n",
    "import ForwardDiff\n",
    "import DiffResults\n",
    "using AstrodynamicsBase\n",
    "using Printf\n",
    "using JSON\n",
    "using CSV\n",
    "using DataFrames\n",
    "using ColorSchemes\n",
    "using LaTeXStrings\n",
    "using Tables"
   ]
  },
  {
   "cell_type": "code",
   "execution_count": null,
   "metadata": {},
   "outputs": [],
   "source": []
  },
  {
   "cell_type": "code",
   "execution_count": null,
   "metadata": {},
   "outputs": [],
   "source": []
  },
  {
   "cell_type": "code",
   "execution_count": 20,
   "metadata": {},
   "outputs": [
    {
     "data": {
      "text/plain": [
       "\"../run/data/output_0619.csv\""
      ]
     },
     "execution_count": 20,
     "metadata": {},
     "output_type": "execute_result"
    }
   ],
   "source": [
    "### PARAMETERS ###################################\n",
    "# csv file to load the initial solution\n",
    "filename  = \"../run/data/diffcorr_0618_maxJCThrust.csv\"\n",
    "\n"
   ]
  },
  {
   "cell_type": "code",
   "execution_count": 21,
   "metadata": {},
   "outputs": [
    {
     "data": {
      "text/plain": [
       "\"output_opt_05192.csv\""
      ]
     },
     "execution_count": 21,
     "metadata": {},
     "output_type": "execute_result"
    }
   ],
   "source": [
    "df = CSV.read(filename, DataFrame; header=0)\n",
    "output_fname = \"output_opt_05192.csv\""
   ]
  },
  {
   "cell_type": "code",
   "execution_count": 22,
   "metadata": {},
   "outputs": [
    {
     "data": {
      "text/plain": [
       "21700"
      ]
     },
     "execution_count": 22,
     "metadata": {},
     "output_type": "execute_result"
    }
   ],
   "source": [
    "h = size(df, 1)"
   ]
  },
  {
   "cell_type": "code",
   "execution_count": 55,
   "metadata": {},
   "outputs": [],
   "source": [
    "for i = collect(1:217)\n",
    "    row = df[100*(i-1)+1:100*i,:]\n",
    "    row = Tables.matrix(row)\n",
    "    row = vec(row)\n",
    "    row = transpose(row)\n",
    "    row = Tables.table(row)    \n",
    "    CSV.write(output_fname,  row, header=false, append=true)\n",
    "    \n",
    "end"
   ]
  },
  {
   "cell_type": "code",
   "execution_count": 53,
   "metadata": {},
   "outputs": [
    {
     "data": {
      "text/plain": [
       "10-element Vector{Float64}:\n",
       "   1.0\n",
       "  23.34385474714381\n",
       "   1.0000000000512108\n",
       " 389.36091764741457\n",
       "  -0.8206612956209202\n",
       "  -5.324975193310116e-24\n",
       "   0.7945861687734361\n",
       "  -0.9589480395033531\n",
       "  -1.0853514365490703e-23\n",
       "   1.0000000000512108"
      ]
     },
     "execution_count": 53,
     "metadata": {},
     "output_type": "execute_result"
    }
   ],
   "source": [
    "row = df[1:10,:]\n",
    "row = Tables.matrix(row)\n",
    "vec(row)"
   ]
  },
  {
   "cell_type": "code",
   "execution_count": 52,
   "metadata": {},
   "outputs": [
    {
     "data": {
      "text/plain": [
       "10-element Vector{Float64}:\n",
       "   1.0\n",
       "  23.34385474714381\n",
       "   1.0000000000512108\n",
       " 389.36091764741457\n",
       "  -0.8206612956209202\n",
       "  -5.324975193310116e-24\n",
       "   0.7945861687734361\n",
       "  -0.9589480395033531\n",
       "  -1.0853514365490703e-23\n",
       "   1.0000000000512108"
      ]
     },
     "execution_count": 52,
     "metadata": {},
     "output_type": "execute_result"
    }
   ],
   "source": []
  },
  {
   "cell_type": "code",
   "execution_count": null,
   "metadata": {},
   "outputs": [],
   "source": []
  }
 ],
 "metadata": {
  "kernelspec": {
   "display_name": "Julia 1.8.5",
   "language": "julia",
   "name": "julia-1.8"
  },
  "language_info": {
   "file_extension": ".jl",
   "mimetype": "application/julia",
   "name": "julia",
   "version": "1.8.5"
  }
 },
 "nbformat": 4,
 "nbformat_minor": 2
}
