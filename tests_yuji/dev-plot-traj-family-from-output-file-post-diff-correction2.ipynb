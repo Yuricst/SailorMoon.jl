{
 "cells": [
  {
   "cell_type": "code",
   "execution_count": 1,
   "metadata": {},
   "outputs": [],
   "source": [
    "using DifferentialEquations\n",
    "using Plots\n",
    "using LinearAlgebra\n",
    "import ForwardDiff\n",
    "import DiffResults\n",
    "using AstrodynamicsBase\n",
    "using Printf\n",
    "using JSON\n",
    "using CSV\n",
    "using DataFrames\n",
    "using ColorSchemes\n",
    "using LaTeXStrings"
   ]
  },
  {
   "cell_type": "code",
   "execution_count": 2,
   "metadata": {},
   "outputs": [
    {
     "name": "stderr",
     "output_type": "stream",
     "text": [
      "\u001b[33m\u001b[1m┌ \u001b[22m\u001b[39m\u001b[33m\u001b[1mWarning: \u001b[22m\u001b[39mReplacing docs for `Main.SailorMoon.integrate_rk4 :: Union{Tuple{ODEProblem, Real}, Tuple{ODEProblem, Real, Union{Nothing, Vector}}, Tuple{ODEProblem, Real, Union{Nothing, Vector}, Bool}, Tuple{ODEProblem, Real, Union{Nothing, Vector}, Bool, Bool}}` in module `Main.SailorMoon`\n",
      "\u001b[33m\u001b[1m└ \u001b[22m\u001b[39m\u001b[90m@ Base.Docs docs\\Docs.jl:240\u001b[39m\n"
     ]
    },
    {
     "data": {
      "text/plain": [
       "16"
      ]
     },
     "execution_count": 2,
     "metadata": {},
     "output_type": "execute_result"
    }
   ],
   "source": [
    "include(\"../src/SailorMoon.jl\")   # relative path to main file of module\n",
    "param3b = SailorMoon.dynamics_parameters()\n",
    "paramMulti = SailorMoon.multi_shoot_parameters(param3b)\n",
    "gr()\n",
    "fs = 16\n"
   ]
  },
  {
   "cell_type": "code",
   "execution_count": 3,
   "metadata": {},
   "outputs": [
    {
     "data": {
      "text/plain": [
       "plot_circle (generic function with 2 methods)"
      ]
     },
     "execution_count": 3,
     "metadata": {},
     "output_type": "execute_result"
    }
   ],
   "source": [
    "function plot_circle(radius, x, y, n=100)\n",
    "    circle = zeros(2,n)\n",
    "    thetas = LinRange(0.0, 2π, n)\n",
    "    for i = 1:n\n",
    "        circle[1,i] = radius*cos(thetas[i]) + x\n",
    "        circle[2,i] = radius*sin(thetas[i]) + y\n",
    "    end\n",
    "    return circle\n",
    "end"
   ]
  },
  {
   "cell_type": "code",
   "execution_count": 4,
   "metadata": {},
   "outputs": [],
   "source": [
    "moon     = plot_circle((1-param3b.mu2)*param3b.lstar, 0.0, 0.0)\n",
    "earth    = plot_circle(param3b.mu2*param3b.lstar, 0.0, 0.0)\n",
    "earth_ub = plot_circle(param3b.mu2*param3b.lstar+6375,0.0, 0.0)\n",
    "earth_lb = plot_circle(param3b.mu2*param3b.lstar-6375, 0.0, 0.0)\n",
    "moon_soi_outer = plot_circle((1-param3b.mu2)*param3b.lstar+66000, 0.0, 0.0);"
   ]
  },
  {
   "cell_type": "code",
   "execution_count": 5,
   "metadata": {},
   "outputs": [
    {
     "data": {
      "text/plain": [
       "interpolatecolor (generic function with 1 method)"
      ]
     },
     "execution_count": 5,
     "metadata": {},
     "output_type": "execute_result"
    }
   ],
   "source": [
    "function interpolatecolor(cs,value, vmin, vmax)\n",
    "    cs = cgrad(cs)\n",
    "    color = cs[(value - vmin) / (vmax - vmin)]\n",
    "    return color\n",
    "end"
   ]
  },
  {
   "cell_type": "code",
   "execution_count": 8,
   "metadata": {},
   "outputs": [],
   "source": [
    "### PARAMETERS ###################################\n",
    "# csv file to load the initial solution\n",
    "filename = \"../run/data/diffcorr_0618_maxJCThrust2.csv\"\n",
    "# dv_dir function corresponding to the csv file \n",
    "dir_func = SailorMoon.dv_EMrotdir_sb1frame \n",
    "\n",
    "n_arc = 5\n",
    "\n",
    "cs = :lightrainbow \n",
    "##################################################\n",
    "\n",
    "if dir_func == SailorMoon.dv_no_thrust\n",
    "    τ_ig = 0.0\n",
    "else \n",
    "    τ_ig = 1.0\n",
    "end\n",
    "\n",
    "# load initial guess\n",
    "df = CSV.read(filename, DataFrame; header=0);\n",
    "\n",
    "arcs_color = Dict(\n",
    "    \"xlr_bck_arc\" => :blue, \n",
    "    \"xlr_fwd_arc\" => :blue,\n",
    "    \"mid_bck_arc\" => :blue, \n",
    "    \"mid_fwd_arc\" => :blue, \n",
    "    \"lpo_arc\" => :blue\n",
    ")\n",
    "\n",
    "\n",
    "pcart = plot(\n",
    "    size=(700,500), frame_style=:box, aspect_ratio=:equal, grid=0.4, legend=false, \n",
    "    xlabel=L\"x, \\times10^6\\textrm{km}\", ylabel=L\"y, \\times10^6\\textrm{km}\",\n",
    "    colorbar_titlefontsize=fs,\n",
    "    fontsize=fs, xlabelfontsize=fs, ylabelfontsize=fs, xtickfontsize=fs-1, ytickfontsize=fs-1, legendfontsize=fs-1\n",
    ");\n",
    "\n",
    "p_time = plot(\n",
    "    size=(700,500), frame_style=:box, grid=0.4, legend=false, \n",
    "    xlabel=L\"time, s\", ylabel=L\"value\",\n",
    "    colorbar_titlefontsize=fs,\n",
    "    fontsize=fs, xlabelfontsize=fs, ylabelfontsize=fs, xtickfontsize=fs-1, ytickfontsize=fs-1, legendfontsize=fs-1\n",
    ");"
   ]
  },
  {
   "cell_type": "code",
   "execution_count": 12,
   "metadata": {},
   "outputs": [
    {
     "name": "stdout",
     "output_type": "stream",
     "text": [
      "Real[387.80838448126445, -0.051527743, 0, -0.992156086, -0.209027105, 0, 1.02182641, 0.61635906, 1.344808877, 0, 0, 0, 0, 0, 0, 0, 0, 0, 0, 0, 0, 0, 0, 0, 1.0, -0.002978309, 0, 1.0, -0.002819098, 0, 1.0, -0.002696638, 0, 1.0, -0.0025989, 0, 1.0, -0.002675911, 0, 386.75766448726444, -0.607444434, 0, 0.061763678, -0.202223858, 0, 1.013681089, 1.978384756, 3.940824267, 1.0, -0.007882178, 0, 1.0, -0.006553537, 0, 1.0, -0.005365334, 0, 1.0, -0.004486053, 0, 1.0, -0.003841251, 0, 1.0, -0.0148626, 0, 1.0, -0.015284504, 0, 1.0, -0.013746694, 0, 1.0, -0.009683754, 0, 1.0, -0.002597671, 0, 1.932108637, -0.011420799, 1, 3.940601504, 1.0, 0.004926884, 0, 1.0, 0.004463699, 0, 1.0, -0.936917462, 0, 1.0, 0.002562049, 0, 1.0, 0.001202174, 0]\n"
     ]
    },
    {
     "ename": "LoadError",
     "evalue": "MethodError: no method matching OrdinaryDiffEq.Tsit5Cache(::Vector{Real}, ::Vector{Real}, ::Vector{Float64}, ::Vector{Float64}, ::Vector{Float64}, ::Vector{Float64}, ::Vector{Float64}, ::Vector{Float64}, ::Vector{Float64}, ::Vector{Int64}, ::Vector{Int64}, ::Vector{Int64}, ::typeof(OrdinaryDiffEq.trivial_limiter!), ::typeof(OrdinaryDiffEq.trivial_limiter!), ::Static.False)\n\u001b[0mClosest candidates are:\n\u001b[0m  OrdinaryDiffEq.Tsit5Cache(::var\"#873#uType\", ::var\"#873#uType\", ::var\"#874#rateType\", ::var\"#874#rateType\", ::var\"#874#rateType\", ::var\"#874#rateType\", ::var\"#874#rateType\", ::var\"#874#rateType\", ::var\"#874#rateType\", \u001b[91m::var\"#873#uType\"\u001b[39m, \u001b[91m::var\"#873#uType\"\u001b[39m, ::var\"#875#uNoUnitsType\", ::var\"#876#StageLimiter\", ::var\"#877#StepLimiter\", ::var\"#878#Thread\") where {var\"#873#uType\", var\"#874#rateType\", var\"#875#uNoUnitsType\", var\"#876#StageLimiter\", var\"#877#StepLimiter\", var\"#878#Thread\"} at C:\\Users\\yujit\\.julia\\packages\\OrdinaryDiffEq\\YiFDF\\src\\caches\\low_order_rk_caches.jl:419",
     "output_type": "error",
     "traceback": [
      "MethodError: no method matching OrdinaryDiffEq.Tsit5Cache(::Vector{Real}, ::Vector{Real}, ::Vector{Float64}, ::Vector{Float64}, ::Vector{Float64}, ::Vector{Float64}, ::Vector{Float64}, ::Vector{Float64}, ::Vector{Float64}, ::Vector{Int64}, ::Vector{Int64}, ::Vector{Int64}, ::typeof(OrdinaryDiffEq.trivial_limiter!), ::typeof(OrdinaryDiffEq.trivial_limiter!), ::Static.False)\n\u001b[0mClosest candidates are:\n\u001b[0m  OrdinaryDiffEq.Tsit5Cache(::var\"#873#uType\", ::var\"#873#uType\", ::var\"#874#rateType\", ::var\"#874#rateType\", ::var\"#874#rateType\", ::var\"#874#rateType\", ::var\"#874#rateType\", ::var\"#874#rateType\", ::var\"#874#rateType\", \u001b[91m::var\"#873#uType\"\u001b[39m, \u001b[91m::var\"#873#uType\"\u001b[39m, ::var\"#875#uNoUnitsType\", ::var\"#876#StageLimiter\", ::var\"#877#StepLimiter\", ::var\"#878#Thread\") where {var\"#873#uType\", var\"#874#rateType\", var\"#875#uNoUnitsType\", var\"#876#StageLimiter\", var\"#877#StepLimiter\", var\"#878#Thread\"} at C:\\Users\\yujit\\.julia\\packages\\OrdinaryDiffEq\\YiFDF\\src\\caches\\low_order_rk_caches.jl:419",
      "",
      "Stacktrace:",
      " [1] alg_cache(alg::Tsit5{typeof(OrdinaryDiffEq.trivial_limiter!), typeof(OrdinaryDiffEq.trivial_limiter!), Static.False}, u::Vector{Real}, rate_prototype::Vector{Float64}, #unused#::Type{Int64}, #unused#::Type{Int64}, #unused#::Type{Float64}, uprev::Vector{Real}, uprev2::Vector{Real}, f::ODEFunction{true, SciMLBase.AutoSpecialize, typeof(Main.SailorMoon.rhs_bcr4bp_sb1frame2_thrust!), UniformScaling{Bool}, Nothing, Nothing, Nothing, Nothing, Nothing, Nothing, Nothing, Nothing, Nothing, Nothing, Nothing, Nothing, Nothing, typeof(SciMLBase.DEFAULT_OBSERVED), Nothing, Nothing}, t::Float64, dt::Float64, reltol::Float64, p::Vector{Any}, calck::Bool, #unused#::Val{true})",
      "   @ OrdinaryDiffEq C:\\Users\\yujit\\.julia\\packages\\OrdinaryDiffEq\\YiFDF\\src\\caches\\low_order_rk_caches.jl:525",
      " [2] __init(prob::ODEProblem{Vector{Real}, Tuple{Float64, Float64}, true, Vector{Any}, ODEFunction{true, SciMLBase.AutoSpecialize, typeof(Main.SailorMoon.rhs_bcr4bp_sb1frame2_thrust!), UniformScaling{Bool}, Nothing, Nothing, Nothing, Nothing, Nothing, Nothing, Nothing, Nothing, Nothing, Nothing, Nothing, Nothing, Nothing, typeof(SciMLBase.DEFAULT_OBSERVED), Nothing, Nothing}, Base.Pairs{Symbol, Union{}, Tuple{}, NamedTuple{(), Tuple{}}}, SciMLBase.StandardODEProblem}, alg::Tsit5{typeof(OrdinaryDiffEq.trivial_limiter!), typeof(OrdinaryDiffEq.trivial_limiter!), Static.False}, timeseries_init::Tuple{}, ts_init::Tuple{}, ks_init::Tuple{}, recompile::Type{Val{true}}; saveat::Tuple{}, tstops::Tuple{}, d_discontinuities::Tuple{}, save_idxs::Nothing, save_everystep::Bool, save_on::Bool, save_start::Bool, save_end::Nothing, callback::Nothing, dense::Bool, calck::Bool, dt::Float64, dtmin::Nothing, dtmax::Float64, force_dtmin::Bool, adaptive::Bool, gamma::Rational{Int64}, abstol::Float64, reltol::Float64, qmin::Rational{Int64}, qmax::Int64, qsteady_min::Int64, qsteady_max::Int64, beta1::Nothing, beta2::Nothing, qoldinit::Rational{Int64}, controller::Nothing, fullnormalize::Bool, failfactor::Int64, maxiters::Int64, internalnorm::typeof(DiffEqBase.ODE_DEFAULT_NORM), internalopnorm::typeof(opnorm), isoutofdomain::typeof(DiffEqBase.ODE_DEFAULT_ISOUTOFDOMAIN), unstable_check::typeof(DiffEqBase.ODE_DEFAULT_UNSTABLE_CHECK), verbose::Bool, timeseries_errors::Bool, dense_errors::Bool, advance_to_tstop::Bool, stop_at_next_tstop::Bool, initialize_save::Bool, progress::Bool, progress_steps::Int64, progress_name::String, progress_message::typeof(DiffEqBase.ODE_DEFAULT_PROG_MESSAGE), userdata::Nothing, allow_extrapolation::Bool, initialize_integrator::Bool, alias_u0::Bool, alias_du0::Bool, initializealg::OrdinaryDiffEq.DefaultInit, kwargs::Base.Pairs{Symbol, Union{}, Tuple{}, NamedTuple{(), Tuple{}}})",
      "   @ OrdinaryDiffEq C:\\Users\\yujit\\.julia\\packages\\OrdinaryDiffEq\\YiFDF\\src\\solve.jl:322",
      " [3] __solve(::ODEProblem{Vector{Real}, Tuple{Float64, Float64}, true, Vector{Any}, ODEFunction{true, SciMLBase.AutoSpecialize, typeof(Main.SailorMoon.rhs_bcr4bp_sb1frame2_thrust!), UniformScaling{Bool}, Nothing, Nothing, Nothing, Nothing, Nothing, Nothing, Nothing, Nothing, Nothing, Nothing, Nothing, Nothing, Nothing, typeof(SciMLBase.DEFAULT_OBSERVED), Nothing, Nothing}, Base.Pairs{Symbol, Union{}, Tuple{}, NamedTuple{(), Tuple{}}}, SciMLBase.StandardODEProblem}, ::Tsit5{typeof(OrdinaryDiffEq.trivial_limiter!), typeof(OrdinaryDiffEq.trivial_limiter!), Static.False}; kwargs::Base.Pairs{Symbol, Float64, Tuple{Symbol, Symbol}, NamedTuple{(:reltol, :abstol), Tuple{Float64, Float64}}})",
      "   @ OrdinaryDiffEq C:\\Users\\yujit\\.julia\\packages\\OrdinaryDiffEq\\YiFDF\\src\\solve.jl:5",
      " [4] solve_call(_prob::ODEProblem{Vector{Real}, Tuple{Float64, Float64}, true, Vector{Any}, ODEFunction{true, SciMLBase.AutoSpecialize, typeof(Main.SailorMoon.rhs_bcr4bp_sb1frame2_thrust!), UniformScaling{Bool}, Nothing, Nothing, Nothing, Nothing, Nothing, Nothing, Nothing, Nothing, Nothing, Nothing, Nothing, Nothing, Nothing, typeof(SciMLBase.DEFAULT_OBSERVED), Nothing, Nothing}, Base.Pairs{Symbol, Union{}, Tuple{}, NamedTuple{(), Tuple{}}}, SciMLBase.StandardODEProblem}, args::Tsit5{typeof(OrdinaryDiffEq.trivial_limiter!), typeof(OrdinaryDiffEq.trivial_limiter!), Static.False}; merge_callbacks::Bool, kwargshandle::KeywordArgError, kwargs::Base.Pairs{Symbol, Float64, Tuple{Symbol, Symbol}, NamedTuple{(:reltol, :abstol), Tuple{Float64, Float64}}})",
      "   @ DiffEqBase C:\\Users\\yujit\\.julia\\packages\\DiffEqBase\\qPmC2\\src\\solve.jl:509",
      " [5] solve_up(prob::ODEProblem{Vector{Real}, Tuple{Float64, Float64}, true, Vector{Any}, ODEFunction{true, SciMLBase.AutoSpecialize, typeof(Main.SailorMoon.rhs_bcr4bp_sb1frame2_thrust!), UniformScaling{Bool}, Nothing, Nothing, Nothing, Nothing, Nothing, Nothing, Nothing, Nothing, Nothing, Nothing, Nothing, Nothing, Nothing, typeof(SciMLBase.DEFAULT_OBSERVED), Nothing, Nothing}, Base.Pairs{Symbol, Union{}, Tuple{}, NamedTuple{(), Tuple{}}}, SciMLBase.StandardODEProblem}, sensealg::Nothing, u0::Vector{Real}, p::Vector{Any}, args::Tsit5{typeof(OrdinaryDiffEq.trivial_limiter!), typeof(OrdinaryDiffEq.trivial_limiter!), Static.False}; kwargs::Base.Pairs{Symbol, Float64, Tuple{Symbol, Symbol}, NamedTuple{(:reltol, :abstol), Tuple{Float64, Float64}}})",
      "   @ DiffEqBase C:\\Users\\yujit\\.julia\\packages\\DiffEqBase\\qPmC2\\src\\solve.jl:932",
      " [6] solve(prob::ODEProblem{Vector{Real}, Tuple{Float64, Float64}, true, Vector{Any}, ODEFunction{true, SciMLBase.AutoSpecialize, typeof(Main.SailorMoon.rhs_bcr4bp_sb1frame2_thrust!), UniformScaling{Bool}, Nothing, Nothing, Nothing, Nothing, Nothing, Nothing, Nothing, Nothing, Nothing, Nothing, Nothing, Nothing, Nothing, typeof(SciMLBase.DEFAULT_OBSERVED), Nothing, Nothing}, Base.Pairs{Symbol, Union{}, Tuple{}, NamedTuple{(), Tuple{}}}, SciMLBase.StandardODEProblem}, args::Tsit5{typeof(OrdinaryDiffEq.trivial_limiter!), typeof(OrdinaryDiffEq.trivial_limiter!), Static.False}; sensealg::Nothing, u0::Nothing, p::Nothing, wrap::Val{true}, kwargs::Base.Pairs{Symbol, Float64, Tuple{Symbol, Symbol}, NamedTuple{(:reltol, :abstol), Tuple{Float64, Float64}}})",
      "   @ DiffEqBase C:\\Users\\yujit\\.julia\\packages\\DiffEqBase\\qPmC2\\src\\solve.jl:842",
      " [7] propagate_arc!(sv0::Vector{Real}, θ0::Float64, tspan::Vector{Float64}, x_control::Vector{Real}, dir_func::Function, param_multi::Main.SailorMoon.multishoot_params, get_sols::Bool, sol_param_list::Vector{Any}, name::String)",
      "   @ Main.SailorMoon C:\\Users\\yujit\\github\\SailorMoon.jl\\src\\multiple-shooting.jl:205",
      " [8] multishoot_trajectory2(x::Vector{Real}, dir_func::Function, param_multi::Main.SailorMoon.multishoot_params, get_sols::Bool, verbose::Bool, scale::Bool)",
      "   @ Main.SailorMoon C:\\Users\\yujit\\github\\SailorMoon.jl\\src\\multiple-shooting.jl:253",
      " [9] top-level scope",
      "   @ .\\In[12]:17"
     ]
    }
   ],
   "source": [
    "\n",
    "tofs= [row[1] for row in eachrow( df ) ] \n",
    "tof_max = maximum(tofs)\n",
    "tof_min = minimum(tofs)\n",
    "\n",
    "tof_max_days = tof_max * param3b.tstar / (24*60*60)\n",
    "tof_min_days = tof_min * param3b.tstar / (24*60*60)\n",
    "\n",
    "colors = [interpolatecolor(cs, row[1], tof_min, tof_max) for row in eachrow(df)]\n",
    "\n",
    "for (i, row) in enumerate( eachrow( df ) ) \n",
    "    \n",
    "    x = collect(values(row[4:end]))\n",
    "    println(x)\n",
    "    \n",
    "    color = colors[i]\n",
    "    res, sol_param_list, sols_ballistic, tofs = SailorMoon.multishoot_trajectory2(x, dir_func, paramMulti, true, false, false)\n",
    "        \n",
    "    # ballistic legs\n",
    "    for sol_ballistic in sols_ballistic\n",
    "#         plot!(pcart, (hcat(sol_ballistic.u...)[1,:].- param3b.as) .* param3b.lstar, hcat(sol_ballistic.u...)[2,:].*param3b.lstar, c=\"blue\", label=false)\n",
    "        plot!(pcart, (hcat(sol_ballistic.u...)[1,:].- param3b.as) .* param3b.lstar, hcat(sol_ballistic.u...)[2,:].*param3b.lstar, c=color, label=false)\n",
    "\n",
    "        if i == 1\n",
    "#             println(length(sol[7,:]))\n",
    "#             println(sol[7,:])\n",
    "#             println(sol.t)\n",
    "            scatter!(p_time, sol_ballistic.t[:],  sol_ballistic[7,:])\n",
    "        end\n",
    "   \n",
    "    end\n",
    "    \n",
    "    for j = 1:length(sol_param_list)\n",
    "        sol, _, name = sol_param_list[j]\n",
    "        \n",
    "#         plot!(pcart, (sol[1,:] .- param3b.as) .* param3b.lstar , sol[2,:].*param3b.lstar, c=\"blue\")  # if ther is one trajectory, set a color manually\n",
    "        plot!(pcart, (sol[1,:] .- param3b.as) .* param3b.lstar , sol[2,:].*param3b.lstar, c=color)\n",
    "        \n",
    "#         plot!(pcart, sol[1,:], sol[2,:], c=color)\n",
    "#         scatter!(pcart, [sol[1,1],sol[1,end]], [sol[2,1],sol[2,end]], label=false, c=arcs_color[name], marker=:circle)\n",
    "        \n",
    "        if i == 1\n",
    "#             println(length(sol[7,:]))\n",
    "#             println(sol[7,:])\n",
    "#             println(sol.t)\n",
    "            scatter!(p_time, sol.t[:],  sol[7,:])\n",
    "        end\n",
    "        \n",
    "    end\n",
    "    \n",
    "end\n",
    "\n",
    "\n",
    "plot!(pcart, earth[1,:], earth[2,:], c=:green, lw=1.0, label=\"earth\")\n",
    "plot!(pcart, earth_ub[1,:], earth_ub[2,:], c=:black, lw=1.0, label=\"earth\")\n",
    "plot!(pcart, earth_lb[1,:], earth_lb[2,:], c=:black, lw=1.0, label=\"earth\")\n",
    "plot!(pcart, moon[1,:], moon[2,:], c=:orange, lw=1.0, label=\"moon\")\n",
    "plot!(pcart, moon_soi_outer[1,:], moon_soi_outer[2,:], c=:black, lw=1.0, label=\"moon_soi_outer\",\n",
    "    xaxis=(formatter=x->string(round(x / 10^6; digits=2))),\n",
    "    yaxis=(formatter=y->string(round(y / 10^6; digits=1))),\n",
    ")\n",
    "\n",
    "pcart\n"
   ]
  },
  {
   "cell_type": "code",
   "execution_count": null,
   "metadata": {},
   "outputs": [],
   "source": [
    "p_time"
   ]
  },
  {
   "cell_type": "code",
   "execution_count": null,
   "metadata": {},
   "outputs": [],
   "source": []
  },
  {
   "cell_type": "code",
   "execution_count": null,
   "metadata": {},
   "outputs": [],
   "source": []
  },
  {
   "cell_type": "code",
   "execution_count": null,
   "metadata": {},
   "outputs": [],
   "source": []
  },
  {
   "cell_type": "code",
   "execution_count": null,
   "metadata": {},
   "outputs": [],
   "source": []
  },
  {
   "cell_type": "markdown",
   "metadata": {},
   "source": [
    "### Focus on the vicinity to the Earth "
   ]
  },
  {
   "cell_type": "code",
   "execution_count": null,
   "metadata": {},
   "outputs": [],
   "source": [
    "plot!(pcart; xlims=[-0.05, 0.05].*10^6, ylims=[-0.05,0.05].*10^6)\n"
   ]
  },
  {
   "cell_type": "code",
   "execution_count": null,
   "metadata": {},
   "outputs": [],
   "source": [
    "l = @layout [a{0.92w} b{0.03w}]\n",
    "\n",
    "p2 = heatmap(rand(2,2), clims=(tof_min_days, tof_max_days),\n",
    "    framestyle=:none, c=cs, cbar=true, lims=(-1,0), colorbar_title=\"\\nToF, days\",\n",
    "    colorbar_titlefontsize=fs,\n",
    "    colorbar_tickfontsize=fs-1,\n",
    "    fontsize=fs, xlabelfontsize=fs, ylabelfontsize=fs, xtickfontsize=fs-1, ytickfontsize=fs-1, legendfontsize=fs-1,\n",
    "    thickness_scaling = 1.6,\n",
    "    )\n",
    "\n",
    "plot(pcart, p2, layout=l, size=(900,500), \n",
    "#     top_margin=5Plots.mm,\n",
    "#     right_margin=5Plots.mm,\n",
    "#     left_margin=5Plots.mm, \n",
    "    bottom_margin=5Plots.mm, \n",
    "#     title=[\"No thrust\" \"Earth-Moon rotating thrust\" \"\"]\n",
    "    )\n",
    "\n",
    "savefig(\"traj_family.png\")\n"
   ]
  },
  {
   "cell_type": "code",
   "execution_count": null,
   "metadata": {},
   "outputs": [],
   "source": []
  },
  {
   "cell_type": "code",
   "execution_count": null,
   "metadata": {},
   "outputs": [],
   "source": []
  },
  {
   "cell_type": "code",
   "execution_count": null,
   "metadata": {},
   "outputs": [],
   "source": []
  }
 ],
 "metadata": {
  "kernelspec": {
   "display_name": "Julia 1.8.5",
   "language": "julia",
   "name": "julia-1.8"
  },
  "language_info": {
   "file_extension": ".jl",
   "mimetype": "application/julia",
   "name": "julia",
   "version": "1.8.5"
  }
 },
 "nbformat": 4,
 "nbformat_minor": 2
}
