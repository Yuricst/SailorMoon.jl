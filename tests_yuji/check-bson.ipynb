{
 "cells": [
  {
   "cell_type": "code",
   "execution_count": 1,
   "metadata": {},
   "outputs": [],
   "source": [
    "using DifferentialEquations\n",
    "using Plots\n",
    "using LinearAlgebra\n",
    "import ForwardDiff\n",
    "import DiffResults\n",
    "using AstrodynamicsBase\n",
    "# import joptimise\n",
    "using Printf\n",
    "using JSON\n",
    "using BSON"
   ]
  },
  {
   "cell_type": "code",
   "execution_count": 2,
   "metadata": {},
   "outputs": [
    {
     "ename": "LoadError",
     "evalue": "LoadError: LoadError: SystemError: opening file \"C:\\\\Users\\\\yujit\\\\OneDrive\\\\ドキュメント\\\\github\\\\SailorMoon.jl\\\\julia-r3bp\\\\R3BP\\\\src\\\\R3BP.jl\": No such file or directory\nin expression starting at C:\\Users\\yujit\\OneDrive\\ドキュメント\\github\\SailorMoon.jl\\src\\lpo\\build_lpo.jl:5\nin expression starting at C:\\Users\\yujit\\OneDrive\\ドキュメント\\github\\SailorMoon.jl\\src\\SailorMoon.jl:1",
     "output_type": "error",
     "traceback": [
      "LoadError: LoadError: SystemError: opening file \"C:\\\\Users\\\\yujit\\\\OneDrive\\\\ドキュメント\\\\github\\\\SailorMoon.jl\\\\julia-r3bp\\\\R3BP\\\\src\\\\R3BP.jl\": No such file or directory\nin expression starting at C:\\Users\\yujit\\OneDrive\\ドキュメント\\github\\SailorMoon.jl\\src\\lpo\\build_lpo.jl:5\nin expression starting at C:\\Users\\yujit\\OneDrive\\ドキュメント\\github\\SailorMoon.jl\\src\\SailorMoon.jl:1",
      "",
      "Stacktrace:",
      "  [1] systemerror(p::String, errno::Int32; extrainfo::Nothing)",
      "    @ Base .\\error.jl:168",
      "  [2] #systemerror#62",
      "    @ .\\error.jl:167 [inlined]",
      "  [3] systemerror",
      "    @ .\\error.jl:167 [inlined]",
      "  [4] open(fname::String; lock::Bool, read::Nothing, write::Nothing, create::Nothing, truncate::Nothing, append::Nothing)",
      "    @ Base .\\iostream.jl:293",
      "  [5] open",
      "    @ .\\iostream.jl:282 [inlined]",
      "  [6] open(f::Base.var\"#326#327\"{String}, args::String; kwargs::Base.Iterators.Pairs{Union{}, Union{}, Tuple{}, NamedTuple{(), Tuple{}}})",
      "    @ Base .\\io.jl:328",
      "  [7] open",
      "    @ .\\io.jl:328 [inlined]",
      "  [8] read",
      "    @ .\\io.jl:434 [inlined]",
      "  [9] _include(mapexpr::Function, mod::Module, _path::String)",
      "    @ Base .\\loading.jl:1166",
      " [10] include(mod::Module, _path::String)",
      "    @ Base .\\Base.jl:384",
      " [11] include(x::String)",
      "    @ Main.SailorMoon C:\\Users\\yujit\\OneDrive\\ドキュメント\\github\\SailorMoon.jl\\src\\SailorMoon.jl:1",
      " [12] top-level scope",
      "    @ C:\\Users\\yujit\\OneDrive\\ドキュメント\\github\\SailorMoon.jl\\src\\lpo\\build_lpo.jl:5",
      " [13] include(mod::Module, _path::String)",
      "    @ Base .\\Base.jl:384",
      " [14] include(x::String)",
      "    @ Main.SailorMoon C:\\Users\\yujit\\OneDrive\\ドキュメント\\github\\SailorMoon.jl\\src\\SailorMoon.jl:1",
      " [15] top-level scope",
      "    @ C:\\Users\\yujit\\OneDrive\\ドキュメント\\github\\SailorMoon.jl\\src\\SailorMoon.jl:11",
      " [16] include(fname::String)",
      "    @ Base.MainInclude .\\client.jl:444",
      " [17] top-level scope",
      "    @ In[2]:3",
      " [18] eval",
      "    @ .\\boot.jl:360 [inlined]",
      " [19] include_string(mapexpr::typeof(REPL.softscope), mod::Module, code::String, filename::String)",
      "    @ Base .\\loading.jl:1116"
     ]
    }
   ],
   "source": [
    "include(\"../../julia-r3bp/R3BP/src/R3BP.jl\")\n",
    "# using R3BP\n",
    "include(\"../src/SailorMoon.jl\")   # relative path to main file of module\n",
    "param3b = SailorMoon.dyanmics_parameters()"
   ]
  },
  {
   "cell_type": "code",
   "execution_count": null,
   "metadata": {},
   "outputs": [],
   "source": [
    "SailorMoon.build_lpo()"
   ]
  },
  {
   "cell_type": "code",
   "execution_count": null,
   "metadata": {},
   "outputs": [],
   "source": []
  },
  {
   "cell_type": "code",
   "execution_count": null,
   "metadata": {},
   "outputs": [],
   "source": []
  },
  {
   "cell_type": "code",
   "execution_count": null,
   "metadata": {},
   "outputs": [],
   "source": []
  },
  {
   "cell_type": "code",
   "execution_count": null,
   "metadata": {},
   "outputs": [],
   "source": []
  }
 ],
 "metadata": {
  "kernelspec": {
   "display_name": "Julia 1.6.7",
   "language": "julia",
   "name": "julia-1.6"
  },
  "language_info": {
   "file_extension": ".jl",
   "mimetype": "application/julia",
   "name": "julia",
   "version": "1.6.7"
  }
 },
 "nbformat": 4,
 "nbformat_minor": 2
}
