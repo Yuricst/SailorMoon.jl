{
 "cells": [
  {
   "cell_type": "markdown",
   "metadata": {},
   "source": [
    "## Sun B1 dynamics: nastier than expected...\n",
    "When we have 3BP dynamics in E-M rotating frame, we naturally forget about $\\omega$ as we normalize t* so that $\\omega$ = 1 (i.e., $t_1^*$ = 2$\\pi$ / (1 siderial period = 27.5days). \n",
    "This means omega should change if we want to discuss the dynamics in Sun-B1 frame ($t_2^*$ = 2$\\pi$ / 365 days), while we want to stick with $t_1^*$. Therefore, the angular velocity term in the centrifugal and Coriolis force emerges: $\\omega_b = 2\\pi$ / (365 days / 27.5 days).\n",
    "\n",
    "Additionally, according to Boudad's PhD thesis (C.19, P.235), the angular velocity of the E-M line should be $\\omega_M = |\\omega_S|/(1-|\\omega_S|) ~= 1.05$, rather than $\\omega_S = - t_{siderial}/t_{synodic} ~= -0.93$, which is the angular velocity of the Sun w.r.t. Earth-Moon rotating frame in BCR4P.\n",
    "\n",
    "\n"
   ]
  },
  {
   "cell_type": "markdown",
   "metadata": {},
   "source": [
    "### normalization\n",
    "$t^* = t_{syderial} = 27.5 * 86400$ [s], \n",
    "\n",
    "$l^*$ = Earth-Moon distance,\n",
    "\n",
    "$m^* = m_E + m_M$."
   ]
  },
  {
   "cell_type": "code",
   "execution_count": null,
   "metadata": {},
   "outputs": [],
   "source": [
    "using Plots\n",
    "using LinearAlgebra\n",
    "using DifferentialEquations\n",
    "plotly()"
   ]
  },
  {
   "cell_type": "code",
   "execution_count": null,
   "metadata": {},
   "outputs": [],
   "source": [
    "include(\"../src/SailorMoon.jl\")   # relative path to main file of module\n",
    "include(\"../../julia-r3bp/R3BP/src/R3BP.jl\")\n",
    "param3b = SailorMoon.dyanmics_parameters()\n"
   ]
  },
  {
   "cell_type": "code",
   "execution_count": null,
   "metadata": {},
   "outputs": [],
   "source": []
  },
  {
   "cell_type": "code",
   "execution_count": null,
   "metadata": {},
   "outputs": [],
   "source": [
    "\"\"\"\n",
    "Right-hand side expression for state-vector in BCR4BP\n",
    "# Arguments\n",
    "    - `du`: cache array of duative of state-vector, mutated\n",
    "    - `u`: state-vector\n",
    "    - `p`: parameters, where p = [μ2, μS, as, θ0, ωM, τ, γ, β, mdot, tmax]\n",
    "        m* : mE + mL (6.0455 * 10^22)\n",
    "        μ2 : mL / m* (0.012150585609624)\n",
    "        μS : mS / m* (0.00000303951)\n",
    "        as : (sun-B1 distance) / l* (388.709677419)\n",
    "            l* : Earth-moon distance (384,400 km)\n",
    "        ωM : Earth-Moon line's angular velocity around E-M barycenter\n",
    "        τ  : thrust magnitude (0~1)\n",
    "        γ  : thrust angle 1\n",
    "        β  : thrust angle 2\n",
    "        mdot : mass-flow rate\n",
    "        tmax : max thrust\n",
    "    - `t`: time\n",
    "\"\"\"\n",
    "function rhs_bcr4bp_sb1frame!(du,u,p,t)\n",
    "    # unpack state\n",
    "    x, y, z = u[1], u[2], u[3]\n",
    "    vx, vy, vz = u[4], u[5], u[6]\n",
    "    μ2, μS, as, θ0, ωM, ωb = p[1], p[2], p[3], p[4], p[5], p[6]\n",
    "    τ, γ, β, mdot, tmax = p[7], p[8], p[9], p[10], p[11]\n",
    "    \n",
    "    ωM = 0.9251999994040079\n",
    "\n",
    "    θ = θ0 + ωM * t  # moon angle\n",
    "\n",
    "    # create Thrust term\n",
    "#     T = dv_inertial_angles([τ,γ,β])\n",
    "    T = [0.0, 0.0, 0.0]\n",
    "    Tx, Ty, Tz = T * tmax / u[7]  # mdot\n",
    "\n",
    "\n",
    "    # derivatives of positions\n",
    "    du[1] = u[4]\n",
    "    du[2] = u[5]\n",
    "    du[3] = u[6]\n",
    "\n",
    "    # earth and moon location\n",
    "    xe = - μ2 *cos(θ) \n",
    "    ye = - μ2 *sin(θ)\n",
    "    ze = 0\n",
    "\n",
    "    xm = (1-μ2) *cos(θ) \n",
    "    ym = (1-μ2) *sin(θ)\n",
    "    zm = 0\n",
    "    \n",
    "#     println(xe, \" \", ye, \" \", ze)\n",
    "\n",
    "    # compute distances\n",
    "    r30 = sqrt((as + x)^2 + y^2 + z^2)      # SC-Sun\n",
    "    r31 = sqrt((xe - x)^2 + (ye - y)^2 + (ze-z)^2)  # SC-earth\n",
    "    r32 = sqrt((xm - x)^2 + (ym - y)^2 + (zm-z)^2)  # SC-Moon\n",
    "    println(r30, \" \", r31, \" \", r32)\n",
    "\n",
    "    Fx = -(μS)*(x+as)/r30^3 - (1-μ2)*(x-xe)/r31^3 - μ2*(x-xm)/r32^3 + Tx\n",
    "    Fy = -(μS)* y / r30^3   - (1-μ2)*(y-ye)/r31^3 - μ2*(y-ym)/r32^3 + Ty\n",
    "    Fz = -(μS)* z / r30^3   - (1-μ2)*(z-ze)/r31^3 - μ2*(z-zm)/r32^3 + Tz\n",
    "    println(Fx, \" \", Fy, \" \", Fz)\n",
    "    # println(-(μS/(μS+1))*(x-1/(μS+1))/r30^3 , \" \", - (1-μ2)/(μS+1)*(x-xe)/r31^3, \" \",  - μ2/(μS+1)*(x-xm)/r32^3)\n",
    "#     println(Fx, \" \", Fy, \" \", Fz)\n",
    "\n",
    "    du[4] =  2*ωb*vy + ωb^2*x + Fx\n",
    "    du[5] = -2*ωb*vx + ωb^2*y + Fy\n",
    "    du[6] =                   + Fz\n",
    "\n",
    "    du[7] = -mdot * τ\n",
    "end"
   ]
  },
  {
   "cell_type": "code",
   "execution_count": null,
   "metadata": {},
   "outputs": [],
   "source": [
    "\"\"\"\n",
    "    transform_EMrot_to_SunB1(state::Vector, θs::Real, ωs::Real)\n",
    "\n",
    "Transform state from Earth-Moon rotating frame to Sun-B1 rotating frame.\n",
    "Careful with sign of ωs!! (should be negative)\n",
    "\"\"\"\n",
    "function transform_EMrot_to_SunB1(state::Vector, θs::Real, ωs::Real)\n",
    "    ωm = -ωs\n",
    "    θm = π - θs\n",
    "    cos_θm = cos(θm)\n",
    "    sin_θm = sin(θm)\n",
    "    C = [\n",
    "        cos_θm      -sin_θm   0 0       0      0\n",
    "        sin_θm      cos_θm    0 0       0      0\n",
    "        0           0         1 0       0      0\n",
    "        -ωm*sin_θm -ωm*cos_θm 0 cos_θm -sin_θm 0 \n",
    "         ωm*cos_θm -ωm*sin_θm 0 sin_θm  cos_θm 0\n",
    "         0          0         0 0       0      1\n",
    "    ]\n",
    "    state_conv = C * state    \n",
    "    return state_conv\n",
    "end\n"
   ]
  },
  {
   "cell_type": "code",
   "execution_count": null,
   "metadata": {},
   "outputs": [],
   "source": [
    "function plot_circle(radius, x, y, n=50)\n",
    "    circle = zeros(2,n)\n",
    "    thetas = LinRange(0.0, 2π, n)\n",
    "    for i = 1:n\n",
    "        circle[1,i] = radius*cos(thetas[i]) + x\n",
    "        circle[2,i] = radius*sin(thetas[i]) + y\n",
    "    end\n",
    "    return circle\n",
    "end"
   ]
  },
  {
   "cell_type": "code",
   "execution_count": null,
   "metadata": {},
   "outputs": [],
   "source": []
  },
  {
   "cell_type": "code",
   "execution_count": null,
   "metadata": {},
   "outputs": [],
   "source": []
  },
  {
   "cell_type": "code",
   "execution_count": null,
   "metadata": {},
   "outputs": [],
   "source": [
    "θM = 180 / 180 * pi  \n",
    "ϕ0 = 0.0 # 5.27787565803085   #0.0\n",
    "t_sidereal = 27.3217   * 86400      # sec\n",
    "t_synodic  = 29.530588 * 86400      # sec\n",
    "ωb = 2*pi*(t_synodic - t_sidereal)/t_synodic/t_sidereal*param3b.tstar\n",
    "print(ωb)\n",
    "param = [param3b.mu2, param3b.mus, param3b.as, θM, param3b.oml, ωb, 0.0, 0.0, 0.0, 0.0, 0.0]"
   ]
  },
  {
   "cell_type": "code",
   "execution_count": null,
   "metadata": {},
   "outputs": [],
   "source": [
    "# initial condition: Halo orbit progapation\n",
    "lps = SailorMoon.lagrange_points(param3b.mu2)\n",
    "\n",
    "## set up of initial condition (Lyapunov orbit)\n",
    "lp = 2\n",
    "Az_km = 1200.0\n",
    "println(\"Halo guess Az_km: $Az_km\")\n",
    "northsouth = 3   # 1 or 3\n",
    "guess0 = R3BP.halo_analytical_construct(param3b.mu2, lp, Az_km, param3b.lstar, northsouth)\n",
    "res = R3BP.ssdc_periodic_xzplane([param3b.mu2,], guess0.x0, guess0.period, fix=\"period\")\n",
    "\n",
    "x0_stm = vcat(res.x0, reshape(I(6), (6^2,)))[:]\n",
    "prob_cr3bp_stm = ODEProblem(R3BP.rhs_cr3bp_svstm!, x0_stm, res.period, (param3b.mu2))\n",
    "sol = solve(prob_cr3bp_stm, Tsit5(), reltol=1e-12, abstol=1e-12)#, saveat=LinRange(0, period, n+1))\n",
    "monodromy = R3BP.get_stm(sol, 6)   # get monodromy matrix\n",
    "ys0 = R3BP.get_eigenvector(monodromy, true, 1) # monodromy eigenvector\n",
    "\n",
    "# arrival LPO object\n",
    "LPOArrival = SailorMoon.CR3BPLPO2(\n",
    "    res.x0, res.period, ys0, prob_cr3bp_stm, 1e-6, 1e-6, Tsit5(), 1e-12, 1e-12\n",
    ");\n",
    "\n",
    "# xf in the Earth-moon rotating frame\n",
    "xf_em = SailorMoon.set_terminal_state2(ϕ0, θf, param3b, LPOArrival)\n"
   ]
  },
  {
   "cell_type": "code",
   "execution_count": null,
   "metadata": {},
   "outputs": [],
   "source": [
    "# change coordination from EM rot. frame to Sun-B1 frame\n",
    "θs = π - θM\n",
    "ωs = param3b.oms\n",
    "xf_sb1 = vcat(transform_EMrot_to_SunB1(xf_em, θs, ωs), 1.0)\n",
    "println(xf_sb1)\n",
    "\n",
    "# propagate ODE\n",
    "tspan = [0.0, -29]\n",
    "prob = ODEProblem(rhs_bcr4bp_sb1frame!, xf_sb1, tspan, param)\n",
    "sol = solve(prob, Tsit5(), reltol=1e-12, abstol=1e-12)\n",
    "\n",
    "pcart = plot(size=(700,500), frame_style=:box, aspect_ratio=:equal, grid=0.4)\n",
    "plot!(pcart, Array(sol)[1,:], Array(sol)[2,:], color=:blue, linewidth=1.0, label=\"sol\", linestyle=:solid)\n",
    "\n",
    "moon = plot_circle(1-param3b.mu2, 0.0 , 0.0)\n",
    "earth = plot_circle(param3b.mu2, 0.0, 0.0)\n",
    "moon_soi_outer = plot_circle(1-param3b.mu2+66000/param3b.lstar, 0.0, 0.0)\n",
    "\n",
    "\n",
    "plot!(pcart, earth[1,:], earth[2,:], c=:green, lw=1.0, label=\"earth\")\n",
    "plot!(pcart, moon[1,:], moon[2,:], c=:orange, lw=1.0, label=\"moon\")\n",
    "plot!(pcart, moon_soi_outer[1,:], moon_soi_outer[2,:], c=:black, lw=1.0, label=\"moon_soi_outer\")"
   ]
  },
  {
   "cell_type": "code",
   "execution_count": null,
   "metadata": {},
   "outputs": [],
   "source": [
    "-1.1226882532375977 + param3b.as"
   ]
  },
  {
   "cell_type": "code",
   "execution_count": null,
   "metadata": {},
   "outputs": [],
   "source": []
  }
 ],
 "metadata": {
  "kernelspec": {
   "display_name": "Julia 1.6.7",
   "language": "julia",
   "name": "julia-1.6"
  },
  "language_info": {
   "file_extension": ".jl",
   "mimetype": "application/julia",
   "name": "julia",
   "version": "1.6.7"
  }
 },
 "nbformat": 4,
 "nbformat_minor": 2
}
