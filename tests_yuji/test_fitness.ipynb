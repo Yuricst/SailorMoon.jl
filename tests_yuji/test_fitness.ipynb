{
 "cells": [
  {
   "cell_type": "code",
   "execution_count": 1,
   "metadata": {},
   "outputs": [
    {
     "name": "stderr",
     "output_type": "stream",
     "text": [
      "┌ Info: For saving to png with the Plotly backend PlotlyBase has to be installed.\n",
      "└ @ Plots C:\\Users\\yujit\\.julia\\packages\\Plots\\0MO2T\\src\\backends.jl:318\n"
     ]
    },
    {
     "data": {
      "text/plain": [
       "Plots.PlotlyBackend()"
      ]
     },
     "execution_count": 1,
     "metadata": {},
     "output_type": "execute_result"
    }
   ],
   "source": [
    "using Plots\n",
    "using LinearAlgebra\n",
    "using DifferentialEquations\n",
    "plotly()"
   ]
  },
  {
   "cell_type": "code",
   "execution_count": 73,
   "metadata": {},
   "outputs": [
    {
     "name": "stderr",
     "output_type": "stream",
     "text": [
      "WARNING: replacing module SailorMoon.\n",
      "WARNING: replacing module R3BP.\n"
     ]
    },
    {
     "data": {
      "text/plain": [
       "Main.R3BP"
      ]
     },
     "execution_count": 73,
     "metadata": {},
     "output_type": "execute_result"
    }
   ],
   "source": [
    "include(\"../src/SailorMoon.jl\")   # relative path to main file of module\n",
    "include(\"../../julia-r3bp/R3BP/src/R3BP.jl\")"
   ]
  },
  {
   "cell_type": "code",
   "execution_count": 74,
   "metadata": {},
   "outputs": [
    {
     "data": {
      "text/plain": [
       "Main.SailorMoon.dynamics_params(0.987849414390376, 0.01215058560962404, 328900.5598102475, 384748.32292972936, 375700.3437894195, 388.8212386592645, -0.9251999994040079, 0.9251999994040079, 0.01709689063726318, 7.601281331451572)"
      ]
     },
     "execution_count": 74,
     "metadata": {},
     "output_type": "execute_result"
    }
   ],
   "source": [
    "param3b = SailorMoon.dyanmics_parameters()"
   ]
  },
  {
   "cell_type": "code",
   "execution_count": 75,
   "metadata": {},
   "outputs": [
    {
     "data": {
      "text/plain": [
       "3-element Vector{Float64}:\n",
       " 7.247336249409605e-25\n",
       " 2.4273778713483754e-20\n",
       " 4.9624049617734895e-22"
      ]
     },
     "execution_count": 75,
     "metadata": {},
     "output_type": "execute_result"
    }
   ],
   "source": [
    "τ = 0.00001\n",
    "tmax = 0.4  # N = kg m / s^2\n",
    "mdot = tmax / 9.8 / 3500  # kg/s -> Isp = 3500s\n",
    "\n",
    "# # normalize\n",
    "mstar = 5.972e24 / param3b.mu1 \n",
    "tmax = tmax / mstar / param3b.lstar * (param3b.tstar)^2 \n",
    "mdot = mdot / mstar * param3b.tstar \n",
    "mf = 3000 / mstar  \n",
    "\n",
    "n = 1\n",
    "SCParam = [mdot, tmax, mf]"
   ]
  },
  {
   "cell_type": "code",
   "execution_count": 76,
   "metadata": {},
   "outputs": [
    {
     "name": "stdout",
     "output_type": "stream",
     "text": [
      "Halo guess Az_km: 28000.0\n",
      "Linear stability ν = 290.9383214356218\n"
     ]
    }
   ],
   "source": [
    "# set up LPOArr \n",
    "\n",
    "lp = 2\n",
    "Az_km = 28000.0\n",
    "println(\"Halo guess Az_km: $Az_km\")\n",
    "northsouth = 3   # 1 or 3\n",
    "guess0 = R3BP.halo_analytical_construct(param3b.mu2, lp, Az_km, param3b.lstar, northsouth)\n",
    "res = R3BP.ssdc_periodic_xzplane([param3b.mu2,], guess0.x0, guess0.period, fix=\"z\")\n",
    "res.flag\n",
    "\n",
    "x0_stm = vcat(res.x0, reshape(I(6), (6^2,)))[:]\n",
    "prob_cr3bp_stm = ODEProblem(R3BP.rhs_cr3bp_svstm!, x0_stm, res.period, (param3b.mu2))\n",
    "sol = solve(prob_cr3bp_stm, Tsit5(), reltol=1e-12, abstol=1e-12)#, saveat=LinRange(0, period, n+1))\n",
    "monodromy = R3BP.get_stm(sol, 6)   # get monodromy matrix\n",
    "\n",
    "ys0 = R3BP.get_eigenvector(monodromy, true, 1)\n",
    "# arrival LPO object\n",
    "LPOArrival = SailorMoon.CR3BPLPO(\n",
    "    res.x0, res.period, ys0, prob_cr3bp_stm, 1e-6, Tsit5(), 1e-12, 1e-12\n",
    ");"
   ]
  },
  {
   "cell_type": "code",
   "execution_count": 77,
   "metadata": {},
   "outputs": [
    {
     "name": "stdout",
     "output_type": "stream",
     "text": [
      "Any[16.09793576177804, 5.954885954128187e-22, 0.1, 0.0, 0.0, 0.5, 3.6651914291880923, 0.0001, 0.0, 0.0, 0.0001, 0.0, 0.0]"
     ]
    }
   ],
   "source": [
    "# extract optimization var\n",
    "ϕ = 0.5\n",
    "θm = deg2rad(210)\n",
    "\n",
    "tof      = (70 * 86400) / param3b.tstar\n",
    "c_launch = [mf*1.2, 0.1, 0.0, 0.0]  # m0, v∞1, α1, δ1\n",
    "c_arr    = [ϕ, θm]\n",
    "tau1     = [0.0001, 0.0, 0.0]  # discretization numbers are the same for the first & second arc\n",
    "tau2     = [0.0001, 0.0, 0.0]\n",
    "\n",
    "# make a decision vector x \n",
    "x = []\n",
    "append!(x,tof)\n",
    "append!(x,c_launch)\n",
    "append!(x,c_arr)\n",
    "append!(x,tau1)\n",
    "append!(x,tau2)\n",
    "print(x)"
   ]
  },
  {
   "cell_type": "code",
   "execution_count": 78,
   "metadata": {},
   "outputs": [],
   "source": [
    "# set up the default ODE\n",
    "state0 = zeros(7)\n",
    "tspan = zeros(2)\n",
    "params = zeros(10)\n",
    "\n",
    "Propagator = SailorMoon.ODEPropagator(\n",
    "    Tsit5(), 1e-12, 1e-12, ODEProblem(SailorMoon.rhs_bcr4bp_with_mass!, state0, tspan, params)\n",
    ");"
   ]
  },
  {
   "cell_type": "code",
   "execution_count": 79,
   "metadata": {},
   "outputs": [
    {
     "name": "stdout",
     "output_type": "stream",
     "text": [
      "[-10.861673398263642, -2.3872457804659946, 4.241447115472114, 4.258590909625785, 16.928299090193892, -0.7290521780755062, -9.924693256392276e-23]"
     ]
    }
   ],
   "source": [
    "# propagate\n",
    "res, _, _, _, _ = SailorMoon.sf_propagate(x, n, SCParam, Propagator, param3b, LPOArrival)\n",
    "print(res)"
   ]
  },
  {
   "cell_type": "code",
   "execution_count": null,
   "metadata": {},
   "outputs": [],
   "source": []
  },
  {
   "cell_type": "code",
   "execution_count": null,
   "metadata": {},
   "outputs": [],
   "source": []
  },
  {
   "cell_type": "code",
   "execution_count": null,
   "metadata": {},
   "outputs": [],
   "source": []
  }
 ],
 "metadata": {
  "kernelspec": {
   "display_name": "Julia 1.7.3",
   "language": "julia",
   "name": "julia-1.7"
  },
  "language_info": {
   "file_extension": ".jl",
   "mimetype": "application/julia",
   "name": "julia",
   "version": "1.7.3"
  }
 },
 "nbformat": 4,
 "nbformat_minor": 2
}
