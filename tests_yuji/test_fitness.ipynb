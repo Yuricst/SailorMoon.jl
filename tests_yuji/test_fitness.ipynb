{
 "cells": [
  {
   "cell_type": "code",
   "execution_count": null,
   "metadata": {},
   "outputs": [],
   "source": [
    "using Plots\n",
    "using LinearAlgebra\n",
    "using DifferentialEquations\n",
    "plotly()"
   ]
  },
  {
   "cell_type": "code",
   "execution_count": null,
   "metadata": {},
   "outputs": [],
   "source": [
    "include(\"../src/SailorMoon.jl\")   # relative path to main file of module\n",
    "include(\"../../julia-r3bp/R3BP/src/R3BP.jl\")"
   ]
  },
  {
   "cell_type": "code",
   "execution_count": null,
   "metadata": {},
   "outputs": [],
   "source": [
    "param3b = SailorMoon.dyanmics_parameters()"
   ]
  },
  {
   "cell_type": "code",
   "execution_count": null,
   "metadata": {},
   "outputs": [],
   "source": [
    "τ = 0.1\n",
    "tmax = 0.4  # N = kg m / s^2\n",
    "mdot = tmax / 9.8 / 3500  # kg/s -> Isp = 3500s\n",
    "\n",
    "# # normalize\n",
    "mstar = 5.972e24 / param3b.mu1 \n",
    "tmax = 1e-2  #tmax / mstar / param3b.lstar * (param3b.tstar)^2 \n",
    "mdot = 1e-3  #mdot / mstar * param3b.tstar \n",
    "mf = 1  #3000 / mstar  \n",
    "\n",
    "n = 1\n",
    "SCParam = [mdot, tmax, mf]"
   ]
  },
  {
   "cell_type": "code",
   "execution_count": null,
   "metadata": {},
   "outputs": [],
   "source": [
    "param3b.mus"
   ]
  },
  {
   "cell_type": "code",
   "execution_count": null,
   "metadata": {},
   "outputs": [],
   "source": [
    "# set up LPOArr \n",
    "\n",
    "lp = 2\n",
    "Az_km = 28000.0\n",
    "println(\"Halo guess Az_km: $Az_km\")\n",
    "northsouth = 3   # 1 or 3\n",
    "guess0 = R3BP.halo_analytical_construct(param3b.mu2, lp, Az_km, param3b.lstar, northsouth)\n",
    "res = R3BP.ssdc_periodic_xzplane([param3b.mu2,], guess0.x0, guess0.period, fix=\"z\")\n",
    "res.flag\n",
    "\n",
    "x0_stm = vcat(res.x0, reshape(I(6), (6^2,)))[:]\n",
    "prob_cr3bp_stm = ODEProblem(R3BP.rhs_cr3bp_svstm!, x0_stm, res.period, (param3b.mu2))\n",
    "sol = solve(prob_cr3bp_stm, Tsit5(), reltol=1e-12, abstol=1e-12)#, saveat=LinRange(0, period, n+1))\n",
    "monodromy = R3BP.get_stm(sol, 6)   # get monodromy matrix\n",
    "\n",
    "ys0 = R3BP.get_eigenvector(monodromy, true, 1)\n",
    "# arrival LPO object\n",
    "LPOArrival = SailorMoon.CR3BPLPO(\n",
    "    res.x0, res.period, ys0, prob_cr3bp_stm, 1e-6, Tsit5(), 1e-12, 1e-12\n",
    ");"
   ]
  },
  {
   "cell_type": "code",
   "execution_count": null,
   "metadata": {},
   "outputs": [],
   "source": [
    "# extract optimization var\n",
    "ϕ = 0.0\n",
    "θm = deg2rad(120)\n",
    "\n",
    "tof      = (90 * 86400) / param3b.tstar\n",
    "c_launch = [mf*1.2, 3.0, 0.0, 0.0]  # m0, dv1, long, lat\n",
    "c_arr    = [ϕ, θm]\n",
    "tau1     = [1, 0.0, 0.0]  # discretization numbers are the same for the first & second arc\n",
    "tau2     = [1, 0.0, 0.0]\n",
    "\n",
    "# make a decision vector x \n",
    "x = []\n",
    "append!(x,tof)\n",
    "append!(x,c_launch)\n",
    "append!(x,c_arr)\n",
    "append!(x,tau1)\n",
    "append!(x,tau2)\n",
    "println(x)"
   ]
  },
  {
   "cell_type": "code",
   "execution_count": null,
   "metadata": {},
   "outputs": [],
   "source": [
    "param3b.lstar/param3b.tstar"
   ]
  },
  {
   "cell_type": "code",
   "execution_count": null,
   "metadata": {},
   "outputs": [],
   "source": [
    "# set up the default ODE\n",
    "state0 = zeros(7)\n",
    "tspan = zeros(2)\n",
    "params = zeros(10)\n",
    "\n",
    "Propagator = SailorMoon.ODEPropagator(\n",
    "    Tsit5(), 1e-12, 1e-12, ODEProblem(SailorMoon.rhs_bcr4bp_with_mass!, state0, tspan, params)\n",
    ");"
   ]
  },
  {
   "cell_type": "code",
   "execution_count": null,
   "metadata": {},
   "outputs": [],
   "source": [
    "# propagate\n",
    "res, state_fwd, state_bkwd, sol_fwd, sol_bkwd = SailorMoon.sf_propagate(x, n, SCParam, Propagator, param3b, LPOArrival);\n",
    "print(res)"
   ]
  },
  {
   "cell_type": "code",
   "execution_count": null,
   "metadata": {},
   "outputs": [],
   "source": [
    "Array(sol_fwd[1])"
   ]
  },
  {
   "cell_type": "code",
   "execution_count": null,
   "metadata": {},
   "outputs": [],
   "source": [
    "Array(sol_bkwd[1])"
   ]
  },
  {
   "cell_type": "code",
   "execution_count": null,
   "metadata": {},
   "outputs": [],
   "source": [
    "thetas = LinRange(0, 2π, 100)\n",
    "xs_earth_circle = [-param3b.mu2*cos(theta) for theta in thetas];\n",
    "ys_earth_circle = [-param3b.mu2*sin(theta) for theta in thetas];\n",
    "xs_moon_circle = [(1-param3b.mu2)*cos(theta) for theta in thetas];\n",
    "ys_moon_circle = [(1-param3b.mu2)*sin(theta) for theta in thetas];"
   ]
  },
  {
   "cell_type": "code",
   "execution_count": null,
   "metadata": {},
   "outputs": [],
   "source": [
    "ptraj = plot(frame_style=:box, size=(700,700), aspect_ratio=:equal)\n",
    "plot!(ptraj, Array(sol_fwd[1])[1,:], Array(sol_fwd[1])[2,:])\n",
    "plot!(ptraj, Array(sol_bkwd[1])[1,:], Array(sol_bkwd[1])[2,:])\n",
    "\n",
    "plot!(ptraj, xs_moon_circle, ys_moon_circle, color=:black, linestyle=:solid, label=\"Moon trajectory\", linewidth=0.4)\n",
    "\n",
    "ptraj"
   ]
  },
  {
   "cell_type": "code",
   "execution_count": null,
   "metadata": {},
   "outputs": [],
   "source": []
  },
  {
   "cell_type": "code",
   "execution_count": null,
   "metadata": {},
   "outputs": [],
   "source": []
  },
  {
   "cell_type": "code",
   "execution_count": null,
   "metadata": {},
   "outputs": [],
   "source": []
  },
  {
   "cell_type": "code",
   "execution_count": null,
   "metadata": {},
   "outputs": [],
   "source": []
  },
  {
   "cell_type": "code",
   "execution_count": null,
   "metadata": {},
   "outputs": [],
   "source": []
  }
 ],
 "metadata": {
  "kernelspec": {
   "display_name": "Julia 1.6.7",
   "language": "julia",
   "name": "julia-1.6"
  },
  "language_info": {
   "file_extension": ".jl",
   "mimetype": "application/julia",
   "name": "julia",
   "version": "1.6.7"
  }
 },
 "nbformat": 4,
 "nbformat_minor": 2
}
