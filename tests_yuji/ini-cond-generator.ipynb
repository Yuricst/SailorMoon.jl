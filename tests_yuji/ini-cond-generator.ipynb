{
 "cells": [
  {
   "cell_type": "markdown",
   "metadata": {},
   "source": [
    "## Convert a periapsis state in the database to the parametrized variables\n",
    "#### Data we want \n",
    "1. $\\alpha$: SC-Earth line's angle w.r.t. Sun-B1 line\n",
    "2. $\\beta$: velocity ratio in <b>Earth inertial</b> frame i.e., (V_circ + DV) / V_circ\n",
    "    *assumption: initial DV is parallel to V_circ when leaving LEO."
   ]
  },
  {
   "cell_type": "code",
   "execution_count": 18,
   "metadata": {},
   "outputs": [],
   "source": [
    "using DifferentialEquations\n",
    "using Plots\n",
    "using LinearAlgebra\n",
    "import ForwardDiff\n",
    "import DiffResults\n",
    "using AstrodynamicsBase\n",
    "# import joptimise\n",
    "using Printf\n",
    "using JSON"
   ]
  },
  {
   "cell_type": "code",
   "execution_count": 47,
   "metadata": {},
   "outputs": [
    {
     "name": "stderr",
     "output_type": "stream",
     "text": [
      "WARNING: replacing module R3BP.\n",
      "WARNING: replacing module SailorMoon.\n",
      "┌ Warning: Replacing docs for `Main.SailorMoon.integrate_rk4 :: Union{Tuple{ODEProblem, Real}, Tuple{ODEProblem, Real, Union{Nothing, Vector{T} where T}}, Tuple{ODEProblem, Real, Union{Nothing, Vector{T} where T}, Bool}, Tuple{ODEProblem, Real, Union{Nothing, Vector{T} where T}, Bool, Bool}}` in module `Main.SailorMoon`\n",
      "└ @ Base.Docs docs\\Docs.jl:240\n"
     ]
    },
    {
     "data": {
      "text/plain": [
       "Main.SailorMoon.dynamics_params(0.987849414390376, 0.01215058560962404, 328900.5598102475, 384748.32292972936, 375700.3437894195, 388.8212386592645, -0.9251999994040079, 0.9251999994040079, 0.07480000059599223, 0.01709689063726318, 7.601281331451572)"
      ]
     },
     "execution_count": 47,
     "metadata": {},
     "output_type": "execute_result"
    }
   ],
   "source": [
    "include(\"../../julia-r3bp/R3BP/src/R3BP.jl\")\n",
    "# using R3BP\n",
    "include(\"../src/SailorMoon.jl\")   # relative path to main file of module\n",
    "param3b = SailorMoon.dyanmics_parameters()"
   ]
  },
  {
   "cell_type": "code",
   "execution_count": 48,
   "metadata": {},
   "outputs": [
    {
     "data": {
      "text/plain": [
       "25.558"
      ]
     },
     "execution_count": 48,
     "metadata": {},
     "output_type": "execute_result"
    }
   ],
   "source": [
    "# sample data\n",
    "ϕ0 = 6.073745797\n",
    "ϵr = 1.00E-06\n",
    "ϵv = 1.00E-06\n",
    "θsf = 5.864306287\n",
    "ra = 0.017263032\n",
    "rp = 3.791254294\n",
    "dt1 = 15.649\n",
    "dt2 = 9.909\n",
    "ra_state = [392.0439494254377, -2.010566944705724, 3.9994843301278626e-22, -0.06056334928312788, -0.11480722804357063, 4.38892458884967e-23, 1.0156489999987126]\n",
    "rp_state = [388.81094977253866, 0.013861857271995175, 5.148354329730029e-24, -0.2916568445607961, -16.8617917342381, -3.159835154070778e-20, 1.0255579999978974]\n",
    "tof = 25.558"
   ]
  },
  {
   "cell_type": "code",
   "execution_count": 49,
   "metadata": {},
   "outputs": [
    {
     "data": {
      "text/plain": [
       "2.08395170999799"
      ]
     },
     "execution_count": 49,
     "metadata": {},
     "output_type": "execute_result"
    }
   ],
   "source": [
    "θs0 = θsf - param3b.oms * tof\n",
    "θm0 = π - θs0\n",
    "\n",
    "rE = [\n",
    "    param3b.as + param3b.mu2 * cos(θm0),\n",
    "    param3b.mu2 * sin(θm0),\n",
    "    0.0\n",
    "]\n",
    "\n",
    "# r_sc - r_E\n",
    "vec = rp_state[1:3] - rE \n",
    "x_unit = [1.0, 0.0, 0.0]\n",
    "α = acos(dot(vec, x_unit) / norm(vec))\n",
    "\n",
    "if cross(x_unit, vec)[3] <= 0\n",
    "    α = -α\n",
    "end\n",
    "\n",
    "# note that by definition, α_SB1 = α_EarthIne\n",
    "α"
   ]
  },
  {
   "cell_type": "code",
   "execution_count": 50,
   "metadata": {},
   "outputs": [
    {
     "data": {
      "text/plain": [
       "transform_sb1_to_EearthIne (generic function with 1 method)"
      ]
     },
     "execution_count": 50,
     "metadata": {},
     "output_type": "execute_result"
    }
   ],
   "source": [
    "# convert the SB1-frame state to Earth inertial \n",
    "function transform_sb1_to_EearthIne(state_earthIne::Vector, θm::Real, ωm::Real, μ2::Real, as::Real)\n",
    "    cos_θm = cos(θm)\n",
    "    sin_θm = sin(θm)\n",
    "    \n",
    "    # step 1: SunB1 -> EM rot\n",
    "    state_ = state_earthIne + [-as, 0, 0, 0, 0, 0]\n",
    "\n",
    "    rot_mat1 = inv([\n",
    "        cos_θm      -sin_θm   0 0       0      0\n",
    "        sin_θm      cos_θm    0 0       0      0\n",
    "        0           0         1 0       0      0\n",
    "        -ωm*sin_θm -ωm*cos_θm 0 cos_θm -sin_θm 0 \n",
    "        ωm*cos_θm -ωm*sin_θm 0 sin_θm  cos_θm 0\n",
    "        0          0         0 0       0      1\n",
    "    ])\n",
    "    state_emrot = rot_mat1 * state_\n",
    "\n",
    "    # step 2: EM rot to Earth Inertial\n",
    "    ωm = param3b.oml\n",
    "\n",
    "    rot_mat2 = [\n",
    "        cos_θm -sin_θm 0.0 0.0 0.0 0.0\n",
    "        sin_θm cos_θm 0.0 0.0 0.0 0.0\n",
    "        0.0 0.0 1.0 0.0 0.0 0.0\n",
    "        -ωm*sin_θm -ωm*cos_θm 0.0 cos_θm -sin_θm 0.0\n",
    "        ωm*cos_θm -ωm*sin_θm 0.0 sin_θm cos_θm 0.0\n",
    "        0.0 0.0 0.0 0.0 0.0 1.0\n",
    "    ]\n",
    "    state_ = rot_mat2 * state_emrot\n",
    "    \n",
    "    state_EarthIne = state_ + [μ2*cos(θm), μ2*sin(θm), 0, 0, 0, 0]\n",
    "\n",
    "    \n",
    "    return state_EarthIne\n",
    "end\n"
   ]
  },
  {
   "cell_type": "code",
   "execution_count": 60,
   "metadata": {},
   "outputs": [
    {
     "name": "stdout",
     "output_type": "stream",
     "text": [
      "state_Eine: [-0.0062991714035335366, 0.002384971705618282, 5.148354329730029e-24, -0.2916568445607952, -16.861791734238103, -3.159835154070778e-20]\n",
      "state_em: [-0.01647168993313827, -0.005166788928628796, 5.148354329730029e-24, 15.82632713935098, -5.796913266618815, -3.159835154070778e-20]\n",
      "rp_state: [388.81094977253866, 0.013861857271995175, 5.148354329730029e-24, -0.2916568445607961, -16.8617917342381, -3.159835154070778e-20]\n",
      "state_: [388.81094977253866, 0.013861857271995175, 5.148354329730029e-24, -0.2916568445607952, -16.861791734238107, -3.159835154070778e-20]\n",
      "state_2: [388.81094977253866, 0.013861857271995175, 5.148354329730029e-24, -0.2916568445607952, -16.861791734238107, -3.159835154070778e-20]\n"
     ]
    }
   ],
   "source": [
    "# test function \n",
    "state_Eine = transform_sb1_to_EearthIne(rp_state[1:6], θm0, param3b.oml, param3b.mu2, param3b.as)\n",
    "\n",
    "\n",
    "state_ = SailorMoon.transform_earthIne_to_EMrot(state_Eine, θm0, param3b.oml, param3b.mu2)\n",
    "state_ = SailorMoon.transform_EMrot_to_SunB1(state_, π-θm0, param3b.oms, param3b.as)\n",
    "\n",
    "state_2 = SailorMoon.transform_EearthIne_to_sb1(state_Eine, θm0, param3b.oml, param3b.mu2, param3b.as)\n",
    "\n",
    "println(\"rp_state: \", rp_state[1:6])\n",
    "println(\"state_: \", state_)\n",
    "println(\"state_2: \", state_2)\n"
   ]
  },
  {
   "cell_type": "code",
   "execution_count": null,
   "metadata": {},
   "outputs": [],
   "source": []
  },
  {
   "cell_type": "code",
   "execution_count": 53,
   "metadata": {
    "scrolled": true
   },
   "outputs": [
    {
     "data": {
      "text/plain": [
       "2.218108649735122"
      ]
     },
     "execution_count": 53,
     "metadata": {},
     "output_type": "execute_result"
    }
   ],
   "source": [
    "# take the velocity ratio β\n",
    "r_parking = (200+6375)/param3b.lstar\n",
    "v_LEO = sqrt(param3b.mu1 / r_parking)\n",
    "v_SC_dep = norm(state_Eine[4:6]) \n",
    "\n",
    "β = v_SC_dep / v_LEO"
   ]
  },
  {
   "cell_type": "code",
   "execution_count": 58,
   "metadata": {},
   "outputs": [
    {
     "data": {
      "text/plain": [
       "param_to_Earth_ini (generic function with 1 method)"
      ]
     },
     "execution_count": 58,
     "metadata": {},
     "output_type": "execute_result"
    }
   ],
   "source": [
    "function param_to_Earth_ini(r::Real, α::Real, β::Real, θm::Real, μ::Real)\n",
    "    # build an initial state in Earth inertial frame\n",
    "    state_i_EIne = [\n",
    "        r*cos(α), \n",
    "        r*sin(α), \n",
    "        0,\n",
    "        -β*sqrt(μ / r) * sin(α),\n",
    "        β*sqrt(μ / r) * cos(α),\n",
    "        0\n",
    "    ] \n",
    "    println(\"state_EIne: \", state_i_EIne)\n",
    "    \n",
    "    # EarthIne -> Sunb1\n",
    "    state_i_sb1 = SailorMoon.transform_EearthIne_to_sb1(state_i_EIne, θm, param3b.oml, param3b.mu2, param3b.as)\n",
    "    \n",
    "    return state_i_sb1\n",
    "end"
   ]
  },
  {
   "cell_type": "code",
   "execution_count": 62,
   "metadata": {},
   "outputs": [
    {
     "name": "stdout",
     "output_type": "stream",
     "text": [
      "state_Eine: [-0.0062991714035335366, 0.002384971705618282, 5.148354329730029e-24, -0.2916568445607952, -16.861791734238103, -3.159835154070778e-20]\n",
      "state_EIne: [-0.008389525611994889, 0.014888014337931325, 0.0, -14.692186569010545, -8.279174960416393, 0.0]\n",
      "state_em: [-0.028967870168013762, -0.0030357949540299346, 0.0, 2.9930552598999602, -16.56927928404329, 0.0]\n"
     ]
    },
    {
     "data": {
      "text/plain": [
       "6-element Vector{Float64}:\n",
       " 388.8088594183302\n",
       "   0.026364899904308223\n",
       "   0.0\n",
       " -14.692186569010547\n",
       "  -8.279174960416395\n",
       "   0.0"
      ]
     },
     "execution_count": 62,
     "metadata": {},
     "output_type": "execute_result"
    }
   ],
   "source": [
    "# regenerate the trajectory arc from here\n",
    "# first, in reverse way we need to recreate the initial state (at SB1 frame)\n",
    "println(\"state_Eine: \", state_Eine)\n",
    "\n",
    "state_i = param_to_Earth_ini(r_parking, α, β, θm0, param3b.mu1)"
   ]
  },
  {
   "cell_type": "code",
   "execution_count": null,
   "metadata": {},
   "outputs": [],
   "source": [
    "14.7^2+8.27"
   ]
  },
  {
   "cell_type": "code",
   "execution_count": null,
   "metadata": {},
   "outputs": [],
   "source": []
  },
  {
   "cell_type": "code",
   "execution_count": null,
   "metadata": {},
   "outputs": [],
   "source": []
  },
  {
   "cell_type": "code",
   "execution_count": null,
   "metadata": {},
   "outputs": [],
   "source": []
  },
  {
   "cell_type": "code",
   "execution_count": null,
   "metadata": {},
   "outputs": [],
   "source": []
  }
 ],
 "metadata": {
  "kernelspec": {
   "display_name": "Julia 1.6.7",
   "language": "julia",
   "name": "julia-1.6"
  },
  "language_info": {
   "file_extension": ".jl",
   "mimetype": "application/julia",
   "name": "julia",
   "version": "1.6.7"
  }
 },
 "nbformat": 4,
 "nbformat_minor": 2
}
