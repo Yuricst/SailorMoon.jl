{
 "cells": [
  {
   "cell_type": "markdown",
   "metadata": {},
   "source": [
    "# Developing multiple-shooting in Sun-B1 dynamics\n",
    "\n",
    "2022.11.23"
   ]
  },
  {
   "cell_type": "code",
   "execution_count": 1,
   "metadata": {},
   "outputs": [],
   "source": [
    "using DifferentialEquations\n",
    "using Plots\n",
    "using LinearAlgebra\n",
    "import ForwardDiff\n",
    "import DiffResults\n",
    "using AstrodynamicsBase\n",
    "# import joptimise\n",
    "using Printf\n",
    "using JSON\n"
   ]
  },
  {
   "cell_type": "code",
   "execution_count": 2,
   "metadata": {
    "scrolled": true
   },
   "outputs": [
    {
     "name": "stderr",
     "output_type": "stream",
     "text": [
      "\u001b[33m\u001b[1m┌ \u001b[22m\u001b[39m\u001b[33m\u001b[1mWarning: \u001b[22m\u001b[39mReplacing docs for `Main.SailorMoon.integrate_rk4 :: Union{Tuple{ODEProblem, Real}, Tuple{ODEProblem, Real, Union{Nothing, Vector{T} where T}}, Tuple{ODEProblem, Real, Union{Nothing, Vector{T} where T}, Bool}, Tuple{ODEProblem, Real, Union{Nothing, Vector{T} where T}, Bool, Bool}}` in module `Main.SailorMoon`\n",
      "\u001b[33m\u001b[1m└ \u001b[22m\u001b[39m\u001b[90m@ Base.Docs docs\\Docs.jl:240\u001b[39m\n",
      "WARNING: replacing module R3BP.\n"
     ]
    },
    {
     "data": {
      "text/plain": [
       "Main.SailorMoon.dynamics_params(0.987849414390376, 0.01215058560962404, 328900.5598102475, 384748.32292972936, 375700.3437894195, 388.8212386592645, -0.9251999994040079, 0.9251999994040079, 0.07480000059599223, 0.01709689063726318, 7.601281331451572)"
      ]
     },
     "execution_count": 2,
     "metadata": {},
     "output_type": "execute_result"
    }
   ],
   "source": [
    "include(\"../../julia-r3bp/R3BP/src/R3BP.jl\")\n",
    "include(\"../src/SailorMoon.jl\")   # relative path to main file of module\n",
    "param3b = SailorMoon.dynamics_parameters()"
   ]
  },
  {
   "cell_type": "code",
   "execution_count": 3,
   "metadata": {},
   "outputs": [
    {
     "name": "stderr",
     "output_type": "stream",
     "text": [
      "\u001b[33m\u001b[1m┌ \u001b[22m\u001b[39m\u001b[33m\u001b[1mWarning: \u001b[22m\u001b[39mFor saving to png with the `Plotly` backend `PlotlyBase` and `PlotlyKaleido` need to be installed.\n",
      "\u001b[33m\u001b[1m│ \u001b[22m\u001b[39m  err =\n",
      "\u001b[33m\u001b[1m│ \u001b[22m\u001b[39m   ArgumentError: Package PlotlyBase not found in current path:\n",
      "\u001b[33m\u001b[1m│ \u001b[22m\u001b[39m   - Run `import Pkg; Pkg.add(\"PlotlyBase\")` to install the PlotlyBase package.\n",
      "\u001b[33m\u001b[1m│ \u001b[22m\u001b[39m   \n",
      "\u001b[33m\u001b[1m└ \u001b[22m\u001b[39m\u001b[90m@ Plots C:\\Users\\yujit\\.julia\\packages\\Plots\\nuwp4\\src\\backends.jl:545\u001b[39m\n"
     ]
    },
    {
     "data": {
      "text/plain": [
       "Plots.PlotlyBackend()"
      ]
     },
     "execution_count": 3,
     "metadata": {},
     "output_type": "execute_result"
    }
   ],
   "source": [
    "plotly()"
   ]
  },
  {
   "cell_type": "code",
   "execution_count": 4,
   "metadata": {},
   "outputs": [
    {
     "data": {
      "text/plain": [
       "plot_circle (generic function with 2 methods)"
      ]
     },
     "execution_count": 4,
     "metadata": {},
     "output_type": "execute_result"
    }
   ],
   "source": [
    "function plot_circle(radius, x, y, n=100)\n",
    "    circle = zeros(2,n)\n",
    "    thetas = LinRange(0.0, 2π, n)\n",
    "    for i = 1:n\n",
    "        circle[1,i] = radius*cos(thetas[i]) + x\n",
    "        circle[2,i] = radius*sin(thetas[i]) + y\n",
    "    end\n",
    "    return circle\n",
    "end"
   ]
  },
  {
   "cell_type": "code",
   "execution_count": null,
   "metadata": {},
   "outputs": [],
   "source": []
  },
  {
   "cell_type": "code",
   "execution_count": 5,
   "metadata": {},
   "outputs": [
    {
     "data": {
      "text/plain": [
       "Dict{String, Any} with 3 entries:\n",
       "  \"tol\"         => 1.0e-6\n",
       "  \"output_file\" => \"ELET_ipopt.out\"\n",
       "  \"max_iter\"    => 2500"
      ]
     },
     "execution_count": 5,
     "metadata": {},
     "output_type": "execute_result"
    }
   ],
   "source": [
    "### PARAMETERS ###################################\n",
    "# csv file to load the initial solution\n",
    "filename = \"../run/grid_search1129.csv\"\n",
    "# dv_dir function corresponding to the csv file \n",
    "dir_func = SailorMoon.dv_no_thrust \n",
    "\n",
    "# 3body parameter\n",
    "param3b = SailorMoon.dynamics_parameters()\n",
    "\n",
    "n_arc = 5\n",
    "\n",
    "# run minimizer with IPOPT\n",
    "ip_options = Dict(\n",
    "    \"max_iter\" => 2500,   # 1500 ~ 2500\n",
    "    \"tol\" => 1e-6,\n",
    "    \"output_file\" => \"ELET_ipopt.out\"\n",
    ")\n",
    "##################################################"
   ]
  },
  {
   "cell_type": "code",
   "execution_count": null,
   "metadata": {},
   "outputs": [],
   "source": [
    "if dir_func == SailorMoon.dv_no_thrust\n",
    "    τ_ig = 0.0\n",
    "else \n",
    "    τ_ig = 1.0\n",
    "end\n",
    "\n",
    "# load initial guess\n",
    "df = DataFrame(CSV.File(filename))\n",
    "\n",
    "# maybe want to use \"for row in eachrow(df)\" to automate the process...? \n",
    "row = df[2,:]\n",
    "\n",
    "x0, lx, ux = SailorMoon.make_ig_bounds(row, τ_ig, n_arc)\n",
    "\n",
    "# res = SailorMoon.multishoot_trajectory(x0, dir_func, n_arc)\n",
    "# print(\"size of res: \", size(res))\n",
    "\n",
    "fitness!, ng, lg, ug, eval_sft = SailorMoon.get_fitness(n_arc, dir_func, x0)\n",
    "\n",
    "# checking if the initial guess is good enough\n",
    "res = eval_sft(x0)\n",
    "# println(\"ub - x0: \", ux - x0)\n",
    "# println(\"x0 - lb: \", x0 - lx)\n",
    "# println(\"x0: \", x0)\n",
    "# println(\"residual (needs to be 0): \", res)\n",
    "\n",
    "# make sure the initial guess is inbetween ub & lb\n",
    "vec = vcat(ux-x0, x0 - lx)\n",
    "if any(vec .< 0.0)\n",
    "    error(\"Error: (At least one element of) initial guess is infinging the defined ub/lb.\") \n",
    "end\n",
    "\n",
    "xopt, fopt, Info = joptimise.minimize(fitness!, x0, ng;\n",
    "    lx=lx, ux=ux, lg=lg, ug=ug, solver=\"ipopt\",\n",
    "    options=ip_options, outputfile=true, \n",
    ")  # derivatives=joptimise.UserDeriv());  # to use AD, need this additional parameter...\n",
    "\n",
    "println(Info)"
   ]
  },
  {
   "cell_type": "code",
   "execution_count": null,
   "metadata": {},
   "outputs": [],
   "source": []
  },
  {
   "cell_type": "code",
   "execution_count": null,
   "metadata": {},
   "outputs": [],
   "source": []
  },
  {
   "cell_type": "code",
   "execution_count": null,
   "metadata": {},
   "outputs": [],
   "source": []
  },
  {
   "cell_type": "code",
   "execution_count": null,
   "metadata": {},
   "outputs": [],
   "source": []
  }
 ],
 "metadata": {
  "kernelspec": {
   "display_name": "Julia 1.6.7",
   "language": "julia",
   "name": "julia-1.6"
  },
  "language_info": {
   "file_extension": ".jl",
   "mimetype": "application/julia",
   "name": "julia",
   "version": "1.6.7"
  }
 },
 "nbformat": 4,
 "nbformat_minor": 5
}
