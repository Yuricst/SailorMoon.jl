{
 "cells": [
  {
   "cell_type": "code",
   "execution_count": 1,
   "metadata": {},
   "outputs": [],
   "source": [
    "using DifferentialEquations\n",
    "using Plots\n",
    "using LinearAlgebra\n",
    "import ForwardDiff\n",
    "import DiffResults\n",
    "using AstrodynamicsBase\n",
    "using Printf\n",
    "using JSON\n",
    "using CSV\n",
    "using DataFrames\n",
    "using ColorSchemes\n",
    "using LaTeXStrings"
   ]
  },
  {
   "cell_type": "code",
   "execution_count": 2,
   "metadata": {},
   "outputs": [
    {
     "name": "stderr",
     "output_type": "stream",
     "text": [
      "\u001b[33m\u001b[1m┌ \u001b[22m\u001b[39m\u001b[33m\u001b[1mWarning: \u001b[22m\u001b[39mReplacing docs for `Main.SailorMoon.integrate_rk4 :: Union{Tuple{ODEProblem, Real}, Tuple{ODEProblem, Real, Union{Nothing, Vector{T} where T}}, Tuple{ODEProblem, Real, Union{Nothing, Vector{T} where T}, Bool}, Tuple{ODEProblem, Real, Union{Nothing, Vector{T} where T}, Bool, Bool}}` in module `Main.SailorMoon`\n",
      "\u001b[33m\u001b[1m└ \u001b[22m\u001b[39m\u001b[90m@ Base.Docs docs\\Docs.jl:240\u001b[39m\n"
     ]
    },
    {
     "data": {
      "text/plain": [
       "388.8212386592645"
      ]
     },
     "execution_count": 2,
     "metadata": {},
     "output_type": "execute_result"
    }
   ],
   "source": [
    "include(\"../src/SailorMoon.jl\")   # relative path to main file of module\n",
    "param3b = SailorMoon.dynamics_parameters()\n",
    "paramMulti = SailorMoon.multi_shoot_parameters(param3b)\n",
    "gr()\n",
    "fs = 16;\n",
    "param3b.as"
   ]
  },
  {
   "cell_type": "code",
   "execution_count": 11,
   "metadata": {},
   "outputs": [],
   "source": [
    "### PARAMETERS ###################################\n",
    "# csv file to load the initial solution\n",
    "# indices of the best (min TOF) solutions\n",
    "# maxJC2 : # 327\n",
    "# velThrust : # 835\n",
    "# EMrot : #394\n",
    "# Tidal : #31\n",
    "\n",
    "\n",
    "# ig_file  = \"../run/data/diffcorr_0717_TidalThrust.csv\"\n",
    "# opt_file = \"../run/data/opt_0717_TidalThrust.csv\"\n",
    "# dir_func = SailorMoon.dv_tidal_dir_sb1frame\n",
    "# solid = 1\n",
    "\n",
    "# ig_file  = \"../run/data/diffcorr_0618_velThrust.csv\"\n",
    "# opt_file = \"../run/data/opt_0618_velThrust.csv\"\n",
    "# dir_func = SailorMoon.dv_vel_dir_sb1frame\n",
    "# solid = 835\n",
    "\n",
    "# ig_file  = \"../run/data/diffcorr_0618_maxJCThrust2.csv\"\n",
    "# opt_file = \"../run/data/opt_0618_maxJCThrust.csv\"\n",
    "# dir_func = SailorMoon.dv_maxJC_dir_sb1frame\n",
    "# solid = 327\n",
    "\n",
    "ig_file  = \"../run/data/diffcorr_0619_EMrotThrust2.csv\"\n",
    "opt_file = \"../run/data/opt_0619_EMrotThrust.csv\"\n",
    "dir_func = SailorMoon.dv_EMrotdir_sb1frame\n",
    "solid  = 394\n",
    "\n",
    "\n",
    "n_arc = 5\n",
    "\n",
    "\n",
    "# load initial guess\n",
    "df_ig  = CSV.read(ig_file, DataFrame; header=0);\n",
    "df_opt = CSV.read(opt_file, DataFrame; header=0);\n"
   ]
  },
  {
   "cell_type": "markdown",
   "metadata": {},
   "source": [
    "### plot the optimized trajectory"
   ]
  },
  {
   "cell_type": "code",
   "execution_count": 19,
   "metadata": {},
   "outputs": [
    {
     "ename": "LoadError",
     "evalue": "TypeError: non-boolean (Missing) used in boolean context",
     "output_type": "error",
     "traceback": [
      "TypeError: non-boolean (Missing) used in boolean context",
      "",
      "Stacktrace:",
      " [1] iterate(f::Base.Iterators.Filter{Base.var\"#97#98\"{var\"#15#16\"}, Base.Iterators.Pairs{Int64, Union{Missing, Float64}, LinearIndices{1, Tuple{Base.OneTo{Int64}}}, Vector{Union{Missing, Float64}}}}, state::Int64)",
      "   @ Base.Iterators .\\iterators.jl:451",
      " [2] iterate",
      "   @ .\\generator.jl:44 [inlined]",
      " [3] grow_to!(dest::Vector{Int64}, itr::Base.Generator{Base.Iterators.Filter{Base.var\"#97#98\"{var\"#15#16\"}, Base.Iterators.Pairs{Int64, Union{Missing, Float64}, LinearIndices{1, Tuple{Base.OneTo{Int64}}}, Vector{Union{Missing, Float64}}}}, typeof(first)}, st::Int64)",
      "   @ Base .\\array.jl:774",
      " [4] grow_to!(dest::Vector{Int64}, itr::Base.Generator{Base.Iterators.Filter{Base.var\"#97#98\"{var\"#15#16\"}, Base.Iterators.Pairs{Int64, Union{Missing, Float64}, LinearIndices{1, Tuple{Base.OneTo{Int64}}}, Vector{Union{Missing, Float64}}}}, typeof(first)})",
      "   @ Base .\\array.jl:747",
      " [5] collect",
      "   @ .\\array.jl:678 [inlined]",
      " [6] findall(testf::var\"#15#16\", A::Vector{Union{Missing, Float64}})",
      "   @ Base .\\array.jl:2157",
      " [7] top-level scope",
      "   @ In[19]:2"
     ]
    }
   ],
   "source": [
    "# position = indexin( solid, df_opt[:,1] )\n",
    "position = findall( x -> x == solid, df_opt[:,1])\n",
    "println(position)\n",
    "row_opt = df_opt[position[end],:]\n",
    "\n",
    "x = Float64.(collect(row_opt[4:end]))\n",
    "\n",
    "t_, u_, th_, th_nominal  = SailorMoon.x2time_series(x, dir_func, paramMulti, true);\n",
    "u_array = [u_[:,i] for i in collect(1:size(u_,2))]\n",
    "\n",
    "θm_lpo = x[19+12*paramMulti.n_arc]  \n",
    "# thrust_param_nomi = [1.0, 0.0, 0.0]\n",
    "# th_nominal = get_thrust(t_, u_array, thrust_param_nomi, θm_lpo, dir_func)\n",
    "# th_nominal = hcat(th_nominal...)\n"
   ]
  },
  {
   "cell_type": "code",
   "execution_count": 13,
   "metadata": {
    "scrolled": false
   },
   "outputs": [
    {
     "name": "stdout",
     "output_type": "stream",
     "text": [
      "m_leo; 1.0209\n"
     ]
    },
    {
     "data": {
      "text/plain": [
       "13-element Vector{Float64}:\n",
       "     49.14270339937921\n",
       "    570.7331220134857\n",
       "    -17.482323935270713\n",
       "    -19.382897501962297\n",
       "      0.07808117455152996\n",
       "     -1.7684146679390635\n",
       "     -8.62734190404033e9\n",
       "     -2.5943206258358718\n",
       "      1.0925261551191507\n",
       "      0.16073329668490732\n",
       "   4383.02670417142\n",
       " -63862.82491020346\n",
       "      0.0"
      ]
     },
     "execution_count": 13,
     "metadata": {},
     "output_type": "execute_result"
    }
   ],
   "source": [
    "_, sol_list, _, tofs = SailorMoon.multishoot_trajectory2(x, dir_func, paramMulti, true, false, true)\n",
    "sol, _, _  = sol_list[1]\n",
    "m_leo = sol[end, end]\n",
    "println(\"m_leo; \", round(m_leo, digits=4))\n",
    "\n",
    "# fitness!, ng, lg, ug, eval_sft = SailorMoon.get_fitness5_minToF_fixmleo(dir_func, paramMulti, x0, m_leo, true)\n",
    "fitness!, ng, lg, ug, eval_sft = SailorMoon.get_fitness4_minmleo_fixToF(dir_func, paramMulti, x, sum(tofs), true)\n",
    "\n",
    "# checking if the initial guess is good enough\n",
    "res = eval_sft(x)"
   ]
  },
  {
   "cell_type": "code",
   "execution_count": 14,
   "metadata": {},
   "outputs": [
    {
     "ename": "LoadError",
     "evalue": "UndefVarError: u_ not defined",
     "output_type": "error",
     "traceback": [
      "UndefVarError: u_ not defined",
      "",
      "Stacktrace:",
      " [1] top-level scope",
      "   @ In[14]:29"
     ]
    }
   ],
   "source": [
    "# moon     = SailorMoon.plot_circle(1-param3b.mu2, param3b.as , 0.0)\n",
    "# earth    = SailorMoon.plot_circle(param3b.mu2, param3b.as, 0.0)\n",
    "# earth_ub = SailorMoon.plot_circle(param3b.mu2+6375/param3b.lstar, param3b.as, 0.0)\n",
    "# earth_lb = SailorMoon.plot_circle(param3b.mu2-6375/param3b.lstar, param3b.as, 0.0)\n",
    "# moon_soi_outer = SailorMoon.plot_circle(1-param3b.mu2+66000/param3b.lstar, param3b.as, 0.0);\n",
    "\n",
    "\n",
    "moon     = SailorMoon.plot_circle((1-param3b.mu2)*param3b.lstar, 0.0, 0.0)\n",
    "earth    = SailorMoon.plot_circle(param3b.mu2*param3b.lstar, 0.0, 0.0)\n",
    "earth_ub = SailorMoon.plot_circle(param3b.mu2*param3b.lstar+6375,0.0, 0.0)\n",
    "earth_lb = SailorMoon.plot_circle(param3b.mu2*param3b.lstar-6375, 0.0, 0.0)\n",
    "moon_soi_outer = SailorMoon.plot_circle((1-param3b.mu2)*param3b.lstar+66000, 0.0, 0.0);\n",
    "\n",
    "p = plot(\n",
    "    size=(700,500), frame_style=:box, aspect_ratio=:equal, grid=0.4, legend=false, \n",
    "    xlabel=L\"x, \\times10^6\\textrm{km}\", ylabel=L\"y, \\times10^6\\textrm{km}\",\n",
    "    colorbar_titlefontsize=fs,\n",
    "    fontsize=fs, xlabelfontsize=fs, ylabelfontsize=fs, xtickfontsize=fs-1, ytickfontsize=fs-1, legendfontsize=fs-1\n",
    ");\n",
    "\n",
    "plot!(p, earth[1,:], earth[2,:], c=:green, lw=1.0, label=\"\")\n",
    "plot!(p, earth_ub[1,:], earth_ub[2,:], c=:black, lw=1.0, label=\"\")\n",
    "plot!(p, earth_lb[1,:], earth_lb[2,:], c=:black, lw=1.0, label=\"\")\n",
    "plot!(p, moon[1,:], moon[2,:], c=:orange, lw=1.0, label=\"\")\n",
    "plot!(p, moon_soi_outer[1,:], moon_soi_outer[2,:], c=:black, lw=1.0, label=\"\",\n",
    "    xaxis=(formatter=x->string(round(x / 10^6; digits=2))),\n",
    "    yaxis=(formatter=y->string(round(y / 10^6, digits=1))),\n",
    ")\n",
    "plot!(p,(u_[1,:].-param3b.as).*param3b.lstar, u_[2,:].*param3b.lstar, c=:blue, label=\"optim. traj.\")\n"
   ]
  },
  {
   "cell_type": "code",
   "execution_count": 15,
   "metadata": {},
   "outputs": [
    {
     "ename": "LoadError",
     "evalue": "UndefVarError: u_ not defined",
     "output_type": "error",
     "traceback": [
      "UndefVarError: u_ not defined",
      "",
      "Stacktrace:",
      " [1] top-level scope",
      "   @ In[15]:1"
     ]
    }
   ],
   "source": [
    "k = size(u_,2)\n",
    "m = 20\n",
    "l = 1e5\n",
    "quiver!(p,(u_[1,collect(1:m:k)].-param3b.as).*param3b.lstar, u_[2,collect(1:m:k)].*param3b.lstar, \n",
    "    quiver=(th_[1,collect(1:m:k)]*l, th_[2,collect(1:m:k)]*l), c=:red, label=\"\")"
   ]
  },
  {
   "cell_type": "markdown",
   "metadata": {},
   "source": [
    "### Now put the initial guess (diff-corr) trajectory "
   ]
  },
  {
   "cell_type": "code",
   "execution_count": 16,
   "metadata": {},
   "outputs": [
    {
     "ename": "LoadError",
     "evalue": "UndefVarError: t_ not defined",
     "output_type": "error",
     "traceback": [
      "UndefVarError: t_ not defined",
      "",
      "Stacktrace:",
      " [1] top-level scope",
      "   @ In[16]:5"
     ]
    }
   ],
   "source": [
    "position = indexin( solid, df_ig[:,1] )\n",
    "row_ig = df_ig[position[end],:]\n",
    "x = Float64.(collect(row_ig[4:end]))\n",
    "t_ig, u_ig, th_ig, th0_ig  = SailorMoon.x2time_series(x, dir_func, paramMulti, false);\n",
    "t_days = t_ * param3b.tstar / 86400\n",
    "t_days = t_days .- t_days[end]  # scale it back to days, and set t_LEO = 0 \n"
   ]
  },
  {
   "cell_type": "code",
   "execution_count": 17,
   "metadata": {},
   "outputs": [
    {
     "data": {
      "image/svg+xml": [
       "<?xml version=\"1.0\" encoding=\"utf-8\"?>\n",
       "<svg xmlns=\"http://www.w3.org/2000/svg\" xmlns:xlink=\"http://www.w3.org/1999/xlink\" width=\"700\" height=\"500\" viewBox=\"0 0 2800 2000\">\n",
       "<defs>\n",
       "  <clipPath id=\"clip190\">\n",
       "    <rect x=\"0\" y=\"0\" width=\"2800\" height=\"2000\"/>\n",
       "  </clipPath>\n",
       "</defs>\n",
       "<path clip-path=\"url(#clip190)\" d=\"M0 2000 L2800 2000 L2800 0 L0 0  Z\" fill=\"#ffffff\" fill-rule=\"evenodd\" fill-opacity=\"1\"/>\n",
       "<defs>\n",
       "  <clipPath id=\"clip191\">\n",
       "    <rect x=\"560\" y=\"0\" width=\"1961\" height=\"1961\"/>\n",
       "  </clipPath>\n",
       "</defs>\n",
       "<defs>\n",
       "  <clipPath id=\"clip192\">\n",
       "    <rect x=\"353\" y=\"47\" width=\"2401\" height=\"1704\"/>\n",
       "  </clipPath>\n",
       "</defs>\n",
       "<path clip-path=\"url(#clip190)\" d=\"M349.247 1750.36 L2752.76 1750.36 L2752.76 47.2441 L349.247 47.2441  Z\" fill=\"#ffffff\" fill-rule=\"evenodd\" fill-opacity=\"1\"/>\n",
       "<defs>\n",
       "  <clipPath id=\"clip193\">\n",
       "    <rect x=\"349\" y=\"47\" width=\"2405\" height=\"1704\"/>\n",
       "  </clipPath>\n",
       "</defs>\n",
       "<polyline clip-path=\"url(#clip193)\" style=\"stroke:#000000; stroke-linecap:round; stroke-linejoin:round; stroke-width:2; stroke-opacity:0.4; fill:none\" points=\"811.086,1750.36 811.086,47.2441 \"/>\n",
       "<polyline clip-path=\"url(#clip193)\" style=\"stroke:#000000; stroke-linecap:round; stroke-linejoin:round; stroke-width:2; stroke-opacity:0.4; fill:none\" points=\"1276.08,1750.36 1276.08,47.2441 \"/>\n",
       "<polyline clip-path=\"url(#clip193)\" style=\"stroke:#000000; stroke-linecap:round; stroke-linejoin:round; stroke-width:2; stroke-opacity:0.4; fill:none\" points=\"1741.08,1750.36 1741.08,47.2441 \"/>\n",
       "<polyline clip-path=\"url(#clip193)\" style=\"stroke:#000000; stroke-linecap:round; stroke-linejoin:round; stroke-width:2; stroke-opacity:0.4; fill:none\" points=\"2206.08,1750.36 2206.08,47.2441 \"/>\n",
       "<polyline clip-path=\"url(#clip193)\" style=\"stroke:#000000; stroke-linecap:round; stroke-linejoin:round; stroke-width:2; stroke-opacity:0.4; fill:none\" points=\"2671.07,1750.36 2671.07,47.2441 \"/>\n",
       "<polyline clip-path=\"url(#clip190)\" style=\"stroke:#000000; stroke-linecap:round; stroke-linejoin:round; stroke-width:4; stroke-opacity:1; fill:none\" points=\"349.247,1750.36 2752.76,1750.36 \"/>\n",
       "<polyline clip-path=\"url(#clip190)\" style=\"stroke:#000000; stroke-linecap:round; stroke-linejoin:round; stroke-width:4; stroke-opacity:1; fill:none\" points=\"349.247,47.2441 2752.76,47.2441 \"/>\n",
       "<polyline clip-path=\"url(#clip190)\" style=\"stroke:#000000; stroke-linecap:round; stroke-linejoin:round; stroke-width:4; stroke-opacity:1; fill:none\" points=\"811.086,1750.36 811.086,1731.46 \"/>\n",
       "<polyline clip-path=\"url(#clip190)\" style=\"stroke:#000000; stroke-linecap:round; stroke-linejoin:round; stroke-width:4; stroke-opacity:1; fill:none\" points=\"1276.08,1750.36 1276.08,1731.46 \"/>\n",
       "<polyline clip-path=\"url(#clip190)\" style=\"stroke:#000000; stroke-linecap:round; stroke-linejoin:round; stroke-width:4; stroke-opacity:1; fill:none\" points=\"1741.08,1750.36 1741.08,1731.46 \"/>\n",
       "<polyline clip-path=\"url(#clip190)\" style=\"stroke:#000000; stroke-linecap:round; stroke-linejoin:round; stroke-width:4; stroke-opacity:1; fill:none\" points=\"2206.08,1750.36 2206.08,1731.46 \"/>\n",
       "<polyline clip-path=\"url(#clip190)\" style=\"stroke:#000000; stroke-linecap:round; stroke-linejoin:round; stroke-width:4; stroke-opacity:1; fill:none\" points=\"2671.07,1750.36 2671.07,1731.46 \"/>\n",
       "<path clip-path=\"url(#clip190)\" d=\"M729.338 1825.85 L752.732 1825.85 L752.732 1832.97 L729.338 1832.97 L729.338 1825.85 Z\" fill=\"#000000\" fill-rule=\"evenodd\" fill-opacity=\"1\" /><path clip-path=\"url(#clip190)\" d=\"M785.327 1794.73 Q778.556 1794.73 775.127 1801.41 Q771.742 1808.05 771.742 1821.42 Q771.742 1834.75 775.127 1841.43 Q778.556 1848.07 785.327 1848.07 Q792.141 1848.07 795.527 1841.43 Q798.955 1834.75 798.955 1821.42 Q798.955 1808.05 795.527 1801.41 Q792.141 1794.73 785.327 1794.73 M785.327 1787.78 Q796.221 1787.78 801.95 1796.42 Q807.723 1805.02 807.723 1821.42 Q807.723 1837.78 801.95 1846.42 Q796.221 1855.01 785.327 1855.01 Q774.433 1855.01 768.66 1846.42 Q762.931 1837.78 762.931 1821.42 Q762.931 1805.02 768.66 1796.42 Q774.433 1787.78 785.327 1787.78 Z\" fill=\"#000000\" fill-rule=\"evenodd\" fill-opacity=\"1\" /><path clip-path=\"url(#clip190)\" d=\"M823.131 1842.73 L832.289 1842.73 L832.289 1853.76 L823.131 1853.76 L823.131 1842.73 Z\" fill=\"#000000\" fill-rule=\"evenodd\" fill-opacity=\"1\" /><path clip-path=\"url(#clip190)\" d=\"M871.221 1817.86 Q865.318 1817.86 861.846 1821.9 Q858.417 1825.94 858.417 1832.97 Q858.417 1839.95 861.846 1844.03 Q865.318 1848.07 871.221 1848.07 Q877.123 1848.07 880.552 1844.03 Q884.024 1839.95 884.024 1832.97 Q884.024 1825.94 880.552 1821.9 Q877.123 1817.86 871.221 1817.86 M888.625 1790.39 L888.625 1798.37 Q885.326 1796.81 881.941 1795.99 Q878.599 1795.16 875.3 1795.16 Q866.62 1795.16 862.019 1801.02 Q857.462 1806.88 856.811 1818.73 Q859.372 1814.95 863.235 1812.96 Q867.097 1810.92 871.741 1810.92 Q881.507 1810.92 887.149 1816.86 Q892.835 1822.77 892.835 1832.97 Q892.835 1842.95 886.932 1848.98 Q881.03 1855.01 871.221 1855.01 Q859.979 1855.01 854.033 1846.42 Q848.087 1837.78 848.087 1821.42 Q848.087 1806.06 855.379 1796.94 Q862.67 1787.78 874.953 1787.78 Q878.252 1787.78 881.594 1788.44 Q884.979 1789.09 888.625 1790.39 Z\" fill=\"#000000\" fill-rule=\"evenodd\" fill-opacity=\"1\" /><path clip-path=\"url(#clip190)\" d=\"M1195.09 1825.85 L1218.49 1825.85 L1218.49 1832.97 L1195.09 1832.97 L1195.09 1825.85 Z\" fill=\"#000000\" fill-rule=\"evenodd\" fill-opacity=\"1\" /><path clip-path=\"url(#clip190)\" d=\"M1251.08 1794.73 Q1244.31 1794.73 1240.88 1801.41 Q1237.5 1808.05 1237.5 1821.42 Q1237.5 1834.75 1240.88 1841.43 Q1244.31 1848.07 1251.08 1848.07 Q1257.9 1848.07 1261.28 1841.43 Q1264.71 1834.75 1264.71 1821.42 Q1264.71 1808.05 1261.28 1801.41 Q1257.9 1794.73 1251.08 1794.73 M1251.08 1787.78 Q1261.98 1787.78 1267.71 1796.42 Q1273.48 1805.02 1273.48 1821.42 Q1273.48 1837.78 1267.71 1846.42 Q1261.98 1855.01 1251.08 1855.01 Q1240.19 1855.01 1234.42 1846.42 Q1228.69 1837.78 1228.69 1821.42 Q1228.69 1805.02 1234.42 1796.42 Q1240.19 1787.78 1251.08 1787.78 Z\" fill=\"#000000\" fill-rule=\"evenodd\" fill-opacity=\"1\" /><path clip-path=\"url(#clip190)\" d=\"M1288.89 1842.73 L1298.04 1842.73 L1298.04 1853.76 L1288.89 1853.76 L1288.89 1842.73 Z\" fill=\"#000000\" fill-rule=\"evenodd\" fill-opacity=\"1\" /><path clip-path=\"url(#clip190)\" d=\"M1343.7 1818.82 Q1350 1820.16 1353.51 1824.42 Q1357.07 1828.67 1357.07 1834.92 Q1357.07 1844.51 1350.47 1849.76 Q1343.88 1855.01 1331.72 1855.01 Q1327.64 1855.01 1323.3 1854.19 Q1319.01 1853.41 1314.41 1851.8 L1314.41 1843.34 Q1318.05 1845.47 1322.39 1846.55 Q1326.73 1847.64 1331.46 1847.64 Q1339.71 1847.64 1344.01 1844.38 Q1348.35 1841.13 1348.35 1834.92 Q1348.35 1829.19 1344.31 1825.98 Q1340.32 1822.72 1333.16 1822.72 L1325.61 1822.72 L1325.61 1815.52 L1333.5 1815.52 Q1339.97 1815.52 1343.4 1812.96 Q1346.83 1810.35 1346.83 1805.49 Q1346.83 1800.5 1343.27 1797.85 Q1339.75 1795.16 1333.16 1795.16 Q1329.55 1795.16 1325.43 1795.94 Q1321.31 1796.73 1316.36 1798.37 L1316.36 1790.56 Q1321.35 1789.17 1325.69 1788.48 Q1330.08 1787.78 1333.94 1787.78 Q1343.92 1787.78 1349.74 1792.34 Q1355.55 1796.86 1355.55 1804.58 Q1355.55 1809.96 1352.47 1813.7 Q1349.39 1817.38 1343.7 1818.82 Z\" fill=\"#000000\" fill-rule=\"evenodd\" fill-opacity=\"1\" /><path clip-path=\"url(#clip190)\" d=\"M1698.67 1794.73 Q1691.9 1794.73 1688.48 1801.41 Q1685.09 1808.05 1685.09 1821.42 Q1685.09 1834.75 1688.48 1841.43 Q1691.9 1848.07 1698.67 1848.07 Q1705.49 1848.07 1708.87 1841.43 Q1712.3 1834.75 1712.3 1821.42 Q1712.3 1808.05 1708.87 1801.41 Q1705.49 1794.73 1698.67 1794.73 M1698.67 1787.78 Q1709.57 1787.78 1715.3 1796.42 Q1721.07 1805.02 1721.07 1821.42 Q1721.07 1837.78 1715.3 1846.42 Q1709.57 1855.01 1698.67 1855.01 Q1687.78 1855.01 1682.01 1846.42 Q1676.28 1837.78 1676.28 1821.42 Q1676.28 1805.02 1682.01 1796.42 Q1687.78 1787.78 1698.67 1787.78 Z\" fill=\"#000000\" fill-rule=\"evenodd\" fill-opacity=\"1\" /><path clip-path=\"url(#clip190)\" d=\"M1736.48 1842.73 L1745.64 1842.73 L1745.64 1853.76 L1736.48 1853.76 L1736.48 1842.73 Z\" fill=\"#000000\" fill-rule=\"evenodd\" fill-opacity=\"1\" /><path clip-path=\"url(#clip190)\" d=\"M1783.48 1794.73 Q1776.71 1794.73 1773.28 1801.41 Q1769.9 1808.05 1769.9 1821.42 Q1769.9 1834.75 1773.28 1841.43 Q1776.71 1848.07 1783.48 1848.07 Q1790.3 1848.07 1793.68 1841.43 Q1797.11 1834.75 1797.11 1821.42 Q1797.11 1808.05 1793.68 1801.41 Q1790.3 1794.73 1783.48 1794.73 M1783.48 1787.78 Q1794.38 1787.78 1800.11 1796.42 Q1805.88 1805.02 1805.88 1821.42 Q1805.88 1837.78 1800.11 1846.42 Q1794.38 1855.01 1783.48 1855.01 Q1772.59 1855.01 1766.82 1846.42 Q1761.09 1837.78 1761.09 1821.42 Q1761.09 1805.02 1766.82 1796.42 Q1772.59 1787.78 1783.48 1787.78 Z\" fill=\"#000000\" fill-rule=\"evenodd\" fill-opacity=\"1\" /><path clip-path=\"url(#clip190)\" d=\"M2164.28 1794.73 Q2157.51 1794.73 2154.08 1801.41 Q2150.69 1808.05 2150.69 1821.42 Q2150.69 1834.75 2154.08 1841.43 Q2157.51 1848.07 2164.28 1848.07 Q2171.09 1848.07 2174.48 1841.43 Q2177.91 1834.75 2177.91 1821.42 Q2177.91 1808.05 2174.48 1801.41 Q2171.09 1794.73 2164.28 1794.73 M2164.28 1787.78 Q2175.17 1787.78 2180.9 1796.42 Q2186.67 1805.02 2186.67 1821.42 Q2186.67 1837.78 2180.9 1846.42 Q2175.17 1855.01 2164.28 1855.01 Q2153.38 1855.01 2147.61 1846.42 Q2141.88 1837.78 2141.88 1821.42 Q2141.88 1805.02 2147.61 1796.42 Q2153.38 1787.78 2164.28 1787.78 Z\" fill=\"#000000\" fill-rule=\"evenodd\" fill-opacity=\"1\" /><path clip-path=\"url(#clip190)\" d=\"M2202.08 1842.73 L2211.24 1842.73 L2211.24 1853.76 L2202.08 1853.76 L2202.08 1842.73 Z\" fill=\"#000000\" fill-rule=\"evenodd\" fill-opacity=\"1\" /><path clip-path=\"url(#clip190)\" d=\"M2256.9 1818.82 Q2263.19 1820.16 2266.71 1824.42 Q2270.27 1828.67 2270.27 1834.92 Q2270.27 1844.51 2263.67 1849.76 Q2257.07 1855.01 2244.92 1855.01 Q2240.84 1855.01 2236.5 1854.19 Q2232.2 1853.41 2227.6 1851.8 L2227.6 1843.34 Q2231.25 1845.47 2235.59 1846.55 Q2239.93 1847.64 2244.66 1847.64 Q2252.91 1847.64 2257.2 1844.38 Q2261.54 1841.13 2261.54 1834.92 Q2261.54 1829.19 2257.51 1825.98 Q2253.51 1822.72 2246.35 1822.72 L2238.8 1822.72 L2238.8 1815.52 L2246.7 1815.52 Q2253.17 1815.52 2256.6 1812.96 Q2260.02 1810.35 2260.02 1805.49 Q2260.02 1800.5 2256.47 1797.85 Q2252.95 1795.16 2246.35 1795.16 Q2242.75 1795.16 2238.63 1795.94 Q2234.5 1796.73 2229.56 1798.37 L2229.56 1790.56 Q2234.55 1789.17 2238.89 1788.48 Q2243.27 1787.78 2247.13 1787.78 Q2257.12 1787.78 2262.93 1792.34 Q2268.75 1796.86 2268.75 1804.58 Q2268.75 1809.96 2265.67 1813.7 Q2262.59 1817.38 2256.9 1818.82 Z\" fill=\"#000000\" fill-rule=\"evenodd\" fill-opacity=\"1\" /><path clip-path=\"url(#clip190)\" d=\"M2628.52 1794.73 Q2621.74 1794.73 2618.32 1801.41 Q2614.93 1808.05 2614.93 1821.42 Q2614.93 1834.75 2618.32 1841.43 Q2621.74 1848.07 2628.52 1848.07 Q2635.33 1848.07 2638.71 1841.43 Q2642.14 1834.75 2642.14 1821.42 Q2642.14 1808.05 2638.71 1801.41 Q2635.33 1794.73 2628.52 1794.73 M2628.52 1787.78 Q2639.41 1787.78 2645.14 1796.42 Q2650.91 1805.02 2650.91 1821.42 Q2650.91 1837.78 2645.14 1846.42 Q2639.41 1855.01 2628.52 1855.01 Q2617.62 1855.01 2611.85 1846.42 Q2606.12 1837.78 2606.12 1821.42 Q2606.12 1805.02 2611.85 1796.42 Q2617.62 1787.78 2628.52 1787.78 Z\" fill=\"#000000\" fill-rule=\"evenodd\" fill-opacity=\"1\" /><path clip-path=\"url(#clip190)\" d=\"M2666.32 1842.73 L2675.48 1842.73 L2675.48 1853.76 L2666.32 1853.76 L2666.32 1842.73 Z\" fill=\"#000000\" fill-rule=\"evenodd\" fill-opacity=\"1\" /><path clip-path=\"url(#clip190)\" d=\"M2714.41 1817.86 Q2708.51 1817.86 2705.03 1821.9 Q2701.61 1825.94 2701.61 1832.97 Q2701.61 1839.95 2705.03 1844.03 Q2708.51 1848.07 2714.41 1848.07 Q2720.31 1848.07 2723.74 1844.03 Q2727.21 1839.95 2727.21 1832.97 Q2727.21 1825.94 2723.74 1821.9 Q2720.31 1817.86 2714.41 1817.86 M2731.81 1790.39 L2731.81 1798.37 Q2728.51 1796.81 2725.13 1795.99 Q2721.79 1795.16 2718.49 1795.16 Q2709.81 1795.16 2705.21 1801.02 Q2700.65 1806.88 2700 1818.73 Q2702.56 1814.95 2706.42 1812.96 Q2710.29 1810.92 2714.93 1810.92 Q2724.7 1810.92 2730.34 1816.86 Q2736.02 1822.77 2736.02 1832.97 Q2736.02 1842.95 2730.12 1848.98 Q2724.22 1855.01 2714.41 1855.01 Q2703.17 1855.01 2697.22 1846.42 Q2691.28 1837.78 2691.28 1821.42 Q2691.28 1806.06 2698.57 1796.94 Q2705.86 1787.78 2718.14 1787.78 Q2721.44 1787.78 2724.78 1788.44 Q2728.17 1789.09 2731.81 1790.39 Z\" fill=\"#000000\" fill-rule=\"evenodd\" fill-opacity=\"1\" /><path clip-path=\"url(#clip190)\" d=\"M1354.53 1937.82 Q1354.53 1940.45 1352.89 1941.95 Q1351.25 1943.4 1349.38 1943.4 Q1347.6 1943.4 1346.66 1942.37 Q1345.72 1941.34 1345.72 1940.03 Q1345.72 1938.25 1347.04 1936.7 Q1348.35 1935.15 1350.31 1934.83 Q1348.39 1933.61 1345.54 1933.61 Q1343.66 1933.61 1342.02 1934.59 Q1340.43 1935.58 1339.45 1936.84 Q1338.51 1938.1 1337.67 1939.93 Q1336.87 1941.71 1336.54 1942.79 Q1336.26 1943.82 1336.03 1944.94 L1332.75 1958.06 Q1331.15 1964.29 1331.15 1966.49 Q1331.15 1969.21 1332.47 1971.04 Q1333.78 1972.82 1336.4 1972.82 Q1337.43 1972.82 1338.6 1972.54 Q1339.77 1972.21 1341.27 1971.36 Q1342.82 1970.47 1344.18 1969.16 Q1345.58 1967.8 1346.94 1965.51 Q1348.3 1963.21 1349.19 1960.26 Q1349.47 1959.23 1350.41 1959.23 Q1351.58 1959.23 1351.58 1960.17 Q1351.58 1960.97 1350.92 1962.65 Q1350.31 1964.29 1348.96 1966.45 Q1347.64 1968.55 1345.91 1970.47 Q1344.18 1972.35 1341.6 1973.66 Q1339.02 1974.97 1336.21 1974.97 Q1332.19 1974.97 1329.52 1972.82 Q1326.85 1970.66 1325.86 1967.66 Q1325.63 1968.09 1325.3 1968.65 Q1324.97 1969.21 1323.99 1970.47 Q1323.05 1971.69 1321.97 1972.63 Q1320.9 1973.52 1319.21 1974.22 Q1317.57 1974.97 1315.79 1974.97 Q1313.54 1974.97 1311.53 1974.32 Q1309.56 1973.66 1308.15 1972.16 Q1306.75 1970.66 1306.75 1968.6 Q1306.75 1966.31 1308.29 1964.71 Q1309.89 1963.07 1312.04 1963.07 Q1313.4 1963.07 1314.48 1963.87 Q1315.6 1964.67 1315.6 1966.4 Q1315.6 1968.32 1314.29 1969.77 Q1312.98 1971.22 1311.11 1971.6 Q1313.03 1972.82 1315.88 1972.82 Q1318.98 1972.82 1321.41 1970.1 Q1323.85 1967.38 1325.02 1962.84 Q1327.92 1951.92 1329.05 1947.05 Q1330.17 1942.13 1330.17 1940.03 Q1330.17 1938.06 1329.66 1936.7 Q1329.14 1935.34 1328.25 1934.73 Q1327.41 1934.08 1326.61 1933.84 Q1325.86 1933.61 1325.02 1933.61 Q1323.61 1933.61 1322.02 1934.17 Q1320.47 1934.73 1318.6 1936.04 Q1316.77 1937.31 1315.04 1939.93 Q1313.31 1942.56 1312.14 1946.16 Q1311.9 1947.24 1310.87 1947.24 Q1309.75 1947.19 1309.75 1946.26 Q1309.75 1945.46 1310.36 1943.82 Q1311.01 1942.13 1312.32 1940.03 Q1313.68 1937.92 1315.41 1936.04 Q1317.19 1934.12 1319.77 1932.81 Q1322.39 1931.5 1325.21 1931.5 Q1326.47 1931.5 1327.69 1931.78 Q1328.95 1932.02 1330.45 1932.72 Q1332 1933.42 1333.36 1934.97 Q1334.71 1936.51 1335.56 1938.76 Q1336.12 1937.68 1336.87 1936.65 Q1337.67 1935.62 1338.88 1934.36 Q1340.15 1933.05 1341.88 1932.3 Q1343.66 1931.5 1345.63 1931.5 Q1347.55 1931.5 1349.42 1932.02 Q1351.3 1932.48 1352.89 1934.03 Q1354.53 1935.53 1354.53 1937.82 Z\" fill=\"#000000\" fill-rule=\"evenodd\" fill-opacity=\"1\" /><path clip-path=\"url(#clip190)\" d=\"M1362.43 1972.35 Q1361.07 1970.8 1361.07 1968.79 Q1361.07 1966.77 1362.39 1965.28 Q1363.74 1963.73 1366.18 1963.73 Q1369.04 1963.73 1370.68 1966.49 Q1372.32 1969.21 1372.32 1973.8 Q1372.32 1978.77 1370.3 1983.36 Q1368.29 1987.99 1366.32 1990.2 Q1364.35 1992.4 1363.56 1992.4 Q1362.62 1992.4 1362.62 1991.37 Q1362.62 1990.99 1363.28 1990.29 Q1370.16 1982.89 1370.21 1973.8 Q1370.21 1972.35 1370.02 1972.35 L1369.79 1972.54 Q1368.15 1973.89 1366.18 1973.89 Q1363.79 1973.89 1362.43 1972.35 Z\" fill=\"#000000\" fill-rule=\"evenodd\" fill-opacity=\"1\" /><path clip-path=\"url(#clip190)\" d=\"M1482.47 1972.44 Q1482.01 1973 1481.16 1973 Q1480.37 1973 1479.8 1972.44 L1459.94 1952.58 L1440.08 1972.44 Q1439.52 1973 1438.67 1973 Q1437.88 1973 1437.36 1972.44 Q1436.8 1971.93 1436.8 1971.13 Q1436.8 1970.33 1437.36 1969.77 L1457.22 1949.91 L1437.36 1930.05 Q1436.8 1929.49 1436.8 1928.69 Q1436.8 1927.85 1437.36 1927.38 Q1437.88 1926.82 1438.67 1926.82 Q1439.52 1926.82 1440.08 1927.38 L1459.94 1947.24 L1479.8 1927.38 Q1480.37 1926.82 1481.16 1926.82 Q1482.01 1926.82 1482.47 1927.38 Q1483.04 1927.85 1483.04 1928.69 Q1483.04 1929.49 1482.47 1930.05 L1462.61 1949.91 L1482.47 1969.77 Q1483.04 1970.33 1483.04 1971.18 Q1483.04 1971.97 1482.47 1972.44 Z\" fill=\"#000000\" fill-rule=\"evenodd\" fill-opacity=\"1\" /><path clip-path=\"url(#clip190)\" d=\"M1528.23 1919.13 L1528.23 1916.13 Q1539.76 1916.13 1545.71 1910 Q1547.35 1910 1547.63 1910.37 Q1547.91 1910.75 1547.91 1912.48 L1547.91 1966.31 Q1547.91 1969.16 1549.31 1970.05 Q1550.72 1970.94 1556.86 1970.94 L1559.9 1970.94 L1559.9 1973.89 Q1556.53 1973.61 1544.35 1973.61 Q1532.17 1973.61 1528.84 1973.89 L1528.84 1970.94 L1531.89 1970.94 Q1537.93 1970.94 1539.38 1970.1 Q1540.83 1969.21 1540.83 1966.31 L1540.83 1916.6 Q1535.82 1919.13 1528.23 1919.13 Z\" fill=\"#000000\" fill-rule=\"evenodd\" fill-opacity=\"1\" /><path clip-path=\"url(#clip190)\" d=\"M1575.74 1943.21 Q1575.74 1929.11 1579.3 1921.43 Q1584.26 1910 1595.98 1910 Q1598.46 1910 1601.03 1910.7 Q1603.66 1911.36 1606.94 1913.93 Q1610.26 1916.51 1612.28 1920.73 Q1616.12 1928.88 1616.12 1943.21 Q1616.12 1957.22 1612.56 1964.85 Q1607.36 1976 1595.88 1976 Q1591.57 1976 1587.17 1973.8 Q1582.81 1971.6 1580.05 1966.31 Q1575.74 1958.39 1575.74 1943.21 M1583.7 1942.04 Q1583.7 1956.52 1584.73 1962.28 Q1585.9 1968.51 1589.09 1971.22 Q1592.32 1973.89 1595.88 1973.89 Q1599.72 1973.89 1602.91 1971.04 Q1606.14 1968.13 1607.12 1961.9 Q1608.2 1955.77 1608.16 1942.04 Q1608.16 1928.69 1607.22 1923.35 Q1605.95 1917.12 1602.58 1914.64 Q1599.25 1912.11 1595.88 1912.11 Q1594.62 1912.11 1593.26 1912.48 Q1591.95 1912.86 1590.03 1913.93 Q1588.11 1915.01 1586.61 1917.68 Q1585.15 1920.35 1584.45 1924.38 Q1583.7 1929.58 1583.7 1942.04 Z\" fill=\"#000000\" fill-rule=\"evenodd\" fill-opacity=\"1\" /><path clip-path=\"url(#clip190)\" d=\"M1625.96 1901.22 Q1625.96 1890.67 1631.33 1884.21 Q1636.71 1877.71 1643.63 1877.71 Q1647.66 1877.71 1649.89 1879.78 Q1652.16 1881.81 1652.16 1884.96 Q1652.16 1886.7 1651.14 1887.45 Q1650.12 1888.21 1649.07 1888.21 Q1647.86 1888.21 1646.91 1887.39 Q1645.96 1886.57 1645.96 1885.09 Q1645.96 1882.07 1649.66 1882.07 Q1647.93 1879.39 1643.76 1879.39 Q1642.48 1879.39 1641.17 1879.78 Q1639.86 1880.14 1638.15 1881.39 Q1636.45 1882.63 1635.14 1884.6 Q1633.83 1886.57 1632.91 1890.27 Q1631.99 1893.98 1631.99 1898.8 L1631.99 1900.41 Q1634.74 1893.75 1640.38 1893.78 Q1646.02 1893.78 1649.93 1898.08 Q1653.83 1902.37 1653.83 1908.73 Q1653.83 1915.26 1649.76 1919.59 Q1645.7 1923.92 1639.99 1923.92 Q1637.43 1923.92 1635.1 1922.83 Q1632.81 1921.79 1630.64 1919.36 Q1628.51 1916.93 1627.23 1912.28 Q1625.96 1907.62 1625.96 1901.22 M1632.12 1907.26 Q1632.12 1913.85 1633.33 1917 Q1633.53 1917.52 1633.96 1918.24 Q1634.42 1918.97 1635.17 1919.92 Q1635.96 1920.83 1637.24 1921.46 Q1638.51 1922.05 1639.99 1922.05 Q1644.48 1922.05 1646.65 1917.69 Q1647.79 1915.26 1647.79 1908.67 Q1647.79 1901.95 1646.58 1899.49 Q1644.52 1895.32 1640.32 1895.32 Q1637.5 1895.32 1635.53 1897.26 Q1633.6 1899.19 1632.84 1901.78 Q1632.12 1904.37 1632.12 1907.26 Z\" fill=\"#000000\" fill-rule=\"evenodd\" fill-opacity=\"1\" /><path clip-path=\"url(#clip190)\" d=\"M1663.8 1973.89 L1663.8 1970.94 Q1668.9 1970.94 1670.07 1970.33 Q1671.29 1969.68 1671.29 1966.59 L1671.29 1916.7 Q1671.29 1913.14 1670.03 1912.25 Q1668.81 1911.36 1663.8 1911.36 L1663.8 1908.36 L1677.62 1907.33 L1677.62 1953.38 L1691.15 1941.67 Q1693.26 1939.84 1693.26 1937.92 Q1693.26 1935.72 1690.5 1935.53 L1690.5 1932.53 Q1694.53 1932.81 1701.23 1932.81 Q1705.16 1932.81 1707.92 1932.53 L1707.92 1935.53 Q1701.88 1935.81 1695.84 1940.68 Q1694.48 1941.76 1691.25 1944.57 Q1688.06 1947.33 1688.06 1947.61 Q1688.06 1947.71 1688.16 1947.94 Q1688.3 1948.18 1688.48 1948.36 Q1688.67 1948.55 1688.67 1948.65 L1700.85 1965.84 Q1703.33 1969.3 1705.16 1970.15 Q1706.99 1970.94 1710.17 1970.94 L1710.17 1973.89 Q1706.05 1973.61 1701.79 1973.61 Q1699.49 1973.61 1691.43 1973.89 L1691.43 1970.94 Q1694.9 1970.94 1694.9 1968.69 Q1694.9 1967.15 1687.12 1956.42 Q1686.56 1955.67 1685.3 1954.03 Q1684.13 1952.3 1683.47 1951.46 L1677.33 1956.7 L1677.33 1966.59 Q1677.33 1969.68 1678.51 1970.33 Q1679.72 1970.94 1684.83 1970.94 L1684.83 1973.89 Q1679.07 1973.61 1674.29 1973.61 Q1673.31 1973.61 1663.8 1973.89 Z\" fill=\"#000000\" fill-rule=\"evenodd\" fill-opacity=\"1\" /><path clip-path=\"url(#clip190)\" d=\"M1716.16 1973.89 L1716.16 1970.94 Q1721.26 1970.94 1722.43 1970.33 Q1723.61 1969.68 1723.61 1966.59 L1723.61 1940.87 Q1723.61 1937.31 1722.34 1936.42 Q1721.12 1935.53 1716.16 1935.53 L1716.16 1932.53 L1729.65 1931.5 L1729.65 1941.57 Q1734.15 1931.5 1743.84 1931.5 Q1755.08 1931.5 1756.63 1940.87 Q1758.27 1937.21 1761.69 1934.36 Q1765.16 1931.5 1770.54 1931.5 Q1777.76 1931.5 1780.62 1935.06 Q1782.72 1937.45 1783.14 1940.12 Q1783.57 1942.79 1783.57 1949.72 L1783.57 1968.04 Q1783.66 1970.05 1785.21 1970.52 Q1786.75 1970.94 1791.06 1970.94 L1791.06 1973.89 Q1781.27 1973.61 1780.33 1973.61 Q1779.58 1973.61 1769.47 1973.89 L1769.47 1970.94 Q1774.57 1970.94 1775.74 1970.33 Q1776.96 1969.68 1776.96 1966.59 L1776.96 1944.24 Q1776.96 1939.37 1775.46 1936.51 Q1773.96 1933.61 1769.84 1933.61 Q1764.88 1933.61 1760.89 1937.78 Q1756.91 1941.95 1756.91 1948.97 L1756.91 1966.59 Q1756.91 1969.68 1758.08 1970.33 Q1759.3 1970.94 1764.41 1970.94 L1764.41 1973.89 Q1754.62 1973.61 1753.63 1973.61 Q1752.88 1973.61 1742.81 1973.89 L1742.81 1970.94 Q1747.92 1970.94 1749.09 1970.33 Q1750.31 1969.68 1750.31 1966.59 L1750.31 1944.24 Q1750.31 1939.37 1748.81 1936.51 Q1747.31 1933.61 1743.19 1933.61 Q1738.22 1933.61 1734.24 1937.78 Q1730.26 1941.95 1730.26 1948.97 L1730.26 1966.59 Q1730.26 1969.68 1731.43 1970.33 Q1732.65 1970.94 1737.71 1970.94 L1737.71 1973.89 Q1727.91 1973.61 1726.98 1973.61 Q1726.23 1973.61 1716.16 1973.89 Z\" fill=\"#000000\" fill-rule=\"evenodd\" fill-opacity=\"1\" /><polyline clip-path=\"url(#clip193)\" style=\"stroke:#000000; stroke-linecap:round; stroke-linejoin:round; stroke-width:2; stroke-opacity:0.4; fill:none\" points=\"349.247,1398.6 2752.76,1398.6 \"/>\n",
       "<polyline clip-path=\"url(#clip193)\" style=\"stroke:#000000; stroke-linecap:round; stroke-linejoin:round; stroke-width:2; stroke-opacity:0.4; fill:none\" points=\"349.247,1011.1 2752.76,1011.1 \"/>\n",
       "<polyline clip-path=\"url(#clip193)\" style=\"stroke:#000000; stroke-linecap:round; stroke-linejoin:round; stroke-width:2; stroke-opacity:0.4; fill:none\" points=\"349.247,623.605 2752.76,623.605 \"/>\n",
       "<polyline clip-path=\"url(#clip193)\" style=\"stroke:#000000; stroke-linecap:round; stroke-linejoin:round; stroke-width:2; stroke-opacity:0.4; fill:none\" points=\"349.247,236.108 2752.76,236.108 \"/>\n",
       "<polyline clip-path=\"url(#clip190)\" style=\"stroke:#000000; stroke-linecap:round; stroke-linejoin:round; stroke-width:4; stroke-opacity:1; fill:none\" points=\"349.247,1750.36 349.247,47.2441 \"/>\n",
       "<polyline clip-path=\"url(#clip190)\" style=\"stroke:#000000; stroke-linecap:round; stroke-linejoin:round; stroke-width:4; stroke-opacity:1; fill:none\" points=\"2752.76,1750.36 2752.76,47.2441 \"/>\n",
       "<polyline clip-path=\"url(#clip190)\" style=\"stroke:#000000; stroke-linecap:round; stroke-linejoin:round; stroke-width:4; stroke-opacity:1; fill:none\" points=\"349.247,1398.6 368.145,1398.6 \"/>\n",
       "<polyline clip-path=\"url(#clip190)\" style=\"stroke:#000000; stroke-linecap:round; stroke-linejoin:round; stroke-width:4; stroke-opacity:1; fill:none\" points=\"349.247,1011.1 368.145,1011.1 \"/>\n",
       "<polyline clip-path=\"url(#clip190)\" style=\"stroke:#000000; stroke-linecap:round; stroke-linejoin:round; stroke-width:4; stroke-opacity:1; fill:none\" points=\"349.247,623.605 368.145,623.605 \"/>\n",
       "<polyline clip-path=\"url(#clip190)\" style=\"stroke:#000000; stroke-linecap:round; stroke-linejoin:round; stroke-width:4; stroke-opacity:1; fill:none\" points=\"349.247,236.108 368.145,236.108 \"/>\n",
       "<path clip-path=\"url(#clip190)\" d=\"M147.049 1403.09 L170.443 1403.09 L170.443 1410.21 L147.049 1410.21 L147.049 1403.09 Z\" fill=\"#000000\" fill-rule=\"evenodd\" fill-opacity=\"1\" /><path clip-path=\"url(#clip190)\" d=\"M203.038 1371.97 Q196.267 1371.97 192.838 1378.66 Q189.453 1385.3 189.453 1398.66 Q189.453 1411.99 192.838 1418.67 Q196.267 1425.31 203.038 1425.31 Q209.852 1425.31 213.238 1418.67 Q216.666 1411.99 216.666 1398.66 Q216.666 1385.3 213.238 1378.66 Q209.852 1371.97 203.038 1371.97 M203.038 1365.03 Q213.932 1365.03 219.661 1373.66 Q225.434 1382.26 225.434 1398.66 Q225.434 1415.03 219.661 1423.66 Q213.932 1432.26 203.038 1432.26 Q192.144 1432.26 186.371 1423.66 Q180.642 1415.03 180.642 1398.66 Q180.642 1382.26 186.371 1373.66 Q192.144 1365.03 203.038 1365.03 Z\" fill=\"#000000\" fill-rule=\"evenodd\" fill-opacity=\"1\" /><path clip-path=\"url(#clip190)\" d=\"M240.842 1419.97 L249.999 1419.97 L249.999 1431 L240.842 1431 L240.842 1419.97 Z\" fill=\"#000000\" fill-rule=\"evenodd\" fill-opacity=\"1\" /><path clip-path=\"url(#clip190)\" d=\"M276.649 1423.62 L307.247 1423.62 L307.247 1431 L266.102 1431 L266.102 1423.62 Q271.093 1418.46 279.687 1409.77 Q288.324 1401.05 290.537 1398.53 Q294.747 1393.8 296.397 1390.55 Q298.089 1387.25 298.089 1384.08 Q298.089 1378.92 294.444 1375.66 Q290.841 1372.41 285.025 1372.41 Q280.902 1372.41 276.301 1373.84 Q271.744 1375.27 266.536 1378.18 L266.536 1369.32 Q271.831 1367.2 276.432 1366.11 Q281.032 1365.03 284.852 1365.03 Q294.921 1365.03 300.911 1370.06 Q306.9 1375.1 306.9 1383.52 Q306.9 1387.51 305.381 1391.11 Q303.905 1394.67 299.956 1399.53 Q298.871 1400.79 293.055 1406.82 Q287.239 1412.81 276.649 1423.62 Z\" fill=\"#000000\" fill-rule=\"evenodd\" fill-opacity=\"1\" /><path clip-path=\"url(#clip190)\" d=\"M200.043 984.474 Q193.272 984.474 189.844 991.158 Q186.458 997.799 186.458 1011.17 Q186.458 1024.49 189.844 1031.18 Q193.272 1037.82 200.043 1037.82 Q206.857 1037.82 210.243 1031.18 Q213.672 1024.49 213.672 1011.17 Q213.672 997.799 210.243 991.158 Q206.857 984.474 200.043 984.474 M200.043 977.53 Q210.937 977.53 216.666 986.167 Q222.439 994.761 222.439 1011.17 Q222.439 1027.53 216.666 1036.17 Q210.937 1044.76 200.043 1044.76 Q189.149 1044.76 183.377 1036.17 Q177.647 1027.53 177.647 1011.17 Q177.647 994.761 183.377 986.167 Q189.149 977.53 200.043 977.53 Z\" fill=\"#000000\" fill-rule=\"evenodd\" fill-opacity=\"1\" /><path clip-path=\"url(#clip190)\" d=\"M237.847 1032.48 L247.005 1032.48 L247.005 1043.5 L237.847 1043.5 L237.847 1032.48 Z\" fill=\"#000000\" fill-rule=\"evenodd\" fill-opacity=\"1\" /><path clip-path=\"url(#clip190)\" d=\"M284.852 984.474 Q278.081 984.474 274.652 991.158 Q271.267 997.799 271.267 1011.17 Q271.267 1024.49 274.652 1031.18 Q278.081 1037.82 284.852 1037.82 Q291.666 1037.82 295.051 1031.18 Q298.48 1024.49 298.48 1011.17 Q298.48 997.799 295.051 991.158 Q291.666 984.474 284.852 984.474 M284.852 977.53 Q295.746 977.53 301.475 986.167 Q307.247 994.761 307.247 1011.17 Q307.247 1027.53 301.475 1036.17 Q295.746 1044.76 284.852 1044.76 Q273.958 1044.76 268.185 1036.17 Q262.456 1027.53 262.456 1011.17 Q262.456 994.761 268.185 986.167 Q273.958 977.53 284.852 977.53 Z\" fill=\"#000000\" fill-rule=\"evenodd\" fill-opacity=\"1\" /><path clip-path=\"url(#clip190)\" d=\"M203.038 596.977 Q196.267 596.977 192.838 603.661 Q189.453 610.302 189.453 623.67 Q189.453 636.995 192.838 643.679 Q196.267 650.319 203.038 650.319 Q209.852 650.319 213.238 643.679 Q216.666 636.995 216.666 623.67 Q216.666 610.302 213.238 603.661 Q209.852 596.977 203.038 596.977 M203.038 590.033 Q213.932 590.033 219.661 598.67 Q225.434 607.264 225.434 623.67 Q225.434 640.033 219.661 648.67 Q213.932 657.264 203.038 657.264 Q192.144 657.264 186.371 648.67 Q180.642 640.033 180.642 623.67 Q180.642 607.264 186.371 598.67 Q192.144 590.033 203.038 590.033 Z\" fill=\"#000000\" fill-rule=\"evenodd\" fill-opacity=\"1\" /><path clip-path=\"url(#clip190)\" d=\"M240.842 644.981 L249.999 644.981 L249.999 656.005 L240.842 656.005 L240.842 644.981 Z\" fill=\"#000000\" fill-rule=\"evenodd\" fill-opacity=\"1\" /><path clip-path=\"url(#clip190)\" d=\"M276.649 648.626 L307.247 648.626 L307.247 656.005 L266.102 656.005 L266.102 648.626 Q271.093 643.462 279.687 634.781 Q288.324 626.057 290.537 623.54 Q294.747 618.809 296.397 615.554 Q298.089 612.255 298.089 609.087 Q298.089 603.922 294.444 600.667 Q290.841 597.411 285.025 597.411 Q280.902 597.411 276.301 598.844 Q271.744 600.276 266.536 603.184 L266.536 594.33 Q271.831 592.203 276.432 591.118 Q281.032 590.033 284.852 590.033 Q294.921 590.033 300.911 595.068 Q306.9 600.102 306.9 608.523 Q306.9 612.516 305.381 616.118 Q303.905 619.677 299.956 624.538 Q298.871 625.797 293.055 631.83 Q287.239 637.819 276.649 648.626 Z\" fill=\"#000000\" fill-rule=\"evenodd\" fill-opacity=\"1\" /><path clip-path=\"url(#clip190)\" d=\"M201.909 209.481 Q195.139 209.481 191.71 216.165 Q188.324 222.805 188.324 236.173 Q188.324 249.498 191.71 256.182 Q195.139 262.822 201.909 262.822 Q208.724 262.822 212.109 256.182 Q215.538 249.498 215.538 236.173 Q215.538 222.805 212.109 216.165 Q208.724 209.481 201.909 209.481 M201.909 202.536 Q212.803 202.536 218.533 211.173 Q224.305 219.767 224.305 236.173 Q224.305 252.536 218.533 261.173 Q212.803 269.767 201.909 269.767 Q191.015 269.767 185.243 261.173 Q179.514 252.536 179.514 236.173 Q179.514 219.767 185.243 211.173 Q191.015 202.536 201.909 202.536 Z\" fill=\"#000000\" fill-rule=\"evenodd\" fill-opacity=\"1\" /><path clip-path=\"url(#clip190)\" d=\"M239.713 257.484 L248.871 257.484 L248.871 268.508 L239.713 268.508 L239.713 257.484 Z\" fill=\"#000000\" fill-rule=\"evenodd\" fill-opacity=\"1\" /><path clip-path=\"url(#clip190)\" d=\"M268.055 203.708 L302.473 203.708 L302.473 211.086 L276.084 211.086 L276.084 226.972 Q277.994 226.321 279.904 226.017 Q281.814 225.67 283.723 225.67 Q294.574 225.67 300.911 231.616 Q307.247 237.562 307.247 247.718 Q307.247 258.178 300.737 263.994 Q294.227 269.767 282.378 269.767 Q278.298 269.767 274.044 269.072 Q269.834 268.378 265.321 266.989 L265.321 258.178 Q269.227 260.305 273.393 261.347 Q277.56 262.388 282.204 262.388 Q289.713 262.388 294.096 258.439 Q298.48 254.489 298.48 247.718 Q298.48 240.947 294.096 236.998 Q289.713 233.048 282.204 233.048 Q278.689 233.048 275.173 233.829 Q271.701 234.611 268.055 236.26 L268.055 203.708 Z\" fill=\"#000000\" fill-rule=\"evenodd\" fill-opacity=\"1\" /><path clip-path=\"url(#clip190)\" d=\"M58.3441 1094.89 Q58.9999 1094.89 60.5458 1095.31 L97.1785 1104.49 Q105.33 1106.51 111.045 1113.06 Q116.76 1119.58 116.76 1126.98 Q116.76 1131.43 114.371 1134.28 Q112.028 1137.14 108.421 1137.14 Q105.236 1137.14 103.69 1135.46 Q102.191 1133.77 102.191 1131.75 Q102.191 1131.1 102.378 1130.4 Q102.566 1129.69 103.362 1128.94 Q104.158 1128.19 105.517 1128.19 Q107.719 1128.19 109.452 1130.12 Q110.248 1131.05 110.436 1131.94 Q110.623 1132.79 110.623 1134.24 Q111.935 1133.68 112.825 1132.64 Q113.715 1131.61 114.043 1130.44 Q114.417 1129.27 114.511 1128.52 Q114.652 1127.73 114.652 1126.98 Q114.652 1120.98 108.609 1116.39 Q106.782 1115.03 104.955 1114.05 Q103.175 1113.02 100.973 1112.27 Q98.8181 1111.52 97.647 1111.19 Q96.4758 1110.82 93.8057 1110.16 Q98.1623 1114.52 98.1623 1119.86 Q98.1623 1122.1 97.5533 1124.12 Q96.9443 1126.09 95.6795 1127.82 Q94.3678 1129.55 92.0724 1130.58 Q89.777 1131.57 86.7321 1131.57 Q83.4998 1131.57 79.0964 1130.3 Q74.693 1129.04 66.5888 1125.99 Q62.0448 1124.35 59.8431 1124.35 Q58.7657 1124.35 58.1099 1124.59 Q57.4072 1124.82 57.173 1125.29 Q56.8919 1125.76 56.8451 1126.04 Q56.7982 1126.27 56.7982 1126.74 Q56.7982 1129.51 59.6089 1132.08 Q62.4196 1134.66 68.6968 1136.44 Q69.8679 1136.81 70.149 1137.05 Q70.4301 1137.28 70.4301 1137.99 Q70.3832 1139.16 69.4463 1139.16 Q69.0716 1139.16 67.6194 1138.73 Q66.1204 1138.31 63.9186 1137.33 Q61.6701 1136.3 59.6558 1134.89 Q57.5946 1133.49 56.1424 1131.29 Q54.6902 1129.04 54.6902 1126.46 Q54.6902 1122.95 56.9856 1120.79 Q59.2342 1118.59 62.5601 1118.59 Q63.9186 1118.59 65.1366 1118.97 Q66.3077 1119.29 69.4463 1120.51 Q82.0945 1125.43 88.278 1125.43 Q89.777 1125.43 91.0418 1125.2 Q92.2598 1124.92 93.4778 1124.31 Q94.6489 1123.7 95.3516 1122.48 Q96.0074 1121.21 96.0074 1119.48 Q96.0074 1117.28 94.9768 1115.22 Q93.8994 1113.11 92.4472 1111.8 Q90.995 1110.44 89.777 1109.64 Q88.5122 1108.8 87.8564 1108.61 L70.6175 1104.3 L62.9349 1102.38 Q58.7657 1101.49 57.7351 1101.07 Q56.7514 1100.51 56.2361 1099.53 Q55.7208 1098.54 55.7208 1097.7 Q55.7208 1096.53 56.4235 1095.73 Q57.1261 1094.89 58.3441 1094.89 Z\" fill=\"#000000\" fill-rule=\"evenodd\" fill-opacity=\"1\" /><path clip-path=\"url(#clip190)\" d=\"M95.5389 1091.27 Q93.9931 1092.63 91.9787 1092.63 Q89.9644 1092.63 88.4654 1091.31 Q86.9195 1089.96 86.9195 1087.52 Q86.9195 1084.66 89.6833 1083.02 Q92.4003 1081.38 96.9911 1081.38 Q101.957 1081.38 106.547 1083.4 Q111.185 1085.41 113.387 1087.38 Q115.589 1089.35 115.589 1090.14 Q115.589 1091.08 114.558 1091.08 Q114.183 1091.08 113.481 1090.42 Q106.079 1083.54 96.9911 1083.49 Q95.5389 1083.49 95.5389 1083.68 L95.7263 1083.91 Q97.0848 1085.55 97.0848 1087.52 Q97.0848 1089.91 95.5389 1091.27 Z\" fill=\"#000000\" fill-rule=\"evenodd\" fill-opacity=\"1\" /><path clip-path=\"url(#clip190)\" d=\"M95.6326 971.224 Q96.1948 971.693 96.1948 972.536 Q96.1948 973.332 95.6326 973.894 L75.7704 993.757 L95.6326 1013.62 Q96.1948 1014.18 96.1948 1015.02 Q96.1948 1015.82 95.6326 1016.34 Q95.1173 1016.9 94.321 1016.9 Q93.5246 1016.9 92.9625 1016.34 L73.1002 996.474 L53.238 1016.34 Q52.6759 1016.9 51.8795 1016.9 Q51.0363 1016.9 50.5679 1016.34 Q50.0057 1015.82 50.0057 1015.02 Q50.0057 1014.18 50.5679 1013.62 L70.4301 993.757 L50.5679 973.894 Q50.0057 973.332 50.0057 972.536 Q50.0057 971.693 50.5679 971.224 Q51.0363 970.662 51.8795 970.662 Q52.6759 970.662 53.238 971.224 L73.1002 991.087 L92.9625 971.224 Q93.5246 970.662 94.3678 970.662 Q95.1642 970.662 95.6326 971.224 Z\" fill=\"#000000\" fill-rule=\"evenodd\" fill-opacity=\"1\" /><path clip-path=\"url(#clip190)\" d=\"M42.3232 925.465 L39.3251 925.465 Q39.3251 913.941 33.1884 907.992 Q33.1884 906.353 33.5632 906.071 Q33.9379 905.79 35.6712 905.79 L89.496 905.79 Q92.3535 905.79 93.2435 904.385 Q94.1336 902.98 94.1336 896.843 L94.1336 893.798 L97.0848 893.798 Q96.8038 897.171 96.8038 909.351 Q96.8038 921.53 97.0848 924.856 L94.1336 924.856 L94.1336 921.811 Q94.1336 915.768 93.2904 914.316 Q92.4003 912.864 89.496 912.864 L39.7935 912.864 Q42.3232 917.876 42.3232 925.465 Z\" fill=\"#000000\" fill-rule=\"evenodd\" fill-opacity=\"1\" /><path clip-path=\"url(#clip190)\" d=\"M66.4014 877.96 Q52.3011 877.96 44.6186 874.4 Q33.1884 869.434 33.1884 857.723 Q33.1884 855.24 33.8911 852.664 Q34.5469 850.041 37.1234 846.761 Q39.6998 843.435 43.9159 841.421 Q52.0669 837.58 66.4014 837.58 Q80.408 837.58 88.0438 841.14 Q99.1928 846.34 99.1928 857.817 Q99.1928 862.127 96.9911 866.53 Q94.7894 870.886 89.496 873.65 Q81.5792 877.96 66.4014 877.96 M65.2303 869.996 Q79.7054 869.996 85.4673 868.966 Q91.6977 867.795 94.4147 864.609 Q97.0848 861.377 97.0848 857.817 Q97.0848 853.975 94.2273 850.79 Q91.3229 847.558 85.0925 846.574 Q78.9559 845.497 65.2303 845.543 Q51.8795 845.543 46.5392 846.48 Q40.3088 847.745 37.826 851.118 Q35.2964 854.444 35.2964 857.817 Q35.2964 859.082 35.6712 860.44 Q36.0459 861.752 37.1234 863.672 Q38.2008 865.593 40.871 867.092 Q43.5411 868.544 47.5698 869.247 Q52.7696 869.996 65.2303 869.996 Z\" fill=\"#000000\" fill-rule=\"evenodd\" fill-opacity=\"1\" /><path clip-path=\"url(#clip190)\" d=\"M24.4153 827.744 Q13.8565 827.744 7.39656 822.366 Q0.903863 816.988 0.903863 810.069 Q0.903863 806.036 2.96972 803.806 Q5.00279 801.543 8.15077 801.543 Q9.88871 801.543 10.6429 802.56 Q11.3971 803.576 11.3971 804.626 Q11.3971 805.839 10.5773 806.79 Q9.75755 807.741 8.28193 807.741 Q5.26512 807.741 5.26512 804.035 Q2.57623 805.773 2.57623 809.938 Q2.57623 811.217 2.96972 812.528 Q3.33043 813.84 4.5765 815.545 Q5.82258 817.25 7.79006 818.562 Q9.75755 819.874 13.463 820.792 Q17.1684 821.71 21.9887 821.71 L23.5955 821.71 Q16.9389 818.955 16.9717 813.315 Q16.9717 807.675 21.2673 803.773 Q25.563 799.871 31.9245 799.871 Q38.45 799.871 42.7785 803.937 Q47.107 808.003 47.107 813.709 Q47.107 816.267 46.0249 818.595 Q44.9755 820.89 42.549 823.054 Q40.1224 825.186 35.466 826.465 Q30.8096 827.744 24.4153 827.744 M30.4489 821.579 Q37.04 821.579 40.188 820.365 Q40.7126 820.169 41.4341 819.742 Q42.1555 819.283 43.1064 818.529 Q44.0246 817.742 44.6476 816.463 Q45.2379 815.184 45.2379 813.709 Q45.2379 809.216 40.8766 807.052 Q38.45 805.904 31.859 805.904 Q25.1367 805.904 22.6774 807.118 Q18.5129 809.184 18.5129 813.381 Q18.5129 816.201 20.4476 818.168 Q22.3822 820.103 24.9728 820.857 Q27.5633 821.579 30.4489 821.579 Z\" fill=\"#000000\" fill-rule=\"evenodd\" fill-opacity=\"1\" /><path clip-path=\"url(#clip190)\" d=\"M97.0848 789.903 L94.1336 789.903 Q94.1336 784.797 93.5246 783.626 Q92.8688 782.408 89.777 782.408 L39.8872 782.408 Q36.327 782.408 35.437 783.672 Q34.5469 784.89 34.5469 789.903 L31.5488 789.903 L30.5182 776.083 L76.5668 776.083 L64.8555 762.545 Q63.0286 760.437 61.108 760.437 Q58.9062 760.437 58.7189 763.201 L55.7208 763.201 Q56.0019 759.172 56.0019 752.474 Q56.0019 748.539 55.7208 745.775 L58.7189 745.775 Q58.9999 751.818 63.8718 757.861 Q64.9492 759.219 67.7599 762.452 Q70.5238 765.637 70.8048 765.637 Q70.8985 765.637 71.1328 765.543 Q71.367 765.403 71.5544 765.215 Q71.7417 765.028 71.8354 765.028 L89.0275 752.848 Q92.494 750.366 93.3372 748.539 Q94.1336 746.712 94.1336 743.526 L97.0848 743.526 Q96.8038 747.649 96.8038 751.912 Q96.8038 754.207 97.0848 762.264 L94.1336 762.264 Q94.1336 758.798 91.885 758.798 Q90.3392 758.798 79.6117 766.574 Q78.8622 767.136 77.2226 768.401 Q75.4893 769.572 74.6461 770.228 L79.8928 776.365 L89.777 776.365 Q92.8688 776.365 93.5246 775.193 Q94.1336 773.975 94.1336 768.869 L97.0848 768.869 Q96.8038 774.631 96.8038 779.409 Q96.8038 780.393 97.0848 789.903 Z\" fill=\"#000000\" fill-rule=\"evenodd\" fill-opacity=\"1\" /><path clip-path=\"url(#clip190)\" d=\"M97.0848 737.542 L94.1336 737.542 Q94.1336 732.436 93.5246 731.265 Q92.8688 730.094 89.777 730.094 L64.0592 730.094 Q60.499 730.094 59.6089 731.358 Q58.7189 732.576 58.7189 737.542 L55.7208 737.542 L54.6902 724.051 L64.7619 724.051 Q54.6902 719.554 54.6902 709.857 Q54.6902 698.614 64.0592 697.068 Q60.4053 695.428 57.5477 692.009 Q54.6902 688.542 54.6902 683.155 Q54.6902 675.941 58.2504 673.083 Q60.6395 670.975 63.3097 670.554 Q65.9798 670.132 72.9129 670.132 L91.2292 670.132 Q93.2435 670.038 93.712 668.493 Q94.1336 666.947 94.1336 662.637 L97.0848 662.637 Q96.8038 672.428 96.8038 673.364 Q96.8038 674.114 97.0848 684.232 L94.1336 684.232 Q94.1336 679.126 93.5246 677.955 Q92.8688 676.737 89.777 676.737 L67.432 676.737 Q62.5601 676.737 59.7026 678.236 Q56.7982 679.735 56.7982 683.858 Q56.7982 688.823 60.9674 692.805 Q65.1366 696.787 72.1633 696.787 L89.777 696.787 Q92.8688 696.787 93.5246 695.616 Q94.1336 694.398 94.1336 689.292 L97.0848 689.292 Q96.8038 699.082 96.8038 700.066 Q96.8038 700.816 97.0848 710.887 L94.1336 710.887 Q94.1336 705.781 93.5246 704.61 Q92.8688 703.392 89.777 703.392 L67.432 703.392 Q62.5601 703.392 59.7026 704.891 Q56.7982 706.39 56.7982 710.512 Q56.7982 715.478 60.9674 719.46 Q65.1366 723.442 72.1633 723.442 L89.777 723.442 Q92.8688 723.442 93.5246 722.271 Q94.1336 721.053 94.1336 715.993 L97.0848 715.993 Q96.8038 725.784 96.8038 726.721 Q96.8038 727.47 97.0848 737.542 Z\" fill=\"#000000\" fill-rule=\"evenodd\" fill-opacity=\"1\" /><polyline clip-path=\"url(#clip193)\" style=\"stroke:#008000; stroke-linecap:round; stroke-linejoin:round; stroke-width:4; stroke-opacity:1; fill:none\" points=\"1748.33,1011.1 1748.27,1010.18 1748.09,1009.26 1747.8,1008.38 1747.39,1007.55 1746.89,1006.77 1746.28,1006.06 1745.6,1005.44 1744.84,1004.91 1744.01,1004.48 1743.14,1004.16 1742.24,1003.95 1741.31,1003.86 1740.38,1003.89 1739.47,1004.04 1738.58,1004.3 1737.73,1004.68 1736.93,1005.16 1736.21,1005.74 1735.56,1006.4 1735.01,1007.15 1734.55,1007.96 1734.2,1008.82 1733.97,1009.72 1733.85,1010.64 1733.85,1011.57 1733.97,1012.49 1734.2,1013.39 1734.55,1014.25 1735.01,1015.05 1735.56,1015.8 1736.21,1016.47 1736.93,1017.04 1737.73,1017.53 1738.58,1017.9 1739.47,1018.17 1740.38,1018.31 1741.31,1018.34 1742.24,1018.26 1743.14,1018.05 1744.01,1017.73 1744.84,1017.3 1745.6,1016.77 1746.28,1016.14 1746.89,1015.44 1747.39,1014.66 1747.8,1013.82 1748.09,1012.94 1748.27,1012.03 1748.33,1011.1 \"/>\n",
       "<polyline clip-path=\"url(#clip193)\" style=\"stroke:#000000; stroke-linecap:round; stroke-linejoin:round; stroke-width:4; stroke-opacity:1; fill:none\" points=\"1758.21,1011.1 1758.07,1008.91 1757.65,1006.76 1756.95,1004.67 1756,1002.7 1754.8,1000.86 1753.38,999.187 1751.76,997.711 1749.96,996.456 1748.01,995.44 1745.95,994.682 1743.81,994.194 1741.63,993.983 1739.43,994.054 1737.27,994.404 1735.16,995.028 1733.16,995.917 1731.28,997.055 1729.56,998.423 1728.04,999.999 1726.72,1001.76 1725.65,1003.67 1724.82,1005.7 1724.27,1007.83 1723.99,1010 1723.99,1012.2 1724.27,1014.38 1724.82,1016.5 1725.65,1018.53 1726.72,1020.45 1728.04,1022.2 1729.56,1023.78 1731.28,1025.15 1733.16,1026.29 1735.16,1027.18 1737.27,1027.8 1739.43,1028.15 1741.63,1028.22 1743.81,1028.01 1745.95,1027.52 1748.01,1026.76 1749.96,1025.75 1751.76,1024.49 1753.38,1023.02 1754.8,1021.35 1756,1019.51 1756.95,1017.53 1757.65,1015.45 1758.07,1013.29 1758.21,1011.1 \"/>\n",
       "<polyline clip-path=\"url(#clip193)\" style=\"stroke:#000000; stroke-linecap:round; stroke-linejoin:round; stroke-width:4; stroke-opacity:1; fill:none\" points=\"1738.44,1011.1 1738.47,1011.44 1738.53,1011.77 1738.64,1012.09 1738.78,1012.39 1738.97,1012.68 1739.19,1012.94 1739.44,1013.16 1739.71,1013.36 1740.01,1013.51 1740.33,1013.63 1740.66,1013.7 1740.99,1013.74 1741.33,1013.72 1741.67,1013.67 1741.99,1013.57 1742.3,1013.44 1742.59,1013.26 1742.85,1013.05 1743.09,1012.81 1743.29,1012.54 1743.45,1012.25 1743.58,1011.93 1743.67,1011.61 1743.71,1011.27 1743.71,1010.93 1743.67,1010.6 1743.58,1010.27 1743.45,1009.96 1743.29,1009.66 1743.09,1009.39 1742.85,1009.15 1742.59,1008.94 1742.3,1008.77 1741.99,1008.63 1741.67,1008.53 1741.33,1008.48 1740.99,1008.47 1740.66,1008.5 1740.33,1008.58 1740.01,1008.69 1739.71,1008.85 1739.44,1009.04 1739.19,1009.27 1738.97,1009.53 1738.78,1009.81 1738.64,1010.11 1738.53,1010.43 1738.47,1010.76 1738.44,1011.1 \"/>\n",
       "<polyline clip-path=\"url(#clip193)\" style=\"stroke:#ffa500; stroke-linecap:round; stroke-linejoin:round; stroke-width:4; stroke-opacity:1; fill:none\" points=\"2330.19,1011.1 2325.35,935.768 2310.92,861.672 2287.13,790.029 2254.38,722.016 2213.2,658.749 2164.27,601.269 2108.38,550.518 2046.47,507.329 1979.54,472.413 1908.7,446.342 1835.1,429.544 1759.96,422.295 1684.51,424.715 1609.99,436.763 1537.62,458.242 1468.59,488.798 1404.04,527.931 1345.02,574.997 1292.5,629.225 1247.35,689.722 1210.31,755.497 1181.98,825.469 1162.83,898.489 1153.18,973.357 1153.18,1048.85 1162.83,1123.72 1181.98,1196.73 1210.31,1266.71 1247.35,1332.48 1292.5,1392.98 1345.02,1447.21 1404.04,1494.27 1468.59,1533.41 1537.62,1563.96 1609.99,1585.44 1684.51,1597.49 1759.96,1599.91 1835.1,1592.66 1908.7,1575.86 1979.54,1549.79 2046.47,1514.87 2108.38,1471.69 2164.27,1420.93 2213.2,1363.45 2254.38,1300.19 2287.13,1232.18 2310.92,1160.53 2325.35,1086.44 2330.19,1011.1 \"/>\n",
       "<polyline clip-path=\"url(#clip193)\" style=\"stroke:#000000; stroke-linecap:round; stroke-linejoin:round; stroke-width:4; stroke-opacity:1; fill:none\" points=\"2432.49,1011.1 2426.81,922.686 2409.87,835.723 2381.96,751.639 2343.52,671.816 2295.18,597.563 2237.75,530.101 2172.17,470.537 2099.5,419.849 2020.95,378.869 1937.8,348.271 1851.43,328.556 1763.24,320.049 1674.69,322.888 1587.23,337.029 1502.29,362.237 1421.28,398.1 1345.51,444.028 1276.24,499.268 1214.61,562.911 1161.62,633.914 1118.14,711.111 1084.89,793.233 1062.42,878.933 1051.09,966.803 1051.09,1055.4 1062.42,1143.27 1084.89,1228.97 1118.14,1311.09 1161.62,1388.29 1214.61,1459.29 1276.24,1522.94 1345.51,1578.18 1421.28,1624.1 1502.29,1659.97 1587.23,1685.18 1674.69,1699.32 1763.24,1702.15 1851.43,1693.65 1937.8,1673.93 2020.95,1643.33 2099.5,1602.35 2172.17,1551.67 2237.75,1492.1 2295.18,1424.64 2343.52,1350.39 2381.96,1270.56 2409.87,1186.48 2426.81,1099.52 2432.49,1011.1 \"/>\n",
       "<polyline clip-path=\"url(#clip193)\" style=\"stroke:#00ff00; stroke-linecap:round; stroke-linejoin:round; stroke-width:4; stroke-opacity:1; fill:none\" points=\"2432.21,1048.19 2432.09,1049.29 2431.87,1051.29 2431.57,1053.83 2431.21,1056.89 2430.77,1060.4 2430.25,1064.39 2429.66,1068.76 2428.98,1073.5 2428.22,1078.53 2427.38,1083.82 2426.47,1089.34 2425.47,1095.04 2424.4,1100.89 2423.24,1106.88 2422.02,1112.97 2420.71,1119.16 2419.33,1125.41 2417.88,1131.73 2416.35,1138.1 2414.75,1144.51 2413.08,1150.97 2411.33,1157.45 2409.51,1163.97 2407.61,1170.5 2405.64,1177.06 2403.6,1183.63 2401.48,1190.22 2399.28,1196.83 2397.01,1203.45 2394.67,1210.07 2392.24,1216.72 2389.74,1223.37 2387.16,1230.03 2384.51,1236.7 2381.77,1243.39 2378.95,1250.08 2376.04,1256.78 2373.05,1263.49 2369.98,1270.2 2366.82,1276.93 2363.57,1283.67 2360.24,1290.42 2356.8,1297.18 2353.28,1303.95 2349.66,1310.74 2345.93,1317.54 2342.11,1324.35 2338.18,1331.18 2334.15,1338.03 2330,1344.9 2325.74,1351.78 2321.36,1358.69 2316.86,1365.61 2312.24,1372.55 2307.5,1379.51 2302.63,1386.47 2297.65,1393.42 2292.56,1400.36 2287.37,1407.27 2282.09,1414.11 2276.75,1420.88 2271.35,1427.56 2265.92,1434.12 2260.47,1440.56 2255,1446.87 2249.53,1453.04 2244.06,1459.07 2238.61,1464.95 2233.16,1470.7 2227.73,1476.31 2222.32,1481.79 2216.93,1487.13 2211.55,1492.35 2206.19,1497.45 2200.84,1502.43 2195.52,1507.3 2190.21,1512.06 2184.91,1516.71 2179.63,1521.26 2174.36,1525.71 2169.1,1530.06 2163.86,1534.33 2158.62,1538.5 2153.39,1542.6 2148.18,1546.6 2142.97,1550.53 2137.77,1554.38 2132.57,1558.15 2127.38,1561.85 2122.19,1565.48 2117.01,1569.03 2111.83,1572.52 2106.65,1575.94 2101.48,1579.3 2096.3,1582.59 2091.13,1585.83 2085.96,1589 2080.79,1592.11 2075.61,1595.16 2070.44,1598.15 2065.26,1601.09 2060.08,1603.98 2054.89,1606.81 2049.7,1609.59 2044.5,1612.32 2039.3,1614.99 2034.1,1617.62 2028.88,1620.2 2023.66,1622.73 2018.42,1625.21 2013.18,1627.64 2007.93,1630.03 2002.66,1632.37 1997.38,1634.67 1992.09,1636.92 1986.79,1639.13 1981.47,1641.3 1976.13,1643.42 1970.78,1645.51 1965.41,1647.55 1960.02,1649.54 1954.6,1651.5 1949.17,1653.42 1943.72,1655.29 1938.24,1657.13 1932.73,1658.92 1927.21,1660.68 1921.65,1662.39 1916.07,1664.07 1910.45,1665.71 1904.81,1667.3 1899.13,1668.86 1893.42,1670.37 1887.68,1671.85 1881.9,1673.29 1876.08,1674.68 1870.22,1676.04 1864.32,1677.36 1858.38,1678.63 1852.4,1679.86 1846.37,1681.05 1840.29,1682.2 1834.16,1683.31 1827.99,1684.37 1821.76,1685.39 1815.47,1686.36 1809.13,1687.29 1802.73,1688.17 1796.26,1689 1789.74,1689.78 1783.15,1690.52 1776.49,1691.2 1769.76,1691.83 1762.95,1692.41 1756.07,1692.94 1749.11,1693.4 1742.07,1693.81 1734.94,1694.16 1727.72,1694.45 1720.41,1694.67 1713.01,1694.83 1705.5,1694.92 1697.9,1694.93 1690.18,1694.88 1682.33,1694.74 1674.35,1694.52 1666.22,1694.22 1657.94,1693.82 1649.49,1693.33 1640.88,1692.74 1632.1,1692.04 1623.12,1691.23 1613.96,1690.3 1604.6,1689.24 1595.06,1688.04 1585.31,1686.7 1575.37,1685.22 1565.23,1683.57 1554.92,1681.77 1544.45,1679.8 1533.85,1677.66 1523.13,1675.36 1512.31,1672.88 1501.42,1670.24 1490.49,1667.43 1479.53,1664.45 1468.57,1661.32 1457.64,1658.04 1446.74,1654.61 1435.9,1651.05 1425.14,1647.34 1414.47,1643.52 1403.91,1639.57 1393.45,1635.52 1383.12,1631.36 1372.92,1627.1 1362.84,1622.74 1352.9,1618.3 1343.09,1613.78 1333.42,1609.17 1323.89,1604.5 1314.48,1599.75 1305.21,1594.93 1296.07,1590.04 1287.05,1585.09 1278.15,1580.08 1269.37,1575.01 1267.55,1573.94 1266.39,1573.26 1263.96,1571.82 1260.84,1569.96 1257.08,1567.69 1252.69,1565.02 1247.74,1561.96 1242.32,1558.57 1236.48,1554.86 1230.3,1550.86 1223.84,1546.62 1217.17,1542.16 1210.33,1537.5 1203.38,1532.68 1196.34,1527.7 1189.24,1522.59 1182.12,1517.36 1174.98,1512.03 1167.85,1506.6 1160.73,1501.07 1153.64,1495.47 1146.59,1489.79 1139.57,1484.04 1138.22,1482.91 1137.23,1482.09 1135.26,1480.45 1132.62,1478.24 1129.49,1475.58 1125.78,1472.42 1121.62,1468.83 1117.02,1464.82 1112.06,1460.44 1106.81,1455.74 1101.31,1450.75 1095.62,1445.52 1089.78,1440.06 1083.83,1434.41 1077.79,1428.6 1071.7,1422.63 1065.57,1416.54 1059.43,1410.33 1053.28,1404.01 1047.13,1397.59 1041,1391.08 1034.89,1384.49 1029.99,1379.13 1029.18,1378.24 1027,1375.82 1024.51,1373.05 1021.43,1369.59 1017.96,1365.67 1014.07,1361.22 1009.85,1356.34 1005.33,1351.05 1000.58,1345.43 995.642,1339.5 990.552,1333.3 985.347,1326.87 980.058,1320.25 974.707,1313.45 969.316,1306.49 963.902,1299.39 958.477,1292.17 953.053,1284.84 947.637,1277.4 942.237,1269.86 941.176,1268.37 940.533,1267.46 939.007,1265.3 936.934,1262.35 934.477,1258.82 931.575,1254.63 928.314,1249.87 924.715,1244.57 920.839,1238.79 916.728,1232.58 912.431,1226.01 907.984,1219.12 903.424,1211.95 898.778,1204.54 894.073,1196.92 889.328,1189.12 884.56,1181.15 879.783,1173.04 875.008,1164.81 870.244,1156.45 869.542,1155.21 869.038,1154.32 867.769,1152.06 865.975,1148.85 863.859,1145.04 861.333,1140.45 858.493,1135.25 855.342,1129.41 851.95,1123.05 848.346,1116.2 844.579,1108.94 840.682,1101.33 836.688,1093.4 832.626,1085.22 828.516,1076.8 824.38,1068.18 820.232,1059.39 816.085,1050.45 812.715,1043.07 812.701,1043.07 810.712,1038.66 806.237,1028.6 801.821,1018.47 797.465,1008.28 793.171,998.026 788.94,987.713 784.774,977.344 780.674,966.925 776.643,956.459 772.684,945.956 768.798,935.42 764.988,924.863 761.258,914.295 757.613,903.731 754.055,893.188 750.592,882.684 747.228,872.247 743.97,861.905 740.828,851.694 737.809,841.655 734.924,831.843 732.185,822.311 729.605,813.132 727.197,804.381 724.976,796.139 722.96,788.507 721.158,781.561 719.59,775.417 718.25,770.09 717.168,765.729 716.296,762.184 715.803,760.161 715.606,759.353 713.992,752.645 711.293,741.149 708.676,729.644 706.143,718.137 703.696,706.64 701.335,695.162 699.064,683.718 696.883,672.324 694.796,660.998 692.805,649.763 690.911,638.646 689.118,627.68 687.429,616.901 685.846,606.354 684.373,596.091 683.011,586.171 681.763,576.662 680.632,567.642 679.619,559.188 678.726,551.396 677.951,544.342 677.294,538.124 676.749,532.779 676.316,528.396 675.979,524.898 675.818,523.192 675.752,522.488 675.429,518.992 674.434,507.605 673.533,496.314 672.725,485.133 672.012,474.082 671.392,463.18 670.864,452.451 670.428,441.922 670.082,431.622 669.821,421.587 669.644,411.856 669.544,402.474 669.516,393.489 669.552,384.96 669.644,376.943 669.78,369.51 669.948,362.716 670.135,356.643 670.328,351.315 670.512,346.831 670.679,343.124 670.815,340.32 670.889,338.868 670.918,338.305 671.406,329.653 672.028,320.277 672.732,311.113 673.515,302.175 674.374,293.476 675.304,285.032 676.298,276.863 677.351,268.986 678.453,261.427 679.595,254.211 680.763,247.366 681.942,240.927 683.117,234.925 684.265,229.402 685.366,224.389 686.396,219.931 687.334,216.043 688.155,212.772 688.849,210.089 689.398,208.022 689.669,207.019 689.776,206.623 690.309,204.688 692.213,198.095 694.187,191.731 696.227,185.603 698.33,179.716 700.489,174.078 702.696,168.697 704.942,163.582 707.215,158.744 709.499,154.193 711.777,149.94 714.028,146 716.225,142.383 718.341,139.101 720.342,136.169 722.196,133.591 723.865,131.379 725.328,129.522 726.545,128.033 727.528,126.865 728.042,126.267 728.226,126.056 728.409,125.845 728.87,125.321 729.772,124.316 731.008,122.977 732.484,121.437 734.271,119.656 736.315,117.724 738.631,115.666 741.188,113.548 743.978,111.412 746.981,109.303 750.186,107.26 753.579,105.315 757.151,103.495 759.202,102.549 759.431,102.448 760.082,102.165 761.336,101.64 762.952,100.999 764.922,100.272 767.245,99.4905 769.91,98.6887 772.902,97.9051 776.196,97.1781 779.774,96.5414 783.614,96.0258 787.7,95.6572 792.013,95.4577 796.541,95.4454 797.571,95.4695 797.849,95.4776 798.568,95.502 800.061,95.5673 802.032,95.6835 804.411,95.8681 807.253,96.15 810.497,96.5507 814.143,97.0969 818.144,97.8079 822.475,98.7028 827.099,99.7943 831.984,101.092 837.099,102.6 842.414,104.321 844.565,105.059 844.903,105.177 845.851,105.511 847.629,106.151 849.885,106.984 852.633,108.032 855.852,109.304 859.511,110.806 863.571,112.538 867.987,114.5 872.716,116.685 877.715,119.085 882.943,121.69 888.366,124.487 893.95,127.465 899.668,130.612 901.947,131.891 902.353,132.121 903.559,132.806 905.594,133.97 907.975,135.345 910.941,137.08 914.315,139.08 918.148,141.385 922.348,143.952 926.894,146.775 931.726,149.825 936.808,153.086 942.097,156.533 947.559,160.149 953.163,163.915 958.883,167.814 964.696,171.832 970.583,175.954 972.173,177.077 972.174,177.076 975.374,179.345 980.635,183.109 985.811,186.848 990.879,190.543 995.819,194.176 1000.6,197.72 1005.19,201.149 1009.56,204.43 1013.66,207.528 1017.44,210.407 1020.86,213.021 1023.9,215.347 1026.47,217.326 1028.62,218.989 1030.24,220.24 1030.79,220.664 1034.53,223.571 1039.79,227.683 1045,231.769 1050.12,235.817 1055.16,239.814 1060.09,243.744 1064.88,247.587 1069.52,251.322 1073.98,254.92 1078.21,258.355 1082.19,261.59 1085.87,264.592 1089.2,267.317 1092.15,269.742 1094.68,271.818 1096.79,273.551 1098.42,274.897 1099.04,275.409 1102.99,278.677 1108.1,282.914 1113.17,287.128 1118.18,291.313 1123.13,295.461 1128.02,299.565 1132.83,303.615 1137.55,307.601 1142.16,311.507 1146.65,315.319 1150.99,319.016 1155.16,322.578 1159.14,325.975 1162.88,329.184 1166.35,332.16 1169.53,334.896 1172.34,337.314 1174.83,339.461 1176.82,341.185 1178.56,342.683 1179.26,343.291 1180.46,344.333 1185.15,348.394 1189.79,352.427 1194.4,356.432 1198.95,360.406 1203.46,364.346 1207.92,368.251 1212.32,372.117 1216.67,375.942 1220.96,379.72 1225.18,383.449 1229.33,387.122 1233.4,390.733 1237.39,394.274 1241.28,397.737 1245.07,401.111 1248.73,404.383 1252.26,407.537 1255.63,410.558 1258.82,413.422 1261.81,416.112 1264.57,418.596 1267.08,420.861 1269.3,422.861 1271.24,424.612 1272.81,426.033 1274.14,427.235 1274.91,427.929 1278.52,431.208 1282.13,434.483 1285.68,437.716 1289.19,440.907 1292.63,444.056 1296.03,447.163 1299.38,450.228 1302.67,453.252 1305.91,456.234 1309.1,459.174 1312.24,462.074 1315.33,464.932 1318.37,467.75 1321.36,470.527 1324.3,473.265 1327.19,475.962 1330.03,478.621 1332.83,481.24 1335.58,483.819 1338.28,486.36 1340.94,488.862 1343.55,491.325 1346.11,493.75 1348.63,496.134 1351.09,498.48 1353.52,500.786 1355.89,503.051 1358.22,505.276 1360.49,507.459 1362.72,509.6 1364.9,511.698 1367.03,513.752 1369.11,515.76 1371.13,517.72 1373.1,519.631 1375,521.489 1376.85,523.292 1378.63,525.034 1380.34,526.711 1381.98,528.316 1383.53,529.839 1384.99,531.278 1386.33,532.608 1387.58,533.844 1388.68,534.928 1389.68,535.929 1390.46,536.702 1391.24,537.474 1392.02,538.251 1392.79,539.023 1393.79,540.02 1394.86,541.09 1396.07,542.298 1397.35,543.585 1398.72,544.957 1400.14,546.388 1401.62,547.873 1403.13,549.395 1404.66,550.949 1406.21,552.525 1407.78,554.117 1409.36,555.72 1410.93,557.331 1412.51,558.945 1414.08,560.559 1415.65,562.172 1417.21,563.78 1418.76,565.382 1420.31,566.977 1421.83,568.564 1423.35,570.142 1424.86,571.711 1426.35,573.272 1427.84,574.825 1429.31,576.371 1430.78,577.912 1432.24,579.451 1433.69,580.988 1435.15,582.525 1436.61,584.066 1438.06,585.613 1439.53,587.167 1441,588.732 1442.48,590.31 1443.97,591.905 1444.58,592.552 1445.32,593.349 1446.01,594.084 1446.92,595.06 1447.89,596.093 1448.99,597.276 1450.17,598.541 1451.44,599.91 1452.79,601.357 1454.2,602.885 1455.68,604.48 1457.22,606.141 1458.81,607.859 1460.45,609.632 1462.14,611.456 1463.87,613.327 1465.63,615.244 1467.44,617.205 1469.29,619.209 1471.17,621.254 1473.09,623.342 1475.05,625.47 1477.04,627.64 1479.07,629.851 1481.14,632.103 1483.24,634.396 1485.38,636.73 1487.55,639.104 1489.76,641.519 1492,643.973 1494.29,646.467 1496.6,649.001 1498.95,651.573 1501.33,654.184 1502.31,655.26 1503.07,656.087 1504.02,657.127 1505.18,658.404 1506.54,659.895 1508.08,661.59 1509.8,663.469 1511.66,665.514 1513.65,667.702 1515.75,670.015 1517.95,672.435 1520.23,674.943 1522.57,677.525 1524.96,680.164 1527.39,682.849 1529.86,685.568 1532.34,688.312 1534.83,691.072 1537.33,693.84 1539.83,696.611 1542.32,699.379 1544.81,702.141 1547.28,704.893 1549.74,707.633 1552.18,710.358 1554.61,713.066 1557.02,715.757 1559.4,718.429 1561.77,721.082 1564.11,723.714 1566.44,726.326 1568.74,728.917 1568.77,728.953 1569.55,729.828 1570.43,730.818 1571.52,732.055 1572.76,733.446 1574.15,735.017 1575.65,736.723 1577.27,738.557 1578.98,740.489 1580.76,742.506 1582.59,744.588 1584.46,746.723 1586.37,748.897 1588.3,751.099 1590.24,753.32 1592.19,755.554 1594.15,757.794 1596.1,760.036 1598.04,762.275 1599.98,764.508 1601.91,766.733 1603.82,768.947 1605.72,771.15 1607.61,773.34 1609.48,775.515 1611.33,777.675 1613.17,779.82 1614.98,781.948 1616.79,784.061 1618.57,786.156 1620.33,788.235 1622.08,790.297 1623.81,792.343 1625.52,794.371 1627.22,796.383 1628.89,798.378 1630.55,800.356 1632.19,802.317 1633.81,804.262 1635.42,806.19 1637.01,808.102 1638.58,809.997 1640.13,811.877 1641.67,813.74 1643.19,815.587 1644.69,817.419 1646.18,819.235 1647.65,821.035 1649.1,822.82 1650.22,824.191 1650.97,825.11 1651.59,825.884 1652.44,826.928 1653.3,827.995 1654.28,829.204 1655.29,830.467 1656.37,831.811 1657.49,833.202 1658.64,834.639 1659.81,836.107 1661,837.601 1662.21,839.112 1663.41,840.636 1664.62,842.167 1665.84,843.701 1667.04,845.236 1668.25,846.768 1669.44,848.296 1670.63,849.818 1671.81,851.332 1672.98,852.838 1674.13,854.334 1675.28,855.821 1676.42,857.297 1677.54,858.762 1678.65,860.216 1679.75,861.659 1680.84,863.091 1681.92,864.511 1682.98,865.919 1684.03,867.316 1685.07,868.701 1686.1,870.075 1687.12,871.437 1688.12,872.787 1689.12,874.127 1690.1,875.454 1691.07,876.771 1692.03,878.076 1692.97,879.37 1693.91,880.652 1694.83,881.924 1695.75,883.185 1696.65,884.435 1697.54,885.674 1698.42,886.903 1699.29,888.121 1700.16,889.329 1701.01,890.526 1701.84,891.712 1702.67,892.889 1703.49,894.056 1704.3,895.212 1705.1,896.359 1705.89,897.496 1706.67,898.623 1707.44,899.74 1708.2,900.848 1708.96,901.946 1709.7,903.034 1710.43,904.113 1711.16,905.183 1711.87,906.244 1712.58,907.295 1713.27,908.337 1713.96,909.37 1714.64,910.395 1715.31,911.41 1715.98,912.417 1716.63,913.415 1717.28,914.404 1717.92,915.385 1718.55,916.357 1719.17,917.321 1719.78,918.277 1720.39,919.224 1720.98,920.163 1721.58,921.094 1722.16,922.017 1722.73,922.932 1723.3,923.839 1723.86,924.738 1724.41,925.629 1724.96,926.512 1725.5,927.388 1726.03,928.256 1726.55,929.117 1727.07,929.969 1727.58,930.815 1728.09,931.653 1728.58,932.484 1729.07,933.308 1729.56,934.124 1730.03,934.934 1730.5,935.736 1730.97,936.531 1731.43,937.319 1731.88,938.1 1732.32,938.874 1732.76,939.642 1733.2,940.403 1733.62,941.156 1734.04,941.904 1734.46,942.644 1734.87,943.379 1735.27,944.106 1735.67,944.827 1736.06,945.542 1736.45,946.25 1736.83,946.952 1737.21,947.648 1737.58,948.337 1737.94,949.021 1738.3,949.698 1738.66,950.369 1739.01,951.034 1739.35,951.693 1739.69,952.346 1740.02,952.993 1740.35,953.635 1740.68,954.27 1740.99,954.9 1741.31,955.524 1741.62,956.142 1741.92,956.755 1742.23,957.362 1742.52,957.964 1742.81,958.56 1743.1,959.151 1743.38,959.736 1743.66,960.316 1743.93,960.891 1744.2,961.46 1744.47,962.024 1744.73,962.583 1744.99,963.136 1745.24,963.685 1745.49,964.228 1745.73,964.766 1745.97,965.3 1746.21,965.828 1746.44,966.352 1746.67,966.871 1746.9,967.384 1747.12,967.893 1747.34,968.398 1747.55,968.897 1747.76,969.392 1747.97,969.883 1748.18,970.368 1748.38,970.85 1748.57,971.327 1748.77,971.799 1748.96,972.267 1749.15,972.731 1749.33,973.19 1749.51,973.645 1749.69,974.096 1749.86,974.542 1750.03,974.985 1750.2,975.423 1750.37,975.857 1750.53,976.287 1750.69,976.713 1750.85,977.136 1751,977.554 1751.15,977.968 1751.3,978.379 1751.45,978.786 1751.59,979.189 1751.73,979.588 1751.87,979.984 1752.01,980.376 1752.14,980.764 1752.27,981.149 1752.4,981.53 1752.52,981.908 1752.65,982.282 1752.77,982.653 1752.89,983.021 1753,983.385 1753.12,983.746 1753.23,984.103 1753.34,984.458 1753.45,984.809 1753.55,985.157 1753.66,985.502 1753.76,985.843 1753.86,986.182 1753.96,986.518 1754.05,986.851 1754.14,987.18 1754.24,987.507 1754.33,987.831 1754.41,988.152 1754.5,988.471 1754.58,988.786 1754.67,989.099 1754.75,989.409 1754.83,989.716 1754.9,990.021 1754.98,990.323 1755.05,990.622 1755.12,990.919 1755.19,991.213 1755.26,991.505 1755.33,991.794 1755.4,992.081 1755.46,992.365 1755.52,992.647 1755.59,992.926 1755.65,993.203 1755.7,993.478 1755.76,993.75 1755.82,994.02 1755.87,994.288 1755.92,994.553 1755.98,994.816 1756.03,995.078 1756.07,995.337 1756.12,995.594 1756.17,995.848 1756.21,996.101 1756.26,996.352 1756.3,996.6 1756.34,996.846 1756.38,997.091 1756.42,997.333 1756.46,997.574 1756.5,997.812 1756.53,998.049 1756.57,998.283 1756.6,998.516 1756.63,998.747 1756.66,998.976 1756.69,999.203 1756.72,999.428 1756.75,999.651 1756.78,999.873 1756.81,1000.09 1756.83,1000.31 1756.86,1000.53 1756.88,1000.74 1756.9,1000.96 1756.92,1001.17 1756.94,1001.38 1756.96,1001.58 1756.98,1001.79 1757,1001.99 1757.02,1002.2 1757.03,1002.4 1757.05,1002.6 1757.06,1002.8 1757.08,1002.99 1757.09,1003.19 1757.1,1003.38 1757.11,1003.57 1757.13,1003.76 1757.14,1003.95 1757.14,1004.14 1757.15,1004.32 1757.16,1004.51 1757.17,1004.69 1757.17,1004.87 1757.18,1005.05 1757.18,1005.23 1757.19,1005.4 1757.19,1005.58 1757.19,1005.75 1757.2,1005.92 1757.2,1006.09 1757.2,1006.26 1757.2,1006.43 1757.2,1006.59 1757.2,1006.76 1757.2,1006.92 1757.2,1007.08 1757.19,1007.25 1757.19,1007.41 1757.19,1007.57 1757.18,1007.74 1757.18,1007.9 1757.17,1008.06 1757.16,1008.23 1757.16,1008.39 1757.15,1008.55 1757.14,1008.72 1757.13,1008.88 1757.12,1009.04 1757.11,1009.21 1757.1,1009.37 1757.09,1009.54 1757.08,1009.7 1757.07,1009.87 1757.05,1010.03 1757.04,1010.19 1757.02,1010.36 1757.01,1010.52 1756.99,1010.69 1756.97,1010.86 1756.95,1011.02 1756.94,1011.18 1756.92,1011.35 1756.9,1011.51 1756.87,1011.68 1756.85,1011.84 1756.83,1012 1756.81,1012.17 1756.78,1012.34 1756.76,1012.5 1756.73,1012.67 1756.7,1012.83 1756.68,1013 1756.65,1013.16 1756.62,1013.32 1756.59,1013.49 1756.56,1013.65 1756.52,1013.82 1756.49,1013.98 1756.46,1014.14 1756.42,1014.3 1756.39,1014.47 1756.35,1014.63 1756.31,1014.79 1756.28,1014.95 1756.24,1015.11 1756.2,1015.27 1756.16,1015.43 1756.12,1015.59 1756.07,1015.75 1756.03,1015.91 1755.99,1016.07 1755.94,1016.22 1755.9,1016.38 1755.85,1016.53 1755.8,1016.69 1755.76,1016.84 1755.71,1017 1755.66,1017.15 1755.61,1017.3 1755.56,1017.45 1755.51,1017.6 1755.46,1017.75 1755.4,1017.9 1755.35,1018.04 1755.29,1018.19 1755.24,1018.34 1755.18,1018.48 1755.13,1018.63 1755.07,1018.77 1755.01,1018.91 1754.95,1019.05 1754.89,1019.19 1754.83,1019.34 1754.77,1019.47 1754.71,1019.61 1754.65,1019.75 1754.59,1019.89 1754.52,1020.02 1754.46,1020.16 1754.4,1020.29 1754.33,1020.42 1754.26,1020.56 1754.2,1020.69 1754.13,1020.82 1754.06,1020.95 1753.99,1021.08 1753.93,1021.2 1753.86,1021.33 1753.79,1021.46 1753.71,1021.58 1753.64,1021.71 1753.57,1021.83 1753.5,1021.95 1753.43,1022.08 1753.35,1022.2 1753.28,1022.32 1753.2,1022.44 1753.13,1022.56 1753.05,1022.68 1752.97,1022.8 1752.89,1022.91 1752.82,1023.03 1752.74,1023.15 1752.66,1023.26 1752.57,1023.38 1752.49,1023.5 1752.41,1023.61 1752.33,1023.72 1752.24,1023.84 1752.16,1023.95 1752.07,1024.06 1751.99,1024.18 1751.9,1024.29 1751.81,1024.4 1751.72,1024.51 1751.63,1024.62 1751.54,1024.72 1751.45,1024.83 1751.37,1024.93 \"/>\n",
       "<path clip-path=\"url(#clip190)\" d=\"M2022.7 298.414 L2672.64 298.414 L2672.64 104.014 L2022.7 104.014  Z\" fill=\"#ffffff\" fill-rule=\"evenodd\" fill-opacity=\"1\"/>\n",
       "<polyline clip-path=\"url(#clip190)\" style=\"stroke:#000000; stroke-linecap:round; stroke-linejoin:round; stroke-width:4; stroke-opacity:1; fill:none\" points=\"2022.7,298.414 2672.64,298.414 2672.64,104.014 2022.7,104.014 2022.7,298.414 \"/>\n",
       "<polyline clip-path=\"url(#clip190)\" style=\"stroke:#00ff00; stroke-linecap:round; stroke-linejoin:round; stroke-width:7.5; stroke-opacity:1; fill:none\" points=\"2049.4,201.214 2209.64,201.214 \"/>\n",
       "<path clip-path=\"url(#clip190)\" d=\"M2236.34 185.004 L2244.33 185.004 L2244.33 233.614 L2236.34 233.614 L2236.34 185.004 M2236.34 166.08 L2244.33 166.08 L2244.33 176.193 L2236.34 176.193 L2236.34 166.08 Z\" fill=\"#000000\" fill-rule=\"evenodd\" fill-opacity=\"1\" /><path clip-path=\"url(#clip190)\" d=\"M2301.45 204.274 L2301.45 233.614 L2293.46 233.614 L2293.46 204.535 Q2293.46 197.634 2290.77 194.205 Q2288.08 190.776 2282.7 190.776 Q2276.23 190.776 2272.5 194.899 Q2268.77 199.023 2268.77 206.141 L2268.77 233.614 L2260.74 233.614 L2260.74 185.004 L2268.77 185.004 L2268.77 192.556 Q2271.63 188.172 2275.49 186.002 Q2279.4 183.832 2284.48 183.832 Q2292.85 183.832 2297.15 189.04 Q2301.45 194.205 2301.45 204.274 Z\" fill=\"#000000\" fill-rule=\"evenodd\" fill-opacity=\"1\" /><path clip-path=\"url(#clip190)\" d=\"M2317.38 185.004 L2325.36 185.004 L2325.36 233.614 L2317.38 233.614 L2317.38 185.004 M2317.38 166.08 L2325.36 166.08 L2325.36 176.193 L2317.38 176.193 L2317.38 166.08 Z\" fill=\"#000000\" fill-rule=\"evenodd\" fill-opacity=\"1\" /><path clip-path=\"url(#clip190)\" d=\"M2343.2 222.59 L2352.36 222.59 L2352.36 233.614 L2343.2 233.614 L2343.2 222.59 Z\" fill=\"#000000\" fill-rule=\"evenodd\" fill-opacity=\"1\" /><path clip-path=\"url(#clip190)\" d=\"M2430.57 208.745 Q2430.57 200.064 2426.97 195.29 Q2423.41 190.516 2416.94 190.516 Q2410.52 190.516 2406.92 195.29 Q2403.36 200.064 2403.36 208.745 Q2403.36 217.382 2406.92 222.156 Q2410.52 226.931 2416.94 226.931 Q2423.41 226.931 2426.97 222.156 Q2430.57 217.382 2430.57 208.745 M2438.56 227.582 Q2438.56 239.995 2433.04 246.028 Q2427.53 252.104 2416.16 252.104 Q2411.95 252.104 2408.22 251.453 Q2404.48 250.845 2400.97 249.543 L2400.97 241.774 Q2404.48 243.684 2407.91 244.595 Q2411.34 245.507 2414.9 245.507 Q2422.76 245.507 2426.66 241.384 Q2430.57 237.304 2430.57 229.014 L2430.57 225.064 Q2428.1 229.361 2424.23 231.488 Q2420.37 233.614 2414.99 233.614 Q2406.05 233.614 2400.58 226.8 Q2395.11 219.986 2395.11 208.745 Q2395.11 197.46 2400.58 190.646 Q2406.05 183.832 2414.99 183.832 Q2420.37 183.832 2424.23 185.959 Q2428.1 188.085 2430.57 192.382 L2430.57 185.004 L2438.56 185.004 L2438.56 227.582 Z\" fill=\"#000000\" fill-rule=\"evenodd\" fill-opacity=\"1\" /><path clip-path=\"url(#clip190)\" d=\"M2454.18 214.431 L2454.18 185.004 L2462.17 185.004 L2462.17 214.127 Q2462.17 221.028 2464.86 224.5 Q2467.55 227.929 2472.93 227.929 Q2479.4 227.929 2483.13 223.806 Q2486.91 219.682 2486.91 212.564 L2486.91 185.004 L2494.89 185.004 L2494.89 233.614 L2486.91 233.614 L2486.91 226.149 Q2484 230.576 2480.14 232.746 Q2476.32 234.873 2471.24 234.873 Q2462.86 234.873 2458.52 229.665 Q2454.18 224.457 2454.18 214.431 M2474.28 183.832 L2474.28 183.832 Z\" fill=\"#000000\" fill-rule=\"evenodd\" fill-opacity=\"1\" /><path clip-path=\"url(#clip190)\" d=\"M2552.92 207.313 L2552.92 211.219 L2516.2 211.219 Q2516.72 219.465 2521.15 223.806 Q2525.62 228.102 2533.56 228.102 Q2538.16 228.102 2542.46 226.974 Q2546.8 225.845 2551.06 223.589 L2551.06 231.141 Q2546.76 232.963 2542.24 233.918 Q2537.73 234.873 2533.09 234.873 Q2521.45 234.873 2514.64 228.102 Q2507.87 221.332 2507.87 209.786 Q2507.87 197.851 2514.29 190.863 Q2520.76 183.832 2531.7 183.832 Q2541.51 183.832 2547.19 190.169 Q2552.92 196.462 2552.92 207.313 M2544.94 204.969 Q2544.85 198.415 2541.25 194.509 Q2537.69 190.603 2531.78 190.603 Q2525.1 190.603 2521.06 194.379 Q2517.07 198.155 2516.46 205.012 L2544.94 204.969 Z\" fill=\"#000000\" fill-rule=\"evenodd\" fill-opacity=\"1\" /><path clip-path=\"url(#clip190)\" d=\"M2597.02 186.436 L2597.02 193.988 Q2593.63 192.252 2589.99 191.384 Q2586.34 190.516 2582.44 190.516 Q2576.49 190.516 2573.49 192.339 Q2570.54 194.162 2570.54 197.807 Q2570.54 200.585 2572.67 202.191 Q2574.8 203.754 2581.22 205.186 L2583.95 205.793 Q2592.46 207.616 2596.02 210.958 Q2599.62 214.257 2599.62 220.203 Q2599.62 226.974 2594.24 230.924 Q2588.9 234.873 2579.53 234.873 Q2575.62 234.873 2571.37 234.092 Q2567.16 233.354 2562.47 231.835 L2562.47 223.589 Q2566.9 225.889 2571.19 227.061 Q2575.49 228.189 2579.7 228.189 Q2585.34 228.189 2588.38 226.279 Q2591.42 224.326 2591.42 220.811 Q2591.42 217.556 2589.21 215.819 Q2587.04 214.083 2579.61 212.477 L2576.84 211.826 Q2569.41 210.264 2566.12 207.052 Q2562.82 203.797 2562.82 198.155 Q2562.82 191.297 2567.68 187.564 Q2572.54 183.832 2581.48 183.832 Q2585.91 183.832 2589.81 184.483 Q2593.72 185.134 2597.02 186.436 Z\" fill=\"#000000\" fill-rule=\"evenodd\" fill-opacity=\"1\" /><path clip-path=\"url(#clip190)\" d=\"M2643.33 186.436 L2643.33 193.988 Q2639.94 192.252 2636.3 191.384 Q2632.65 190.516 2628.75 190.516 Q2622.8 190.516 2619.8 192.339 Q2616.85 194.162 2616.85 197.807 Q2616.85 200.585 2618.98 202.191 Q2621.11 203.754 2627.53 205.186 L2630.26 205.793 Q2638.77 207.616 2642.33 210.958 Q2645.93 214.257 2645.93 220.203 Q2645.93 226.974 2640.55 230.924 Q2635.21 234.873 2625.84 234.873 Q2621.93 234.873 2617.68 234.092 Q2613.47 233.354 2608.78 231.835 L2608.78 223.589 Q2613.21 225.889 2617.5 227.061 Q2621.8 228.189 2626.01 228.189 Q2631.65 228.189 2634.69 226.279 Q2637.73 224.326 2637.73 220.811 Q2637.73 217.556 2635.52 215.819 Q2633.35 214.083 2625.92 212.477 L2623.15 211.826 Q2615.73 210.264 2612.43 207.052 Q2609.13 203.797 2609.13 198.155 Q2609.13 191.297 2613.99 187.564 Q2618.85 183.832 2627.79 183.832 Q2632.22 183.832 2636.12 184.483 Q2640.03 185.134 2643.33 186.436 Z\" fill=\"#000000\" fill-rule=\"evenodd\" fill-opacity=\"1\" /></svg>\n"
      ]
     },
     "execution_count": 17,
     "metadata": {},
     "output_type": "execute_result"
    }
   ],
   "source": [
    "plot!(p,(u_ig[1,:].-param3b.as)*param3b.lstar, u_ig[2,:].*param3b.lstar, c=:lime, label=\"ini. guess\")\n",
    "plot!(p, legend=:topright)\n",
    "# plot!(p, xlim=[-0.7e6, 1.3e6])"
   ]
  },
  {
   "cell_type": "code",
   "execution_count": null,
   "metadata": {},
   "outputs": [],
   "source": []
  },
  {
   "cell_type": "markdown",
   "metadata": {},
   "source": [
    "### thrust history"
   ]
  },
  {
   "cell_type": "code",
   "execution_count": 10,
   "metadata": {},
   "outputs": [
    {
     "ename": "LoadError",
     "evalue": "UndefVarError: th_ not defined",
     "output_type": "error",
     "traceback": [
      "UndefVarError: th_ not defined",
      "",
      "Stacktrace:",
      " [1] top-level scope",
      "   @ In[10]:11"
     ]
    }
   ],
   "source": [
    "p_thrust = plot(\n",
    "    size=(700,500), frame_style=:box, grid=0.4, legend=false, \n",
    "    xlim = [0, 56],\n",
    "    ylim = [0,360],\n",
    "    xlabel=L\"t, \\textrm{days}\", \n",
    "    ylabel=L\"\\bar{\\gamma} \\ \\textrm{angle, deg.}\",\n",
    "    colorbar_titlefontsize=fs,\n",
    "    fontsize=fs, xlabelfontsize=fs, ylabelfontsize=fs, xtickfontsize=fs-1, ytickfontsize=fs-1, legendfontsize=fs-1\n",
    ");\n",
    "\n",
    "angd = atan.(th_[2,:], th_[1,:])\n",
    "val = [mod2pi(el)/pi*180 for el in angd]\n",
    "\n",
    "\n",
    "plot!(p_thrust, t_days, val, c=:blue, label=\"optim.\")\n",
    "\n",
    "angd = atan.(th_nominal[2,:], th_nominal[1,:])\n",
    "val = [mod2pi(el)/pi*180 for el in angd]\n",
    "\n",
    "plot!(p_thrust, t_days, val, c=:lime, label=\"ini.\")\n",
    "\n",
    "plot!(p_thrust, legend=:topright)"
   ]
  },
  {
   "cell_type": "code",
   "execution_count": null,
   "metadata": {},
   "outputs": [],
   "source": []
  },
  {
   "cell_type": "markdown",
   "metadata": {},
   "source": [
    "### save"
   ]
  },
  {
   "cell_type": "code",
   "execution_count": null,
   "metadata": {},
   "outputs": [],
   "source": [
    "savefig(p, \"optim_traj_tidalThrust.png\")\n",
    "savefig(p_thrust, \"optim_thrust_tidalThrust.png\")"
   ]
  },
  {
   "cell_type": "code",
   "execution_count": null,
   "metadata": {},
   "outputs": [],
   "source": []
  }
 ],
 "metadata": {
  "kernelspec": {
   "display_name": "Julia 1.6.7",
   "language": "julia",
   "name": "julia-1.6"
  },
  "language_info": {
   "file_extension": ".jl",
   "mimetype": "application/julia",
   "name": "julia",
   "version": "1.6.7"
  }
 },
 "nbformat": 4,
 "nbformat_minor": 2
}
