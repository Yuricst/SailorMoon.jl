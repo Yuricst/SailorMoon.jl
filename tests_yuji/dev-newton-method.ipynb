{
 "cells": [
  {
   "cell_type": "code",
   "execution_count": 1,
   "metadata": {},
   "outputs": [
    {
     "data": {
      "text/plain": [
       "LaTeXStrings"
      ]
     },
     "execution_count": 1,
     "metadata": {},
     "output_type": "execute_result"
    }
   ],
   "source": [
    "using DifferentialEquations\n",
    "using Plots\n",
    "using LinearAlgebra\n",
    "import ForwardDiff\n",
    "import DiffResults\n",
    "using AstrodynamicsBase\n",
    "using Printf\n",
    "using JSON\n",
    "using CSV\n",
    "using DataFrames\n",
    "using LaTeXStrings\n",
    "using BenchmarkTools\n",
    "LaTeXStrings"
   ]
  },
  {
   "cell_type": "code",
   "execution_count": 2,
   "metadata": {},
   "outputs": [
    {
     "name": "stderr",
     "output_type": "stream",
     "text": [
      "\u001b[33m\u001b[1m┌ \u001b[22m\u001b[39m\u001b[33m\u001b[1mWarning: \u001b[22m\u001b[39mReplacing docs for `Main.SailorMoon.integrate_rk4 :: Union{Tuple{ODEProblem, Real}, Tuple{ODEProblem, Real, Union{Nothing, Vector{T} where T}}, Tuple{ODEProblem, Real, Union{Nothing, Vector{T} where T}, Bool}, Tuple{ODEProblem, Real, Union{Nothing, Vector{T} where T}, Bool, Bool}}` in module `Main.SailorMoon`\n",
      "\u001b[33m\u001b[1m└ \u001b[22m\u001b[39m\u001b[90m@ Base.Docs docs\\Docs.jl:240\u001b[39m\n",
      "\u001b[33m\u001b[1m┌ \u001b[22m\u001b[39m\u001b[33m\u001b[1mWarning: \u001b[22m\u001b[39mFor saving to png with the `Plotly` backend `PlotlyBase` and `PlotlyKaleido` need to be installed.\n",
      "\u001b[33m\u001b[1m│ \u001b[22m\u001b[39m  err =\n",
      "\u001b[33m\u001b[1m│ \u001b[22m\u001b[39m   ArgumentError: Package PlotlyBase not found in current path:\n",
      "\u001b[33m\u001b[1m│ \u001b[22m\u001b[39m   - Run `import Pkg; Pkg.add(\"PlotlyBase\")` to install the PlotlyBase package.\n",
      "\u001b[33m\u001b[1m│ \u001b[22m\u001b[39m   \n",
      "\u001b[33m\u001b[1m└ \u001b[22m\u001b[39m\u001b[90m@ Plots C:\\Users\\yujit\\.julia\\packages\\Plots\\nuwp4\\src\\backends.jl:545\u001b[39m\n"
     ]
    },
    {
     "data": {
      "text/plain": [
       "16"
      ]
     },
     "execution_count": 2,
     "metadata": {},
     "output_type": "execute_result"
    }
   ],
   "source": [
    "include(\"../../julia-r3bp/R3BP/src/R3BP.jl\")\n",
    "include(\"../src/SailorMoon.jl\")   # relative path to main file of module\n",
    "param3b = SailorMoon.dynamics_parameters()\n",
    "paramMulti = SailorMoon.multi_shoot_parameters(param3b)\n",
    "plotly()\n",
    "fs = 16"
   ]
  },
  {
   "cell_type": "markdown",
   "metadata": {},
   "source": [
    "## obtain an initial guess"
   ]
  },
  {
   "cell_type": "code",
   "execution_count": 3,
   "metadata": {},
   "outputs": [
    {
     "data": {
      "text/html": [
       "<div><div style = \"float: left;\"><span>DataFrameRow (42 columns)</span></div><div style = \"clear: both;\"></div></div><div class = \"data-frame\" style = \"overflow-x: scroll;\"><table class = \"data-frame\" style = \"margin-bottom: 6px;\"><thead><tr class = \"header\"><th class = \"rowLabel\" style = \"font-weight: bold; text-align: right;\">Row</th><th style = \"text-align: left;\">id</th><th style = \"text-align: left;\">phi0</th><th style = \"text-align: left;\">epsr</th><th style = \"text-align: left;\">epsv</th><th style = \"text-align: left;\">thetasf</th><th style = \"text-align: left;\">rp_kep</th><th style = \"text-align: left;\">ra_kep</th><th style = \"text-align: left;\">alpha</th><th style = \"text-align: left;\">ra</th><th style = \"text-align: left;\">dt1</th><th style = \"text-align: left;\">dt2</th><th style = \"text-align: left;\">x_lpo</th><th style = \"text-align: left;\">y_lpo</th><th style = \"text-align: left;\">z_lpo</th><th style = \"text-align: left;\">xdot_lpo</th><th style = \"text-align: left;\">ydot_lpo</th><th style = \"text-align: left;\">zdot_lpo</th><th style = \"text-align: left;\">m_lpo</th><th style = \"text-align: left;\">x_ra</th><th style = \"text-align: left;\">y_ra</th><th style = \"text-align: left;\">z_ra</th><th style = \"text-align: left;\">xdot_ra</th><th style = \"text-align: left;\">ydot_ra</th><th style = \"text-align: left;\">zdot_ra</th><th style = \"text-align: left;\">m_ra</th><th style = \"text-align: left;\">x_rp</th><th style = \"text-align: left;\">y_rp</th><th style = \"text-align: left;\">z_rp</th><th style = \"text-align: left;\">xdot_rp</th><th style = \"text-align: left;\">ydot_rp</th><th style = \"text-align: left;\">zdot_rp</th><th style = \"text-align: left;\">m_rp</th><th style = \"text-align: left;\">x_lr</th><th style = \"text-align: left;\">y_lr</th><th style = \"text-align: left;\">z_lr</th><th style = \"text-align: left;\">xdot_lr</th><th style = \"text-align: left;\">ydot_lr</th><th style = \"text-align: left;\">zdot_lr</th><th style = \"text-align: left;\">m_lr</th><th style = \"text-align: left;\">t_lr</th><th style = \"text-align: left;\">tof</th><th style = \"text-align: left;\">lfb</th></tr><tr class = \"subheader headerLastRow\"><th class = \"rowLabel\" style = \"font-weight: bold; text-align: right;\"></th><th title = \"Float64\" style = \"text-align: left;\">Float64</th><th title = \"Float64\" style = \"text-align: left;\">Float64</th><th title = \"Float64\" style = \"text-align: left;\">Float64</th><th title = \"Float64\" style = \"text-align: left;\">Float64</th><th title = \"Float64\" style = \"text-align: left;\">Float64</th><th title = \"Float64\" style = \"text-align: left;\">Float64</th><th title = \"Float64\" style = \"text-align: left;\">Float64</th><th title = \"Float64\" style = \"text-align: left;\">Float64</th><th title = \"Float64\" style = \"text-align: left;\">Float64</th><th title = \"Float64\" style = \"text-align: left;\">Float64</th><th title = \"Float64\" style = \"text-align: left;\">Float64</th><th title = \"Float64\" style = \"text-align: left;\">Float64</th><th title = \"Float64\" style = \"text-align: left;\">Float64</th><th title = \"Float64\" style = \"text-align: left;\">Float64</th><th title = \"Float64\" style = \"text-align: left;\">Float64</th><th title = \"Float64\" style = \"text-align: left;\">Float64</th><th title = \"Float64\" style = \"text-align: left;\">Float64</th><th title = \"Float64\" style = \"text-align: left;\">Float64</th><th title = \"Float64\" style = \"text-align: left;\">Float64</th><th title = \"Float64\" style = \"text-align: left;\">Float64</th><th title = \"Float64\" style = \"text-align: left;\">Float64</th><th title = \"Float64\" style = \"text-align: left;\">Float64</th><th title = \"Float64\" style = \"text-align: left;\">Float64</th><th title = \"Float64\" style = \"text-align: left;\">Float64</th><th title = \"Float64\" style = \"text-align: left;\">Float64</th><th title = \"Float64\" style = \"text-align: left;\">Float64</th><th title = \"Float64\" style = \"text-align: left;\">Float64</th><th title = \"Float64\" style = \"text-align: left;\">Float64</th><th title = \"Float64\" style = \"text-align: left;\">Float64</th><th title = \"Float64\" style = \"text-align: left;\">Float64</th><th title = \"Float64\" style = \"text-align: left;\">Float64</th><th title = \"Float64\" style = \"text-align: left;\">Float64</th><th title = \"Float64\" style = \"text-align: left;\">Float64</th><th title = \"Float64\" style = \"text-align: left;\">Float64</th><th title = \"Float64\" style = \"text-align: left;\">Float64</th><th title = \"Float64\" style = \"text-align: left;\">Float64</th><th title = \"Float64\" style = \"text-align: left;\">Float64</th><th title = \"Float64\" style = \"text-align: left;\">Float64</th><th title = \"Float64\" style = \"text-align: left;\">Float64</th><th title = \"Float64\" style = \"text-align: left;\">Float64</th><th title = \"Float64\" style = \"text-align: left;\">Float64</th><th title = \"Float64\" style = \"text-align: left;\">Float64</th></tr></thead><tbody><tr><td class = \"rowLabel\" style = \"font-weight: bold; text-align: right;\">21</td><td style = \"text-align: right;\">21.0</td><td style = \"text-align: right;\">0.397935</td><td style = \"text-align: right;\">1.0e-5</td><td style = \"text-align: right;\">1.0e-5</td><td style = \"text-align: right;\">5.44543</td><td style = \"text-align: right;\">0.00808627</td><td style = \"text-align: right;\">2.2964</td><td style = \"text-align: right;\">-2.60377</td><td style = \"text-align: right;\">2.84033</td><td style = \"text-align: right;\">9.48719</td><td style = \"text-align: right;\">6.08247</td><td style = \"text-align: right;\">388.073</td><td style = \"text-align: right;\">-0.902908</td><td style = \"text-align: right;\">-1.62381e-21</td><td style = \"text-align: right;\">0.717073</td><td style = \"text-align: right;\">-0.644585</td><td style = \"text-align: right;\">-1.49526e-21</td><td style = \"text-align: right;\">1.0</td><td style = \"text-align: right;\">391.481</td><td style = \"text-align: right;\">0.995379</td><td style = \"text-align: right;\">-4.82231e-21</td><td style = \"text-align: right;\">-0.0136708</td><td style = \"text-align: right;\">0.0414753</td><td style = \"text-align: right;\">-5.25646e-22</td><td style = \"text-align: right;\">1.01762</td><td style = \"text-align: right;\">388.821</td><td style = \"text-align: right;\">-0.0143727</td><td style = \"text-align: right;\">0.0</td><td style = \"text-align: right;\">7.99321</td><td style = \"text-align: right;\">-13.4007</td><td style = \"text-align: right;\">0.0</td><td style = \"text-align: right;\">1.03253</td><td style = \"text-align: right;\">388.821</td><td style = \"text-align: right;\">-0.0143727</td><td style = \"text-align: right;\">1.15655e-23</td><td style = \"text-align: right;\">7.99321</td><td style = \"text-align: right;\">-13.4007</td><td style = \"text-align: right;\">2.66139e-19</td><td style = \"text-align: right;\">1.03253</td><td style = \"text-align: right;\">15.5697</td><td style = \"text-align: right;\">15.5697</td><td style = \"text-align: right;\">0.0</td></tr></tbody></table></div>"
      ],
      "text/latex": [
       "\\begin{tabular}{r|cccccccccc}\n",
       "\t& id & phi0 & epsr & epsv & thetasf & rp\\_kep & ra\\_kep & alpha & ra & \\\\\n",
       "\t\\hline\n",
       "\t& Float64 & Float64 & Float64 & Float64 & Float64 & Float64 & Float64 & Float64 & Float64 & \\\\\n",
       "\t\\hline\n",
       "\t21 & 21.0 & 0.397935 & 1.0e-5 & 1.0e-5 & 5.44543 & 0.00808627 & 2.2964 & -2.60377 & 2.84033 & $\\dots$ \\\\\n",
       "\\end{tabular}\n"
      ],
      "text/plain": [
       "\u001b[1mDataFrameRow\u001b[0m\n",
       "\u001b[1m Row \u001b[0m│\u001b[1m id      \u001b[0m\u001b[1m phi0     \u001b[0m\u001b[1m epsr    \u001b[0m\u001b[1m epsv    \u001b[0m\u001b[1m thetasf \u001b[0m\u001b[1m rp_kep     \u001b[0m\u001b[1m ra_kep  \u001b[0m\u001b[1m alph\u001b[0m ⋯\n",
       "     │\u001b[90m Float64 \u001b[0m\u001b[90m Float64  \u001b[0m\u001b[90m Float64 \u001b[0m\u001b[90m Float64 \u001b[0m\u001b[90m Float64 \u001b[0m\u001b[90m Float64    \u001b[0m\u001b[90m Float64 \u001b[0m\u001b[90m Floa\u001b[0m ⋯\n",
       "─────┼──────────────────────────────────────────────────────────────────────────\n",
       "  21 │    21.0  0.397935   1.0e-5   1.0e-5  5.44543  0.00808627   2.2964  -2.6 ⋯\n",
       "\u001b[36m                                                              35 columns omitted\u001b[0m"
      ]
     },
     "execution_count": 3,
     "metadata": {},
     "output_type": "execute_result"
    }
   ],
   "source": [
    "### PARAMETERS ###################################\n",
    "# csv file to load the initial solution\n",
    "filename = \"../run/data/grid_search_Tsit5_0525_EMrotThrust.csv\"\n",
    "# dv_dir function corresponding to the csv file \n",
    "dir_func = SailorMoon.dv_EMrotdir_sb1frame \n",
    "\n",
    "# parameters\n",
    "param3b = SailorMoon.dynamics_parameters()\n",
    "paramMulti = SailorMoon.multi_shoot_parameters(param3b)\n",
    "\n",
    "n_arc = 5\n",
    "##################################################\n",
    "\n",
    "if dir_func == SailorMoon.dv_no_thrust\n",
    "    τ_ig = 0.0\n",
    "else \n",
    "    τ_ig = 1.0\n",
    "end\n",
    "\n",
    "# load initial guess\n",
    "df = DataFrame(CSV.File(filename))\n",
    "\n",
    "# maybe want to use \"for row in eachrow(df)\" to automate the process...? \n",
    "row = df[21,:]\n"
   ]
  },
  {
   "cell_type": "code",
   "execution_count": 4,
   "metadata": {},
   "outputs": [],
   "source": [
    "x0, lx, ux = SailorMoon.make_ig_bounds2(row, τ_ig, paramMulti.n_arc)\n",
    "fitness!, ng, lg, ug, eval_sft = SailorMoon.get_fitness2(dir_func, paramMulti, x0);"
   ]
  },
  {
   "cell_type": "code",
   "execution_count": 5,
   "metadata": {},
   "outputs": [
    {
     "name": "stdout",
     "output_type": "stream",
     "text": [
      " 35.059732 seconds (281.43 M allocations: 9.457 GiB, 6.46% gc time, 0.09% compilation time)\n"
     ]
    },
    {
     "data": {
      "text/plain": [
       "16×97 Matrix{Float64}:\n",
       " 43983.0          26367.3            0.0         …   0.0           0.0\n",
       "  6015.69          3274.65           0.0             0.0           0.0\n",
       "     7.34483e-17      5.51386e-17  283.853           0.0           0.0\n",
       " 23660.5          14131.5            0.0             0.0           0.0\n",
       "  2198.21          1278.82           0.0             0.0           0.0\n",
       "     6.31382e-18      4.81859e-18   26.5385      …   0.0           0.0\n",
       "    -2.10942e-9      -1.77636e-9     0.0             0.0           0.0\n",
       "     0.0              0.0            0.0            -0.00462438    0.0\n",
       "     0.0              0.0            0.0            -0.00526156    0.0\n",
       "     0.0              0.0            0.0             8.85845e-26   0.00511223\n",
       "     0.0              0.0            0.0         …   0.0191705     0.0\n",
       "     0.0              0.0            0.0             0.0214523     0.0\n",
       "     0.0              0.0            0.0            -7.04899e-25  -0.0204717\n",
       "     0.0              0.0            0.0             4.44089e-10   0.0\n",
       "    -0.858825        -0.512269       0.0             0.0           0.0\n",
       "     7.99321        -13.4007         2.6614e-19  …   0.0           0.0"
      ]
     },
     "execution_count": 5,
     "metadata": {},
     "output_type": "execute_result"
    }
   ],
   "source": [
    "@time DF = SailorMoon.get_jacobian(eval_sft, x0, ng)"
   ]
  },
  {
   "cell_type": "code",
   "execution_count": 6,
   "metadata": {},
   "outputs": [
    {
     "name": "stdout",
     "output_type": "stream",
     "text": [
      "  0.443179 seconds (708.25 k allocations: 41.003 MiB, 99.80% compilation time)\n"
     ]
    },
    {
     "data": {
      "text/plain": [
       "16×16 Matrix{Float64}:\n",
       "  0.186576     -0.0482387     -3.49713e-22  …   14.4254        -0.00133494\n",
       " -0.0482387     0.0310564      4.94123e-21       3.07823       -0.000287695\n",
       " -3.49714e-22   4.94123e-21    3.38827           4.62845e-18   -4.28449e-22\n",
       " -0.425781      0.121679       2.45641e-21      -0.72536        6.69084e-5\n",
       "  0.987432     -0.42829       -4.02741e-20      77.5666        -0.00719207\n",
       "  3.75286e-21  -5.28447e-20  -36.2405       …   -4.86342e-17    4.50129e-21\n",
       " -0.0525058     0.017368       6.51121e-21       3.88391       -0.000362449\n",
       " -0.0220838    -0.00599041    -4.15122e-20      -4.6781         0.000434903\n",
       "  0.272214     -0.0787294     -3.45118e-20      10.1714        -0.000940905\n",
       "  1.30701e-21  -1.35325e-20   -9.49378          -1.27811e-17    1.18297e-21\n",
       " -0.0985198     0.0302872      8.00787e-20  …   20.9673        -0.00195285\n",
       "  0.205149     -0.137883       3.77171e-20     -17.0552         0.00159435\n",
       " -4.59059e-21  -1.08753e-20   -3.80707          -5.39632e-18    4.99947e-22\n",
       "  0.167347     -0.0646679      6.25788e-21      10.4417        -0.000967637\n",
       " 14.4254        3.07823        4.62845e-18       9.38074e5    -86.8712\n",
       " -0.00133494   -0.000287695   -4.28449e-22  …  -86.8712         0.00811272"
      ]
     },
     "execution_count": 6,
     "metadata": {},
     "output_type": "execute_result"
    }
   ],
   "source": [
    "@time inv(DF*transpose(DF))"
   ]
  },
  {
   "cell_type": "code",
   "execution_count": 7,
   "metadata": {},
   "outputs": [
    {
     "name": "stdout",
     "output_type": "stream",
     "text": [
      "  0.105837 seconds (1.33 M allocations: 42.015 MiB, 26.03% compilation time)\n"
     ]
    },
    {
     "data": {
      "text/plain": [
       "97-element Vector{Float64}:\n",
       " 388.81062948076504\n",
       "  -0.020717445993906777\n",
       "   2.0947886464430783e-23\n",
       "   3.141710955979362\n",
       "  -5.265178330103744\n",
       "   2.643216553706365e-19\n",
       "   1.1029308062294174\n",
       "   1.8140235566302022e-5\n",
       "   3.110168818813142\n",
       "   1.0\n",
       "   0.0\n",
       "   0.0\n",
       "   1.0\n",
       "   ⋮\n",
       "   1.0063205738305894\n",
       "  -0.00991371828898728\n",
       "  -4.6315137906087596e-21\n",
       "   1.0088282528769152\n",
       "  -0.005732211642198792\n",
       "  -2.8040449284029977e-21\n",
       "   1.009196463255867\n",
       "  -0.002446480898688611\n",
       "  -1.0397450136324417e-21\n",
       "   1.0083029427682517\n",
       "   2.949379356849298e-5\n",
       "   4.362299701764637e-22"
      ]
     },
     "execution_count": 7,
     "metadata": {},
     "output_type": "execute_result"
    }
   ],
   "source": [
    "@time x_iter = SailorMoon.newton_update(x0, eval_sft(x0), DF)"
   ]
  },
  {
   "cell_type": "code",
   "execution_count": null,
   "metadata": {},
   "outputs": [
    {
     "name": "stdout",
     "output_type": "stream",
     "text": [
      "iter #"
     ]
    }
   ],
   "source": [
    "xs, fs, converged = SailorMoon.differential_correction(x0, eval_sft)"
   ]
  },
  {
   "cell_type": "code",
   "execution_count": null,
   "metadata": {},
   "outputs": [],
   "source": []
  },
  {
   "cell_type": "code",
   "execution_count": null,
   "metadata": {},
   "outputs": [],
   "source": []
  },
  {
   "cell_type": "code",
   "execution_count": null,
   "metadata": {},
   "outputs": [],
   "source": []
  },
  {
   "cell_type": "code",
   "execution_count": null,
   "metadata": {},
   "outputs": [],
   "source": []
  },
  {
   "cell_type": "code",
   "execution_count": null,
   "metadata": {},
   "outputs": [],
   "source": []
  },
  {
   "cell_type": "code",
   "execution_count": null,
   "metadata": {},
   "outputs": [],
   "source": []
  },
  {
   "cell_type": "code",
   "execution_count": null,
   "metadata": {},
   "outputs": [],
   "source": []
  },
  {
   "cell_type": "code",
   "execution_count": null,
   "metadata": {},
   "outputs": [],
   "source": []
  },
  {
   "cell_type": "code",
   "execution_count": null,
   "metadata": {},
   "outputs": [],
   "source": []
  }
 ],
 "metadata": {
  "kernelspec": {
   "display_name": "Julia 1.6.7",
   "language": "julia",
   "name": "julia-1.6"
  },
  "language_info": {
   "file_extension": ".jl",
   "mimetype": "application/julia",
   "name": "julia",
   "version": "1.6.7"
  }
 },
 "nbformat": 4,
 "nbformat_minor": 2
}
