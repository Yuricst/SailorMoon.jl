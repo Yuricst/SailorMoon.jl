{
 "cells": [
  {
   "cell_type": "code",
   "execution_count": 1,
   "metadata": {},
   "outputs": [
    {
     "data": {
      "text/plain": [
       "LaTeXStrings"
      ]
     },
     "execution_count": 1,
     "metadata": {},
     "output_type": "execute_result"
    }
   ],
   "source": [
    "using DifferentialEquations\n",
    "using Plots\n",
    "using LinearAlgebra\n",
    "import ForwardDiff\n",
    "import DiffResults\n",
    "using AstrodynamicsBase\n",
    "using Printf\n",
    "using JSON\n",
    "using CSV\n",
    "using DataFrames\n",
    "using LaTeXStrings\n",
    "using BenchmarkTools\n",
    "LaTeXStrings"
   ]
  },
  {
   "cell_type": "code",
   "execution_count": 12,
   "metadata": {},
   "outputs": [
    {
     "name": "stderr",
     "output_type": "stream",
     "text": [
      "WARNING: replacing module R3BP.\n",
      "WARNING: replacing module SailorMoon.\n",
      "\u001b[33m\u001b[1m┌ \u001b[22m\u001b[39m\u001b[33m\u001b[1mWarning: \u001b[22m\u001b[39mReplacing docs for `Main.SailorMoon.integrate_rk4 :: Union{Tuple{ODEProblem, Real}, Tuple{ODEProblem, Real, Union{Nothing, Vector{T} where T}}, Tuple{ODEProblem, Real, Union{Nothing, Vector{T} where T}, Bool}, Tuple{ODEProblem, Real, Union{Nothing, Vector{T} where T}, Bool, Bool}}` in module `Main.SailorMoon`\n",
      "\u001b[33m\u001b[1m└ \u001b[22m\u001b[39m\u001b[90m@ Base.Docs docs\\Docs.jl:240\u001b[39m\n"
     ]
    },
    {
     "data": {
      "text/plain": [
       "16"
      ]
     },
     "execution_count": 12,
     "metadata": {},
     "output_type": "execute_result"
    }
   ],
   "source": [
    "include(\"../../julia-r3bp/R3BP/src/R3BP.jl\")\n",
    "include(\"../src/SailorMoon.jl\")   # relative path to main file of module\n",
    "param3b = SailorMoon.dynamics_parameters()\n",
    "paramMulti = SailorMoon.multi_shoot_parameters(param3b)\n",
    "plotly()\n",
    "fs = 16"
   ]
  },
  {
   "cell_type": "markdown",
   "metadata": {},
   "source": [
    "## obtain an initial guess"
   ]
  },
  {
   "cell_type": "code",
   "execution_count": 13,
   "metadata": {},
   "outputs": [
    {
     "data": {
      "text/html": [
       "<div><div style = \"float: left;\"><span>DataFrameRow (42 columns)</span></div><div style = \"clear: both;\"></div></div><div class = \"data-frame\" style = \"overflow-x: scroll;\"><table class = \"data-frame\" style = \"margin-bottom: 6px;\"><thead><tr class = \"header\"><th class = \"rowLabel\" style = \"font-weight: bold; text-align: right;\">Row</th><th style = \"text-align: left;\">id</th><th style = \"text-align: left;\">phi0</th><th style = \"text-align: left;\">epsr</th><th style = \"text-align: left;\">epsv</th><th style = \"text-align: left;\">thetasf</th><th style = \"text-align: left;\">rp_kep</th><th style = \"text-align: left;\">ra_kep</th><th style = \"text-align: left;\">alpha</th><th style = \"text-align: left;\">ra</th><th style = \"text-align: left;\">dt1</th><th style = \"text-align: left;\">dt2</th><th style = \"text-align: left;\">x_lpo</th><th style = \"text-align: left;\">y_lpo</th><th style = \"text-align: left;\">z_lpo</th><th style = \"text-align: left;\">xdot_lpo</th><th style = \"text-align: left;\">ydot_lpo</th><th style = \"text-align: left;\">zdot_lpo</th><th style = \"text-align: left;\">m_lpo</th><th style = \"text-align: left;\">x_ra</th><th style = \"text-align: left;\">y_ra</th><th style = \"text-align: left;\">z_ra</th><th style = \"text-align: left;\">xdot_ra</th><th style = \"text-align: left;\">ydot_ra</th><th style = \"text-align: left;\">zdot_ra</th><th style = \"text-align: left;\">m_ra</th><th style = \"text-align: left;\">x_rp</th><th style = \"text-align: left;\">y_rp</th><th style = \"text-align: left;\">z_rp</th><th style = \"text-align: left;\">xdot_rp</th><th style = \"text-align: left;\">ydot_rp</th><th style = \"text-align: left;\">zdot_rp</th><th style = \"text-align: left;\">m_rp</th><th style = \"text-align: left;\">x_lr</th><th style = \"text-align: left;\">y_lr</th><th style = \"text-align: left;\">z_lr</th><th style = \"text-align: left;\">xdot_lr</th><th style = \"text-align: left;\">ydot_lr</th><th style = \"text-align: left;\">zdot_lr</th><th style = \"text-align: left;\">m_lr</th><th style = \"text-align: left;\">t_lr</th><th style = \"text-align: left;\">tof</th><th style = \"text-align: left;\">lfb</th></tr><tr class = \"subheader headerLastRow\"><th class = \"rowLabel\" style = \"font-weight: bold; text-align: right;\"></th><th title = \"Float64\" style = \"text-align: left;\">Float64</th><th title = \"Float64\" style = \"text-align: left;\">Float64</th><th title = \"Float64\" style = \"text-align: left;\">Float64</th><th title = \"Float64\" style = \"text-align: left;\">Float64</th><th title = \"Float64\" style = \"text-align: left;\">Float64</th><th title = \"Float64\" style = \"text-align: left;\">Float64</th><th title = \"Float64\" style = \"text-align: left;\">Float64</th><th title = \"Float64\" style = \"text-align: left;\">Float64</th><th title = \"Float64\" style = \"text-align: left;\">Float64</th><th title = \"Float64\" style = \"text-align: left;\">Float64</th><th title = \"Float64\" style = \"text-align: left;\">Float64</th><th title = \"Float64\" style = \"text-align: left;\">Float64</th><th title = \"Float64\" style = \"text-align: left;\">Float64</th><th title = \"Float64\" style = \"text-align: left;\">Float64</th><th title = \"Float64\" style = \"text-align: left;\">Float64</th><th title = \"Float64\" style = \"text-align: left;\">Float64</th><th title = \"Float64\" style = \"text-align: left;\">Float64</th><th title = \"Float64\" style = \"text-align: left;\">Float64</th><th title = \"Float64\" style = \"text-align: left;\">Float64</th><th title = \"Float64\" style = \"text-align: left;\">Float64</th><th title = \"Float64\" style = \"text-align: left;\">Float64</th><th title = \"Float64\" style = \"text-align: left;\">Float64</th><th title = \"Float64\" style = \"text-align: left;\">Float64</th><th title = \"Float64\" style = \"text-align: left;\">Float64</th><th title = \"Float64\" style = \"text-align: left;\">Float64</th><th title = \"Float64\" style = \"text-align: left;\">Float64</th><th title = \"Float64\" style = \"text-align: left;\">Float64</th><th title = \"Float64\" style = \"text-align: left;\">Float64</th><th title = \"Float64\" style = \"text-align: left;\">Float64</th><th title = \"Float64\" style = \"text-align: left;\">Float64</th><th title = \"Float64\" style = \"text-align: left;\">Float64</th><th title = \"Float64\" style = \"text-align: left;\">Float64</th><th title = \"Float64\" style = \"text-align: left;\">Float64</th><th title = \"Float64\" style = \"text-align: left;\">Float64</th><th title = \"Float64\" style = \"text-align: left;\">Float64</th><th title = \"Float64\" style = \"text-align: left;\">Float64</th><th title = \"Float64\" style = \"text-align: left;\">Float64</th><th title = \"Float64\" style = \"text-align: left;\">Float64</th><th title = \"Float64\" style = \"text-align: left;\">Float64</th><th title = \"Float64\" style = \"text-align: left;\">Float64</th><th title = \"Float64\" style = \"text-align: left;\">Float64</th><th title = \"Float64\" style = \"text-align: left;\">Float64</th></tr></thead><tbody><tr><td class = \"rowLabel\" style = \"font-weight: bold; text-align: right;\">21</td><td style = \"text-align: right;\">21.0</td><td style = \"text-align: right;\">0.397935</td><td style = \"text-align: right;\">1.0e-5</td><td style = \"text-align: right;\">1.0e-5</td><td style = \"text-align: right;\">5.44543</td><td style = \"text-align: right;\">0.00808627</td><td style = \"text-align: right;\">2.2964</td><td style = \"text-align: right;\">-2.60377</td><td style = \"text-align: right;\">2.84033</td><td style = \"text-align: right;\">9.48719</td><td style = \"text-align: right;\">6.08247</td><td style = \"text-align: right;\">388.073</td><td style = \"text-align: right;\">-0.902908</td><td style = \"text-align: right;\">-1.62381e-21</td><td style = \"text-align: right;\">0.717073</td><td style = \"text-align: right;\">-0.644585</td><td style = \"text-align: right;\">-1.49526e-21</td><td style = \"text-align: right;\">1.0</td><td style = \"text-align: right;\">391.481</td><td style = \"text-align: right;\">0.995379</td><td style = \"text-align: right;\">-4.82231e-21</td><td style = \"text-align: right;\">-0.0136708</td><td style = \"text-align: right;\">0.0414753</td><td style = \"text-align: right;\">-5.25646e-22</td><td style = \"text-align: right;\">1.01762</td><td style = \"text-align: right;\">388.821</td><td style = \"text-align: right;\">-0.0143727</td><td style = \"text-align: right;\">0.0</td><td style = \"text-align: right;\">7.99321</td><td style = \"text-align: right;\">-13.4007</td><td style = \"text-align: right;\">0.0</td><td style = \"text-align: right;\">1.03253</td><td style = \"text-align: right;\">388.821</td><td style = \"text-align: right;\">-0.0143727</td><td style = \"text-align: right;\">1.15655e-23</td><td style = \"text-align: right;\">7.99321</td><td style = \"text-align: right;\">-13.4007</td><td style = \"text-align: right;\">2.66139e-19</td><td style = \"text-align: right;\">1.03253</td><td style = \"text-align: right;\">15.5697</td><td style = \"text-align: right;\">15.5697</td><td style = \"text-align: right;\">0.0</td></tr></tbody></table></div>"
      ],
      "text/latex": [
       "\\begin{tabular}{r|cccccccccc}\n",
       "\t& id & phi0 & epsr & epsv & thetasf & rp\\_kep & ra\\_kep & alpha & ra & \\\\\n",
       "\t\\hline\n",
       "\t& Float64 & Float64 & Float64 & Float64 & Float64 & Float64 & Float64 & Float64 & Float64 & \\\\\n",
       "\t\\hline\n",
       "\t21 & 21.0 & 0.397935 & 1.0e-5 & 1.0e-5 & 5.44543 & 0.00808627 & 2.2964 & -2.60377 & 2.84033 & $\\dots$ \\\\\n",
       "\\end{tabular}\n"
      ],
      "text/plain": [
       "\u001b[1mDataFrameRow\u001b[0m\n",
       "\u001b[1m Row \u001b[0m│\u001b[1m id      \u001b[0m\u001b[1m phi0     \u001b[0m\u001b[1m epsr    \u001b[0m\u001b[1m epsv    \u001b[0m\u001b[1m thetasf \u001b[0m\u001b[1m rp_kep     \u001b[0m\u001b[1m ra_kep  \u001b[0m\u001b[1m alph\u001b[0m ⋯\n",
       "     │\u001b[90m Float64 \u001b[0m\u001b[90m Float64  \u001b[0m\u001b[90m Float64 \u001b[0m\u001b[90m Float64 \u001b[0m\u001b[90m Float64 \u001b[0m\u001b[90m Float64    \u001b[0m\u001b[90m Float64 \u001b[0m\u001b[90m Floa\u001b[0m ⋯\n",
       "─────┼──────────────────────────────────────────────────────────────────────────\n",
       "  21 │    21.0  0.397935   1.0e-5   1.0e-5  5.44543  0.00808627   2.2964  -2.6 ⋯\n",
       "\u001b[36m                                                              35 columns omitted\u001b[0m"
      ]
     },
     "execution_count": 13,
     "metadata": {},
     "output_type": "execute_result"
    }
   ],
   "source": [
    "### PARAMETERS ###################################\n",
    "# csv file to load the initial solution\n",
    "filename = \"../run/data/grid_search_Tsit5_0525_EMrotThrust.csv\"\n",
    "# dv_dir function corresponding to the csv file \n",
    "dir_func = SailorMoon.dv_EMrotdir_sb1frame \n",
    "\n",
    "# parameters\n",
    "param3b = SailorMoon.dynamics_parameters()\n",
    "paramMulti = SailorMoon.multi_shoot_parameters(param3b)\n",
    "\n",
    "n_arc = 5\n",
    "##################################################\n",
    "\n",
    "if dir_func == SailorMoon.dv_no_thrust\n",
    "    τ_ig = 0.0\n",
    "else \n",
    "    τ_ig = 1.0\n",
    "end\n",
    "\n",
    "# load initial guess\n",
    "df = DataFrame(CSV.File(filename))\n",
    "\n",
    "# maybe want to use \"for row in eachrow(df)\" to automate the process...? \n",
    "row = df[21,:]\n"
   ]
  },
  {
   "cell_type": "code",
   "execution_count": 14,
   "metadata": {},
   "outputs": [],
   "source": [
    "x0, lx, ux = SailorMoon.make_ig_bounds2(row, τ_ig, paramMulti.n_arc)\n",
    "fitness!, ng, lg, ug, eval_sft = SailorMoon.get_fitness2(dir_func, paramMulti, x0);"
   ]
  },
  {
   "cell_type": "code",
   "execution_count": 15,
   "metadata": {},
   "outputs": [
    {
     "name": "stdout",
     "output_type": "stream",
     "text": [
      "  8.774542 seconds (24.93 M allocations: 1.360 GiB, 4.00% gc time, 8.68% compilation time)\n"
     ]
    },
    {
     "data": {
      "text/plain": [
       "16×4 Matrix{Float64}:\n",
       " 43978.8          70345.4          70318.4          70363.9\n",
       "  6013.49          9287.74          9283.87          9289.8\n",
       "     7.34631e-17      1.28605e-16      1.28561e-16      1.28644e-16\n",
       " 23654.9          37785.4          37770.8          37795.2\n",
       "  2195.48          3473.8           3472.43          3474.66\n",
       "     6.33315e-18      1.11557e-17      1.11519e-17      1.11592e-17\n",
       "     5.55112e-9      -1.55431e-8      -8.88178e-9       4.44089e-9\n",
       "     0.0              0.0              0.0              0.0\n",
       "     0.0              0.0              0.0              0.0\n",
       "     0.0              0.0              0.0              0.0\n",
       "     0.0              0.0              0.0              0.0\n",
       "     0.0              0.0              0.0              0.0\n",
       "     0.0              0.0              0.0              0.0\n",
       "     0.0              0.0              0.0              0.0\n",
       "    -0.858825        -1.37109         -1.37109         -1.37109\n",
       "     7.99321         -5.40749         -5.41444         -5.41858"
      ]
     },
     "execution_count": 15,
     "metadata": {},
     "output_type": "execute_result"
    }
   ],
   "source": [
    "xvar = vcat(x0[1:2], x0[4:5])\n",
    "@time DF = SailorMoon.get_jacobian2(eval_sft, x0, xvar, ng)"
   ]
  },
  {
   "cell_type": "code",
   "execution_count": 16,
   "metadata": {},
   "outputs": [
    {
     "ename": "LoadError",
     "evalue": "SingularException(8)",
     "output_type": "error",
     "traceback": [
      "SingularException(8)",
      "",
      "Stacktrace:",
      " [1] checknonsingular",
      "   @ C:\\buildbot\\worker\\package_win64\\build\\usr\\share\\julia\\stdlib\\v1.6\\LinearAlgebra\\src\\factorization.jl:19 [inlined]",
      " [2] checknonsingular",
      "   @ C:\\buildbot\\worker\\package_win64\\build\\usr\\share\\julia\\stdlib\\v1.6\\LinearAlgebra\\src\\factorization.jl:21 [inlined]",
      " [3] #lu!#136",
      "   @ C:\\buildbot\\worker\\package_win64\\build\\usr\\share\\julia\\stdlib\\v1.6\\LinearAlgebra\\src\\lu.jl:85 [inlined]",
      " [4] #lu#140",
      "   @ C:\\buildbot\\worker\\package_win64\\build\\usr\\share\\julia\\stdlib\\v1.6\\LinearAlgebra\\src\\lu.jl:273 [inlined]",
      " [5] lu (repeats 2 times)",
      "   @ C:\\buildbot\\worker\\package_win64\\build\\usr\\share\\julia\\stdlib\\v1.6\\LinearAlgebra\\src\\lu.jl:272 [inlined]",
      " [6] inv(A::Matrix{Float64})",
      "   @ LinearAlgebra C:\\buildbot\\worker\\package_win64\\build\\usr\\share\\julia\\stdlib\\v1.6\\LinearAlgebra\\src\\dense.jl:815",
      " [7] top-level scope",
      "   @ .\\timing.jl:210 [inlined]",
      " [8] top-level scope",
      "   @ .\\In[16]:0"
     ]
    }
   ],
   "source": [
    "@time inv(DF*transpose(DF))"
   ]
  },
  {
   "cell_type": "code",
   "execution_count": 7,
   "metadata": {},
   "outputs": [
    {
     "ename": "LoadError",
     "evalue": "LAPACKException(1)",
     "output_type": "error",
     "traceback": [
      "LAPACKException(1)",
      "",
      "Stacktrace:",
      " [1] chklapackerror(ret::Int64)",
      "   @ LinearAlgebra.LAPACK C:\\buildbot\\worker\\package_win64\\build\\usr\\share\\julia\\stdlib\\v1.6\\LinearAlgebra\\src\\lapack.jl:38",
      " [2] trtrs!(uplo::Char, trans::Char, diag::Char, A::Matrix{Float64}, B::Matrix{Float64})",
      "   @ LinearAlgebra.LAPACK C:\\buildbot\\worker\\package_win64\\build\\usr\\share\\julia\\stdlib\\v1.6\\LinearAlgebra\\src\\lapack.jl:3426",
      " [3] ldiv!",
      "   @ C:\\buildbot\\worker\\package_win64\\build\\usr\\share\\julia\\stdlib\\v1.6\\LinearAlgebra\\src\\triangular.jl:739 [inlined]",
      " [4] inv(A::UpperTriangular{Float64, Matrix{Float64}})",
      "   @ LinearAlgebra C:\\buildbot\\worker\\package_win64\\build\\usr\\share\\julia\\stdlib\\v1.6\\LinearAlgebra\\src\\triangular.jl:821",
      " [5] inv(A::Matrix{Float64})",
      "   @ LinearAlgebra C:\\buildbot\\worker\\package_win64\\build\\usr\\share\\julia\\stdlib\\v1.6\\LinearAlgebra\\src\\dense.jl:811",
      " [6] newton_update(x::Vector{Float64}, f::Vector{Float64}, DF::Matrix{Float64})",
      "   @ Main.SailorMoon C:\\Users\\yujit\\Documents\\github\\SailorMoon.jl\\src\\newton_method.jl:74",
      " [7] top-level scope",
      "   @ .\\timing.jl:210 [inlined]",
      " [8] top-level scope",
      "   @ .\\In[7]:0"
     ]
    }
   ],
   "source": [
    "@time x_iter = SailorMoon.newton_update(xvar, eval_sft(x0), DF)"
   ]
  },
  {
   "cell_type": "code",
   "execution_count": 17,
   "metadata": {},
   "outputs": [
    {
     "data": {
      "text/plain": [
       "4×4 Matrix{Float64}:\n",
       " 2.53468e9  4.051e9    4.04944e9  4.05206e9\n",
       " 4.051e9    6.47455e9  6.47205e9  6.47624e9\n",
       " 4.04944e9  6.47205e9  6.46955e9  6.47374e9\n",
       " 4.05206e9  6.47624e9  6.47374e9  6.47793e9"
      ]
     },
     "execution_count": 17,
     "metadata": {},
     "output_type": "execute_result"
    }
   ],
   "source": [
    "transpose(DF)*DF"
   ]
  },
  {
   "cell_type": "code",
   "execution_count": null,
   "metadata": {},
   "outputs": [],
   "source": []
  },
  {
   "cell_type": "code",
   "execution_count": null,
   "metadata": {},
   "outputs": [],
   "source": []
  },
  {
   "cell_type": "code",
   "execution_count": null,
   "metadata": {},
   "outputs": [
    {
     "name": "stdout",
     "output_type": "stream",
     "text": [
      "iter #"
     ]
    }
   ],
   "source": [
    "xs, fs, converged = SailorMoon.differential_correction2(x0, eval_sft)"
   ]
  },
  {
   "cell_type": "code",
   "execution_count": null,
   "metadata": {},
   "outputs": [],
   "source": []
  },
  {
   "cell_type": "code",
   "execution_count": null,
   "metadata": {},
   "outputs": [],
   "source": []
  },
  {
   "cell_type": "code",
   "execution_count": null,
   "metadata": {},
   "outputs": [],
   "source": []
  },
  {
   "cell_type": "code",
   "execution_count": null,
   "metadata": {},
   "outputs": [],
   "source": []
  },
  {
   "cell_type": "code",
   "execution_count": null,
   "metadata": {},
   "outputs": [],
   "source": []
  },
  {
   "cell_type": "code",
   "execution_count": null,
   "metadata": {},
   "outputs": [],
   "source": []
  },
  {
   "cell_type": "code",
   "execution_count": null,
   "metadata": {},
   "outputs": [],
   "source": []
  },
  {
   "cell_type": "code",
   "execution_count": null,
   "metadata": {},
   "outputs": [],
   "source": []
  },
  {
   "cell_type": "code",
   "execution_count": null,
   "metadata": {},
   "outputs": [],
   "source": []
  }
 ],
 "metadata": {
  "kernelspec": {
   "display_name": "Julia 1.6.7",
   "language": "julia",
   "name": "julia-1.6"
  },
  "language_info": {
   "file_extension": ".jl",
   "mimetype": "application/julia",
   "name": "julia",
   "version": "1.6.7"
  }
 },
 "nbformat": 4,
 "nbformat_minor": 2
}
