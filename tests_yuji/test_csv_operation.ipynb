{
 "cells": [
  {
   "cell_type": "code",
   "execution_count": 22,
   "metadata": {},
   "outputs": [],
   "source": [
    "using CSV\n",
    "using DataFrames"
   ]
  },
  {
   "cell_type": "code",
   "execution_count": null,
   "metadata": {},
   "outputs": [],
   "source": []
  },
  {
   "cell_type": "code",
   "execution_count": 28,
   "metadata": {},
   "outputs": [
    {
     "data": {
      "text/html": [
       "<div><div style = \"float: left;\"><span>1×35 DataFrame</span></div><div style = \"clear: both;\"></div></div><div class = \"data-frame\" style = \"overflow-x: scroll;\"><table class = \"data-frame\" style = \"margin-bottom: 6px;\"><thead><tr class = \"header\"><th class = \"rowNumber\" style = \"font-weight: bold; text-align: right;\">Row</th><th style = \"text-align: left;\">id</th><th style = \"text-align: left;\">phi0</th><th style = \"text-align: left;\">epsr</th><th style = \"text-align: left;\">epsv</th><th style = \"text-align: left;\">thetaf</th><th style = \"text-align: left;\">rp_kep</th><th style = \"text-align: left;\">ra_kep</th><th style = \"text-align: left;\">alpha</th><th style = \"text-align: left;\">ra</th><th style = \"text-align: left;\">dt1</th><th style = \"text-align: left;\">dt2</th><th style = \"text-align: left;\">x_ini</th><th style = \"text-align: left;\">y_ini</th><th style = \"text-align: left;\">z_ini</th><th style = \"text-align: left;\">xdot_ini</th><th style = \"text-align: left;\">ydot_ini</th><th style = \"text-align: left;\">zdot_ini</th><th style = \"text-align: left;\">m_ini</th><th style = \"text-align: left;\">x_ra</th><th style = \"text-align: left;\">y_ra</th><th style = \"text-align: left;\">z_ra</th><th style = \"text-align: left;\">xdot_ra</th><th style = \"text-align: left;\">ydot_ra</th><th style = \"text-align: left;\">zdot_ra</th><th style = \"text-align: left;\">m_ra</th><th style = \"text-align: left;\">x_rp</th><th style = \"text-align: left;\">y_rp</th><th style = \"text-align: left;\">z_rp</th><th style = \"text-align: left;\">xdot_rp</th><th style = \"text-align: left;\">ydot_rp</th><th style = \"text-align: left;\">zdot_rp</th><th style = \"text-align: left;\">m_rp</th><th style = \"text-align: left;\">tof</th><th style = \"text-align: left;\">m0</th><th style = \"text-align: left;\">lfb</th></tr><tr class = \"subheader headerLastRow\"><th class = \"rowNumber\" style = \"font-weight: bold; text-align: right;\"></th><th title = \"Float64\" style = \"text-align: left;\">Float64</th><th title = \"Float64\" style = \"text-align: left;\">Float64</th><th title = \"Float64\" style = \"text-align: left;\">Float64</th><th title = \"Float64\" style = \"text-align: left;\">Float64</th><th title = \"Float64\" style = \"text-align: left;\">Float64</th><th title = \"Float64\" style = \"text-align: left;\">Float64</th><th title = \"Float64\" style = \"text-align: left;\">Float64</th><th title = \"Float64\" style = \"text-align: left;\">Float64</th><th title = \"Float64\" style = \"text-align: left;\">Float64</th><th title = \"Float64\" style = \"text-align: left;\">Float64</th><th title = \"Float64\" style = \"text-align: left;\">Float64</th><th title = \"Float64\" style = \"text-align: left;\">Float64</th><th title = \"Float64\" style = \"text-align: left;\">Float64</th><th title = \"Float64\" style = \"text-align: left;\">Float64</th><th title = \"Float64\" style = \"text-align: left;\">Float64</th><th title = \"Float64\" style = \"text-align: left;\">Float64</th><th title = \"Float64\" style = \"text-align: left;\">Float64</th><th title = \"Float64\" style = \"text-align: left;\">Float64</th><th title = \"Float64\" style = \"text-align: left;\">Float64</th><th title = \"Float64\" style = \"text-align: left;\">Float64</th><th title = \"Float64\" style = \"text-align: left;\">Float64</th><th title = \"Float64\" style = \"text-align: left;\">Float64</th><th title = \"Float64\" style = \"text-align: left;\">Float64</th><th title = \"Float64\" style = \"text-align: left;\">Float64</th><th title = \"Float64\" style = \"text-align: left;\">Float64</th><th title = \"Float64\" style = \"text-align: left;\">Float64</th><th title = \"Float64\" style = \"text-align: left;\">Float64</th><th title = \"Float64\" style = \"text-align: left;\">Float64</th><th title = \"Float64\" style = \"text-align: left;\">Float64</th><th title = \"Float64\" style = \"text-align: left;\">Float64</th><th title = \"Float64\" style = \"text-align: left;\">Float64</th><th title = \"Float64\" style = \"text-align: left;\">Float64</th><th title = \"Float64\" style = \"text-align: left;\">Float64</th><th title = \"Float64\" style = \"text-align: left;\">Float64</th><th title = \"Float64\" style = \"text-align: left;\">Float64</th></tr></thead><tbody><tr><td class = \"rowNumber\" style = \"font-weight: bold; text-align: right;\">1</td><td style = \"text-align: right;\">1.0</td><td style = \"text-align: right;\">0.0</td><td style = \"text-align: right;\">1.0e-6</td><td style = \"text-align: right;\">1.0e-6</td><td style = \"text-align: right;\">3.14159</td><td style = \"text-align: right;\">0.0278351</td><td style = \"text-align: right;\">5.35711</td><td style = \"text-align: right;\">-0.703712</td><td style = \"text-align: right;\">4.22927</td><td style = \"text-align: right;\">13.935</td><td style = \"text-align: right;\">9.39412</td><td style = \"text-align: right;\">389.944</td><td style = \"text-align: right;\">2.79381e-7</td><td style = \"text-align: right;\">5.60038e-23</td><td style = \"text-align: right;\">-1.0295e-6</td><td style = \"text-align: right;\">1.20381</td><td style = \"text-align: right;\">3.76122e-31</td><td style = \"text-align: right;\">1.0</td><td style = \"text-align: right;\">387.5</td><td style = \"text-align: right;\">4.02539</td><td style = \"text-align: right;\">6.78918e-23</td><td style = \"text-align: right;\">0.100767</td><td style = \"text-align: right;\">0.0328364</td><td style = \"text-align: right;\">2.42788e-23</td><td style = \"text-align: right;\">1.13283</td><td style = \"text-align: right;\">388.854</td><td style = \"text-align: right;\">-0.0131865</td><td style = \"text-align: right;\">0.0</td><td style = \"text-align: right;\">5.43966</td><td style = \"text-align: right;\">6.40483</td><td style = \"text-align: right;\">0.0</td><td style = \"text-align: right;\">1.0</td><td style = \"text-align: right;\">23.3291</td><td style = \"text-align: right;\">1.22235</td><td style = \"text-align: right;\">0.0</td></tr></tbody></table></div>"
      ],
      "text/latex": [
       "\\begin{tabular}{r|cccccccccc}\n",
       "\t& id & phi0 & epsr & epsv & thetaf & rp\\_kep & ra\\_kep & alpha & ra & \\\\\n",
       "\t\\hline\n",
       "\t& Float64 & Float64 & Float64 & Float64 & Float64 & Float64 & Float64 & Float64 & Float64 & \\\\\n",
       "\t\\hline\n",
       "\t1 & 1.0 & 0.0 & 1.0e-6 & 1.0e-6 & 3.14159 & 0.0278351 & 5.35711 & -0.703712 & 4.22927 & $\\dots$ \\\\\n",
       "\\end{tabular}\n"
      ],
      "text/plain": [
       "\u001b[1m1×35 DataFrame\u001b[0m\n",
       "\u001b[1m Row \u001b[0m│\u001b[1m id      \u001b[0m\u001b[1m phi0    \u001b[0m\u001b[1m epsr    \u001b[0m\u001b[1m epsv    \u001b[0m\u001b[1m thetaf  \u001b[0m\u001b[1m rp_kep    \u001b[0m\u001b[1m ra_kep  \u001b[0m\u001b[1m alpha \u001b[0m ⋯\n",
       "     │\u001b[90m Float64 \u001b[0m\u001b[90m Float64 \u001b[0m\u001b[90m Float64 \u001b[0m\u001b[90m Float64 \u001b[0m\u001b[90m Float64 \u001b[0m\u001b[90m Float64   \u001b[0m\u001b[90m Float64 \u001b[0m\u001b[90m Float6\u001b[0m ⋯\n",
       "─────┼──────────────────────────────────────────────────────────────────────────\n",
       "   1 │     1.0      0.0   1.0e-6   1.0e-6  3.14159  0.0278351  5.35711  -0.703 ⋯\n",
       "\u001b[36m                                                              28 columns omitted\u001b[0m"
      ]
     },
     "execution_count": 28,
     "metadata": {},
     "output_type": "execute_result"
    }
   ],
   "source": [
    "df = DataFrame(CSV.File(\"grid_search1129.csv\"))"
   ]
  },
  {
   "cell_type": "code",
   "execution_count": 29,
   "metadata": {},
   "outputs": [
    {
     "data": {
      "text/plain": [
       "1-element Vector{Float64}:\n",
       " 4.0253946191092815"
      ]
     },
     "execution_count": 29,
     "metadata": {},
     "output_type": "execute_result"
    }
   ],
   "source": [
    "df.y_ra"
   ]
  },
  {
   "cell_type": "code",
   "execution_count": 25,
   "metadata": {},
   "outputs": [
    {
     "data": {
      "text/plain": [
       "0.0"
      ]
     },
     "execution_count": 25,
     "metadata": {},
     "output_type": "execute_result"
    }
   ],
   "source": [
    "df.phi0[1]"
   ]
  },
  {
   "cell_type": "code",
   "execution_count": 26,
   "metadata": {},
   "outputs": [
    {
     "data": {
      "text/plain": [
       "1"
      ]
     },
     "execution_count": 26,
     "metadata": {},
     "output_type": "execute_result"
    }
   ],
   "source": [
    "size(df)[1]"
   ]
  },
  {
   "cell_type": "code",
   "execution_count": 6,
   "metadata": {},
   "outputs": [
    {
     "name": "stdout",
     "output_type": "stream",
     "text": [
      "kljds\n"
     ]
    }
   ],
   "source": [
    "for row in eachrow(df)\n",
    "    println(\"kljds\")\n",
    "end"
   ]
  },
  {
   "cell_type": "code",
   "execution_count": 31,
   "metadata": {},
   "outputs": [
    {
     "data": {
      "text/plain": [
       "387.5004415234835"
      ]
     },
     "execution_count": 31,
     "metadata": {},
     "output_type": "execute_result"
    }
   ],
   "source": [
    "df[1,:].x_ra"
   ]
  },
  {
   "cell_type": "code",
   "execution_count": 21,
   "metadata": {},
   "outputs": [
    {
     "ename": "LoadError",
     "evalue": "MethodError: no method matching parse(::Type{Vector{Float64}}, ::String)\n\u001b[0mClosest candidates are:\n\u001b[0m  parse(\u001b[91m::Type{T}\u001b[39m, ::AbstractString) where T<:Complex at parse.jl:381\n\u001b[0m  parse(\u001b[91m::Type{T}\u001b[39m, ::AbstractString; base) where T<:Integer at parse.jl:240\n\u001b[0m  parse(\u001b[91m::Type{P}\u001b[39m, ::AbstractString; kwargs...) where P<:FilePathsBase.AbstractPath at C:\\Users\\yujit\\.julia\\packages\\FilePathsBase\\9kSEl\\src\\path.jl:77\n\u001b[0m  ...",
     "output_type": "error",
     "traceback": [
      "MethodError: no method matching parse(::Type{Vector{Float64}}, ::String)\n\u001b[0mClosest candidates are:\n\u001b[0m  parse(\u001b[91m::Type{T}\u001b[39m, ::AbstractString) where T<:Complex at parse.jl:381\n\u001b[0m  parse(\u001b[91m::Type{T}\u001b[39m, ::AbstractString; base) where T<:Integer at parse.jl:240\n\u001b[0m  parse(\u001b[91m::Type{P}\u001b[39m, ::AbstractString; kwargs...) where P<:FilePathsBase.AbstractPath at C:\\Users\\yujit\\.julia\\packages\\FilePathsBase\\9kSEl\\src\\path.jl:77\n\u001b[0m  ...",
      "",
      "Stacktrace:",
      " [1] _broadcast_getindex_evalf",
      "   @ .\\broadcast.jl:648 [inlined]",
      " [2] _broadcast_getindex",
      "   @ .\\broadcast.jl:631 [inlined]",
      " [3] getindex",
      "   @ .\\broadcast.jl:575 [inlined]",
      " [4] copy",
      "   @ .\\broadcast.jl:898 [inlined]",
      " [5] materialize(bc::Base.Broadcast.Broadcasted{Base.Broadcast.DefaultArrayStyle{0}, Nothing, typeof(parse), Tuple{Base.RefValue{Type{Vector{Float64}}}, Base.RefValue{String}}})",
      "   @ Base.Broadcast .\\broadcast.jl:883",
      " [6] top-level scope",
      "   @ In[21]:1",
      " [7] eval",
      "   @ .\\boot.jl:360 [inlined]",
      " [8] include_string(mapexpr::typeof(REPL.softscope), mod::Module, code::String, filename::String)",
      "   @ Base .\\loading.jl:1116"
     ]
    }
   ],
   "source": [
    "parse.(Vector{Float64}, df.x_ra[1])\n"
   ]
  },
  {
   "cell_type": "code",
   "execution_count": 1,
   "metadata": {},
   "outputs": [
    {
     "data": {
      "text/plain": [
       "2-element Vector{Float64}:\n",
       " 2.0\n",
       " 1.0"
      ]
     },
     "execution_count": 1,
     "metadata": {},
     "output_type": "execute_result"
    }
   ],
   "source": [
    "a = [2.0; 1.0]"
   ]
  },
  {
   "cell_type": "code",
   "execution_count": 3,
   "metadata": {},
   "outputs": [
    {
     "data": {
      "text/plain": [
       "2-element Vector{Float64}:\n",
       " 2.0\n",
       " 1.0"
      ]
     },
     "execution_count": 3,
     "metadata": {},
     "output_type": "execute_result"
    }
   ],
   "source": [
    "b = [2.0, 1.0]"
   ]
  },
  {
   "cell_type": "code",
   "execution_count": 4,
   "metadata": {},
   "outputs": [
    {
     "data": {
      "text/plain": [
       "true"
      ]
     },
     "execution_count": 4,
     "metadata": {},
     "output_type": "execute_result"
    }
   ],
   "source": [
    "a == b\n",
    "\n",
    "\n"
   ]
  }
 ],
 "metadata": {
  "kernelspec": {
   "display_name": "Julia 1.6.7",
   "language": "julia",
   "name": "julia-1.6"
  },
  "language_info": {
   "file_extension": ".jl",
   "mimetype": "application/julia",
   "name": "julia",
   "version": "1.6.7"
  }
 },
 "nbformat": 4,
 "nbformat_minor": 2
}
