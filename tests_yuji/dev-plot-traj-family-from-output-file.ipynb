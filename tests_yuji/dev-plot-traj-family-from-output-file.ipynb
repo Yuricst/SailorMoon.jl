{
 "cells": [
  {
   "cell_type": "code",
   "execution_count": null,
   "metadata": {},
   "outputs": [],
   "source": [
    "using DifferentialEquations\n",
    "using Plots\n",
    "using LinearAlgebra\n",
    "import ForwardDiff\n",
    "import DiffResults\n",
    "using AstrodynamicsBase\n",
    "using Printf\n",
    "using JSON\n",
    "using CSV\n",
    "using DataFrames\n",
    "using ColorSchemes\n",
    "using LaTeXStrings"
   ]
  },
  {
   "cell_type": "code",
   "execution_count": null,
   "metadata": {},
   "outputs": [],
   "source": [
    "include(\"../src/SailorMoon.jl\")   # relative path to main file of module\n",
    "param3b = SailorMoon.dynamics_parameters()\n",
    "paramMulti = SailorMoon.multi_shoot_parameters(param3b)\n",
    "plotly()\n",
    "fs = 16\n"
   ]
  },
  {
   "cell_type": "code",
   "execution_count": null,
   "metadata": {},
   "outputs": [],
   "source": [
    "function plot_circle(radius, x, y, n=100)\n",
    "    circle = zeros(2,n)\n",
    "    thetas = LinRange(0.0, 2π, n)\n",
    "    for i = 1:n\n",
    "        circle[1,i] = radius*cos(thetas[i]) + x\n",
    "        circle[2,i] = radius*sin(thetas[i]) + y\n",
    "    end\n",
    "    return circle\n",
    "end"
   ]
  },
  {
   "cell_type": "code",
   "execution_count": null,
   "metadata": {},
   "outputs": [],
   "source": [
    "moon     = plot_circle((1-param3b.mu2)*param3b.lstar, 0.0, 0.0)\n",
    "earth    = plot_circle(param3b.mu2*param3b.lstar, 0.0, 0.0)\n",
    "earth_ub = plot_circle(param3b.mu2*param3b.lstar+6375,0.0, 0.0)\n",
    "earth_lb = plot_circle(param3b.mu2*param3b.lstar-6375, 0.0, 0.0)\n",
    "moon_soi_outer = plot_circle((1-param3b.mu2)*param3b.lstar+66000, 0.0, 0.0);"
   ]
  },
  {
   "cell_type": "code",
   "execution_count": null,
   "metadata": {},
   "outputs": [],
   "source": [
    "function interpolatecolor(cs,value, vmin, vmax)\n",
    "    cs = cgrad(cs)\n",
    "    color = cs[(value - vmin) / (vmax - vmin)]\n",
    "    return color\n",
    "end"
   ]
  },
  {
   "cell_type": "code",
   "execution_count": null,
   "metadata": {},
   "outputs": [],
   "source": [
    "### PARAMETERS ###################################\n",
    "# csv file to load the initial solution\n",
    "filename = \"../run/data/opt_0619_EMrotThrust.csv\"\n",
    "# dv_dir function corresponding to the csv file \n",
    "dir_func = SailorMoon.dv_EMrotdir_sb1frame \n",
    "\n",
    "n_arc = 5\n",
    "\n",
    "cs = :lightrainbow \n",
    "##################################################\n",
    "\n",
    "if dir_func == SailorMoon.dv_no_thrust\n",
    "    τ_ig = 0.0\n",
    "else \n",
    "    τ_ig = 1.0\n",
    "end\n",
    "\n",
    "# load initial guess\n",
    "df = CSV.read(filename, DataFrame; header=0);\n",
    "df = df[end-1:end,:]\n",
    "\n",
    "arcs_color = Dict(\n",
    "    \"xlr_bck_arc\" => :blue, \n",
    "    \"xlr_fwd_arc\" => :blue,\n",
    "    \"mid_bck_arc\" => :blue, \n",
    "    \"mid_fwd_arc\" => :blue, \n",
    "    \"lpo_arc\" => :blue\n",
    ")\n",
    "\n",
    "\n",
    "pcart = plot(\n",
    "    size=(700,500), frame_style=:box, aspect_ratio=:equal, grid=0.4, legend=false, \n",
    "    xlabel=L\"x, \\times10^6\\textrm{km}\", ylabel=L\"y, \\times10^6\\textrm{km}\",\n",
    "    colorbar_titlefontsize=fs,\n",
    "    fontsize=fs, xlabelfontsize=fs, ylabelfontsize=fs, xtickfontsize=fs-1, ytickfontsize=fs-1, legendfontsize=fs-1\n",
    ");\n",
    "\n",
    "p_time = plot(\n",
    "    size=(700,500), frame_style=:box, grid=0.4, legend=false, \n",
    "    xlabel=L\"time, s\", ylabel=L\"value\",\n",
    "    colorbar_titlefontsize=fs,\n",
    "    fontsize=fs, xlabelfontsize=fs, ylabelfontsize=fs, xtickfontsize=fs-1, ytickfontsize=fs-1, legendfontsize=fs-1\n",
    ");"
   ]
  },
  {
   "cell_type": "code",
   "execution_count": null,
   "metadata": {},
   "outputs": [],
   "source": [
    "\n",
    "tofs= [row[1] for row in eachrow( df ) ] \n",
    "tof_max = maximum(tofs)\n",
    "tof_min = minimum(tofs)\n",
    "\n",
    "tof_max_days = tof_max * param3b.tstar / (24*60*60)\n",
    "tof_min_days = tof_min * param3b.tstar / (24*60*60)\n",
    "\n",
    "if size(df, 1) > 5\n",
    "    colors = [interpolatecolor(cs, row[1], tof_min, tof_max) for row in eachrow(df)]\n",
    "else \n",
    "    colors = [:blue, :red, :green, :magenta, :purple]\n",
    "end\n",
    "\n",
    "\n",
    "\n",
    "\n",
    "for (i, row) in enumerate( eachrow( df ) ) \n",
    "#     println(i)\n",
    "    x = collect(values(row[4:end]))\n",
    "    color = colors[i]\n",
    "    res, sol_param_list, sols_ballistic, tofs = SailorMoon.multishoot_trajectory2(x, dir_func, paramMulti, true, false)\n",
    "    println(\"res; \", res)\n",
    "        \n",
    "    # ballistic legs\n",
    "    for sol_ballistic in sols_ballistic\n",
    "#         println(sol_ballistic)\n",
    "        \n",
    "        if i == 1\n",
    "#             println(length(sol[7,:]))\n",
    "#             println(sol[7,:])\n",
    "#             println(sol.t)\n",
    "            scatter!(p_time, sol_ballistic.t[:],  sol_ballistic[7,:])\n",
    "        end\n",
    "   \n",
    "         plot!(pcart, (hcat(sol_ballistic.u...)[1,:].- param3b.as) .* param3b.lstar, \n",
    "                        hcat(sol_ballistic.u...)[2,:].*param3b.lstar, c=color, label=false)\n",
    "#         plot!(pcart, (hcat(sol_ballistic.u...)[1,:].- param3b.as) .* param3b.lstar, \n",
    "#                         hcat(sol_ballistic.u...)[2,:].*param3b.lstar, c=:blue, label=false)    \n",
    "    end\n",
    "    \n",
    "    for j = 1:length(sol_param_list)\n",
    "        sol, _, name = sol_param_list[j]\n",
    "        \n",
    "        if i == 1\n",
    "#             println(length(sol[7,:]))\n",
    "#             println(sol[7,:])\n",
    "#             println(sol.t)\n",
    "            scatter!(p_time, sol.t[:],  sol[7,:])\n",
    "        end\n",
    "        \n",
    "        plot!(pcart, (sol[1,:] .- param3b.as) .* param3b.lstar , sol[2,:].*param3b.lstar, c=color)\n",
    "#         plot!(pcart, (sol[1,:] .- param3b.as) .* param3b.lstar , sol[2,:].*param3b.lstar, c=:blue)\n",
    "\n",
    "#         plot!(pcart, sol[1,:], sol[2,:], c=color)\n",
    "#         scatter!(pcart, [sol[1,1],sol[1,end]], [sol[2,1],sol[2,end]], label=false, c=arcs_color[name], marker=:circle)\n",
    "    end\n",
    "    \n",
    "end\n",
    "\n",
    "\n",
    "plot!(pcart, earth[1,:], earth[2,:], c=:green, lw=1.0, label=\"earth\")\n",
    "plot!(pcart, earth_ub[1,:], earth_ub[2,:], c=:black, lw=1.0, label=\"earth\")\n",
    "plot!(pcart, earth_lb[1,:], earth_lb[2,:], c=:black, lw=1.0, label=\"earth\")\n",
    "plot!(pcart, moon[1,:], moon[2,:], c=:orange, lw=1.0, label=\"moon\")\n",
    "plot!(pcart, moon_soi_outer[1,:], moon_soi_outer[2,:], c=:black, lw=1.0, label=\"moon_soi_outer\",\n",
    "    xaxis=(formatter=x->string(round(x / 10^6; digits=2))),\n",
    "    yaxis=(formatter=y->string(round(y / 10^6; digits=1))),\n",
    ")\n",
    "\n",
    "pcart"
   ]
  },
  {
   "cell_type": "code",
   "execution_count": null,
   "metadata": {},
   "outputs": [],
   "source": [
    "plot!(p_time; xlims=[0, 15], ylims=[0.99,1.05])\n"
   ]
  },
  {
   "cell_type": "code",
   "execution_count": null,
   "metadata": {},
   "outputs": [],
   "source": []
  },
  {
   "cell_type": "markdown",
   "metadata": {},
   "source": [
    "### Focus on the vicinity to the Earth "
   ]
  },
  {
   "cell_type": "code",
   "execution_count": null,
   "metadata": {},
   "outputs": [],
   "source": [
    "plot!(pcart; xlims=[-0.05, 0.05].*10^6, ylims=[-0.05,0.05].*10^6)\n"
   ]
  },
  {
   "cell_type": "code",
   "execution_count": null,
   "metadata": {},
   "outputs": [],
   "source": [
    "l = @layout [a{0.92w} b{0.03w}]\n",
    "\n",
    "p2 = heatmap(rand(2,2), clims=(tof_min_days, tof_max_days),\n",
    "    framestyle=:none, c=cs, cbar=true, lims=(-1,0), colorbar_title=\"\\nToF, days\",\n",
    "    colorbar_titlefontsize=fs,\n",
    "    colorbar_tickfontsize=fs-1,\n",
    "    fontsize=fs, xlabelfontsize=fs, ylabelfontsize=fs, xtickfontsize=fs-1, ytickfontsize=fs-1, legendfontsize=fs-1,\n",
    "    thickness_scaling = 1.6,\n",
    "    )\n",
    "\n",
    "plot(pcart, p2, layout=l, size=(900,500), \n",
    "#     top_margin=5Plots.mm,\n",
    "#     right_margin=5Plots.mm,\n",
    "#     left_margin=5Plots.mm, \n",
    "    bottom_margin=5Plots.mm, \n",
    "#     title=[\"No thrust\" \"Earth-Moon rotating thrust\" \"\"]\n",
    "    )\n",
    "\n",
    "savefig(\"traj_family.png\")\n"
   ]
  },
  {
   "cell_type": "code",
   "execution_count": null,
   "metadata": {},
   "outputs": [],
   "source": []
  },
  {
   "cell_type": "code",
   "execution_count": null,
   "metadata": {},
   "outputs": [],
   "source": []
  },
  {
   "cell_type": "code",
   "execution_count": null,
   "metadata": {},
   "outputs": [],
   "source": []
  }
 ],
 "metadata": {
  "kernelspec": {
   "display_name": "Julia 1.8.5",
   "language": "julia",
   "name": "julia-1.8"
  },
  "language_info": {
   "file_extension": ".jl",
   "mimetype": "application/julia",
   "name": "julia",
   "version": "1.8.5"
  }
 },
 "nbformat": 4,
 "nbformat_minor": 2
}
