{
 "cells": [
  {
   "cell_type": "markdown",
   "metadata": {},
   "source": [
    "# Developing multiple-shooting in Sun-B1 dynamics\n",
    "\n",
    "2022.11.23"
   ]
  },
  {
   "cell_type": "code",
   "execution_count": null,
   "metadata": {},
   "outputs": [],
   "source": [
    "using DifferentialEquations\n",
    "using Plots\n",
    "using LinearAlgebra\n",
    "import ForwardDiff\n",
    "import DiffResults\n",
    "using AstrodynamicsBase\n",
    "# import joptimise\n",
    "using Printf\n",
    "using JSON"
   ]
  },
  {
   "cell_type": "code",
   "execution_count": null,
   "metadata": {},
   "outputs": [],
   "source": [
    "include(\"../../julia-r3bp/R3BP/src/R3BP.jl\")\n",
    "# using R3BP\n",
    "include(\"../src/SailorMoon.jl\")   # relative path to main file of module\n",
    "param3b = SailorMoon.dyanmics_parameters()\n"
   ]
  },
  {
   "cell_type": "code",
   "execution_count": null,
   "metadata": {},
   "outputs": [],
   "source": [
    "plotly()"
   ]
  },
  {
   "cell_type": "code",
   "execution_count": null,
   "metadata": {},
   "outputs": [],
   "source": [
    "function plot_circle(radius, x, y, n=100)\n",
    "    circle = zeros(2,n)\n",
    "    thetas = LinRange(0.0, 2π, n)\n",
    "    for i = 1:n\n",
    "        circle[1,i] = radius*cos(thetas[i]) + x\n",
    "        circle[2,i] = radius*sin(thetas[i]) + y\n",
    "    end\n",
    "    return circle\n",
    "end"
   ]
  },
  {
   "cell_type": "code",
   "execution_count": null,
   "metadata": {},
   "outputs": [],
   "source": [
    "moon = plot_circle(1-param3b.mu2, param3b.as , 0.0)\n",
    "earth = plot_circle(param3b.mu2, param3b.as, 0.0)\n",
    "earth_ub = plot_circle(param3b.mu2+6375/param3b.lstar, param3b.as, 0.0)\n",
    "earth_lb = plot_circle(param3b.mu2-6375/param3b.lstar, param3b.as, 0.0)\n",
    "\n",
    "moon_soi_outer = plot_circle(1-param3b.mu2+66000/param3b.lstar, param3b.as, 0.0)"
   ]
  },
  {
   "cell_type": "code",
   "execution_count": null,
   "metadata": {},
   "outputs": [],
   "source": [
    "# solver settings within fitness function\n",
    "# https://diffeq.sciml.ai/stable/solvers/dynamical_solve/#Symplectic-Integrators\n",
    "#method = RK4()  # CalvoSanz4()\n",
    "#reltol = 1e-10\n",
    "#abstol = 1e-10\n",
    "dt = 0.001\n",
    "\n",
    "param3b = SailorMoon.dyanmics_parameters()\n",
    "lps = SailorMoon.lagrange_points(param3b.mu2)\n",
    "\n",
    "lp = 2\n",
    "Az_km = 1200.0\n",
    "println(\"Halo guess Az_km: $Az_km\")\n",
    "northsouth = 3   # 1 or 3\n",
    "guess0 = R3BP.halo_analytical_construct(param3b.mu2, lp, Az_km, param3b.lstar, northsouth)\n",
    "res = R3BP.ssdc_periodic_xzplane([param3b.mu2,], guess0.x0, guess0.period, fix=\"period\")\n",
    "\n",
    "x0_stm = vcat(res.x0, reshape(I(6), (6^2,)))[:]\n",
    "prob_cr3bp_stm = ODEProblem(R3BP.rhs_cr3bp_svstm!, x0_stm, res.period, (param3b.mu2))\n",
    "sol = solve(prob_cr3bp_stm, Tsit5(), reltol=1e-12, abstol=1e-12)#, saveat=LinRange(0, period, n+1))\n",
    "monodromy = R3BP.get_stm(sol, 6)   # get monodromy matrix\n",
    "ys0 = R3BP.get_eigenvector(monodromy, true, 1);\n",
    "\n",
    "# arrival LPO object\n",
    "LPOArrival = SailorMoon.CR3BPLPO(\n",
    "    res.x0, res.period, ys0, prob_cr3bp_stm, 1e-6, Tsit5(), 1e-12, 1e-12, 0.005\n",
    ");"
   ]
  },
  {
   "cell_type": "code",
   "execution_count": null,
   "metadata": {},
   "outputs": [],
   "source": [
    "tmax_si = 280e-3 * 4   # N\n",
    "isp_si = 1800   # sec\n",
    "mdot_si = tmax_si / (isp_si * 9.81)\n",
    "mstar = 2500  # kg\n",
    "rp_parking = (6378+200)/param3b.lstar   # parking orbit radius\n",
    "\n",
    "tmax = AstrodynamicsBase.dimensional2canonical_thrust(\n",
    "    tmax_si, mstar, param3b.lstar, param3b.tstar\n",
    ")\n",
    "mdot = AstrodynamicsBase.dimensional2canonical_mdot(\n",
    "    mdot_si, mstar, param3b.tstar\n",
    ")"
   ]
  },
  {
   "cell_type": "code",
   "execution_count": null,
   "metadata": {},
   "outputs": [],
   "source": [
    "t_sidereal = 27.3217   * 86400      # sec\n",
    "t_synodic  = 29.530588 * 86400      # sec\n",
    "ωb = 2*pi*(t_synodic - t_sidereal)/t_synodic/t_sidereal*param3b.tstar\n",
    "ωM = 2*pi / (t_synodic / param3b.tstar)\n",
    "θsf = 2.862339973 \n",
    "θmf = pi - θsf  # placeholder\n",
    "tof = 25.981\n",
    "# println(θm0)\n",
    "ϕ0 = 0.0\n",
    "params = [\n",
    "    param3b.mu2, param3b.mus, param3b.as, θmf, param3b.oml, param3b.omb, 0.0, 0.0, 0.0, 0.0, 0.0,\n",
    "    SailorMoon.dv_sun_dir_angles\n",
    "]    \n",
    "\n",
    "θmf = π - θsf                \n",
    "# arrival LPO object\n",
    "LPOArrival = SailorMoon.CR3BPLPO2(\n",
    "    res.x0, res.period, ys0, prob_cr3bp_stm, 1e-6, 1e-6, Tsit5(), 1e-12, 1e-12, 0.005\n",
    ");\n",
    "\n",
    "xf = SailorMoon.set_terminal_state2(ϕ0, θmf, param3b, LPOArrival)\n",
    "# in Sun-B1 frame\n",
    "u0_test = vcat(SailorMoon.transform_EMrot_to_SunB1(xf, θsf, param3b.oms, param3b.as), 1.0)\n",
    "println(u0_test)\n",
    "\n",
    "_prob_base = ODEProblem(SailorMoon.rhs_bcr4bp_sb1frame2!, u0_test, [0, -tof], params);\n",
    "print(params)"
   ]
  },
  {
   "cell_type": "code",
   "execution_count": null,
   "metadata": {},
   "outputs": [],
   "source": [
    "sol_ = SailorMoon.integrate_rk4(_prob_base, 0.001);\n",
    "print(sol_.u[end])"
   ]
  },
  {
   "cell_type": "code",
   "execution_count": null,
   "metadata": {},
   "outputs": [],
   "source": [
    "pcart = plot(hcat(sol_.u...)[1,:], hcat(sol_.u...)[2,:], label=\"backward(from LLO):0.001\", set_aspect=:equal, size=(700,700))\n",
    "plot!(pcart, earth[1,:], earth[2,:], c=:green, lw=1.0, label=\"earth\")\n",
    "plot!(pcart, moon[1,:], moon[2,:], c=:orange, lw=1.0, label=\"moon\")\n",
    "plot!(pcart, moon_soi_outer[1,:], moon_soi_outer[2,:], c=:black, lw=1.0, label=\"moon_soi_outer\")\n",
    "\n",
    "u_midpoint = sol_.u[14000]\n",
    "scatter!(pcart, [u_midpoint[1]], [u_midpoint[2]], marker=:circle)\n",
    "\n",
    "pcart"
   ]
  },
  {
   "cell_type": "markdown",
   "metadata": {},
   "source": [
    "### Check the time-reversibility of integral "
   ]
  },
  {
   "cell_type": "code",
   "execution_count": null,
   "metadata": {},
   "outputs": [],
   "source": [
    "θm0 = θmf + ωM * (-tof)\n",
    "params = [\n",
    "    param3b.mu2, param3b.mus, param3b.as, θm0, param3b.oml, param3b.omb, 0.0, 0.0, 0.0, 0.0, 0.0,\n",
    "    SailorMoon.dv_sun_dir_angles\n",
    "]   \n",
    "println(params)\n",
    "\n",
    "u0_test = [\n",
    "    388.83725006664025, \n",
    "    -0.008060103011816226, \n",
    "    1.7345154878917807e-24, \n",
    "    -1.4287345247061145, \n",
    "    10.131022000599954, \n",
    "    6.151029489849641e-21, \n",
    "    1.2476475049907993\n",
    "]\n",
    "\n",
    "_prob = remake(_prob_base, u0=u0_test, t=[0,tof], p=params)\n",
    "\n",
    "sol_2 = SailorMoon.integrate_rk4(_prob, 0.0001);"
   ]
  },
  {
   "cell_type": "code",
   "execution_count": null,
   "metadata": {},
   "outputs": [],
   "source": [
    "plot!(pcart, hcat(sol_2.u...)[1,:], hcat(sol_2.u...)[2,:], color=:green, label=\"forward(from LEO): 0.0001\")"
   ]
  },
  {
   "cell_type": "code",
   "execution_count": null,
   "metadata": {},
   "outputs": [],
   "source": [
    "sol_tsit5 = solve(_prob, Tsit5(), reltol=1e-12, abstol=1e-12)\n",
    "plot!(pcart, Array(sol_tsit5)[1,:], Array(sol_tsit5)[2,:], color=:red, linewidth=1.0, label=\"sol\", linestyle=:solid)\n"
   ]
  },
  {
   "cell_type": "code",
   "execution_count": null,
   "metadata": {},
   "outputs": [],
   "source": []
  },
  {
   "cell_type": "code",
   "execution_count": null,
   "metadata": {},
   "outputs": [],
   "source": []
  },
  {
   "cell_type": "code",
   "execution_count": null,
   "metadata": {},
   "outputs": [],
   "source": [
    "\n",
    "θm0 = θmf + ωM * (-tof)\n",
    "params = [\n",
    "    param3b.mu2, param3b.mus, param3b.as, θmf, param3b.oml, param3b.omb, 0.0, 0.0, 0.0, 0.0, 0.0,\n",
    "    SailorMoon.dv_sun_dir_angles\n",
    "]   \n",
    "\n",
    "u0_test = [\n",
    "    388.83725006664025, \n",
    "    -0.008060103011816226, \n",
    "    1.7345154878917807e-24, \n",
    "    1.4287345247061145, \n",
    "    -10.131022000599954, \n",
    "    -6.151029489849641e-21, \n",
    "    1.2476475049907993\n",
    "]\n",
    "\n",
    "_prob = remake(_prob_base, u0=u0_test, t=[0,tof], p=params)\n",
    "\n",
    "sol_3 = SailorMoon.integrate_rk4(_prob, 0.001);"
   ]
  },
  {
   "cell_type": "code",
   "execution_count": null,
   "metadata": {},
   "outputs": [],
   "source": [
    "plot!(pcart, hcat(sol_3.u...)[1,:], hcat(sol_3.u...)[2,:], color=:red, label=\"forward(from LEO):0.001\")"
   ]
  },
  {
   "cell_type": "code",
   "execution_count": null,
   "metadata": {},
   "outputs": [],
   "source": []
  },
  {
   "cell_type": "markdown",
   "metadata": {},
   "source": [
    "### Develop propagation function"
   ]
  },
  {
   "cell_type": "code",
   "execution_count": null,
   "metadata": {},
   "outputs": [],
   "source": [
    "n_arc = 5"
   ]
  },
  {
   "cell_type": "code",
   "execution_count": null,
   "metadata": {},
   "outputs": [],
   "source": [
    "# ballistic time right after launch\n",
    "ballistic_time = 1*86400 / param3b.tstar\n",
    "ballistic_time_back = 1*86400 / param3b.tstar\n",
    "\n",
    "dt = 0.001\n",
    "rp_parking = (6378+200)/param3b.lstar"
   ]
  },
  {
   "cell_type": "code",
   "execution_count": null,
   "metadata": {},
   "outputs": [],
   "source": [
    "function unpack_x(x::AbstractVector{T}, verbose::Bool=false) where T\n",
    "    # unpack\n",
    "    nx = length(x)\n",
    "    x_LEO = x[1:4+3n_arc]\n",
    "    x_mid = x[5+3n_arc:13+9n_arc]    # x[5+3n_arc:4+3n_arc+9+6n_arc]\n",
    "    x_LPO = x[14+9n_arc:17+12n_arc]  # x[14+9n_arc:13+9n_arc+4+3n_arc]\n",
    "    \n",
    "    # get time of flights\n",
    "    tofs = [x_LEO[4], x_mid[8], x_mid[9], x_LPO[4]]\n",
    "    θf = x_LPO[1]\n",
    "    θs = [\n",
    "        θf - param3b.oms*sum(broadcast(abs, tofs)),\n",
    "        θf - param3b.oms*sum(broadcast(abs, tofs[3:4])),\n",
    "        θf\n",
    "    ]\n",
    "    # print message\n",
    "    if verbose\n",
    "        @printf(\"ToF per arc  : %3.3f, %3.3f, %3.3f, %3.3f\\n\", tofs...)\n",
    "        @printf(\"Phase angles : %3.3f, %3.3f, %3.3f\\n\", θs...)\n",
    "        println(\"θf: \", θf)\n",
    "    end\n",
    "    return x_LEO, x_mid, x_LPO, tofs, θs\n",
    "end"
   ]
  },
  {
   "cell_type": "code",
   "execution_count": null,
   "metadata": {},
   "outputs": [],
   "source": [
    "function get_LEO_state(x_LEO, θs, verbose::Bool=false)\n",
    "    # construct initial state\n",
    "    sma = (rp_parking + x_LEO[1])/2\n",
    "    println(sma, \" \", rp_parking, \" \", x_LEO[1])\n",
    "    ecc = (x_LEO[1] - rp_parking)/(x_LEO[1] + rp_parking)\n",
    "    sv0_kep = [sma, ecc, 0.0, x_LEO[2], 0.0, 0.0]  # Ω should be around π\n",
    "    sv0_i = AstrodynamicsBase.kep2cart(sv0_kep, param3b.mu1)\n",
    "    \n",
    "    # check values in SI frame...\n",
    "    muE = 3.986004418e5\n",
    "    DV = sqrt(-muE/(sma*param3b.lstar)+2*muE/(rp_parking*param3b.lstar)) - sqrt(muE/(rp_parking*param3b.lstar))\n",
    "    v_sc_leo = sqrt(muE/rp_parking/param3b.lstar)\n",
    "    println(\"DV = $DV km/s  \", \"LEO SC velocity: $v_sc_leo km/s\")\n",
    "    sv0_i_original = [sv0_i[1:3].*param3b.lstar, sv0_i[4:6].*param3b.lstar./param3b.tstar]\n",
    "    println(\"svo_i_original: $sv0_i_original\")\n",
    "#    sv0_i = vcat(sv0_i_original[1]./ param3b.lstar, sv0_i_original[2] ./ param3b.lstar .*param3b.tstar)\n",
    "    \n",
    "    \n",
    "    sv0_em = SailorMoon.transform_earthIne_to_EMrot(\n",
    "        sv0_i, x_LEO[2], param3b.oml, param3b.mu2\n",
    "    )\n",
    "    print(\"sv0_i\", sv0_i)\n",
    "    \n",
    "    #inertial2rotating(sv0_i, θs[1], 1.0) + [-param3b.mu2,0,0,0,0,0]\n",
    "    # transform to Sun-B1 frame\n",
    "    θs[1] = 3.14\n",
    "    sv0_sunb1 = vcat(\n",
    "        SailorMoon.transform_EMrot_to_SunB1(sv0_em, θs[1], param3b.oms, param3b.as),\n",
    "        x_LEO[3]   # m0\n",
    "    )\n",
    "    \n",
    "    println(\"theta_s_initial: \", θs[1])\n",
    "    \n",
    "    \n",
    "    if verbose\n",
    "        println(\"SMA [km]: \", sma*param3b.lstar)\n",
    "        println(\"ra  [km]: \", x_LEO[1]*param3b.lstar)\n",
    "        println(\"Energy in inertial frame: \", -(param3b.mu2)/(2sma))\n",
    "        println(\"sv0_sb1: \", (sv0_sunb1[1:3]-[param3b.as,0,0])*param3b.lstar, sv0_sunb1[4:6]*param3b.lstar/param3b.tstar)\n",
    "    end\n",
    "    \n",
    "    # correct answer\n",
    "#     sv0_sunb1 = [388.8372500765052, -0.008060173712891345, 1.450699321283059e-24, 1.428715370999674, -10.131026038282567, -5.1446746392175664e-21, x_LEO[3]]\n",
    "    \n",
    "    # ballistic propagation with small time-steps\n",
    "    params = [\n",
    "        param3b.mu2, param3b.mus, param3b.as, pi-θs[1], ωM, ωb, 0.0, 0.0, 0.0, mdot, tmax,\n",
    "        SailorMoon.dv_sun_dir_angles\n",
    "    ]\n",
    "    \n",
    "    _prob = remake(_prob_base; tspan=[0,ballistic_time], u0 = sv0_sunb1, p = params)\n",
    "    sol_ballistic_fwd = SailorMoon.integrate_rk4(_prob, 0.001);\n",
    "    θ_iter = θs[1] + param3b.oms*sol_ballistic_fwd.t[end]\n",
    "\n",
    "    \n",
    "    return sol_ballistic_fwd.u[end], θ_iter, sol_ballistic_fwd\n",
    "end"
   ]
  },
  {
   "cell_type": "code",
   "execution_count": null,
   "metadata": {},
   "outputs": [],
   "source": [
    "param3b.mus"
   ]
  },
  {
   "cell_type": "code",
   "execution_count": null,
   "metadata": {},
   "outputs": [],
   "source": [
    "function get_LPO_state(x_LPO, θs, verbose::Bool=false)\n",
    "    # propagate the periodic orbit until ϕ*Period.\n",
    "    ϕ = x_LPO[2]\n",
    "     x0_stm = vcat(LPOArrival.x0, reshape(I(6), (36,)))[:]\n",
    "    _prob = remake(\n",
    "        LPOArrival.prob_cr3bp_stm;\n",
    "        tspan = (0.0, ϕ * LPOArrival.period),\n",
    "        u0 = x0_stm,\n",
    "        p=[param3b.mu2]\n",
    "    )\n",
    "    sol = SailorMoon.integrate_rk4(\n",
    "        _prob, LPOArrival.dt\n",
    "    )\n",
    "    x_tf = sol.u[end][1:6]\n",
    "    stm = transpose(reshape(sol.u[end][7:end], (6, 6)))\n",
    "\n",
    "    # translate stable eigenvector and perturb final state\n",
    "    ys = stm * LPOArrival.ys0\n",
    "    if ys[1] > 0  # always perturb outward\n",
    "        state_f = x_tf + LPOArrival.ϵr * ys/norm(ys)\n",
    "    else\n",
    "        state_f = x_tf - LPOArrival.ϵr * ys/norm(ys)\n",
    "    end\n",
    "\n",
    "    xf = SailorMoon.set_terminal_state2(ϕ, θs[3], param3b, LPOArrival)\n",
    "    \n",
    "    println(\"xf: $xf\")\n",
    "    println(\"state_f: $state_f\")\n",
    "    \n",
    "    # transform to Sun-B1 frame\n",
    "    svf_sunb1 = vcat(\n",
    "        SailorMoon.transform_EMrot_to_SunB1(state_f, θs[3], param3b.oms, param3b.as),\n",
    "        x_LPO[3]   # mf\n",
    "    )\n",
    "    \n",
    "    # correct answer\n",
    "#     svf_sunb1 = [389.90043579649, 0.30945509037997126, 5.600379804037024e-23, -0.3318159893263637, 1.1571761377235485, 3.7612170962908617e-31, x_LPO[3] ]\n",
    "    \n",
    "    # ballistic propagation with small time-steps\n",
    "    params = [\n",
    "        param3b.mu2, param3b.mus, param3b.as, pi - θs[3], ωM, ωb, 0.0, 0.0, 0.0, mdot, tmax,\n",
    "        SailorMoon.dv_no_thrust\n",
    "    ]\n",
    "    println(\"params: \", params)\n",
    "    _prob = remake(\n",
    "        _prob_base; tspan=[0,-ballistic_time_back], \n",
    "        u0 = svf_sunb1, p = params\n",
    "    )\n",
    "    sol_ballistic_bck = SailorMoon.integrate_rk4(_prob, 0.001);\n",
    "    θ_iter = θs[3] - param3b.oms*ballistic_time_back\n",
    "    \n",
    "    if verbose\n",
    "        println(\"svf_sunb1: \\n\", svf_sunb1)\n",
    "    end\n",
    "    return sol_ballistic_bck.u[end], θ_iter, sol_ballistic_bck\n",
    "end"
   ]
  },
  {
   "cell_type": "code",
   "execution_count": null,
   "metadata": {},
   "outputs": [],
   "source": [
    "function propagate_arc!(sv0, θ0, tspan, x_control, get_sols::Bool, sol_param_list, name::String)\n",
    "    sv_iter = [el for el in sv0]\n",
    "    θ_iter = 1*θ0\n",
    "    for i = 1:n_arc\n",
    "        τ, γ, β = x_control[1+3*(i-1) : 3*i]\n",
    "        \n",
    "        params = [\n",
    "            param3b.mu2, param3b.mus, param3b.as, pi - θ_iter, ωM, ωb, τ, γ, β, mdot, tmax,\n",
    "            SailorMoon.dv_sun_dir_angles\n",
    "        ]\n",
    "        _prob = remake(_prob_base; tspan=tspan, u0 = sv_iter, p = params)\n",
    "        sol = SailorMoon.integrate_rk4(_prob, dt);\n",
    "        #sol = DifferentialEquations.solve(_prob, RK4(), reltol=1e-10, abstol=1e-10)\n",
    "        if get_sols\n",
    "            push!(sol_param_list, [sol, params, name])\n",
    "        end\n",
    "        # update θ0 and sv0\n",
    "        θ_iter += param3b.oms*sol.t[end]\n",
    "        sv_iter = sol.u[end]\n",
    "    end\n",
    "    return sv_iter\n",
    "end"
   ]
  },
  {
   "cell_type": "code",
   "execution_count": null,
   "metadata": {},
   "outputs": [],
   "source": [
    "multishoot_trajectory = function (x::AbstractVector{T}, get_sols::Bool=false, verbose::Bool=false) where T\n",
    "    # unpack decision vector\n",
    "    x_LEO, x_mid, x_LPO, tofs, θs = unpack_x(x)\n",
    "    \n",
    "    # initialize storage\n",
    "    sol_param_list = []\n",
    "    \n",
    "    # propagate from LEO forward\n",
    "    sv0_LEO, θ0_leo, sol_ballistic_fwd = get_LEO_state(x_LEO, θs, verbose)\n",
    "    svf_LEO = propagate_arc!(\n",
    "        sv0_LEO, θ0_leo, [0, tofs[1]/n_arc], x_LEO[5 : end],\n",
    "        get_sols, sol_param_list, \"leo_arc\"\n",
    "    )\n",
    "    \n",
    "    # propagate midpoint backward\n",
    "    svm0 = x_mid[1:7]  # state-vector at midpoint, [r,v,mass]\n",
    "    svf_mid_bck = propagate_arc!(\n",
    "        svm0, θs[2], [0, -tofs[2]/n_arc], x_mid[10 : end],\n",
    "        get_sols, sol_param_list, \"mid_bck_arc\"\n",
    "    )\n",
    "    \n",
    "    # propaagte midpoint forward\n",
    "    svf_mid_fwd = propagate_arc!(\n",
    "        svm0, θs[2], [0, tofs[3]/n_arc], x_mid[10+3n_arc : end],\n",
    "        get_sols, sol_param_list, \"mid_fwd_arc\"\n",
    "    )\n",
    "    \n",
    "    # propagate from LPO backward\n",
    "    sv0_LPO, θ0_lpo, sol_ballistic_bck = get_LPO_state(x_LPO, θs, verbose)\n",
    "    svf_lpo = propagate_arc!(\n",
    "        sol_ballistic_bck.u[end], θ0_lpo, [0, -tofs[4]/n_arc], x_LPO[5 : end],\n",
    "        get_sols, sol_param_list, \"lpo_arc\"\n",
    "    )\n",
    "    \n",
    "    # residuals\n",
    "    res = vcat(svf_mid_bck - svf_LEO, svf_lpo - svf_mid_fwd)[:]\n",
    "\n",
    "    # output\n",
    "    if get_sols == false\n",
    "        return res\n",
    "    else\n",
    "        return res, sol_param_list, [sol_ballistic_fwd,sol_ballistic_bck], tofs\n",
    "    end\n",
    "end"
   ]
  },
  {
   "cell_type": "code",
   "execution_count": null,
   "metadata": {},
   "outputs": [],
   "source": [
    "#sol.t[2500], sol.t[end]"
   ]
  },
  {
   "cell_type": "code",
   "execution_count": null,
   "metadata": {},
   "outputs": [],
   "source": [
    "sv_mid = [385.84538133574125, 2.658418835276045, -1.3857413926830354e-25, 0.13274610953763288, 0.0844661017008755, -2.2314313676646742e-26, 1.0]  # mid point state-vector\n",
    "\n",
    "tof_leo2mid = 13.99899999999768\n",
    "tof_mid2lpo = tof - tof_leo2mid\n",
    "\n",
    "# create test decision vector\n",
    "τ_ig = 0.0\n",
    "# x_LEO = [ra, Ω, m0, tof, controls...]\n",
    "ig_x_LEO = vcat(\n",
    "    [3.8, 0.0, 1.0, tof_leo2mid/2],\n",
    "    vcat([[τ_ig,0,0] for i = 1:n_arc]...)\n",
    ");\n",
    "ig_x_mid = vcat(\n",
    "    sv_mid, tof_leo2mid/2, tof_mid2lpo/2, \n",
    "    vcat([[τ_ig,0,0] for i = 1:2n_arc]...)\n",
    ");\n",
    "# x_LPO = [θf, ϕ, mf, tof, controls...]\n",
    "ig_x_LPO = vcat(\n",
    "    [θsf, ϕ0, 1.0, tof_mid2lpo/2],\n",
    "    vcat([[τ_ig,0,0] for i = 1:n_arc]...)\n",
    ");\n",
    "ig_x = vcat(ig_x_LEO, ig_x_mid, ig_x_LPO);\n",
    "x_LEO, x_mid, x_LPO, tofs, θs = unpack_x(ig_x, true);"
   ]
  },
  {
   "cell_type": "code",
   "execution_count": null,
   "metadata": {},
   "outputs": [],
   "source": [
    "θsf"
   ]
  },
  {
   "cell_type": "code",
   "execution_count": null,
   "metadata": {
    "scrolled": false
   },
   "outputs": [],
   "source": [
    "@time hmp, sol_param_list, sols_ballistic, _ = multishoot_trajectory(ig_x, true, true);\n",
    "hmp\n",
    "# Any[0.01215058560962404, 328900.5598102475, 388.8212386592645, 0.279252680589793, 0.9251999994040079, 0.07480000059599223, 0.0, 0.0, 0.0, 0.0, 0.0, Main.SailorMoon.dv_sun_dir_angles]"
   ]
  },
  {
   "cell_type": "code",
   "execution_count": null,
   "metadata": {},
   "outputs": [],
   "source": [
    "arcs_color = Dict(\n",
    "    \"leo_arc\" => :navy, \n",
    "    \"mid_bck_arc\" => :red1, \n",
    "    \"mid_fwd_arc\" => :darkorange, \n",
    "    \"lpo_arc\" => :green\n",
    ")\n",
    "\n",
    "pcart = plot(\n",
    "    size=(700,500), frame_style=:box, aspect_ratio=:equal, grid=0.4, legend=false\n",
    ")\n",
    "plot!(pcart, earth[1,:], earth[2,:], c=:green, lw=1.0, label=\"earth\")\n",
    "plot!(pcart, earth_ub[1,:], earth_ub[2,:], c=:black, lw=1.0, label=\"earth\")\n",
    "plot!(pcart, earth_lb[1,:], earth_lb[2,:], c=:black, lw=1.0, label=\"earth\")\n",
    "\n",
    "plot!(pcart, moon[1,:], moon[2,:], c=:orange, lw=1.0, label=\"moon\")\n",
    "plot!(pcart, moon_soi_outer[1,:], moon_soi_outer[2,:], c=:black, lw=1.0, label=\"moon_soi_outer\")\n",
    "\n",
    "plot!(hcat(sol_.u...)[1,:], hcat(sol_.u...)[2,:], color=:black, label=\"backward(from LLO):0.001\", set_aspect=:equal, size=(700,700))\n",
    "\n",
    "\n",
    "# ballistic legs\n",
    "for sol_ballistic in sols_ballistic\n",
    "    plot!(pcart, hcat(sol_ballistic.u...)[1,:], hcat(sol_ballistic.u...)[2,:], c=:dodgerblue, label=false)\n",
    "end\n",
    "\n",
    "# trajectory\n",
    "for i = 1:length(sol_param_list)\n",
    "    sol, _, name = sol_param_list[i]\n",
    "    #if name == \"mid_bck_arc\" || name == \"mid_fwd_arc\" || name == \"lpo_arc\"\n",
    "    plot!(pcart, SailorMoon.Array(sol)[1,:], SailorMoon.Array(sol)[2,:], \n",
    "        linewidth=1.5, label=\"$name\", c=arcs_color[name])\n",
    "    #end\n",
    "end\n",
    "# control node\n",
    "scatter!(pcart, [x_mid[1]], [x_mid[2]], marker=:circle, color=:black, label=\"MP\")\n",
    "scatter!(pcart, [param3b.as], [0.0], marker=:circle, color=:black)\n",
    "\n",
    "\n",
    "\n",
    "pcart"
   ]
  },
  {
   "cell_type": "code",
   "execution_count": null,
   "metadata": {},
   "outputs": [],
   "source": []
  },
  {
   "cell_type": "code",
   "execution_count": null,
   "metadata": {},
   "outputs": [],
   "source": []
  },
  {
   "cell_type": "code",
   "execution_count": null,
   "metadata": {},
   "outputs": [],
   "source": []
  },
  {
   "cell_type": "code",
   "execution_count": null,
   "metadata": {},
   "outputs": [],
   "source": []
  }
 ],
 "metadata": {
  "kernelspec": {
   "display_name": "Julia 1.6.7",
   "language": "julia",
   "name": "julia-1.6"
  },
  "language_info": {
   "file_extension": ".jl",
   "mimetype": "application/julia",
   "name": "julia",
   "version": "1.6.7"
  }
 },
 "nbformat": 4,
 "nbformat_minor": 5
}
