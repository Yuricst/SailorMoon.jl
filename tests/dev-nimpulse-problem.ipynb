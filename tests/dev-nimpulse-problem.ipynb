{
 "cells": [
  {
   "cell_type": "markdown",
   "id": "bf72b313",
   "metadata": {},
   "source": [
    "# Develop N-impulse problem"
   ]
  },
  {
   "cell_type": "code",
   "execution_count": 1,
   "id": "e11a4974",
   "metadata": {},
   "outputs": [],
   "source": [
    "using DifferentialEquations\n",
    "using Plots\n",
    "using LinearAlgebra\n",
    "import ForwardDiff\n",
    "import DiffResults\n",
    "using AstrodynamicsBase\n",
    "import joptimise\n",
    "using Printf"
   ]
  },
  {
   "cell_type": "code",
   "execution_count": 2,
   "id": "ee570d9e",
   "metadata": {},
   "outputs": [
    {
     "data": {
      "text/plain": [
       "Main.SailorMoon"
      ]
     },
     "execution_count": 2,
     "metadata": {},
     "output_type": "execute_result"
    }
   ],
   "source": [
    "include(\"../../julia-r3bp/R3BP/src/R3BP.jl\")\n",
    "include(\"../src/SailorMoon.jl\")   # relative path to main file of module"
   ]
  },
  {
   "cell_type": "code",
   "execution_count": 3,
   "id": "9d79229d",
   "metadata": {},
   "outputs": [
    {
     "data": {
      "text/plain": [
       "5×6 Matrix{Float64}:\n",
       "  0.836915   0.0       0.0  0.0  0.0  0.0\n",
       "  1.15568    0.0       0.0  0.0  0.0  0.0\n",
       " -1.00506    0.0       0.0  0.0  0.0  0.0\n",
       "  0.487849   0.866025  0.0  0.0  0.0  0.0\n",
       "  0.487849  -0.866025  0.0  0.0  0.0  0.0"
      ]
     },
     "execution_count": 3,
     "metadata": {},
     "output_type": "execute_result"
    }
   ],
   "source": [
    "param3b = SailorMoon.dyanmics_parameters()\n",
    "lps = SailorMoon.lagrange_points(param3b.mu2)"
   ]
  },
  {
   "cell_type": "code",
   "execution_count": 4,
   "id": "36f71a7d",
   "metadata": {},
   "outputs": [
    {
     "name": "stdout",
     "output_type": "stream",
     "text": [
      "Halo guess Az_km: 1200.0\n"
     ]
    },
    {
     "data": {
      "text/plain": [
       "1"
      ]
     },
     "execution_count": 4,
     "metadata": {},
     "output_type": "execute_result"
    }
   ],
   "source": [
    "lp = 2\n",
    "Az_km = 1200.0\n",
    "println(\"Halo guess Az_km: $Az_km\")\n",
    "northsouth = 3   # 1 or 3\n",
    "guess0 = R3BP.halo_analytical_construct(param3b.mu2, lp, Az_km, param3b.lstar, northsouth)\n",
    "res = R3BP.ssdc_periodic_xzplane([param3b.mu2,], guess0.x0, guess0.period, fix=\"period\")\n",
    "res.flag"
   ]
  },
  {
   "cell_type": "code",
   "execution_count": 5,
   "id": "d3f374ca",
   "metadata": {},
   "outputs": [
    {
     "name": "stdout",
     "output_type": "stream",
     "text": [
      "Linear stability ν = 618.7618470919092\n"
     ]
    }
   ],
   "source": [
    "x0_stm = vcat(res.x0, reshape(I(6), (6^2,)))[:]\n",
    "prob_cr3bp_stm = ODEProblem(R3BP.rhs_cr3bp_svstm!, x0_stm, res.period, (param3b.mu2))\n",
    "sol = solve(prob_cr3bp_stm, Tsit5(), reltol=1e-12, abstol=1e-12)#, saveat=LinRange(0, period, n+1))\n",
    "monodromy = R3BP.get_stm(sol, 6)   # get monodromy matrix\n",
    "ys0 = R3BP.get_eigenvector(monodromy, true, 1);"
   ]
  },
  {
   "cell_type": "code",
   "execution_count": 6,
   "id": "bef5b4cb",
   "metadata": {},
   "outputs": [],
   "source": [
    "# arrival LPO object\n",
    "LPOArrival = SailorMoon.CR3BPLPO(\n",
    "    res.x0, res.period, ys0, prob_cr3bp_stm, 1e-6, Tsit5(), 1e-12, 1e-12\n",
    ");"
   ]
  },
  {
   "cell_type": "markdown",
   "id": "9dbcfd11",
   "metadata": {},
   "source": [
    "### Construct optimization problem"
   ]
  },
  {
   "cell_type": "code",
   "execution_count": 7,
   "id": "1796c5a8",
   "metadata": {},
   "outputs": [
    {
     "data": {
      "text/plain": [
       "4"
      ]
     },
     "execution_count": 7,
     "metadata": {},
     "output_type": "execute_result"
    }
   ],
   "source": [
    "n = 4"
   ]
  },
  {
   "cell_type": "code",
   "execution_count": null,
   "id": "b97b9cac",
   "metadata": {},
   "outputs": [],
   "source": []
  },
  {
   "cell_type": "code",
   "execution_count": 8,
   "id": "338efe1a",
   "metadata": {},
   "outputs": [
    {
     "data": {
      "text/plain": [
       "#1 (generic function with 2 methods)"
      ]
     },
     "execution_count": 8,
     "metadata": {},
     "output_type": "execute_result"
    }
   ],
   "source": [
    "propagate_trajectory = function (x::AbstractVector{T}, get_sols::Bool=false) where T\n",
    "    # unpack\n",
    "    βf, tof, eta, sma, ecc, raan, ϕ = x  # βf: Sun angle at final time\n",
    "    tof_fwd = tof * eta\n",
    "    tof_bck = tof * (1 - eta)\n",
    "    \n",
    "    # construct initial state\n",
    "    sv0_kep = [sma, ecc, 0.0, raan, 0.0, 0.0]\n",
    "    β0 = βf - param3b.oms*(tof_fwd + tof_bck)   # initial Sun angle\n",
    "    sv0_i = AstrodynamicsBase.kep2cart(sv0_kep, param3b.mu1)\n",
    "    sv0 = vcat(inertial2rotating(sv0_i, β0, 1.0) + [-param3b.mu2,0,0,0,0,0], 1.0)\n",
    "    \n",
    "    # construct final state\n",
    "    #x0_stm = vcat(LPOArrival.x0, reshape(I(6), (36,)))\n",
    "    #tspan = [0, ϕ*LPOArrival.period]\n",
    "    #prob_cr3bp_stm = ODEProblem(R3BP.rhs_cr3bp_svstm!, x0_stm, tspan, [param3b.mu2,])\n",
    "    #sol = solve(prob_cr3bp_stm, Tsit5(), reltol=1e-12, abstol=1e-12)\n",
    "    svf = vcat(SailorMoon.set_terminal_state(ϕ, param3b, LPOArrival), 1.0)\n",
    "    \n",
    "    # forward propagation\n",
    "    params = [param3b.mu2, param3b.mus, β0, param3b.as, param3b.oms, 0.0, 0.0, 0.0, 0.0, 0.0]\n",
    "    tspan = [0, tof_fwd]\n",
    "    prob_fwd = ODEProblem(R3BP.rhs_bcr4bp_thrust!, sv0, tspan, params)\n",
    "    sol_fwd = solve(prob_fwd, Tsit5(), reltol=1e-12, abstol=1e-12);\n",
    "    \n",
    "    # back propagation\n",
    "    params = [param3b.mu2, param3b.mus, βf, param3b.as, param3b.oms, 0.0, 0.0, 0.0, 0.0, 0.0]\n",
    "    tspan = [0, -tof_bck]\n",
    "    prob_bck = ODEProblem(R3BP.rhs_bcr4bp_thrust!, svf, tspan, params)\n",
    "    sol_bck = solve(prob_bck, Tsit5(), reltol=1e-12, abstol=1e-12);\n",
    "    \n",
    "    # residual\n",
    "    if get_sols == false\n",
    "        return sol_bck.u[end][1:3] - sol_fwd[end][1:3]\n",
    "    else\n",
    "        return sol_fwd, sol_bck\n",
    "    end\n",
    "end"
   ]
  },
  {
   "cell_type": "code",
   "execution_count": null,
   "id": "26b767fb",
   "metadata": {},
   "outputs": [],
   "source": []
  },
  {
   "cell_type": "code",
   "execution_count": null,
   "id": "13f2a3b0",
   "metadata": {},
   "outputs": [],
   "source": []
  },
  {
   "cell_type": "code",
   "execution_count": null,
   "id": "67939b14",
   "metadata": {},
   "outputs": [],
   "source": []
  },
  {
   "cell_type": "code",
   "execution_count": null,
   "id": "8070e237",
   "metadata": {},
   "outputs": [],
   "source": []
  }
 ],
 "metadata": {
  "kernelspec": {
   "display_name": "Julia 1.7.0",
   "language": "julia",
   "name": "julia-1.7"
  },
  "language_info": {
   "file_extension": ".jl",
   "mimetype": "application/julia",
   "name": "julia",
   "version": "1.7.0"
  }
 },
 "nbformat": 4,
 "nbformat_minor": 5
}
