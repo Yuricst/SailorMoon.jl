{
 "cells": [
  {
   "cell_type": "markdown",
   "id": "9627b257",
   "metadata": {},
   "source": [
    "# For thrust settings\n",
    "\n",
    "2022.11.23"
   ]
  },
  {
   "cell_type": "code",
   "execution_count": 12,
   "id": "8093eab6",
   "metadata": {},
   "outputs": [],
   "source": [
    "using AstrodynamicsBase\n",
    "using Printf"
   ]
  },
  {
   "cell_type": "code",
   "execution_count": 22,
   "id": "1d9a16b8",
   "metadata": {},
   "outputs": [
    {
     "name": "stderr",
     "output_type": "stream",
     "text": [
      "WARNING: replacing module SailorMoon.\n",
      "┌ Warning: Replacing docs for `Main.SailorMoon.integrate_rk4 :: Union{Tuple{SciMLBase.ODEProblem, Real}, Tuple{SciMLBase.ODEProblem, Real, Union{Nothing, Vector}}, Tuple{SciMLBase.ODEProblem, Real, Union{Nothing, Vector}, Bool}, Tuple{SciMLBase.ODEProblem, Real, Union{Nothing, Vector}, Bool, Bool}}` in module `Main.SailorMoon`\n",
      "└ @ Base.Docs docs/Docs.jl:240\n"
     ]
    },
    {
     "data": {
      "text/plain": [
       "Main.SailorMoon"
      ]
     },
     "execution_count": 22,
     "metadata": {},
     "output_type": "execute_result"
    }
   ],
   "source": [
    "include(\"../src/SailorMoon.jl\") "
   ]
  },
  {
   "cell_type": "code",
   "execution_count": 23,
   "id": "cd79bf72",
   "metadata": {},
   "outputs": [
    {
     "data": {
      "text/plain": [
       "Main.SailorMoon.dynamics_params(0.987849414390376, 0.01215058560962404, 328900.5598102475, 384748.3229297294, 375700.3437894195, 388.82123865926445, -0.9251999994040079, 0.9251999994040079, 0.07480000059599223, 0.017096890637263176, 7.601281331451573)"
      ]
     },
     "execution_count": 23,
     "metadata": {},
     "output_type": "execute_result"
    }
   ],
   "source": [
    "param3b = SailorMoon.dyanmics_parameters()"
   ]
  },
  {
   "cell_type": "code",
   "execution_count": 24,
   "id": "c2e1bb6c",
   "metadata": {},
   "outputs": [
    {
     "data": {
      "text/plain": [
       "2500"
      ]
     },
     "execution_count": 24,
     "metadata": {},
     "output_type": "execute_result"
    }
   ],
   "source": [
    "# Psyche values\n",
    "mstar = 2500  # kg  --- mass that arrives to LPO"
   ]
  },
  {
   "cell_type": "code",
   "execution_count": 25,
   "id": "c6d9456f",
   "metadata": {},
   "outputs": [
    {
     "name": "stdout",
     "output_type": "stream",
     "text": [
      "tmax = 1.643556e-01\n",
      "mdot = 9.531870e-03\n"
     ]
    }
   ],
   "source": [
    "tmax_si = 280e-3 * 4   # N\n",
    "isp_si = 1800   # sec\n",
    "mdot_si = tmax_si / (isp_si * 9.81)\n",
    "\n",
    "tmax = AstrodynamicsBase.dimensional2canonical_thrust(\n",
    "    tmax_si, mstar, param3b.lstar, param3b.tstar\n",
    ")\n",
    "mdot = AstrodynamicsBase.dimensional2canonical_mdot(\n",
    "    mdot_si, mstar, param3b.tstar\n",
    ")\n",
    "@printf(\"tmax = %1.6e\\n\", tmax)\n",
    "@printf(\"mdot = %1.6e\\n\", mdot)"
   ]
  },
  {
   "cell_type": "code",
   "execution_count": null,
   "id": "2d1d8d81",
   "metadata": {},
   "outputs": [],
   "source": []
  },
  {
   "cell_type": "code",
   "execution_count": null,
   "id": "5124e054",
   "metadata": {},
   "outputs": [],
   "source": []
  },
  {
   "cell_type": "code",
   "execution_count": null,
   "id": "3fd83ba0",
   "metadata": {},
   "outputs": [],
   "source": []
  },
  {
   "cell_type": "code",
   "execution_count": null,
   "id": "106bbfef",
   "metadata": {},
   "outputs": [],
   "source": []
  }
 ],
 "metadata": {
  "kernelspec": {
   "display_name": "Julia 1.7.2",
   "language": "julia",
   "name": "julia-1.7"
  },
  "language_info": {
   "file_extension": ".jl",
   "mimetype": "application/julia",
   "name": "julia",
   "version": "1.7.2"
  }
 },
 "nbformat": 4,
 "nbformat_minor": 5
}
