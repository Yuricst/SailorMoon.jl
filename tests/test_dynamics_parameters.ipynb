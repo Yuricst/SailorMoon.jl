{
 "cells": [
  {
   "cell_type": "markdown",
   "id": "3794f78b",
   "metadata": {},
   "source": [
    "# Dynamics parameters\n",
    "\n",
    "Yuri Shimane, 2022.10.20"
   ]
  },
  {
   "cell_type": "code",
   "execution_count": null,
   "id": "1e5a4a6d",
   "metadata": {},
   "outputs": [],
   "source": []
  },
  {
   "cell_type": "code",
   "execution_count": 6,
   "id": "77e791ee",
   "metadata": {},
   "outputs": [],
   "source": [
    "#mstasr = 4.0350323550225981E+05"
   ]
  },
  {
   "cell_type": "code",
   "execution_count": 28,
   "id": "b5368d69",
   "metadata": {},
   "outputs": [
    {
     "data": {
      "text/plain": [
       "1.0"
      ]
     },
     "execution_count": 28,
     "metadata": {},
     "output_type": "execute_result"
    }
   ],
   "source": [
    "mu2   = 1.215058560962404E-2      # Moon\n",
    "mu1   = 1 - mu1                   # Earth\n",
    "gm_em = 4.0350323550225981E+05    # GM of Earth-Moon system\n",
    "gm_sun  = 1.3271244004193938E+11  # GM of Sun\n",
    "\n",
    "t_sidereal = 27.3217*86400        # sec\n",
    "t_synodic  = 29.530588*86400      # sec\n",
    "\n",
    "tstar = t_sidereal / (2π)         # sec\n",
    "lstar = (tstar^2 * gm_em)^(1/3)   # km\n",
    "\n",
    "mus   = gm_sun/gm_em\n",
    "as    = 1.000003 * 1.495978707e8 / lstar\n",
    "\n",
    "oms   = -2π/(t_synodic/tstar)     # rad/[canonical time]\n",
    "oml   = 2π/(t_sidereal/tstar)     # rad/[canonical time]"
   ]
  },
  {
   "cell_type": "code",
   "execution_count": null,
   "id": "4068fde7",
   "metadata": {},
   "outputs": [],
   "source": []
  },
  {
   "cell_type": "code",
   "execution_count": 26,
   "id": "42b3835f",
   "metadata": {},
   "outputs": [
    {
     "data": {
      "text/plain": [
       "0.9251999994040079"
      ]
     },
     "execution_count": 26,
     "metadata": {},
     "output_type": "execute_result"
    }
   ],
   "source": [
    "2π/(t_synodic/tstar)"
   ]
  },
  {
   "cell_type": "code",
   "execution_count": null,
   "id": "57d0f336",
   "metadata": {},
   "outputs": [],
   "source": []
  },
  {
   "cell_type": "code",
   "execution_count": 15,
   "id": "e9e80fc5",
   "metadata": {},
   "outputs": [
    {
     "data": {
      "text/plain": [
       "(406074.73414552194, 405215.75218221056)"
      ]
     },
     "execution_count": 15,
     "metadata": {},
     "output_type": "execute_result"
    }
   ],
   "source": [
    "tstar, lstar"
   ]
  },
  {
   "cell_type": "code",
   "execution_count": 17,
   "id": "7d066c6f",
   "metadata": {},
   "outputs": [
    {
     "data": {
      "text/plain": [
       "328900.5598102475"
      ]
     },
     "execution_count": 17,
     "metadata": {},
     "output_type": "execute_result"
    }
   ],
   "source": [
    "mus"
   ]
  },
  {
   "cell_type": "code",
   "execution_count": 18,
   "id": "ad1b89b1",
   "metadata": {},
   "outputs": [
    {
     "data": {
      "text/plain": [
       "369.18189554078157"
      ]
     },
     "execution_count": 18,
     "metadata": {},
     "output_type": "execute_result"
    }
   ],
   "source": [
    "as"
   ]
  },
  {
   "cell_type": "code",
   "execution_count": 19,
   "id": "b9cc2621",
   "metadata": {},
   "outputs": [
    {
     "data": {
      "text/plain": [
       "6.255400266025174"
      ]
     },
     "execution_count": 19,
     "metadata": {},
     "output_type": "execute_result"
    }
   ],
   "source": [
    "tsyn"
   ]
  },
  {
   "cell_type": "code",
   "execution_count": null,
   "id": "803c5955",
   "metadata": {},
   "outputs": [],
   "source": [
    "paramEMS.omega = -9.253e-01     # rotational rate of system, fixed at literature value, [rad/canonical time]"
   ]
  },
  {
   "cell_type": "code",
   "execution_count": null,
   "id": "4d8c7836",
   "metadata": {},
   "outputs": [],
   "source": []
  },
  {
   "cell_type": "code",
   "execution_count": null,
   "id": "9e1d3f30",
   "metadata": {},
   "outputs": [],
   "source": []
  },
  {
   "cell_type": "code",
   "execution_count": null,
   "id": "6af0db3e",
   "metadata": {},
   "outputs": [],
   "source": []
  }
 ],
 "metadata": {
  "kernelspec": {
   "display_name": "Julia 1.7.0",
   "language": "julia",
   "name": "julia-1.7"
  },
  "language_info": {
   "file_extension": ".jl",
   "mimetype": "application/julia",
   "name": "julia",
   "version": "1.7.0"
  }
 },
 "nbformat": 4,
 "nbformat_minor": 5
}
